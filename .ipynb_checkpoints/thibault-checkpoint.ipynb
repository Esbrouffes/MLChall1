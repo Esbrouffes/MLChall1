{
 "cells": [
  {
   "cell_type": "code",
   "execution_count": 10,
   "metadata": {},
   "outputs": [],
   "source": [
    "# Libraries: Standard ones\n",
    "import pandas as pd\n",
    "import numpy as np\n",
    "import matplotlib.pyplot as plt\n",
    "\n",
    "# Library for boxplots\n",
    "import seaborn as sns\n",
    "\n",
    "# K-means function\n",
    "from sklearn.cluster import KMeans\n",
    "\n",
    "# Functions for silhouette\n",
    "from sklearn.metrics import silhouette_samples, silhouette_score\n",
    "\n",
    "# Function to standardize the data \n",
    "from sklearn.preprocessing import scale\n",
    "\n",
    "# Functions for hierarchical clustering\n",
    "from scipy.cluster.hierarchy import dendrogram, linkage\n",
    "from scipy.cluster.hierarchy import cophenet\n",
    "from scipy.spatial.distance import pdist\n",
    "\n",
    "\n",
    "\n",
    "#for map \n",
    "import folium\n",
    "from folium.plugins import FastMarkerCluster\n",
    "from folium.vector_layers import CircleMarker\n",
    "import branca.colormap as cm"
   ]
  },
  {
   "cell_type": "code",
   "execution_count": 11,
   "metadata": {},
   "outputs": [
    {
     "name": "stdout",
     "output_type": "stream",
     "text": [
      "            Ville  Janvier  Fevrier  Mars  Avril   Mai  Juin  Juillet  Aout  \\\n",
      "0       Amsterdam      2.9      2.5   5.7    8.2  12.5  14.8     17.1  17.1   \n",
      "1         Athenes      9.1      9.7  11.7   15.4  20.1  24.5     27.4  27.2   \n",
      "2          Berlin     -0.2      0.1   4.4    8.2  13.8  16.0     18.3  18.0   \n",
      "3       Bruxelles      3.3      3.3   6.7    8.9  12.8  15.6     17.8  17.8   \n",
      "4        Budapest     -1.1      0.8   5.5   11.6  17.0  20.2     22.0  21.3   \n",
      "5      Copenhague     -0.4     -0.4   1.3    5.8  11.1  15.4     17.1  16.6   \n",
      "6          Dublin      4.8      5.0   5.9    7.8  10.4  13.3     15.0  14.6   \n",
      "7        Helsinki     -5.8     -6.2  -2.7    3.1  10.2  14.0     17.2  14.9   \n",
      "8            Kiev     -5.9     -5.0  -0.3    7.4  14.3  17.8     19.4  18.5   \n",
      "9        Cracovie     -3.7     -2.0   1.9    7.9  13.2  16.9     18.4  17.6   \n",
      "10       Lisbonne     10.5     11.3  12.8   14.5  16.7  19.4     21.5  21.9   \n",
      "11        Londres      3.4      4.2   5.5    8.3  11.9  15.1     16.9  16.5   \n",
      "12         Madrid      5.0      6.6   9.4   12.2  16.0  20.8     24.7  24.3   \n",
      "13          Minsk     -6.9     -6.2  -1.9    5.4  12.4  15.9     17.4  16.3   \n",
      "14         Moscou     -9.3     -7.6  -2.0    6.0  13.0  16.6     18.3  16.7   \n",
      "15           Oslo     -4.3     -3.8  -0.6    4.4  10.3  14.9     16.9  15.4   \n",
      "16          Paris      3.7      3.7   7.3    9.7  13.7  16.5     19.0  18.7   \n",
      "17         Prague     -1.3      0.2   3.6    8.8  14.3  17.6     19.3  18.7   \n",
      "18      Reykjavik     -0.3      0.1   0.8    2.9   6.5   9.3     11.1  10.6   \n",
      "19           Rome      7.1      8.2  10.5   13.7  17.8  21.7     24.4  24.1   \n",
      "20       Sarajevo     -1.4      0.8   4.9    9.3  13.8  17.0     18.9  18.7   \n",
      "21          Sofia     -1.7      0.2   4.3    9.7  14.3  17.7     20.0  19.5   \n",
      "22      Stockholm     -3.5     -3.5  -1.3    3.5   9.2  14.6     17.2  16.0   \n",
      "23         Anvers      3.1      2.9   6.2    8.9  12.9  15.5     17.9  17.6   \n",
      "24      Barcelone      9.1     10.3  11.8   14.1  17.4  21.2     24.2  24.1   \n",
      "25       Bordeaux      5.6      6.7   9.0   11.9  15.0  18.3     20.4  20.0   \n",
      "26      Edimbourg      2.9      3.6   4.7    7.1   9.9  13.0     14.7  14.3   \n",
      "27      Francfort      0.2      1.8   5.4    9.7  14.3  17.5     19.0  18.3   \n",
      "28         Geneve      0.1      1.9   5.1    9.4  13.8  17.3     19.4  18.5   \n",
      "29          Genes      8.7      8.7  11.4   13.8  17.5  21.0     24.5  24.6   \n",
      "30          Milan      1.1      3.6   8.0   12.6  17.3  21.3     23.8  22.8   \n",
      "31        Palerme     10.5     11.5  13.3   16.9  20.9  23.8     24.5  22.3   \n",
      "32        Seville     10.7     11.8  14.1   16.1  19.7  23.4     26.7  26.7   \n",
      "33  StPetersbourg     -8.2     -7.9  -3.7    3.2  10.0  15.4     18.4  16.9   \n",
      "34         Zurich     -0.7      0.7   4.3    8.5  12.9  16.2     18.0  17.2   \n",
      "\n",
      "    Septembre  Octobre  Novembre  Decembre  Moyenne  Amplitude  Latitude  \\\n",
      "0        14.5     11.4       7.0       4.4      9.9       14.6      52.2   \n",
      "1        23.8     19.2      14.6      11.0     17.8       18.3      37.6   \n",
      "2        14.4     10.0       4.2       1.2      9.1       18.5      52.3   \n",
      "3        15.0     11.1       6.7       4.4     10.3       14.4      50.5   \n",
      "4        16.9     11.3       5.1       0.7     10.9       23.1      47.3   \n",
      "5        13.3      8.8       4.1       1.3      7.8       17.5      55.4   \n",
      "6        12.7      9.7       6.7       5.4      9.3       10.2      53.2   \n",
      "7         9.7      5.2       0.1      -2.3      4.8       23.4      60.1   \n",
      "8        13.7      7.5       1.2      -3.6      7.1       25.3      50.3   \n",
      "9        13.7      8.6       2.6      -1.7      7.7       22.1      50.0   \n",
      "10       20.4     17.4      13.7      11.1     15.9       11.4      38.4   \n",
      "11       14.0     10.2       6.3       4.4      9.7       13.5      51.4   \n",
      "12       19.8     13.9       8.7       5.4     13.9       19.7      37.7   \n",
      "13       11.6      5.8       0.1      -4.2      5.5       24.3      53.5   \n",
      "14       11.2      5.1      -1.1      -6.0      5.1       27.6      55.8   \n",
      "15       11.1      5.7       0.5      -2.9      5.6       21.2      59.5   \n",
      "16       16.1     12.5       7.3       5.2     11.2       15.3      48.5   \n",
      "17       14.9      9.4       3.8       0.3      9.2       20.6      50.0   \n",
      "18        7.9      4.5       1.7       0.2      4.6       11.4      64.1   \n",
      "19       20.9     16.5      11.7       8.3     15.4       17.3      41.5   \n",
      "20       15.2     10.5       5.1       0.8      9.4       20.3      43.5   \n",
      "21       15.8     10.7       5.0       0.6      9.6       21.7      42.4   \n",
      "22       11.7      6.5       1.7      -1.6      5.8       20.7      59.2   \n",
      "23       14.7     11.5       6.8       4.7     10.3       15.0      51.1   \n",
      "24       21.7     17.5      13.1      10.0     16.2       15.1      41.2   \n",
      "25       17.6     13.5       8.5       6.1     12.7       14.8      44.5   \n",
      "26       12.1      8.7       5.3       3.7      8.3       11.8      55.0   \n",
      "27       14.8      9.8       4.9       1.7      9.8       18.8      50.1   \n",
      "28       15.0      9.8       4.9       1.4      9.7       19.3      46.1   \n",
      "29       21.8     17.8      12.2      10.0     16.1       15.9      44.3   \n",
      "30       18.9     13.1       6.9       2.6     12.6       22.7      45.3   \n",
      "31       22.3     18.4      14.9      12.0     16.6       14.0      38.1   \n",
      "32       24.3     19.4      14.5      11.2     18.2       16.0      37.4   \n",
      "33       11.5      5.2      -0.4      -5.3      4.5       26.6      59.6   \n",
      "34       14.1      8.9       3.9       0.3      8.7       18.7      47.2   \n",
      "\n",
      "    Longitude Region  \n",
      "0        4.50  Ouest  \n",
      "1       23.50    Sud  \n",
      "2       13.20  Ouest  \n",
      "3        4.20  Ouest  \n",
      "4       19.00    Est  \n",
      "5       12.30   Nord  \n",
      "6        6.10   Nord  \n",
      "7       25.00   Nord  \n",
      "8       30.30    Est  \n",
      "9       19.60    Est  \n",
      "10      -9.10    Sud  \n",
      "11       0.00   Nord  \n",
      "12      -2.14    Sud  \n",
      "13      27.30    Est  \n",
      "14      37.60    Est  \n",
      "15      10.50   Nord  \n",
      "16       2.20  Ouest  \n",
      "17      14.20    Est  \n",
      "18     -21.60   Nord  \n",
      "19      12.30    Sud  \n",
      "20      18.30    Sud  \n",
      "21      23.20    Est  \n",
      "22      18.00   Nord  \n",
      "23       4.20  Ouest  \n",
      "24       2.20    Sud  \n",
      "25       0.30  Ouest  \n",
      "26      -3.20   Nord  \n",
      "27       8.40  Ouest  \n",
      "28       6.10  Ouest  \n",
      "29       9.40    Sud  \n",
      "30       9.20    Sud  \n",
      "31      13.10    Sud  \n",
      "32      -6.00    Sud  \n",
      "33      30.20    Est  \n",
      "34       8.30  Ouest  \n"
     ]
    }
   ],
   "source": [
    "### The first step is to visualize the data in order to understand it. Let's show a table.\n",
    "temperature=pd.read_csv(\"temperat.csv\", sep=\";\")\n",
    "temperature=temperature.rename(columns={'Unnamed: 0': 'Ville'}) # renaming the first column\n",
    "print(temperature)\n"
   ]
  },
  {
   "cell_type": "code",
   "execution_count": 12,
   "metadata": {},
   "outputs": [
    {
     "data": {
      "text/html": [
       "<div>\n",
       "<style scoped>\n",
       "    .dataframe tbody tr th:only-of-type {\n",
       "        vertical-align: middle;\n",
       "    }\n",
       "\n",
       "    .dataframe tbody tr th {\n",
       "        vertical-align: top;\n",
       "    }\n",
       "\n",
       "    .dataframe thead th {\n",
       "        text-align: right;\n",
       "    }\n",
       "</style>\n",
       "<table border=\"1\" class=\"dataframe\">\n",
       "  <thead>\n",
       "    <tr style=\"text-align: right;\">\n",
       "      <th></th>\n",
       "      <th>Janvier</th>\n",
       "      <th>Fevrier</th>\n",
       "      <th>Mars</th>\n",
       "      <th>Avril</th>\n",
       "      <th>Mai</th>\n",
       "      <th>Juin</th>\n",
       "      <th>Juillet</th>\n",
       "      <th>Aout</th>\n",
       "      <th>Septembre</th>\n",
       "      <th>Octobre</th>\n",
       "      <th>Novembre</th>\n",
       "      <th>Decembre</th>\n",
       "      <th>Moyenne</th>\n",
       "      <th>Amplitude</th>\n",
       "      <th>Latitude</th>\n",
       "      <th>Longitude</th>\n",
       "    </tr>\n",
       "  </thead>\n",
       "  <tbody>\n",
       "    <tr>\n",
       "      <th>count</th>\n",
       "      <td>35.000000</td>\n",
       "      <td>35.000000</td>\n",
       "      <td>35.000000</td>\n",
       "      <td>35.000000</td>\n",
       "      <td>35.000000</td>\n",
       "      <td>35.000000</td>\n",
       "      <td>35.000000</td>\n",
       "      <td>35.000000</td>\n",
       "      <td>35.000000</td>\n",
       "      <td>35.000000</td>\n",
       "      <td>35.000000</td>\n",
       "      <td>35.000000</td>\n",
       "      <td>35.000000</td>\n",
       "      <td>35.000000</td>\n",
       "      <td>35.000000</td>\n",
       "      <td>35.000000</td>\n",
       "    </tr>\n",
       "    <tr>\n",
       "      <th>mean</th>\n",
       "      <td>1.345714</td>\n",
       "      <td>2.217143</td>\n",
       "      <td>5.228571</td>\n",
       "      <td>9.282857</td>\n",
       "      <td>13.911429</td>\n",
       "      <td>17.414286</td>\n",
       "      <td>19.622857</td>\n",
       "      <td>18.980000</td>\n",
       "      <td>15.631429</td>\n",
       "      <td>11.002857</td>\n",
       "      <td>6.065714</td>\n",
       "      <td>2.880000</td>\n",
       "      <td>10.265714</td>\n",
       "      <td>18.317143</td>\n",
       "      <td>48.980000</td>\n",
       "      <td>10.590286</td>\n",
       "    </tr>\n",
       "    <tr>\n",
       "      <th>std</th>\n",
       "      <td>5.502157</td>\n",
       "      <td>5.498956</td>\n",
       "      <td>4.863040</td>\n",
       "      <td>3.806456</td>\n",
       "      <td>3.273582</td>\n",
       "      <td>3.320271</td>\n",
       "      <td>3.574673</td>\n",
       "      <td>3.727939</td>\n",
       "      <td>4.109728</td>\n",
       "      <td>4.323226</td>\n",
       "      <td>4.566820</td>\n",
       "      <td>4.967411</td>\n",
       "      <td>3.963061</td>\n",
       "      <td>4.505649</td>\n",
       "      <td>7.199869</td>\n",
       "      <td>12.362187</td>\n",
       "    </tr>\n",
       "    <tr>\n",
       "      <th>min</th>\n",
       "      <td>-9.300000</td>\n",
       "      <td>-7.900000</td>\n",
       "      <td>-3.700000</td>\n",
       "      <td>2.900000</td>\n",
       "      <td>6.500000</td>\n",
       "      <td>9.300000</td>\n",
       "      <td>11.100000</td>\n",
       "      <td>10.600000</td>\n",
       "      <td>7.900000</td>\n",
       "      <td>4.500000</td>\n",
       "      <td>-1.100000</td>\n",
       "      <td>-6.000000</td>\n",
       "      <td>4.500000</td>\n",
       "      <td>10.200000</td>\n",
       "      <td>37.400000</td>\n",
       "      <td>-21.600000</td>\n",
       "    </tr>\n",
       "    <tr>\n",
       "      <th>25%</th>\n",
       "      <td>-1.550000</td>\n",
       "      <td>-0.150000</td>\n",
       "      <td>1.600000</td>\n",
       "      <td>7.250000</td>\n",
       "      <td>12.150000</td>\n",
       "      <td>15.400000</td>\n",
       "      <td>17.300000</td>\n",
       "      <td>16.650000</td>\n",
       "      <td>13.000000</td>\n",
       "      <td>8.650000</td>\n",
       "      <td>3.200000</td>\n",
       "      <td>0.250000</td>\n",
       "      <td>7.750000</td>\n",
       "      <td>14.900000</td>\n",
       "      <td>43.900000</td>\n",
       "      <td>3.200000</td>\n",
       "    </tr>\n",
       "    <tr>\n",
       "      <th>50%</th>\n",
       "      <td>0.200000</td>\n",
       "      <td>1.900000</td>\n",
       "      <td>5.400000</td>\n",
       "      <td>8.900000</td>\n",
       "      <td>13.800000</td>\n",
       "      <td>16.900000</td>\n",
       "      <td>18.900000</td>\n",
       "      <td>18.300000</td>\n",
       "      <td>14.800000</td>\n",
       "      <td>10.200000</td>\n",
       "      <td>5.100000</td>\n",
       "      <td>1.700000</td>\n",
       "      <td>9.700000</td>\n",
       "      <td>18.500000</td>\n",
       "      <td>50.000000</td>\n",
       "      <td>9.400000</td>\n",
       "    </tr>\n",
       "    <tr>\n",
       "      <th>75%</th>\n",
       "      <td>4.900000</td>\n",
       "      <td>5.800000</td>\n",
       "      <td>8.500000</td>\n",
       "      <td>12.050000</td>\n",
       "      <td>16.350000</td>\n",
       "      <td>19.800000</td>\n",
       "      <td>21.750000</td>\n",
       "      <td>21.600000</td>\n",
       "      <td>18.250000</td>\n",
       "      <td>13.300000</td>\n",
       "      <td>7.900000</td>\n",
       "      <td>5.400000</td>\n",
       "      <td>12.650000</td>\n",
       "      <td>21.450000</td>\n",
       "      <td>53.350000</td>\n",
       "      <td>18.650000</td>\n",
       "    </tr>\n",
       "    <tr>\n",
       "      <th>max</th>\n",
       "      <td>10.700000</td>\n",
       "      <td>11.800000</td>\n",
       "      <td>14.100000</td>\n",
       "      <td>16.900000</td>\n",
       "      <td>20.900000</td>\n",
       "      <td>24.500000</td>\n",
       "      <td>27.400000</td>\n",
       "      <td>27.200000</td>\n",
       "      <td>24.300000</td>\n",
       "      <td>19.400000</td>\n",
       "      <td>14.900000</td>\n",
       "      <td>12.000000</td>\n",
       "      <td>18.200000</td>\n",
       "      <td>27.600000</td>\n",
       "      <td>64.100000</td>\n",
       "      <td>37.600000</td>\n",
       "    </tr>\n",
       "  </tbody>\n",
       "</table>\n",
       "</div>"
      ],
      "text/plain": [
       "         Janvier    Fevrier       Mars      Avril        Mai       Juin  \\\n",
       "count  35.000000  35.000000  35.000000  35.000000  35.000000  35.000000   \n",
       "mean    1.345714   2.217143   5.228571   9.282857  13.911429  17.414286   \n",
       "std     5.502157   5.498956   4.863040   3.806456   3.273582   3.320271   \n",
       "min    -9.300000  -7.900000  -3.700000   2.900000   6.500000   9.300000   \n",
       "25%    -1.550000  -0.150000   1.600000   7.250000  12.150000  15.400000   \n",
       "50%     0.200000   1.900000   5.400000   8.900000  13.800000  16.900000   \n",
       "75%     4.900000   5.800000   8.500000  12.050000  16.350000  19.800000   \n",
       "max    10.700000  11.800000  14.100000  16.900000  20.900000  24.500000   \n",
       "\n",
       "         Juillet       Aout  Septembre    Octobre   Novembre   Decembre  \\\n",
       "count  35.000000  35.000000  35.000000  35.000000  35.000000  35.000000   \n",
       "mean   19.622857  18.980000  15.631429  11.002857   6.065714   2.880000   \n",
       "std     3.574673   3.727939   4.109728   4.323226   4.566820   4.967411   \n",
       "min    11.100000  10.600000   7.900000   4.500000  -1.100000  -6.000000   \n",
       "25%    17.300000  16.650000  13.000000   8.650000   3.200000   0.250000   \n",
       "50%    18.900000  18.300000  14.800000  10.200000   5.100000   1.700000   \n",
       "75%    21.750000  21.600000  18.250000  13.300000   7.900000   5.400000   \n",
       "max    27.400000  27.200000  24.300000  19.400000  14.900000  12.000000   \n",
       "\n",
       "         Moyenne  Amplitude   Latitude  Longitude  \n",
       "count  35.000000  35.000000  35.000000  35.000000  \n",
       "mean   10.265714  18.317143  48.980000  10.590286  \n",
       "std     3.963061   4.505649   7.199869  12.362187  \n",
       "min     4.500000  10.200000  37.400000 -21.600000  \n",
       "25%     7.750000  14.900000  43.900000   3.200000  \n",
       "50%     9.700000  18.500000  50.000000   9.400000  \n",
       "75%    12.650000  21.450000  53.350000  18.650000  \n",
       "max    18.200000  27.600000  64.100000  37.600000  "
      ]
     },
     "execution_count": 12,
     "metadata": {},
     "output_type": "execute_result"
    }
   ],
   "source": [
    "### The second step is to draw some statistics from the data.\n",
    "temperature.describe()"
   ]
  },
  {
   "cell_type": "code",
   "execution_count": 13,
   "metadata": {},
   "outputs": [
    {
     "data": {
      "image/png": "[encoded data removed]",
      "text/plain": [
       "<Figure size 432x288 with 1 Axes>"
      ]
     },
     "metadata": {
      "needs_background": "light"
     },
     "output_type": "display_data"
    }
   ],
   "source": [
    "### Let's present these results on a boxplot using Seasborne, as there is still a lot of data. \n",
    "plt.figure()\n",
    "plt.title(\"boxplot distribution for the temperature\")\n",
    "temperature_boxplot=sns.boxplot(data=temperature.drop([\"Moyenne\", \"Amplitude\",\"Latitude\",\"Longitude\",\"Region\"], axis=1))"
   ]
  },
  {
   "cell_type": "code",
   "execution_count": 14,
   "metadata": {},
   "outputs": [
    {
     "name": "stdout",
     "output_type": "stream",
     "text": [
      "What value do you want to visualize ( Amplitude, Moyenne, etc) ? \n",
      "Amplitude\n"
     ]
    },
    {
     "data": {
      "text/plain": [
       "<matplotlib.collections.PathCollection at 0x294628b6850>"
      ]
     },
     "execution_count": 14,
     "metadata": {},
     "output_type": "execute_result"
    },
    {
     "data": {
      "image/png": "[encoded data removed]",
      "text/plain": [
       "<Figure size 432x288 with 1 Axes>"
      ]
     },
     "metadata": {
      "needs_background": "light"
     },
     "output_type": "display_data"
    }
   ],
   "source": [
    "### Represented like this, we can't extract clusters, so let's represent it differently\n",
    "value_to_visualize = input(\"What value do you want to visualize ( Amplitude, Moyenne, etc) ? \\n\") #so we can explore the data better\n",
    "plt.figure()\n",
    "plt.title(\"2D visualization of the data : Latitude / Longitude\")\n",
    "plt.scatter(temperature[\"Latitude\"], temperature[\"Longitude\"],c=temperature[value_to_visualize]) \n"
   ]
  },
  {
   "cell_type": "code",
   "execution_count": 15,
   "metadata": {},
   "outputs": [
    {
     "name": "stdout",
     "output_type": "stream",
     "text": [
      "What value do you want to visualize ( Amplitude, Moyenne, etc) ? \n",
      "Amplitude\n"
     ]
    },
    {
     "data": {
      "text/plain": [
       "<matplotlib.collections.PathCollection at 0x29462911880>"
      ]
     },
     "execution_count": 15,
     "metadata": {},
     "output_type": "execute_result"
    },
    {
     "data": {
      "image/png": "[encoded data removed]",
      "text/plain": [
       "<Figure size 432x288 with 1 Axes>"
      ]
     },
     "metadata": {
      "needs_background": "light"
     },
     "output_type": "display_data"
    }
   ],
   "source": [
    "### Let's now present the temperature according to the city\n",
    "value_to_visualize = input(\"What value do you want to visualize ( Amplitude, Moyenne, etc) ? \\n\") #so we can explore the data \n",
    "plt.figure()\n",
    "plt.title(\"2D visualization of the data : Latitude / Longitude\")\n",
    "plt.scatter(temperature[\"Ville\"], temperature[value_to_visualize])"
   ]
  },
  {
   "cell_type": "code",
   "execution_count": 16,
   "metadata": {},
   "outputs": [
    {
     "name": "stdout",
     "output_type": "stream",
     "text": [
      "Field to use ? \n",
      "Moyenne\n"
     ]
    }
   ],
   "source": [
    "# We will now display all the points on a map\n",
    "file=temperature\n",
    "field_used=input( \"Field to use ? \\n\") #so we can see the map with different values\n",
    "\n",
    "map = folium.Map(tiles='cartodbpositron', zoom_start=3 ,location=[48.499998 ,23.3833318])\n",
    "map\n",
    "\n",
    "\n",
    "linear=cm.linear.RdYlBu_06.scale(0, 1)\n",
    "\n",
    "for index,row in file.iterrows():\n",
    "#     keyon_cluster = folium.Marker(location=[row['Latitude'],row['Longitude']],popup=row['Ville']).add_to(m)\n",
    "    folium.CircleMarker(location=[row['Latitude'],row['Longitude']], \n",
    "                        radius=5,\n",
    "                        popup=str(row['Ville'])+': '+str(row[field_used]), \n",
    "                        line_color=None,\n",
    "                        fill_color=linear(1-(row[field_used]-file[field_used].min())/(file[field_used].max()-file[field_used].min())),\n",
    "                        fill_opacity=1,\n",
    "                        color=linear(1-(row[field_used]-file[field_used].min())/(file[field_used].max()-file[field_used].min()))).add_to(map)\n",
    "    \n"
   ]
  },
  {
   "cell_type": "code",
   "execution_count": 17,
   "metadata": {},
   "outputs": [
    {
     "data": {
      "text/html": [
       "<div style=\"width:100%;\"><div style=\"position:relative;width:100%;height:0;padding-bottom:60%;\"><span style=\"color:#565656\">Make this Notebook Trusted to load map: File -> Trust Notebook</span><iframe src=\"about:blank\" style=\"position:absolute;width:100%;height:100%;left:0;top:0;border:none !important;\" data-html=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 onload=\"this.contentDocument.open();this.contentDocument.write(atob(this.getAttribute('data-html')));this.contentDocument.close();\" allowfullscreen webkitallowfullscreen mozallowfullscreen></iframe></div></div>"
      ],
      "text/plain": [
       "<folium.folium.Map at 0x2945f9435e0>"
      ]
     },
     "execution_count": 17,
     "metadata": {},
     "output_type": "execute_result"
    }
   ],
   "source": [
    "map\n",
    "\n"
   ]
  },
  {
   "cell_type": "code",
   "execution_count": null,
   "metadata": {},
   "outputs": [],
   "source": [
    "### We can see the results are relevant and correspond to what we expected. We will now try to find clusters amongst this data"
   ]
  },
  {
   "cell_type": "code",
   "execution_count": null,
   "metadata": {},
   "outputs": [],
   "source": []
  }
 ],
 "metadata": {
  "kernelspec": {
   "display_name": "Python 3",
   "language": "python",
   "name": "python3"
  }
 },
 "nbformat": 4,
 "nbformat_minor": 4
}
