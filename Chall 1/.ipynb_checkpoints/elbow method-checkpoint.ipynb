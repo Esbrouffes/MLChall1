{
 "cells": [
  {
   "cell_type": "code",
   "execution_count": 19,
   "metadata": {},
   "outputs": [],
   "source": [
    "import pandas as pd\n",
    "import numpy as np\n",
    "import matplotlib.pyplot as plt\n",
    "import seaborn as sns\n",
    "from sklearn.cluster import KMeans\n",
    "from sklearn.metrics import silhouette_samples, silhouette_score\n",
    "from sklearn.preprocessing import scale\n",
    "from scipy.cluster.hierarchy import dendrogram, linkage\n",
    "from scipy.cluster.hierarchy import cophenet\n",
    "from scipy.spatial.distance import pdist"
   ]
  },
  {
   "cell_type": "code",
   "execution_count": 27,
   "metadata": {},
   "outputs": [
    {
     "name": "stdout",
     "output_type": "stream",
     "text": [
      "            Ville  Janvier  Fevrier  Mars  Avril   Mai  Juin  Juillet  Aout  \\\n",
      "0       Amsterdam      2.9      2.5   5.7    8.2  12.5  14.8     17.1  17.1   \n",
      "1         Athenes      9.1      9.7  11.7   15.4  20.1  24.5     27.4  27.2   \n",
      "2          Berlin     -0.2      0.1   4.4    8.2  13.8  16.0     18.3  18.0   \n",
      "3       Bruxelles      3.3      3.3   6.7    8.9  12.8  15.6     17.8  17.8   \n",
      "4        Budapest     -1.1      0.8   5.5   11.6  17.0  20.2     22.0  21.3   \n",
      "5      Copenhague     -0.4     -0.4   1.3    5.8  11.1  15.4     17.1  16.6   \n",
      "6          Dublin      4.8      5.0   5.9    7.8  10.4  13.3     15.0  14.6   \n",
      "7        Helsinki     -5.8     -6.2  -2.7    3.1  10.2  14.0     17.2  14.9   \n",
      "8            Kiev     -5.9     -5.0  -0.3    7.4  14.3  17.8     19.4  18.5   \n",
      "9        Cracovie     -3.7     -2.0   1.9    7.9  13.2  16.9     18.4  17.6   \n",
      "10       Lisbonne     10.5     11.3  12.8   14.5  16.7  19.4     21.5  21.9   \n",
      "11        Londres      3.4      4.2   5.5    8.3  11.9  15.1     16.9  16.5   \n",
      "12         Madrid      5.0      6.6   9.4   12.2  16.0  20.8     24.7  24.3   \n",
      "13          Minsk     -6.9     -6.2  -1.9    5.4  12.4  15.9     17.4  16.3   \n",
      "14         Moscou     -9.3     -7.6  -2.0    6.0  13.0  16.6     18.3  16.7   \n",
      "15           Oslo     -4.3     -3.8  -0.6    4.4  10.3  14.9     16.9  15.4   \n",
      "16          Paris      3.7      3.7   7.3    9.7  13.7  16.5     19.0  18.7   \n",
      "17         Prague     -1.3      0.2   3.6    8.8  14.3  17.6     19.3  18.7   \n",
      "18      Reykjavik     -0.3      0.1   0.8    2.9   6.5   9.3     11.1  10.6   \n",
      "19           Rome      7.1      8.2  10.5   13.7  17.8  21.7     24.4  24.1   \n",
      "20       Sarajevo     -1.4      0.8   4.9    9.3  13.8  17.0     18.9  18.7   \n",
      "21          Sofia     -1.7      0.2   4.3    9.7  14.3  17.7     20.0  19.5   \n",
      "22      Stockholm     -3.5     -3.5  -1.3    3.5   9.2  14.6     17.2  16.0   \n",
      "23         Anvers      3.1      2.9   6.2    8.9  12.9  15.5     17.9  17.6   \n",
      "24      Barcelone      9.1     10.3  11.8   14.1  17.4  21.2     24.2  24.1   \n",
      "25       Bordeaux      5.6      6.7   9.0   11.9  15.0  18.3     20.4  20.0   \n",
      "26      Edimbourg      2.9      3.6   4.7    7.1   9.9  13.0     14.7  14.3   \n",
      "27      Francfort      0.2      1.8   5.4    9.7  14.3  17.5     19.0  18.3   \n",
      "28         Geneve      0.1      1.9   5.1    9.4  13.8  17.3     19.4  18.5   \n",
      "29          Genes      8.7      8.7  11.4   13.8  17.5  21.0     24.5  24.6   \n",
      "30          Milan      1.1      3.6   8.0   12.6  17.3  21.3     23.8  22.8   \n",
      "31        Palerme     10.5     11.5  13.3   16.9  20.9  23.8     24.5  22.3   \n",
      "32        Seville     10.7     11.8  14.1   16.1  19.7  23.4     26.7  26.7   \n",
      "33  StPetersbourg     -8.2     -7.9  -3.7    3.2  10.0  15.4     18.4  16.9   \n",
      "34         Zurich     -0.7      0.7   4.3    8.5  12.9  16.2     18.0  17.2   \n",
      "\n",
      "    Septembre  Octobre  Novembre  Decembre  Moyenne  Amplitude  Latitude  \\\n",
      "0        14.5     11.4       7.0       4.4      9.9       14.6      52.2   \n",
      "1        23.8     19.2      14.6      11.0     17.8       18.3      37.6   \n",
      "2        14.4     10.0       4.2       1.2      9.1       18.5      52.3   \n",
      "3        15.0     11.1       6.7       4.4     10.3       14.4      50.5   \n",
      "4        16.9     11.3       5.1       0.7     10.9       23.1      47.3   \n",
      "5        13.3      8.8       4.1       1.3      7.8       17.5      55.4   \n",
      "6        12.7      9.7       6.7       5.4      9.3       10.2      53.2   \n",
      "7         9.7      5.2       0.1      -2.3      4.8       23.4      60.1   \n",
      "8        13.7      7.5       1.2      -3.6      7.1       25.3      50.3   \n",
      "9        13.7      8.6       2.6      -1.7      7.7       22.1      50.0   \n",
      "10       20.4     17.4      13.7      11.1     15.9       11.4      38.4   \n",
      "11       14.0     10.2       6.3       4.4      9.7       13.5      51.4   \n",
      "12       19.8     13.9       8.7       5.4     13.9       19.7      40.2   \n",
      "13       11.6      5.8       0.1      -4.2      5.5       24.3      53.5   \n",
      "14       11.2      5.1      -1.1      -6.0      5.1       27.6      46.2   \n",
      "15       11.1      5.7       0.5      -2.9      5.6       21.2      59.5   \n",
      "16       16.1     12.5       7.3       5.2     11.2       15.3      48.5   \n",
      "17       14.9      9.4       3.8       0.3      9.2       20.6      50.0   \n",
      "18        7.9      4.5       1.7       0.2      4.6       11.4      64.1   \n",
      "19       20.9     16.5      11.7       8.3     15.4       17.3      41.5   \n",
      "20       15.2     10.5       5.1       0.8      9.4       20.3      43.5   \n",
      "21       15.8     10.7       5.0       0.6      9.6       21.7      42.4   \n",
      "22       11.7      6.5       1.7      -1.6      5.8       20.7      59.2   \n",
      "23       14.7     11.5       6.8       4.7     10.3       15.0      51.1   \n",
      "24       21.7     17.5      13.1      10.0     16.2       15.1      41.2   \n",
      "25       17.6     13.5       8.5       6.1     12.7       14.8      44.5   \n",
      "26       12.1      8.7       5.3       3.7      8.3       11.8      55.0   \n",
      "27       14.8      9.8       4.9       1.7      9.8       18.8      50.1   \n",
      "28       15.0      9.8       4.9       1.4      9.7       19.3      46.1   \n",
      "29       21.8     17.8      12.2      10.0     16.1       15.9      44.3   \n",
      "30       18.9     13.1       6.9       2.6     12.6       22.7      45.3   \n",
      "31       22.3     18.4      14.9      12.0     16.6       14.0      38.1   \n",
      "32       24.3     19.4      14.5      11.2     18.2       16.0      37.2   \n",
      "33       11.5      5.2      -0.4      -5.3      4.5       26.6      59.6   \n",
      "34       14.1      8.9       3.9       0.3      8.7       18.7      47.2   \n",
      "\n",
      "    Longitude Region  \n",
      "0         4.5  Ouest  \n",
      "1        23.5    Sud  \n",
      "2        13.2  Ouest  \n",
      "3         4.2  Ouest  \n",
      "4        19.0    Est  \n",
      "5        12.3   Nord  \n",
      "6         6.1   Nord  \n",
      "7        25.0   Nord  \n",
      "8        30.3    Est  \n",
      "9        19.6    Est  \n",
      "10        9.1    Sud  \n",
      "11        0.0   Nord  \n",
      "12        3.4    Sud  \n",
      "13       27.3    Est  \n",
      "14        1.5    Est  \n",
      "15       10.5   Nord  \n",
      "16        2.2  Ouest  \n",
      "17       14.2    Est  \n",
      "18       21.6   Nord  \n",
      "19       12.3    Sud  \n",
      "20       18.3    Sud  \n",
      "21       23.2    Est  \n",
      "22       18.0   Nord  \n",
      "23        4.2  Ouest  \n",
      "24        2.2    Sud  \n",
      "25        0.3  Ouest  \n",
      "26        3.0   Nord  \n",
      "27        8.4  Ouest  \n",
      "28        6.1  Ouest  \n",
      "29        9.4    Sud  \n",
      "30        9.2    Sud  \n",
      "31       13.1    Sud  \n",
      "32        5.6    Sud  \n",
      "33       30.2    Est  \n",
      "34        8.3  Ouest  \n"
     ]
    }
   ],
   "source": [
    "temp = pd.read_csv(\"temperat.csv\", sep=\";\")\n",
    "temp = temp.rename(columns={'Unnamed: 0': 'Ville'})\n",
    "print(temp)"
   ]
  },
  {
   "cell_type": "code",
   "execution_count": 29,
   "metadata": {},
   "outputs": [
    {
     "data": {
      "image/png": "[encoded data removed]",
      "text/plain": [
       "<Figure size 432x288 with 1 Axes>"
      ]
     },
     "metadata": {
      "needs_background": "light"
     },
     "output_type": "display_data"
    }
   ],
   "source": [
    "plt.figure()\n",
    "plt.title('2D representation of temperature dataset')\n",
    "plt.scatter(temp['Region'], temp['Moyenne'])\n",
    "plt.show()"
   ]
  },
  {
   "cell_type": "code",
   "execution_count": 28,
   "metadata": {},
   "outputs": [
    {
     "data": {
      "image/png": "[encoded data removed]",
      "text/plain": [
       "<Figure size 432x288 with 1 Axes>"
      ]
     },
     "metadata": {
      "needs_background": "light"
     },
     "output_type": "display_data"
    }
   ],
   "source": [
    "plt.figure()\n",
    "plt.title('2D representation of temperature dataset')\n",
    "plt.scatter(temp['Ville'], temp['Moyenne'])\n",
    "plt.show()"
   ]
  },
  {
   "cell_type": "code",
   "execution_count": 37,
   "metadata": {},
   "outputs": [
    {
     "name": "stdout",
     "output_type": "stream",
     "text": [
      "    Janvier  Fevrier  Mars  Avril   Mai  Juin  Juillet  Aout  Septembre  \\\n",
      "0       2.9      2.5   5.7    8.2  12.5  14.8     17.1  17.1       14.5   \n",
      "1       9.1      9.7  11.7   15.4  20.1  24.5     27.4  27.2       23.8   \n",
      "2      -0.2      0.1   4.4    8.2  13.8  16.0     18.3  18.0       14.4   \n",
      "3       3.3      3.3   6.7    8.9  12.8  15.6     17.8  17.8       15.0   \n",
      "4      -1.1      0.8   5.5   11.6  17.0  20.2     22.0  21.3       16.9   \n",
      "5      -0.4     -0.4   1.3    5.8  11.1  15.4     17.1  16.6       13.3   \n",
      "6       4.8      5.0   5.9    7.8  10.4  13.3     15.0  14.6       12.7   \n",
      "7      -5.8     -6.2  -2.7    3.1  10.2  14.0     17.2  14.9        9.7   \n",
      "8      -5.9     -5.0  -0.3    7.4  14.3  17.8     19.4  18.5       13.7   \n",
      "9      -3.7     -2.0   1.9    7.9  13.2  16.9     18.4  17.6       13.7   \n",
      "10     10.5     11.3  12.8   14.5  16.7  19.4     21.5  21.9       20.4   \n",
      "11      3.4      4.2   5.5    8.3  11.9  15.1     16.9  16.5       14.0   \n",
      "12      5.0      6.6   9.4   12.2  16.0  20.8     24.7  24.3       19.8   \n",
      "13     -6.9     -6.2  -1.9    5.4  12.4  15.9     17.4  16.3       11.6   \n",
      "14     -9.3     -7.6  -2.0    6.0  13.0  16.6     18.3  16.7       11.2   \n",
      "15     -4.3     -3.8  -0.6    4.4  10.3  14.9     16.9  15.4       11.1   \n",
      "16      3.7      3.7   7.3    9.7  13.7  16.5     19.0  18.7       16.1   \n",
      "17     -1.3      0.2   3.6    8.8  14.3  17.6     19.3  18.7       14.9   \n",
      "18     -0.3      0.1   0.8    2.9   6.5   9.3     11.1  10.6        7.9   \n",
      "19      7.1      8.2  10.5   13.7  17.8  21.7     24.4  24.1       20.9   \n",
      "20     -1.4      0.8   4.9    9.3  13.8  17.0     18.9  18.7       15.2   \n",
      "21     -1.7      0.2   4.3    9.7  14.3  17.7     20.0  19.5       15.8   \n",
      "22     -3.5     -3.5  -1.3    3.5   9.2  14.6     17.2  16.0       11.7   \n",
      "23      3.1      2.9   6.2    8.9  12.9  15.5     17.9  17.6       14.7   \n",
      "24      9.1     10.3  11.8   14.1  17.4  21.2     24.2  24.1       21.7   \n",
      "25      5.6      6.7   9.0   11.9  15.0  18.3     20.4  20.0       17.6   \n",
      "26      2.9      3.6   4.7    7.1   9.9  13.0     14.7  14.3       12.1   \n",
      "27      0.2      1.8   5.4    9.7  14.3  17.5     19.0  18.3       14.8   \n",
      "28      0.1      1.9   5.1    9.4  13.8  17.3     19.4  18.5       15.0   \n",
      "29      8.7      8.7  11.4   13.8  17.5  21.0     24.5  24.6       21.8   \n",
      "30      1.1      3.6   8.0   12.6  17.3  21.3     23.8  22.8       18.9   \n",
      "31     10.5     11.5  13.3   16.9  20.9  23.8     24.5  22.3       22.3   \n",
      "32     10.7     11.8  14.1   16.1  19.7  23.4     26.7  26.7       24.3   \n",
      "33     -8.2     -7.9  -3.7    3.2  10.0  15.4     18.4  16.9       11.5   \n",
      "34     -0.7      0.7   4.3    8.5  12.9  16.2     18.0  17.2       14.1   \n",
      "\n",
      "    Octobre  Novembre  Decembre  Moyenne  Amplitude  Latitude  Longitude  \n",
      "0      11.4       7.0       4.4      9.9       14.6      52.2        4.5  \n",
      "1      19.2      14.6      11.0     17.8       18.3      37.6       23.5  \n",
      "2      10.0       4.2       1.2      9.1       18.5      52.3       13.2  \n",
      "3      11.1       6.7       4.4     10.3       14.4      50.5        4.2  \n",
      "4      11.3       5.1       0.7     10.9       23.1      47.3       19.0  \n",
      "5       8.8       4.1       1.3      7.8       17.5      55.4       12.3  \n",
      "6       9.7       6.7       5.4      9.3       10.2      53.2        6.1  \n",
      "7       5.2       0.1      -2.3      4.8       23.4      60.1       25.0  \n",
      "8       7.5       1.2      -3.6      7.1       25.3      50.3       30.3  \n",
      "9       8.6       2.6      -1.7      7.7       22.1      50.0       19.6  \n",
      "10     17.4      13.7      11.1     15.9       11.4      38.4        9.1  \n",
      "11     10.2       6.3       4.4      9.7       13.5      51.4        0.0  \n",
      "12     13.9       8.7       5.4     13.9       19.7      40.2        3.4  \n",
      "13      5.8       0.1      -4.2      5.5       24.3      53.5       27.3  \n",
      "14      5.1      -1.1      -6.0      5.1       27.6      46.2        1.5  \n",
      "15      5.7       0.5      -2.9      5.6       21.2      59.5       10.5  \n",
      "16     12.5       7.3       5.2     11.2       15.3      48.5        2.2  \n",
      "17      9.4       3.8       0.3      9.2       20.6      50.0       14.2  \n",
      "18      4.5       1.7       0.2      4.6       11.4      64.1       21.6  \n",
      "19     16.5      11.7       8.3     15.4       17.3      41.5       12.3  \n",
      "20     10.5       5.1       0.8      9.4       20.3      43.5       18.3  \n",
      "21     10.7       5.0       0.6      9.6       21.7      42.4       23.2  \n",
      "22      6.5       1.7      -1.6      5.8       20.7      59.2       18.0  \n",
      "23     11.5       6.8       4.7     10.3       15.0      51.1        4.2  \n",
      "24     17.5      13.1      10.0     16.2       15.1      41.2        2.2  \n",
      "25     13.5       8.5       6.1     12.7       14.8      44.5        0.3  \n",
      "26      8.7       5.3       3.7      8.3       11.8      55.0        3.0  \n",
      "27      9.8       4.9       1.7      9.8       18.8      50.1        8.4  \n",
      "28      9.8       4.9       1.4      9.7       19.3      46.1        6.1  \n",
      "29     17.8      12.2      10.0     16.1       15.9      44.3        9.4  \n",
      "30     13.1       6.9       2.6     12.6       22.7      45.3        9.2  \n",
      "31     18.4      14.9      12.0     16.6       14.0      38.1       13.1  \n",
      "32     19.4      14.5      11.2     18.2       16.0      37.2        5.6  \n",
      "33      5.2      -0.4      -5.3      4.5       26.6      59.6       30.2  \n",
      "34      8.9       3.9       0.3      8.7       18.7      47.2        8.3  \n"
     ]
    }
   ],
   "source": [
    "new_temp = temp.drop(['Ville', 'Region'], axis=1)\n",
    "print(new_temp)"
   ]
  },
  {
   "cell_type": "code",
   "execution_count": 46,
   "metadata": {},
   "outputs": [
    {
     "name": "stdout",
     "output_type": "stream",
     "text": [
      "[[-2.67142857e+00 -1.07142857e+00  3.22857143e+00  8.78571429e+00\n",
      "   1.42000000e+01  1.74285714e+01  1.93142857e+01  1.86428571e+01\n",
      "   1.45857143e+01  9.37142857e+00  3.52857143e+00 -5.85714286e-01\n",
      "   8.71428571e+00  2.19857143e+01  4.73857143e+01  1.55714286e+01]\n",
      " [ 2.53333333e+00  3.32500000e+00  6.15000000e+00  9.25000000e+00\n",
      "   1.31166667e+01  1.62000000e+01  1.82500000e+01  1.77833333e+01\n",
      "   1.49583333e+01  1.08500000e+01  6.26666667e+00  3.69166667e+00\n",
      "   1.02083333e+01  1.57583333e+01  4.95916667e+01  4.70833333e+00]\n",
      " [-6.70000000e+00 -6.32500000e+00 -2.15000000e+00  4.77500000e+00\n",
      "   1.17250000e+01  1.57750000e+01  1.81000000e+01  1.66500000e+01\n",
      "   1.16250000e+01  5.92500000e+00  2.50000000e-01 -3.85000000e+00\n",
      "   5.47500000e+00  2.49000000e+01  5.58750000e+01  2.82000000e+01]\n",
      " [-2.12500000e+00 -1.90000000e+00  5.00000000e-02  4.15000000e+00\n",
      "   9.27500000e+00  1.35500000e+01  1.55750000e+01  1.46500000e+01\n",
      "   1.10000000e+01  6.37500000e+00  2.00000000e+00 -7.50000000e-01\n",
      "   5.95000000e+00  1.77000000e+01  5.95500000e+01  1.56000000e+01]\n",
      " [ 8.83750000e+00  9.76250000e+00  1.18750000e+01  1.45875000e+01\n",
      "   1.82625000e+01  2.19750000e+01  2.47375000e+01  2.44000000e+01\n",
      "   2.18750000e+01  1.75125000e+01  1.29250000e+01  9.87500000e+00\n",
      "   1.62625000e+01  1.59625000e+01  3.98125000e+01  9.82500000e+00]]\n"
     ]
    },
    {
     "data": {
      "text/plain": [
       "<matplotlib.collections.PathCollection at 0x16026c98f88>"
      ]
     },
     "execution_count": 46,
     "metadata": {},
     "output_type": "execute_result"
    },
    {
     "data": {
      "image/png": "[encoded data removed]",
      "text/plain": [
       "<Figure size 432x288 with 1 Axes>"
      ]
     },
     "metadata": {
      "needs_background": "light"
     },
     "output_type": "display_data"
    }
   ],
   "source": [
    "kmeans = KMeans(n_clusters=5,n_init=10,init='random').fit(new_temp)\n",
    "centers=kmeans.cluster_centers_\n",
    "print(centers)\n",
    "kmeans.labels_\n",
    "plt.scatter(new_temp['Latitude'], new_temp['Longitude'],c=kmeans.labels_)"
   ]
  },
  {
   "cell_type": "code",
   "execution_count": 48,
   "metadata": {},
   "outputs": [
    {
     "name": "stdout",
     "output_type": "stream",
     "text": [
      "For n = 2 Silhouette_score: 0.41826698716005745\n",
      "For n = 3 Silhouette_score: 0.38489164483484445\n",
      "For n = 4 Silhouette_score: 0.3691300803992368\n",
      "For n = 5 Silhouette_score: 0.3565111493949225\n",
      "For n = 6 Silhouette_score: 0.3178635850590236\n",
      "For n = 7 Silhouette_score: 0.30410655020932226\n",
      "For n = 8 Silhouette_score: 0.3437570926478631\n",
      "For n = 9 Silhouette_score: 0.25387637410059\n",
      "For n = 10 Silhouette_score: 0.23412303588434322\n"
     ]
    }
   ],
   "source": [
    "range_n_clusters = [2,3,4,5,6,7,8,9,10]\n",
    "sil_score = []\n",
    "for n in range_n_clusters:\n",
    "    clusterer = KMeans(n_clusters=n, n_init=10, init = 'random').fit(new_temp) # Clustering with the given number of clusters\n",
    "    cluster_labels = clusterer.labels_ # Extract the labels\n",
    "    silhouette_avg = silhouette_score(new_temp, cluster_labels) # Corresponding silhouette score\n",
    "    sil_score.append(silhouette_avg)\n",
    "   \n",
    "    print(\"For n =\", n, \"Silhouette_score:\", silhouette_avg)"
   ]
  },
  {
   "cell_type": "code",
   "execution_count": 52,
   "metadata": {},
   "outputs": [
    {
     "data": {
      "text/plain": [
       "<matplotlib.collections.PathCollection at 0x16029d73ac8>"
      ]
     },
     "execution_count": 52,
     "metadata": {},
     "output_type": "execute_result"
    },
    {
     "data": {
      "image/png": "[encoded data removed]",
      "text/plain": [
       "<Figure size 432x288 with 1 Axes>"
      ]
     },
     "metadata": {
      "needs_background": "light"
     },
     "output_type": "display_data"
    }
   ],
   "source": [
    "plt.figure()\n",
    "plt.title('Elbow method to find the optimal number of clusters')\n",
    "plt.scatter(range_n_clusters, sil_score)"
   ]
  },
  {
   "cell_type": "code",
   "execution_count": null,
   "metadata": {},
   "outputs": [],
   "source": []
  },
  {
   "cell_type": "code",
   "execution_count": 1,
   "metadata": {},
   "outputs": [],
   "source": [
    "##test"
   ]
  },
  {
   "cell_type": "code",
   "execution_count": null,
   "metadata": {},
   "outputs": [],
   "source": []
  }
 ],
 "metadata": {
  "kernelspec": {
   "display_name": "Python 3",
   "language": "python",
   "name": "python3"
  },
  "language_info": {
   "codemirror_mode": {
    "name": "ipython",
    "version": 3
   },
   "file_extension": ".py",
   "mimetype": "text/x-python",
   "name": "python",
   "nbconvert_exporter": "python",
   "pygments_lexer": "ipython3",
   "version": "3.7.4"
  }
 },
 "nbformat": 4,
 "nbformat_minor": 2
}
