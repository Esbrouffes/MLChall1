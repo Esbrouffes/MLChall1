{
 "cells": [
  {
   "cell_type": "code",
   "execution_count": 2,
   "metadata": {},
   "outputs": [],
   "source": [
    "# Libraries: Standard ones\n",
    "import pandas as pd\n",
    "import numpy as np\n",
    "import matplotlib.pyplot as plt\n",
    "\n",
    "# Library for boxplots\n",
    "import seaborn as sns\n",
    "\n",
    "# K-means function\n",
    "from sklearn.cluster import KMeans\n",
    "\n",
    "# Functions for silhouette\n",
    "from sklearn.metrics import silhouette_samples, silhouette_score\n",
    "\n",
    "# Function to standardize the data \n",
    "from sklearn.preprocessing import scale\n",
    "\n",
    "# Functions for hierarchical clustering\n",
    "from scipy.cluster.hierarchy import dendrogram, linkage\n",
    "from scipy.cluster.hierarchy import cophenet\n",
    "from scipy.spatial.distance import pdist"
   ]
  },
  {
   "cell_type": "code",
   "execution_count": 3,
   "metadata": {},
   "outputs": [],
   "source": [
    "#Data Presentation"
   ]
  },
  {
   "cell_type": "code",
   "execution_count": 4,
   "metadata": {},
   "outputs": [],
   "source": [
    "# Load the data: temp\n",
    "temp = pd.read_csv(\"temperat.csv\",sep=\";\")\n",
    "temp=temp.rename(columns={'Unnamed: 0': 'Ville'})"
   ]
  },
  {
   "cell_type": "code",
   "execution_count": 5,
   "metadata": {},
   "outputs": [
    {
     "data": {
      "image/png": "[encoded data removed]",
      "text/plain": [
       "<Figure size 432x288 with 1 Axes>"
      ]
     },
     "metadata": {
      "needs_background": "light"
     },
     "output_type": "display_data"
    }
   ],
   "source": [
    "# Boxplot for temp\n",
    "plt.figure()\n",
    "plt.title('boxplot temp features')\n",
    "temp_box=sns.boxplot(data=temp,fliersize=10)   # fliersize is the size used to indicate the outliers\n",
    "plt.show()"
   ]
  },
  {
   "cell_type": "code",
   "execution_count": 6,
   "metadata": {},
   "outputs": [],
   "source": [
    " #With this representation, we do not visually extract some clusters. We however remark that,  shows a lot of outliers."
   ]
  },
  {
   "cell_type": "code",
   "execution_count": 7,
   "metadata": {},
   "outputs": [
    {
     "data": {
      "text/html": [
       "<div>\n",
       "<style scoped>\n",
       "    .dataframe tbody tr th:only-of-type {\n",
       "        vertical-align: middle;\n",
       "    }\n",
       "\n",
       "    .dataframe tbody tr th {\n",
       "        vertical-align: top;\n",
       "    }\n",
       "\n",
       "    .dataframe thead th {\n",
       "        text-align: right;\n",
       "    }\n",
       "</style>\n",
       "<table border=\"1\" class=\"dataframe\">\n",
       "  <thead>\n",
       "    <tr style=\"text-align: right;\">\n",
       "      <th></th>\n",
       "      <th>Janvier</th>\n",
       "      <th>Fevrier</th>\n",
       "      <th>Mars</th>\n",
       "      <th>Avril</th>\n",
       "      <th>Mai</th>\n",
       "      <th>Juin</th>\n",
       "      <th>Juillet</th>\n",
       "      <th>Aout</th>\n",
       "      <th>Septembre</th>\n",
       "      <th>Octobre</th>\n",
       "      <th>Novembre</th>\n",
       "      <th>Decembre</th>\n",
       "      <th>Moyenne</th>\n",
       "      <th>Amplitude</th>\n",
       "      <th>Latitude</th>\n",
       "      <th>Longitude</th>\n",
       "    </tr>\n",
       "  </thead>\n",
       "  <tbody>\n",
       "    <tr>\n",
       "      <th>count</th>\n",
       "      <td>35.000000</td>\n",
       "      <td>35.000000</td>\n",
       "      <td>35.000000</td>\n",
       "      <td>35.000000</td>\n",
       "      <td>35.000000</td>\n",
       "      <td>35.000000</td>\n",
       "      <td>35.000000</td>\n",
       "      <td>35.000000</td>\n",
       "      <td>35.000000</td>\n",
       "      <td>35.000000</td>\n",
       "      <td>35.000000</td>\n",
       "      <td>35.000000</td>\n",
       "      <td>35.000000</td>\n",
       "      <td>35.000000</td>\n",
       "      <td>35.000000</td>\n",
       "      <td>35.000000</td>\n",
       "    </tr>\n",
       "    <tr>\n",
       "      <th>mean</th>\n",
       "      <td>1.345714</td>\n",
       "      <td>2.217143</td>\n",
       "      <td>5.228571</td>\n",
       "      <td>9.282857</td>\n",
       "      <td>13.911429</td>\n",
       "      <td>17.414286</td>\n",
       "      <td>19.622857</td>\n",
       "      <td>18.980000</td>\n",
       "      <td>15.631429</td>\n",
       "      <td>11.002857</td>\n",
       "      <td>6.065714</td>\n",
       "      <td>2.880000</td>\n",
       "      <td>10.265714</td>\n",
       "      <td>18.317143</td>\n",
       "      <td>48.980000</td>\n",
       "      <td>10.590286</td>\n",
       "    </tr>\n",
       "    <tr>\n",
       "      <th>std</th>\n",
       "      <td>5.502157</td>\n",
       "      <td>5.498956</td>\n",
       "      <td>4.863040</td>\n",
       "      <td>3.806456</td>\n",
       "      <td>3.273582</td>\n",
       "      <td>3.320271</td>\n",
       "      <td>3.574673</td>\n",
       "      <td>3.727939</td>\n",
       "      <td>4.109728</td>\n",
       "      <td>4.323226</td>\n",
       "      <td>4.566820</td>\n",
       "      <td>4.967411</td>\n",
       "      <td>3.963061</td>\n",
       "      <td>4.505649</td>\n",
       "      <td>7.199869</td>\n",
       "      <td>12.362187</td>\n",
       "    </tr>\n",
       "    <tr>\n",
       "      <th>min</th>\n",
       "      <td>-9.300000</td>\n",
       "      <td>-7.900000</td>\n",
       "      <td>-3.700000</td>\n",
       "      <td>2.900000</td>\n",
       "      <td>6.500000</td>\n",
       "      <td>9.300000</td>\n",
       "      <td>11.100000</td>\n",
       "      <td>10.600000</td>\n",
       "      <td>7.900000</td>\n",
       "      <td>4.500000</td>\n",
       "      <td>-1.100000</td>\n",
       "      <td>-6.000000</td>\n",
       "      <td>4.500000</td>\n",
       "      <td>10.200000</td>\n",
       "      <td>37.400000</td>\n",
       "      <td>-21.600000</td>\n",
       "    </tr>\n",
       "    <tr>\n",
       "      <th>25%</th>\n",
       "      <td>-1.550000</td>\n",
       "      <td>-0.150000</td>\n",
       "      <td>1.600000</td>\n",
       "      <td>7.250000</td>\n",
       "      <td>12.150000</td>\n",
       "      <td>15.400000</td>\n",
       "      <td>17.300000</td>\n",
       "      <td>16.650000</td>\n",
       "      <td>13.000000</td>\n",
       "      <td>8.650000</td>\n",
       "      <td>3.200000</td>\n",
       "      <td>0.250000</td>\n",
       "      <td>7.750000</td>\n",
       "      <td>14.900000</td>\n",
       "      <td>43.900000</td>\n",
       "      <td>3.200000</td>\n",
       "    </tr>\n",
       "    <tr>\n",
       "      <th>50%</th>\n",
       "      <td>0.200000</td>\n",
       "      <td>1.900000</td>\n",
       "      <td>5.400000</td>\n",
       "      <td>8.900000</td>\n",
       "      <td>13.800000</td>\n",
       "      <td>16.900000</td>\n",
       "      <td>18.900000</td>\n",
       "      <td>18.300000</td>\n",
       "      <td>14.800000</td>\n",
       "      <td>10.200000</td>\n",
       "      <td>5.100000</td>\n",
       "      <td>1.700000</td>\n",
       "      <td>9.700000</td>\n",
       "      <td>18.500000</td>\n",
       "      <td>50.000000</td>\n",
       "      <td>9.400000</td>\n",
       "    </tr>\n",
       "    <tr>\n",
       "      <th>75%</th>\n",
       "      <td>4.900000</td>\n",
       "      <td>5.800000</td>\n",
       "      <td>8.500000</td>\n",
       "      <td>12.050000</td>\n",
       "      <td>16.350000</td>\n",
       "      <td>19.800000</td>\n",
       "      <td>21.750000</td>\n",
       "      <td>21.600000</td>\n",
       "      <td>18.250000</td>\n",
       "      <td>13.300000</td>\n",
       "      <td>7.900000</td>\n",
       "      <td>5.400000</td>\n",
       "      <td>12.650000</td>\n",
       "      <td>21.450000</td>\n",
       "      <td>53.350000</td>\n",
       "      <td>18.650000</td>\n",
       "    </tr>\n",
       "    <tr>\n",
       "      <th>max</th>\n",
       "      <td>10.700000</td>\n",
       "      <td>11.800000</td>\n",
       "      <td>14.100000</td>\n",
       "      <td>16.900000</td>\n",
       "      <td>20.900000</td>\n",
       "      <td>24.500000</td>\n",
       "      <td>27.400000</td>\n",
       "      <td>27.200000</td>\n",
       "      <td>24.300000</td>\n",
       "      <td>19.400000</td>\n",
       "      <td>14.900000</td>\n",
       "      <td>12.000000</td>\n",
       "      <td>18.200000</td>\n",
       "      <td>27.600000</td>\n",
       "      <td>64.100000</td>\n",
       "      <td>37.600000</td>\n",
       "    </tr>\n",
       "  </tbody>\n",
       "</table>\n",
       "</div>"
      ],
      "text/plain": [
       "         Janvier    Fevrier       Mars      Avril        Mai       Juin  \\\n",
       "count  35.000000  35.000000  35.000000  35.000000  35.000000  35.000000   \n",
       "mean    1.345714   2.217143   5.228571   9.282857  13.911429  17.414286   \n",
       "std     5.502157   5.498956   4.863040   3.806456   3.273582   3.320271   \n",
       "min    -9.300000  -7.900000  -3.700000   2.900000   6.500000   9.300000   \n",
       "25%    -1.550000  -0.150000   1.600000   7.250000  12.150000  15.400000   \n",
       "50%     0.200000   1.900000   5.400000   8.900000  13.800000  16.900000   \n",
       "75%     4.900000   5.800000   8.500000  12.050000  16.350000  19.800000   \n",
       "max    10.700000  11.800000  14.100000  16.900000  20.900000  24.500000   \n",
       "\n",
       "         Juillet       Aout  Septembre    Octobre   Novembre   Decembre  \\\n",
       "count  35.000000  35.000000  35.000000  35.000000  35.000000  35.000000   \n",
       "mean   19.622857  18.980000  15.631429  11.002857   6.065714   2.880000   \n",
       "std     3.574673   3.727939   4.109728   4.323226   4.566820   4.967411   \n",
       "min    11.100000  10.600000   7.900000   4.500000  -1.100000  -6.000000   \n",
       "25%    17.300000  16.650000  13.000000   8.650000   3.200000   0.250000   \n",
       "50%    18.900000  18.300000  14.800000  10.200000   5.100000   1.700000   \n",
       "75%    21.750000  21.600000  18.250000  13.300000   7.900000   5.400000   \n",
       "max    27.400000  27.200000  24.300000  19.400000  14.900000  12.000000   \n",
       "\n",
       "         Moyenne  Amplitude   Latitude  Longitude  \n",
       "count  35.000000  35.000000  35.000000  35.000000  \n",
       "mean   10.265714  18.317143  48.980000  10.590286  \n",
       "std     3.963061   4.505649   7.199869  12.362187  \n",
       "min     4.500000  10.200000  37.400000 -21.600000  \n",
       "25%     7.750000  14.900000  43.900000   3.200000  \n",
       "50%     9.700000  18.500000  50.000000   9.400000  \n",
       "75%    12.650000  21.450000  53.350000  18.650000  \n",
       "max    18.200000  27.600000  64.100000  37.600000  "
      ]
     },
     "execution_count": 7,
     "metadata": {},
     "output_type": "execute_result"
    }
   ],
   "source": [
    "temp.describe()"
   ]
  },
  {
   "cell_type": "code",
   "execution_count": 8,
   "metadata": {},
   "outputs": [],
   "source": [
    "#We're gonna try to find clusters with lat/long and average temperature"
   ]
  },
  {
   "cell_type": "code",
   "execution_count": 9,
   "metadata": {},
   "outputs": [
    {
     "data": {
      "text/plain": [
       "<matplotlib.collections.PathCollection at 0x26258606f70>"
      ]
     },
     "execution_count": 9,
     "metadata": {},
     "output_type": "execute_result"
    },
    {
     "data": {
      "image/png": "[encoded data removed]",
      "text/plain": [
       "<Figure size 432x288 with 1 Axes>"
      ]
     },
     "metadata": {
      "needs_background": "light"
     },
     "output_type": "display_data"
    }
   ],
   "source": [
    "# Representation of the temperature dataset\n",
    "plt.title('2D representation of temperature dataset')\n",
    "plt.scatter(temp['Longitude'],temp['Latitude'], c=temp['Decembre'])"
   ]
  },
  {
   "cell_type": "code",
   "execution_count": 10,
   "metadata": {},
   "outputs": [],
   "source": [
    "#We can say that the temperature in December is highly correlated with latitude and longitude"
   ]
  },
  {
   "cell_type": "code",
   "execution_count": 11,
   "metadata": {
    "scrolled": true
   },
   "outputs": [],
   "source": [
    "#Here we just display the average temperature for each city\n",
    "\n",
    "import folium\n",
    "from folium.plugins import FastMarkerCluster\n",
    "from folium.vector_layers import CircleMarker\n",
    "import branca.colormap as cm\n",
    "\n",
    "#We select the file we're going to use and the filed we display\n",
    "file=temp\n",
    "champ_etudie='Moyenne'\n",
    "\n",
    "linear=cm.linear.RdYlBu_06.scale(0, 1)\n",
    "\n",
    "\n",
    "m = folium.Map(tiles='cartodbpositron', zoom_start=3 ,location=[48.499998 ,23.3833318])\n",
    "\n",
    "for index,row in file.iterrows():\n",
    "#     keyon_cluster = folium.Marker(location=[row['Latitude'],row['Longitude']],popup=row['Ville']).add_to(m)\n",
    "    folium.CircleMarker(location=[row['Latitude'],row['Longitude']], \n",
    "                        radius=5,\n",
    "                        popup=str(row['Ville'])+': '+str(row[champ_etudie]), \n",
    "                        line_color=None,\n",
    "                        fill_color=linear(1-(row[champ_etudie]-file[champ_etudie].min())/(file[champ_etudie].max()-file[champ_etudie].min())),\n",
    "                        fill_opacity=1,\n",
    "                        color=linear(1-(row[champ_etudie]-file[champ_etudie].min())/(file[champ_etudie].max()-file[champ_etudie].min()))).add_to(m)"
   ]
  },
  {
   "cell_type": "code",
   "execution_count": 12,
   "metadata": {},
   "outputs": [
    {
     "data": {
      "text/html": [
       "<div style=\"width:100%;\"><div style=\"position:relative;width:100%;height:0;padding-bottom:60%;\"><span style=\"color:#565656\">Make this Notebook Trusted to load map: File -> Trust Notebook</span><iframe src=\"about:blank\" style=\"position:absolute;width:100%;height:100%;left:0;top:0;border:none !important;\" data-html=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 onload=\"this.contentDocument.open();this.contentDocument.write(atob(this.getAttribute('data-html')));this.contentDocument.close();\" allowfullscreen webkitallowfullscreen mozallowfullscreen></iframe></div></div>"
      ],
      "text/plain": [
       "<folium.folium.Map at 0x2625a8f0340>"
      ]
     },
     "execution_count": 12,
     "metadata": {},
     "output_type": "execute_result"
    }
   ],
   "source": [
    "m"
   ]
  },
  {
   "cell_type": "code",
   "execution_count": 13,
   "metadata": {},
   "outputs": [
    {
     "name": "stdout",
     "output_type": "stream",
     "text": [
      "For n = 2 Silhouette_score: 0.5187111529098996\n",
      "For n = 3 Silhouette_score: 0.4831014618030819\n",
      "For n = 4 Silhouette_score: 0.45419340361377014\n",
      "For n = 5 Silhouette_score: 0.4718324275058679\n",
      "For n = 6 Silhouette_score: 0.4532401102390238\n",
      "For n = 7 Silhouette_score: 0.41808873763557797\n",
      "For n = 8 Silhouette_score: 0.43160424885676413\n",
      "For n = 9 Silhouette_score: 0.3810613433818221\n",
      "For n = 10 Silhouette_score: 0.37274840136048004\n"
     ]
    }
   ],
   "source": [
    "# We apply K-means algorithm and calculate Silhouette index for a given number of clusters\n",
    "# (Remark: it is a little difficult to visualize, since it is dimension 5)\n",
    "\n",
    "temp_we_drop=temp[['Ville','Region','Latitude','Longitude']]\n",
    "\n",
    "new_temp = temp.drop(['Ville','Region','Latitude','Longitude'], axis=1)\n",
    "\n",
    "range_n_clusters = [2, 3, 4, 5, 6,7,8,9,10]\n",
    "for n in range_n_clusters:\n",
    "    kmeans_temp = KMeans(n_clusters=n, n_init=10).fit(new_temp) # Clustering with the given number of clusters\n",
    "    cluster_labels = kmeans_temp.labels_ # Extract the labels\n",
    "    silhouette_avg = silhouette_score(new_temp, cluster_labels) # Corresponding silhouette score\n",
    "   \n",
    "    # Display the results\n",
    "    print(\"For n =\", n, \"Silhouette_score:\", silhouette_avg)"
   ]
  },
  {
   "cell_type": "code",
   "execution_count": 14,
   "metadata": {},
   "outputs": [],
   "source": [
    "#We think K=5 would be the best\n",
    "\n",
    "kmeans = KMeans(n_clusters=5,n_init=10,init='random').fit(new_temp)\n",
    "\n",
    "new_temp_with_labels=pd.concat([temp,pd.DataFrame(data=kmeans.labels_,columns=['label'])], axis=1, sort=False)"
   ]
  },
  {
   "cell_type": "code",
   "execution_count": 15,
   "metadata": {},
   "outputs": [
    {
     "data": {
      "text/html": [
       "<div style=\"width:100%;\"><div style=\"position:relative;width:100%;height:0;padding-bottom:60%;\"><span style=\"color:#565656\">Make this Notebook Trusted to load map: File -> Trust Notebook</span><iframe src=\"about:blank\" style=\"position:absolute;width:100%;height:100%;left:0;top:0;border:none !important;\" data-html=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 onload=\"this.contentDocument.open();this.contentDocument.write(atob(this.getAttribute('data-html')));this.contentDocument.close();\" allowfullscreen webkitallowfullscreen mozallowfullscreen></iframe></div></div>"
      ],
      "text/plain": [
       "<folium.folium.Map at 0x2625a97fee0>"
      ]
     },
     "execution_count": 15,
     "metadata": {},
     "output_type": "execute_result"
    }
   ],
   "source": [
    "#We are going to diplay the results of kmeans for k=5\n",
    "\n",
    "\n",
    "import folium\n",
    "from folium.plugins import FastMarkerCluster\n",
    "from folium.vector_layers import CircleMarker\n",
    "import branca.colormap as cm\n",
    "\n",
    "#We select the file we're going to use\n",
    "file=new_temp_with_labels\n",
    "champ_etudie='label'\n",
    "\n",
    "linear=cm.linear.RdYlBu_06.scale(0, 1)\n",
    "\n",
    "\n",
    "m = folium.Map(tiles='cartodbpositron', zoom_start=3 ,location=[48.499998 ,23.3833318])\n",
    "\n",
    "for index,row in file.iterrows():\n",
    "#     keyon_cluster = folium.Marker(location=[row['Latitude'],row['Longitude']],popup=row['Ville']).add_to(m)\n",
    "    folium.CircleMarker(location=[row['Latitude'],row['Longitude']], \n",
    "                        radius=5,\n",
    "                        popup=str(row['Ville'])+': '+str(row[champ_etudie]), \n",
    "                        line_color=None,\n",
    "                        fill_color=linear(1-(row[champ_etudie]-file[champ_etudie].min())/(file[champ_etudie].max()-file[champ_etudie].min())),\n",
    "                        fill_opacity=1,\n",
    "                        color=linear(1-(row[champ_etudie]-file[champ_etudie].min())/(file[champ_etudie].max()-file[champ_etudie].min()))).add_to(m)\n",
    "    \n",
    "m"
   ]
  },
  {
   "cell_type": "code",
   "execution_count": 32,
   "metadata": {},
   "outputs": [
    {
     "name": "stdout",
     "output_type": "stream",
     "text": [
      "For n = 2 Silhouette_score: 0.4922901228111209\n",
      "For n = 3 Silhouette_score: 0.39136104746877826\n",
      "For n = 4 Silhouette_score: 0.3920037288422096\n",
      "For n = 5 Silhouette_score: 0.3819483498629316\n",
      "For n = 6 Silhouette_score: 0.3829063797736344\n",
      "For n = 7 Silhouette_score: 0.39475601182818265\n",
      "For n = 8 Silhouette_score: 0.3982517469844753\n",
      "For n = 9 Silhouette_score: 0.4105410906341304\n",
      "For n = 10 Silhouette_score: 0.39908109814526327\n"
     ]
    }
   ],
   "source": [
    "temp_amplitude=temp[['Ville','Amplitude']]\n",
    "\n",
    "temp_ampl_no_city=temp['Amplitude'].reset_index()\n",
    "\n",
    "range_n_clusters = [2, 3, 4, 5, 6,7,8,9,10]\n",
    "for n in range_n_clusters:\n",
    "    kmeans_ampl = KMeans(n_clusters=n, n_init=10).fit(temp_ampl_no_city) # Clustering with the given number of clusters\n",
    "    cluster_labels = kmeans_ampl.labels_ # Extract the labels\n",
    "    silhouette_avg = silhouette_score(temp_ampl_no_city, cluster_labels) # Corresponding silhouette score\n",
    "   \n",
    "    # Display the results\n",
    "    print(\"For n =\", n, \"Silhouette_score:\", silhouette_avg)\n",
    "    "
   ]
  },
  {
   "cell_type": "code",
   "execution_count": 17,
   "metadata": {},
   "outputs": [],
   "source": [
    "y=temp_amplitude.sort_values(by='Amplitude')"
   ]
  },
  {
   "cell_type": "code",
   "execution_count": 18,
   "metadata": {},
   "outputs": [
    {
     "data": {
      "text/plain": [
       "<matplotlib.collections.PathCollection at 0x2625aa163a0>"
      ]
     },
     "execution_count": 18,
     "metadata": {},
     "output_type": "execute_result"
    },
    {
     "data": {
      "image/png": "[encoded data removed]",
      "text/plain": [
       "<Figure size 432x288 with 1 Axes>"
      ]
     },
     "metadata": {
      "needs_background": "light"
     },
     "output_type": "display_data"
    }
   ],
   "source": [
    "plt.title('2D representation of temperature dataset')\n",
    "plt.scatter(y['Amplitude'],y['Ville'])\n",
    "\n",
    "#ca sert a rien"
   ]
  },
  {
   "cell_type": "code",
   "execution_count": 19,
   "metadata": {},
   "outputs": [],
   "source": [
    "#Now we're going to separate each one of the groups we found and see if we can find the seasons"
   ]
  },
  {
   "cell_type": "code",
   "execution_count": 20,
   "metadata": {},
   "outputs": [],
   "source": [
    "group1=new_temp_with_labels[new_temp_with_labels['label']==0]\n",
    "group2=new_temp_with_labels[new_temp_with_labels['label']==1]\n",
    "group3=new_temp_with_labels[new_temp_with_labels['label']==2]\n",
    "group4=new_temp_with_labels[new_temp_with_labels['label']==3]\n",
    "group5=new_temp_with_labels[new_temp_with_labels['label']==4]"
   ]
  },
  {
   "cell_type": "code",
   "execution_count": 21,
   "metadata": {},
   "outputs": [
    {
     "data": {
      "text/html": [
       "<div>\n",
       "<style scoped>\n",
       "    .dataframe tbody tr th:only-of-type {\n",
       "        vertical-align: middle;\n",
       "    }\n",
       "\n",
       "    .dataframe tbody tr th {\n",
       "        vertical-align: top;\n",
       "    }\n",
       "\n",
       "    .dataframe thead th {\n",
       "        text-align: right;\n",
       "    }\n",
       "</style>\n",
       "<table border=\"1\" class=\"dataframe\">\n",
       "  <thead>\n",
       "    <tr style=\"text-align: right;\">\n",
       "      <th></th>\n",
       "      <th>Ville</th>\n",
       "      <th>Janvier</th>\n",
       "      <th>Fevrier</th>\n",
       "      <th>Mars</th>\n",
       "      <th>Avril</th>\n",
       "      <th>Mai</th>\n",
       "      <th>Juin</th>\n",
       "      <th>Juillet</th>\n",
       "      <th>Aout</th>\n",
       "      <th>Septembre</th>\n",
       "      <th>Octobre</th>\n",
       "      <th>Novembre</th>\n",
       "      <th>Decembre</th>\n",
       "      <th>Moyenne</th>\n",
       "      <th>Amplitude</th>\n",
       "      <th>Latitude</th>\n",
       "      <th>Longitude</th>\n",
       "      <th>Region</th>\n",
       "      <th>label</th>\n",
       "    </tr>\n",
       "  </thead>\n",
       "  <tbody>\n",
       "    <tr>\n",
       "      <th>0</th>\n",
       "      <td>Amsterdam</td>\n",
       "      <td>2.9</td>\n",
       "      <td>2.5</td>\n",
       "      <td>5.7</td>\n",
       "      <td>8.2</td>\n",
       "      <td>12.5</td>\n",
       "      <td>14.8</td>\n",
       "      <td>17.1</td>\n",
       "      <td>17.1</td>\n",
       "      <td>14.5</td>\n",
       "      <td>11.4</td>\n",
       "      <td>7.0</td>\n",
       "      <td>4.4</td>\n",
       "      <td>9.9</td>\n",
       "      <td>14.6</td>\n",
       "      <td>52.2</td>\n",
       "      <td>4.5</td>\n",
       "      <td>Ouest</td>\n",
       "      <td>1</td>\n",
       "    </tr>\n",
       "    <tr>\n",
       "      <th>3</th>\n",
       "      <td>Bruxelles</td>\n",
       "      <td>3.3</td>\n",
       "      <td>3.3</td>\n",
       "      <td>6.7</td>\n",
       "      <td>8.9</td>\n",
       "      <td>12.8</td>\n",
       "      <td>15.6</td>\n",
       "      <td>17.8</td>\n",
       "      <td>17.8</td>\n",
       "      <td>15.0</td>\n",
       "      <td>11.1</td>\n",
       "      <td>6.7</td>\n",
       "      <td>4.4</td>\n",
       "      <td>10.3</td>\n",
       "      <td>14.4</td>\n",
       "      <td>50.5</td>\n",
       "      <td>4.2</td>\n",
       "      <td>Ouest</td>\n",
       "      <td>1</td>\n",
       "    </tr>\n",
       "    <tr>\n",
       "      <th>6</th>\n",
       "      <td>Dublin</td>\n",
       "      <td>4.8</td>\n",
       "      <td>5.0</td>\n",
       "      <td>5.9</td>\n",
       "      <td>7.8</td>\n",
       "      <td>10.4</td>\n",
       "      <td>13.3</td>\n",
       "      <td>15.0</td>\n",
       "      <td>14.6</td>\n",
       "      <td>12.7</td>\n",
       "      <td>9.7</td>\n",
       "      <td>6.7</td>\n",
       "      <td>5.4</td>\n",
       "      <td>9.3</td>\n",
       "      <td>10.2</td>\n",
       "      <td>53.2</td>\n",
       "      <td>6.1</td>\n",
       "      <td>Nord</td>\n",
       "      <td>1</td>\n",
       "    </tr>\n",
       "    <tr>\n",
       "      <th>11</th>\n",
       "      <td>Londres</td>\n",
       "      <td>3.4</td>\n",
       "      <td>4.2</td>\n",
       "      <td>5.5</td>\n",
       "      <td>8.3</td>\n",
       "      <td>11.9</td>\n",
       "      <td>15.1</td>\n",
       "      <td>16.9</td>\n",
       "      <td>16.5</td>\n",
       "      <td>14.0</td>\n",
       "      <td>10.2</td>\n",
       "      <td>6.3</td>\n",
       "      <td>4.4</td>\n",
       "      <td>9.7</td>\n",
       "      <td>13.5</td>\n",
       "      <td>51.4</td>\n",
       "      <td>0.0</td>\n",
       "      <td>Nord</td>\n",
       "      <td>1</td>\n",
       "    </tr>\n",
       "    <tr>\n",
       "      <th>16</th>\n",
       "      <td>Paris</td>\n",
       "      <td>3.7</td>\n",
       "      <td>3.7</td>\n",
       "      <td>7.3</td>\n",
       "      <td>9.7</td>\n",
       "      <td>13.7</td>\n",
       "      <td>16.5</td>\n",
       "      <td>19.0</td>\n",
       "      <td>18.7</td>\n",
       "      <td>16.1</td>\n",
       "      <td>12.5</td>\n",
       "      <td>7.3</td>\n",
       "      <td>5.2</td>\n",
       "      <td>11.2</td>\n",
       "      <td>15.3</td>\n",
       "      <td>48.5</td>\n",
       "      <td>2.2</td>\n",
       "      <td>Ouest</td>\n",
       "      <td>1</td>\n",
       "    </tr>\n",
       "    <tr>\n",
       "      <th>18</th>\n",
       "      <td>Reykjavik</td>\n",
       "      <td>-0.3</td>\n",
       "      <td>0.1</td>\n",
       "      <td>0.8</td>\n",
       "      <td>2.9</td>\n",
       "      <td>6.5</td>\n",
       "      <td>9.3</td>\n",
       "      <td>11.1</td>\n",
       "      <td>10.6</td>\n",
       "      <td>7.9</td>\n",
       "      <td>4.5</td>\n",
       "      <td>1.7</td>\n",
       "      <td>0.2</td>\n",
       "      <td>4.6</td>\n",
       "      <td>11.4</td>\n",
       "      <td>64.1</td>\n",
       "      <td>-21.6</td>\n",
       "      <td>Nord</td>\n",
       "      <td>1</td>\n",
       "    </tr>\n",
       "    <tr>\n",
       "      <th>23</th>\n",
       "      <td>Anvers</td>\n",
       "      <td>3.1</td>\n",
       "      <td>2.9</td>\n",
       "      <td>6.2</td>\n",
       "      <td>8.9</td>\n",
       "      <td>12.9</td>\n",
       "      <td>15.5</td>\n",
       "      <td>17.9</td>\n",
       "      <td>17.6</td>\n",
       "      <td>14.7</td>\n",
       "      <td>11.5</td>\n",
       "      <td>6.8</td>\n",
       "      <td>4.7</td>\n",
       "      <td>10.3</td>\n",
       "      <td>15.0</td>\n",
       "      <td>51.1</td>\n",
       "      <td>4.2</td>\n",
       "      <td>Ouest</td>\n",
       "      <td>1</td>\n",
       "    </tr>\n",
       "    <tr>\n",
       "      <th>26</th>\n",
       "      <td>Edimbourg</td>\n",
       "      <td>2.9</td>\n",
       "      <td>3.6</td>\n",
       "      <td>4.7</td>\n",
       "      <td>7.1</td>\n",
       "      <td>9.9</td>\n",
       "      <td>13.0</td>\n",
       "      <td>14.7</td>\n",
       "      <td>14.3</td>\n",
       "      <td>12.1</td>\n",
       "      <td>8.7</td>\n",
       "      <td>5.3</td>\n",
       "      <td>3.7</td>\n",
       "      <td>8.3</td>\n",
       "      <td>11.8</td>\n",
       "      <td>55.0</td>\n",
       "      <td>-3.2</td>\n",
       "      <td>Nord</td>\n",
       "      <td>1</td>\n",
       "    </tr>\n",
       "  </tbody>\n",
       "</table>\n",
       "</div>"
      ],
      "text/plain": [
       "        Ville  Janvier  Fevrier  Mars  Avril   Mai  Juin  Juillet  Aout  \\\n",
       "0   Amsterdam      2.9      2.5   5.7    8.2  12.5  14.8     17.1  17.1   \n",
       "3   Bruxelles      3.3      3.3   6.7    8.9  12.8  15.6     17.8  17.8   \n",
       "6      Dublin      4.8      5.0   5.9    7.8  10.4  13.3     15.0  14.6   \n",
       "11    Londres      3.4      4.2   5.5    8.3  11.9  15.1     16.9  16.5   \n",
       "16      Paris      3.7      3.7   7.3    9.7  13.7  16.5     19.0  18.7   \n",
       "18  Reykjavik     -0.3      0.1   0.8    2.9   6.5   9.3     11.1  10.6   \n",
       "23     Anvers      3.1      2.9   6.2    8.9  12.9  15.5     17.9  17.6   \n",
       "26  Edimbourg      2.9      3.6   4.7    7.1   9.9  13.0     14.7  14.3   \n",
       "\n",
       "    Septembre  Octobre  Novembre  Decembre  Moyenne  Amplitude  Latitude  \\\n",
       "0        14.5     11.4       7.0       4.4      9.9       14.6      52.2   \n",
       "3        15.0     11.1       6.7       4.4     10.3       14.4      50.5   \n",
       "6        12.7      9.7       6.7       5.4      9.3       10.2      53.2   \n",
       "11       14.0     10.2       6.3       4.4      9.7       13.5      51.4   \n",
       "16       16.1     12.5       7.3       5.2     11.2       15.3      48.5   \n",
       "18        7.9      4.5       1.7       0.2      4.6       11.4      64.1   \n",
       "23       14.7     11.5       6.8       4.7     10.3       15.0      51.1   \n",
       "26       12.1      8.7       5.3       3.7      8.3       11.8      55.0   \n",
       "\n",
       "    Longitude Region  label  \n",
       "0         4.5  Ouest      1  \n",
       "3         4.2  Ouest      1  \n",
       "6         6.1   Nord      1  \n",
       "11        0.0   Nord      1  \n",
       "16        2.2  Ouest      1  \n",
       "18      -21.6   Nord      1  \n",
       "23        4.2  Ouest      1  \n",
       "26       -3.2   Nord      1  "
      ]
     },
     "execution_count": 21,
     "metadata": {},
     "output_type": "execute_result"
    }
   ],
   "source": [
    "group2"
   ]
  },
  {
   "cell_type": "code",
   "execution_count": 22,
   "metadata": {},
   "outputs": [
    {
     "name": "stdout",
     "output_type": "stream",
     "text": [
      "For n = 2 Silhouette_score: 0.6529019772492473\n",
      "For n = 3 Silhouette_score: 0.5726508545714291\n",
      "For n = 4 Silhouette_score: 0.5460800911693663\n",
      "For n = 5 Silhouette_score: 0.59527736682751\n",
      "For n = 6 Silhouette_score: 0.5631175190654822\n",
      "For n = 7 Silhouette_score: 0.48931786164899\n",
      "For n = 8 Silhouette_score: 0.4313131339594796\n",
      "For n = 9 Silhouette_score: 0.3294156310425222\n",
      "For n = 10 Silhouette_score: 0.24076550642776406\n"
     ]
    }
   ],
   "source": [
    "#now we do k-means but to get the seasons\n",
    "\n",
    "group2_month=group2.drop(['Ville','Moyenne','Amplitude','Latitude','Longitude','Region','label'],axis=1)\n",
    "\n",
    "#We first need to transpose our dataset\n",
    "group2_month_rev=group2_month.T\n",
    "group2_month_rev_clean=group2_month_rev.reset_index().drop(['index'],axis=1)\n",
    "\n",
    "#and now we perform k-means on the reverted dataframe\n",
    "\n",
    "range_n_clusters = [2, 3, 4, 5, 6,7,8,9,10]\n",
    "for n in range_n_clusters:\n",
    "    kmeans_seasons = KMeans(n_clusters=n, n_init=10).fit(group2_month_rev_clean) # Clustering with the given number of clusters\n",
    "    cluster_labels = kmeans_seasons.labels_ # Extract the labels\n",
    "    silhouette_avg = silhouette_score(group2_month_rev_clean, cluster_labels) # Corresponding silhouette score\n",
    "   \n",
    "    # Display the results\n",
    "    print(\"For n =\", n, \"Silhouette_score:\", silhouette_avg)"
   ]
  },
  {
   "cell_type": "code",
   "execution_count": 23,
   "metadata": {},
   "outputs": [
    {
     "data": {
      "text/plain": [
       "array([0, 0, 3, 3, 4, 2, 1, 1, 2, 4, 3, 0])"
      ]
     },
     "execution_count": 23,
     "metadata": {},
     "output_type": "execute_result"
    }
   ],
   "source": [
    "#We choose k=2 or k=5\n",
    "\n",
    "#k=5\n",
    "kmeans_seasons = KMeans(n_clusters=5,n_init=10,init='random').fit(group2_month_rev_clean)\n",
    "kmeans_seasons.labels_"
   ]
  },
  {
   "cell_type": "code",
   "execution_count": 24,
   "metadata": {},
   "outputs": [
    {
     "data": {
      "text/plain": [
       "array([0, 0, 0, 0, 1, 1, 1, 1, 1, 1, 0, 0])"
      ]
     },
     "execution_count": 24,
     "metadata": {},
     "output_type": "execute_result"
    }
   ],
   "source": [
    "#We choose k=2 or k=5\n",
    "\n",
    "#k=2\n",
    "kmeans_seasons = KMeans(n_clusters=2,n_init=10,init='random').fit(group2_month_rev_clean)\n",
    "kmeans_seasons.labels_"
   ]
  },
  {
   "cell_type": "code",
   "execution_count": 25,
   "metadata": {},
   "outputs": [
    {
     "data": {
      "text/html": [
       "<div>\n",
       "<style scoped>\n",
       "    .dataframe tbody tr th:only-of-type {\n",
       "        vertical-align: middle;\n",
       "    }\n",
       "\n",
       "    .dataframe tbody tr th {\n",
       "        vertical-align: top;\n",
       "    }\n",
       "\n",
       "    .dataframe thead th {\n",
       "        text-align: right;\n",
       "    }\n",
       "</style>\n",
       "<table border=\"1\" class=\"dataframe\">\n",
       "  <thead>\n",
       "    <tr style=\"text-align: right;\">\n",
       "      <th></th>\n",
       "      <th>Ville</th>\n",
       "      <th>Janvier</th>\n",
       "      <th>Fevrier</th>\n",
       "      <th>Mars</th>\n",
       "      <th>Avril</th>\n",
       "      <th>Mai</th>\n",
       "      <th>Juin</th>\n",
       "      <th>Juillet</th>\n",
       "      <th>Aout</th>\n",
       "      <th>Septembre</th>\n",
       "      <th>Octobre</th>\n",
       "      <th>Novembre</th>\n",
       "      <th>Decembre</th>\n",
       "      <th>Moyenne</th>\n",
       "      <th>Amplitude</th>\n",
       "      <th>Latitude</th>\n",
       "      <th>Longitude</th>\n",
       "      <th>Region</th>\n",
       "      <th>label</th>\n",
       "    </tr>\n",
       "  </thead>\n",
       "  <tbody>\n",
       "    <tr>\n",
       "      <th>12</th>\n",
       "      <td>Madrid</td>\n",
       "      <td>5.0</td>\n",
       "      <td>6.6</td>\n",
       "      <td>9.4</td>\n",
       "      <td>12.2</td>\n",
       "      <td>16.0</td>\n",
       "      <td>20.8</td>\n",
       "      <td>24.7</td>\n",
       "      <td>24.3</td>\n",
       "      <td>19.8</td>\n",
       "      <td>13.9</td>\n",
       "      <td>8.7</td>\n",
       "      <td>5.4</td>\n",
       "      <td>13.9</td>\n",
       "      <td>19.7</td>\n",
       "      <td>37.7</td>\n",
       "      <td>-2.14</td>\n",
       "      <td>Sud</td>\n",
       "      <td>4</td>\n",
       "    </tr>\n",
       "    <tr>\n",
       "      <th>25</th>\n",
       "      <td>Bordeaux</td>\n",
       "      <td>5.6</td>\n",
       "      <td>6.7</td>\n",
       "      <td>9.0</td>\n",
       "      <td>11.9</td>\n",
       "      <td>15.0</td>\n",
       "      <td>18.3</td>\n",
       "      <td>20.4</td>\n",
       "      <td>20.0</td>\n",
       "      <td>17.6</td>\n",
       "      <td>13.5</td>\n",
       "      <td>8.5</td>\n",
       "      <td>6.1</td>\n",
       "      <td>12.7</td>\n",
       "      <td>14.8</td>\n",
       "      <td>44.5</td>\n",
       "      <td>0.30</td>\n",
       "      <td>Ouest</td>\n",
       "      <td>4</td>\n",
       "    </tr>\n",
       "    <tr>\n",
       "      <th>30</th>\n",
       "      <td>Milan</td>\n",
       "      <td>1.1</td>\n",
       "      <td>3.6</td>\n",
       "      <td>8.0</td>\n",
       "      <td>12.6</td>\n",
       "      <td>17.3</td>\n",
       "      <td>21.3</td>\n",
       "      <td>23.8</td>\n",
       "      <td>22.8</td>\n",
       "      <td>18.9</td>\n",
       "      <td>13.1</td>\n",
       "      <td>6.9</td>\n",
       "      <td>2.6</td>\n",
       "      <td>12.6</td>\n",
       "      <td>22.7</td>\n",
       "      <td>45.3</td>\n",
       "      <td>9.20</td>\n",
       "      <td>Sud</td>\n",
       "      <td>4</td>\n",
       "    </tr>\n",
       "  </tbody>\n",
       "</table>\n",
       "</div>"
      ],
      "text/plain": [
       "       Ville  Janvier  Fevrier  Mars  Avril   Mai  Juin  Juillet  Aout  \\\n",
       "12    Madrid      5.0      6.6   9.4   12.2  16.0  20.8     24.7  24.3   \n",
       "25  Bordeaux      5.6      6.7   9.0   11.9  15.0  18.3     20.4  20.0   \n",
       "30     Milan      1.1      3.6   8.0   12.6  17.3  21.3     23.8  22.8   \n",
       "\n",
       "    Septembre  Octobre  Novembre  Decembre  Moyenne  Amplitude  Latitude  \\\n",
       "12       19.8     13.9       8.7       5.4     13.9       19.7      37.7   \n",
       "25       17.6     13.5       8.5       6.1     12.7       14.8      44.5   \n",
       "30       18.9     13.1       6.9       2.6     12.6       22.7      45.3   \n",
       "\n",
       "    Longitude Region  label  \n",
       "12      -2.14    Sud      4  \n",
       "25       0.30  Ouest      4  \n",
       "30       9.20    Sud      4  "
      ]
     },
     "execution_count": 25,
     "metadata": {},
     "output_type": "execute_result"
    }
   ],
   "source": [
    "group5"
   ]
  },
  {
   "cell_type": "code",
   "execution_count": 26,
   "metadata": {},
   "outputs": [
    {
     "name": "stdout",
     "output_type": "stream",
     "text": [
      "For n = 2 Silhouette_score: 0.6084425484367902\n",
      "For n = 3 Silhouette_score: 0.5959164725307108\n",
      "For n = 4 Silhouette_score: 0.6019301291867677\n",
      "For n = 5 Silhouette_score: 0.547528855742573\n",
      "For n = 6 Silhouette_score: 0.5975790333594223\n",
      "For n = 7 Silhouette_score: 0.4642416467920592\n",
      "For n = 8 Silhouette_score: 0.3836324456202392\n",
      "For n = 9 Silhouette_score: 0.2866158204842164\n",
      "For n = 10 Silhouette_score: 0.24410884825691367\n"
     ]
    }
   ],
   "source": [
    "#now we do k-means but to get the seasons\n",
    "\n",
    "group5_month=group5.drop(['Ville','Moyenne','Amplitude','Latitude','Longitude','Region','label'],axis=1)\n",
    "\n",
    "#We first need to transpose our dataset\n",
    "group5_month_rev=group5_month.T\n",
    "group5_month_rev=group5_month_rev.reset_index().drop(['index'],axis=1)\n",
    "\n",
    "#and now we perform k-means on the reverted dataframe\n",
    "\n",
    "range_n_clusters = [2, 3, 4, 5, 6,7,8,9,10]\n",
    "for n in range_n_clusters:\n",
    "    kmeans_seasons = KMeans(n_clusters=n, n_init=10).fit(group5_month_rev) # Clustering with the given number of clusters\n",
    "    cluster_labels = kmeans_seasons.labels_ # Extract the labels\n",
    "    silhouette_avg = silhouette_score(group5_month_rev, cluster_labels) # Corresponding silhouette score\n",
    "   \n",
    "    # Display the results\n",
    "    print(\"For n =\", n, \"Silhouette_score:\", silhouette_avg)"
   ]
  },
  {
   "cell_type": "code",
   "execution_count": 27,
   "metadata": {},
   "outputs": [
    {
     "name": "stdout",
     "output_type": "stream",
     "text": [
      "For n = 2 Silhouette_score: 0.6473007162714955\n",
      "For n = 3 Silhouette_score: 0.567397852222946\n",
      "For n = 4 Silhouette_score: 0.5830790925942381\n",
      "For n = 5 Silhouette_score: 0.6049305610688173\n",
      "For n = 6 Silhouette_score: 0.5166813323242978\n",
      "For n = 7 Silhouette_score: 0.47138272163318456\n",
      "For n = 8 Silhouette_score: 0.37588485575049974\n",
      "For n = 9 Silhouette_score: 0.26592165395026096\n",
      "For n = 10 Silhouette_score: 0.15558593118566003\n"
     ]
    }
   ],
   "source": [
    "#now we do k-means but to get the seasons\n",
    "\n",
    "group4_month=group4.drop(['Ville','Moyenne','Amplitude','Latitude','Longitude','Region','label'],axis=1)\n",
    "\n",
    "#We first need to transpose our dataset\n",
    "group4_month_rev=group4_month.T\n",
    "group4_month_rev=group4_month_rev.reset_index().drop(['index'],axis=1)\n",
    "\n",
    "#and now we perform k-means on the reverted dataframe\n",
    "\n",
    "range_n_clusters = [2, 3, 4, 5, 6,7,8,9,10]\n",
    "for n in range_n_clusters:\n",
    "    kmeans_seasons = KMeans(n_clusters=n, n_init=10).fit(group4_month_rev) # Clustering with the given number of clusters\n",
    "    cluster_labels = kmeans_seasons.labels_ # Extract the labels\n",
    "    silhouette_avg = silhouette_score(group4_month_rev, cluster_labels) # Corresponding silhouette score\n",
    "    # Display the results\n",
    "    print(\"For n =\", n, \"Silhouette_score:\", silhouette_avg)"
   ]
  },
  {
   "cell_type": "code",
   "execution_count": 28,
   "metadata": {},
   "outputs": [
    {
     "data": {
      "text/plain": [
       "array([8, 1, 6, 5, 7, 0, 4, 4, 9, 2, 3, 1])"
      ]
     },
     "execution_count": 28,
     "metadata": {},
     "output_type": "execute_result"
    }
   ],
   "source": [
    "cluster_labels"
   ]
  },
  {
   "cell_type": "code",
   "execution_count": 29,
   "metadata": {},
   "outputs": [],
   "source": [
    "#Now we are going to perform hierarchical clustering\n",
    "\n",
    "# We standardize the columns of interest\n",
    "new_temp_scaled=pd.DataFrame(scale(new_temp),columns=new_temp.columns,index=new_temp.index)  # scale(food) returns a numpy array, so use pd.Dataframe to reconstruct your dataframe\n",
    "\n",
    "\n",
    "# We apply hierarchical clustering with dissimilarity measure \"ward\"\n",
    "Z = linkage(new_temp_scaled, 'ward') # 'average' is the method used to compute the distance. Metric is \"euclidian\" by default"
   ]
  },
  {
   "cell_type": "code",
   "execution_count": 31,
   "metadata": {},
   "outputs": [
    {
     "data": {
      "image/png": "[encoded data removed]",
      "text/plain": [
       "<Figure size 504x504 with 1 Axes>"
      ]
     },
     "metadata": {
      "needs_background": "light"
     },
     "output_type": "display_data"
    }
   ],
   "source": [
    "# We represent the corresponding Dendrogram\n",
    "\n",
    "#Since we want to display the Dendrogram with cities and not just index, we create the label_city list\n",
    "\n",
    "label_city=[]\n",
    "for index,row in temp.iterrows():\n",
    "    label_city.append(row['Ville'])\n",
    "    \n",
    "#And now we can plot\n",
    "plt.figure(figsize=(7, 7))\n",
    "plt.title('Hierarchical Clustering Dendrogram')\n",
    "plt.ylabel('city')\n",
    "plt.xlabel('distance')\n",
    "dendrogram(\n",
    "    Z,\n",
    "    orientation='right',\n",
    "    labels=label_city\n",
    ")\n",
    "plt.show()"
   ]
  },
  {
   "cell_type": "code",
   "execution_count": null,
   "metadata": {},
   "outputs": [],
   "source": []
  }
 ],
 "metadata": {
  "kernelspec": {
   "display_name": "Python 3",
   "language": "python",
   "name": "python3"
  },
  "language_info": {
   "codemirror_mode": {
    "name": "ipython",
    "version": 3
   },
   "file_extension": ".py",
   "mimetype": "text/x-python",
   "name": "python",
   "nbconvert_exporter": "python",
   "pygments_lexer": "ipython3",
   "version": "3.8.3"
  }
 },
 "nbformat": 4,
 "nbformat_minor": 4
}
