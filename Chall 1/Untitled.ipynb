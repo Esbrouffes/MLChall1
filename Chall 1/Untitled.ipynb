{
 "cells": [
  {
   "cell_type": "code",
   "execution_count": 2,
   "metadata": {},
   "outputs": [],
   "source": [
    "# Libraries: Standard ones\n",
    "import pandas as pd\n",
    "import numpy as np\n",
    "import matplotlib.pyplot as plt\n",
    "\n",
    "# Library for boxplots\n",
    "import seaborn as sns\n",
    "\n",
    "# K-means function\n",
    "from sklearn.cluster import KMeans\n",
    "\n",
    "# Functions for silhouette\n",
    "from sklearn.metrics import silhouette_samples, silhouette_score\n",
    "\n",
    "# Function to standardize the data \n",
    "from sklearn.preprocessing import scale\n",
    "\n",
    "# Functions for hierarchical clustering\n",
    "from scipy.cluster.hierarchy import dendrogram, linkage\n",
    "from scipy.cluster.hierarchy import cophenet\n",
    "from scipy.spatial.distance import pdist"
   ]
  },
  {
   "cell_type": "code",
   "execution_count": 7,
   "metadata": {},
   "outputs": [
    {
     "name": "stdout",
     "output_type": "stream",
     "text": [
      "            Ville  Janvier  Fevrier  Mars  Avril   Mai  Juin  Juillet  Aout  \\\n",
      "0       Amsterdam      2.9      2.5   5.7    8.2  12.5  14.8     17.1  17.1   \n",
      "1         Athenes      9.1      9.7  11.7   15.4  20.1  24.5     27.4  27.2   \n",
      "2          Berlin     -0.2      0.1   4.4    8.2  13.8  16.0     18.3  18.0   \n",
      "3       Bruxelles      3.3      3.3   6.7    8.9  12.8  15.6     17.8  17.8   \n",
      "4        Budapest     -1.1      0.8   5.5   11.6  17.0  20.2     22.0  21.3   \n",
      "5      Copenhague     -0.4     -0.4   1.3    5.8  11.1  15.4     17.1  16.6   \n",
      "6          Dublin      4.8      5.0   5.9    7.8  10.4  13.3     15.0  14.6   \n",
      "7        Helsinki     -5.8     -6.2  -2.7    3.1  10.2  14.0     17.2  14.9   \n",
      "8            Kiev     -5.9     -5.0  -0.3    7.4  14.3  17.8     19.4  18.5   \n",
      "9        Cracovie     -3.7     -2.0   1.9    7.9  13.2  16.9     18.4  17.6   \n",
      "10       Lisbonne     10.5     11.3  12.8   14.5  16.7  19.4     21.5  21.9   \n",
      "11        Londres      3.4      4.2   5.5    8.3  11.9  15.1     16.9  16.5   \n",
      "12         Madrid      5.0      6.6   9.4   12.2  16.0  20.8     24.7  24.3   \n",
      "13          Minsk     -6.9     -6.2  -1.9    5.4  12.4  15.9     17.4  16.3   \n",
      "14         Moscou     -9.3     -7.6  -2.0    6.0  13.0  16.6     18.3  16.7   \n",
      "15           Oslo     -4.3     -3.8  -0.6    4.4  10.3  14.9     16.9  15.4   \n",
      "16          Paris      3.7      3.7   7.3    9.7  13.7  16.5     19.0  18.7   \n",
      "17         Prague     -1.3      0.2   3.6    8.8  14.3  17.6     19.3  18.7   \n",
      "18      Reykjavik     -0.3      0.1   0.8    2.9   6.5   9.3     11.1  10.6   \n",
      "19           Rome      7.1      8.2  10.5   13.7  17.8  21.7     24.4  24.1   \n",
      "20       Sarajevo     -1.4      0.8   4.9    9.3  13.8  17.0     18.9  18.7   \n",
      "21          Sofia     -1.7      0.2   4.3    9.7  14.3  17.7     20.0  19.5   \n",
      "22      Stockholm     -3.5     -3.5  -1.3    3.5   9.2  14.6     17.2  16.0   \n",
      "23         Anvers      3.1      2.9   6.2    8.9  12.9  15.5     17.9  17.6   \n",
      "24      Barcelone      9.1     10.3  11.8   14.1  17.4  21.2     24.2  24.1   \n",
      "25       Bordeaux      5.6      6.7   9.0   11.9  15.0  18.3     20.4  20.0   \n",
      "26      Edimbourg      2.9      3.6   4.7    7.1   9.9  13.0     14.7  14.3   \n",
      "27      Francfort      0.2      1.8   5.4    9.7  14.3  17.5     19.0  18.3   \n",
      "28         Geneve      0.1      1.9   5.1    9.4  13.8  17.3     19.4  18.5   \n",
      "29          Genes      8.7      8.7  11.4   13.8  17.5  21.0     24.5  24.6   \n",
      "30          Milan      1.1      3.6   8.0   12.6  17.3  21.3     23.8  22.8   \n",
      "31        Palerme     10.5     11.5  13.3   16.9  20.9  23.8     24.5  22.3   \n",
      "32        Seville     10.7     11.8  14.1   16.1  19.7  23.4     26.7  26.7   \n",
      "33  StPetersbourg     -8.2     -7.9  -3.7    3.2  10.0  15.4     18.4  16.9   \n",
      "34         Zurich     -0.7      0.7   4.3    8.5  12.9  16.2     18.0  17.2   \n",
      "\n",
      "    Septembre  Octobre  Novembre  Decembre  Moyenne  Amplitude  Latitude  \\\n",
      "0        14.5     11.4       7.0       4.4      9.9       14.6      52.2   \n",
      "1        23.8     19.2      14.6      11.0     17.8       18.3      37.6   \n",
      "2        14.4     10.0       4.2       1.2      9.1       18.5      52.3   \n",
      "3        15.0     11.1       6.7       4.4     10.3       14.4      50.5   \n",
      "4        16.9     11.3       5.1       0.7     10.9       23.1      47.3   \n",
      "5        13.3      8.8       4.1       1.3      7.8       17.5      55.4   \n",
      "6        12.7      9.7       6.7       5.4      9.3       10.2      53.2   \n",
      "7         9.7      5.2       0.1      -2.3      4.8       23.4      60.1   \n",
      "8        13.7      7.5       1.2      -3.6      7.1       25.3      50.3   \n",
      "9        13.7      8.6       2.6      -1.7      7.7       22.1      50.0   \n",
      "10       20.4     17.4      13.7      11.1     15.9       11.4      38.4   \n",
      "11       14.0     10.2       6.3       4.4      9.7       13.5      51.4   \n",
      "12       19.8     13.9       8.7       5.4     13.9       19.7      37.7   \n",
      "13       11.6      5.8       0.1      -4.2      5.5       24.3      53.5   \n",
      "14       11.2      5.1      -1.1      -6.0      5.1       27.6      55.8   \n",
      "15       11.1      5.7       0.5      -2.9      5.6       21.2      59.5   \n",
      "16       16.1     12.5       7.3       5.2     11.2       15.3      48.5   \n",
      "17       14.9      9.4       3.8       0.3      9.2       20.6      50.0   \n",
      "18        7.9      4.5       1.7       0.2      4.6       11.4      64.1   \n",
      "19       20.9     16.5      11.7       8.3     15.4       17.3      41.5   \n",
      "20       15.2     10.5       5.1       0.8      9.4       20.3      43.5   \n",
      "21       15.8     10.7       5.0       0.6      9.6       21.7      42.4   \n",
      "22       11.7      6.5       1.7      -1.6      5.8       20.7      59.2   \n",
      "23       14.7     11.5       6.8       4.7     10.3       15.0      51.1   \n",
      "24       21.7     17.5      13.1      10.0     16.2       15.1      41.2   \n",
      "25       17.6     13.5       8.5       6.1     12.7       14.8      44.5   \n",
      "26       12.1      8.7       5.3       3.7      8.3       11.8      55.0   \n",
      "27       14.8      9.8       4.9       1.7      9.8       18.8      50.1   \n",
      "28       15.0      9.8       4.9       1.4      9.7       19.3      46.1   \n",
      "29       21.8     17.8      12.2      10.0     16.1       15.9      44.3   \n",
      "30       18.9     13.1       6.9       2.6     12.6       22.7      45.3   \n",
      "31       22.3     18.4      14.9      12.0     16.6       14.0      38.1   \n",
      "32       24.3     19.4      14.5      11.2     18.2       16.0      37.4   \n",
      "33       11.5      5.2      -0.4      -5.3      4.5       26.6      59.6   \n",
      "34       14.1      8.9       3.9       0.3      8.7       18.7      47.2   \n",
      "\n",
      "    Longitude Region  \n",
      "0        4.50  Ouest  \n",
      "1       23.50    Sud  \n",
      "2       13.20  Ouest  \n",
      "3        4.20  Ouest  \n",
      "4       19.00    Est  \n",
      "5       12.30   Nord  \n",
      "6        6.10   Nord  \n",
      "7       25.00   Nord  \n",
      "8       30.30    Est  \n",
      "9       19.60    Est  \n",
      "10      -9.10    Sud  \n",
      "11       0.00   Nord  \n",
      "12      -2.14    Sud  \n",
      "13      27.30    Est  \n",
      "14      37.60    Est  \n",
      "15      10.50   Nord  \n",
      "16       2.20  Ouest  \n",
      "17      14.20    Est  \n",
      "18     -21.60   Nord  \n",
      "19      12.30    Sud  \n",
      "20      18.30    Sud  \n",
      "21      23.20    Est  \n",
      "22      18.00   Nord  \n",
      "23       4.20  Ouest  \n",
      "24       2.20    Sud  \n",
      "25       0.30  Ouest  \n",
      "26      -3.20   Nord  \n",
      "27       8.40  Ouest  \n",
      "28       6.10  Ouest  \n",
      "29       9.40    Sud  \n",
      "30       9.20    Sud  \n",
      "31      13.10    Sud  \n",
      "32      -6.00    Sud  \n",
      "33      30.20    Est  \n",
      "34       8.30  Ouest  \n"
     ]
    }
   ],
   "source": [
    "### The first step is to visualize the data in order to understand it. Let's show a table.\n",
    "temperature=pd.read_csv(\"temperat.csv\", sep=\";\")\n",
    "temperature=temperature.rename(columns={'Unnamed: 0': 'Ville'}) # renaming the first column\n",
    "print(temperature)"
   ]
  },
  {
   "cell_type": "code",
   "execution_count": 12,
   "metadata": {},
   "outputs": [
    {
     "data": {
      "image/png": "[encoded data removed]",
      "text/plain": [
       "<Figure size 432x288 with 1 Axes>"
      ]
     },
     "metadata": {
      "needs_background": "light"
     },
     "output_type": "display_data"
    }
   ],
   "source": [
    "### The second step is to draw some statistics from the data.\n",
    "plt.figure()\n",
    "plt.title(\"boxplot distribution for the temperature\")\n",
    "temperature_boxplot=sns.boxplot(data=temperature.drop([\"Moyenne\", \"Amplitude\",\"Latitude\",\"Longitude\",\"Region\"], axis=1))"
   ]
  },
  {
   "cell_type": "code",
   "execution_count": null,
   "metadata": {},
   "outputs": [],
   "source": []
  }
 ],
 "metadata": {
  "kernelspec": {
   "display_name": "Python 3",
   "language": "python",
   "name": "python3"
  },
  "language_info": {
   "codemirror_mode": {
    "name": "ipython",
    "version": 3
   },
   "file_extension": ".py",
   "mimetype": "text/x-python",
   "name": "python",
   "nbconvert_exporter": "python",
   "pygments_lexer": "ipython3",
   "version": "3.8.3"
  }
 },
 "nbformat": 4,
 "nbformat_minor": 4
}
