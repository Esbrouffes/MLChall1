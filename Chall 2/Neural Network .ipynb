{
 "cells": [
  {
   "cell_type": "code",
   "execution_count": 388,
   "metadata": {},
   "outputs": [],
   "source": [
    "import math\n",
    "import matplotlib.pyplot as plt\n",
    "import numpy as np\n",
    "from numpy.random import seed\n",
    "seed(1)\n",
    "import pandas as pd\n",
    "import statsmodels.api as sm\n",
    "import statsmodels.formula.api as smf\n",
    "import tensorflow\n",
    "import sklearn\n",
    "tensorflow.random.set_seed(1)\n",
    "from tensorflow.python.keras.layers import Dense\n",
    "from tensorflow.keras.layers import Dropout\n",
    "from tensorflow.python.keras.models import Sequential\n",
    "from tensorflow.python.keras.wrappers.scikit_learn import KerasRegressor\n",
    "from sklearn.metrics import mean_absolute_error\n",
    "from sklearn.metrics import mean_squared_error, r2_score\n",
    "from sklearn.model_selection import train_test_split\n",
    "from sklearn.preprocessing import MinMaxScaler"
   ]
  },
  {
   "cell_type": "markdown",
   "metadata": {},
   "source": [
    "# 1. Data Preparation\n",
    "## 1.1. Get the data and get it ready to use\n",
    "Delete useless columns, change categories values..."
   ]
  },
  {
   "cell_type": "code",
   "execution_count": 394,
   "metadata": {},
   "outputs": [],
   "source": [
    "df=pd.read_csv(\"./challenge_youtube_toxic.csv\", sep=\";\",encoding = 'latin1')\n",
    "df=df.drop(['video_id','video_id_court','channel_id','Unnamed: 27','nbrMotInsulteMoyenne'],axis=1)\n",
    "\n",
    "'''\n",
    "The categories-fields are useful data for us to analyse, \n",
    "but we cannot leave them as they are to compute a neural network algorithm.\n",
    "We are then going to create one column for each value, and fill it with 0 or 1\n",
    "'''\n",
    "\n",
    "df['Core']=(df['categorie_new']=='Core')*1\n",
    "df['Niche']=(df['categorie_new']=='Niche')*1\n",
    "df['Partisan']=(df['categorie_new']=='Partisan')*1\n",
    "df['Pure Players']=(df['categ_inst']=='Pure Players')*1\n",
    "df['TV']=(df['categ_inst']=='TV')*1\n",
    "df['Presse_regionale']=(df['categ_inst']=='Presse_regionale')*1\n",
    "df['Presse nationale']=(df['categ_inst']=='Presse nationale')*1\n",
    "df['Presse magazine']=(df['categ_inst']=='Presse magazine')*1\n",
    "df['Alternatif']=(df['categ_inst']=='Alternatif')*1\n",
    "\n",
    "for channel in  df['channel_name'].unique() :\n",
    "    df[channel] = pd.DataFrame([(df['channel_name'] == channel)*1]).transpose()\n",
    "\n",
    "df=df.drop(['categ_inst','categorie_new','channel_name'],axis=1)\n",
    "\n",
    "def convert_into_float(string):\n",
    "    if type(string)==int:\n",
    "        return string\n",
    "    return float(string.replace(',','.'))\n",
    "\n",
    "df=df.applymap(convert_into_float)"
   ]
  },
  {
   "cell_type": "markdown",
   "metadata": {},
   "source": [
    "## 1.2. Separate the train and the validation datasets"
   ]
  },
  {
   "cell_type": "code",
   "execution_count": 395,
   "metadata": {},
   "outputs": [],
   "source": [
    "y=df['nbrMotInsulte'].to_numpy()\n",
    "x=df.drop(['nbrMotInsulte'],axis=1).to_numpy()\n",
    "\n",
    "X_train, X_val, y_train, y_val = train_test_split(x, y)"
   ]
  },
  {
   "cell_type": "markdown",
   "metadata": {},
   "source": [
    "## 1.3. Feature Scaling"
   ]
  },
  {
   "cell_type": "code",
   "execution_count": 397,
   "metadata": {},
   "outputs": [
    {
     "name": "stdout",
     "output_type": "stream",
     "text": [
      "MinMaxScaler()\n",
      "MinMaxScaler()\n",
      "MinMaxScaler()\n",
      "MinMaxScaler()\n"
     ]
    }
   ],
   "source": [
    "y_train=np.reshape(y_train, (-1,1))\n",
    "y_val=np.reshape(y_val, (-1,1))\n",
    "scaler_x = MinMaxScaler()\n",
    "scaler_y = MinMaxScaler()\n",
    "\n",
    "print(scaler_x.fit(X_train))\n",
    "xtrain_scale=scaler_x.transform(X_train)\n",
    "print(scaler_x.fit(X_val))\n",
    "xval_scale=scaler_x.transform(X_val)\n",
    "\n",
    "print(scaler_y.fit(y_train))\n",
    "ytrain_scale=scaler_y.transform(y_train)\n",
    "print(scaler_y.fit(y_val))\n",
    "yval_scale=scaler_y.transform(y_val)"
   ]
  },
  {
   "cell_type": "markdown",
   "metadata": {},
   "source": []
  },
  {
   "cell_type": "markdown",
   "metadata": {},
   "source": [
    "# 2. Neural network : models comparison\n",
    "\n",
    "In this section, we are going to try several different neural networks models, and change the parameters (batch, epoch) so that the model can perform best\n",
    "## 2.1. First model : 1 hidden layer with many neurones"
   ]
  },
  {
   "cell_type": "code",
   "execution_count": 425,
   "metadata": {
    "scrolled": true
   },
   "outputs": [
    {
     "name": "stdout",
     "output_type": "stream",
     "text": [
      "Model: \"sequential_33\"\n",
      "_________________________________________________________________\n",
      "Layer (type)                 Output Shape              Param #   \n",
      "=================================================================\n",
      "dense_102 (Dense)            (None, 86)                7482      \n",
      "_________________________________________________________________\n",
      "dense_103 (Dense)            (None, 529)               46023     \n",
      "_________________________________________________________________\n",
      "dense_104 (Dense)            (None, 1)                 530       \n",
      "=================================================================\n",
      "Total params: 54,035\n",
      "Trainable params: 54,035\n",
      "Non-trainable params: 0\n",
      "_________________________________________________________________\n"
     ]
    }
   ],
   "source": [
    "# A. Setting up the model\n",
    "\n",
    "num_features=x.shape[1]\n",
    "hidden_layers=x.shape[0]/(num_features+1)\n",
    "\n",
    "model = Sequential()\n",
    "model.add(Dense(num_features, input_dim=num_features, kernel_initializer='normal', activation='relu'))\n",
    "model.add(Dense(hidden_layers, activation='relu'))\n",
    "model.add(Dense(1, activation='linear'))\n",
    "model.summary()"
   ]
  },
  {
   "cell_type": "code",
   "execution_count": 426,
   "metadata": {
    "scrolled": true
   },
   "outputs": [],
   "source": [
    "# B. Fitting the model\n",
    "epoch = 300\n",
    "batch = 150\n",
    "model.compile(loss='mse', optimizer='adam', metrics=['mse','mae']) # mean_squared_error (mse) and mean_absolute_error (mae) are our loss functions\n",
    "history=model.fit(xtrain_scale, ytrain_scale, epochs=epoch, batch_size=batch, verbose=0, validation_split=0.2)\n",
    "predictions = model.predict(xval_scale)\n"
   ]
  },
  {
   "cell_type": "code",
   "execution_count": null,
   "metadata": {},
   "outputs": [],
   "source": []
  },
  {
   "cell_type": "code",
   "execution_count": 427,
   "metadata": {
    "scrolled": true
   },
   "outputs": [
    {
     "name": "stdout",
     "output_type": "stream",
     "text": [
      "dict_keys(['loss', 'mse', 'mae', 'val_loss', 'val_mse', 'val_mae'])\n"
     ]
    },
    {
     "data": {
      "image/png": "[encoded data removed]",
      "text/plain": [
       "<Figure size 432x288 with 1 Axes>"
      ]
     },
     "metadata": {
      "needs_background": "light"
     },
     "output_type": "display_data"
    }
   ],
   "source": [
    "# C.Evaluating the decrease of the model loss, we may need more epochs\n",
    "\n",
    "print(history.history.keys())\n",
    "# \"Loss\"\n",
    "plt.plot(history.history['loss'])\n",
    "plt.plot(history.history['val_loss'])\n",
    "plt.title('model loss')\n",
    "plt.ylabel('loss')\n",
    "plt.xlabel('epoch')\n",
    "plt.legend(['train', 'validation'], loc='upper left')\n",
    "plt.show()"
   ]
  },
  {
   "cell_type": "code",
   "execution_count": null,
   "metadata": {},
   "outputs": [],
   "source": [
    "When we read this graph, we realize that we are overfitting the dataset "
   ]
  },
  {
   "cell_type": "code",
   "execution_count": 435,
   "metadata": {},
   "outputs": [
    {
     "name": "stdout",
     "output_type": "stream",
     "text": [
      "mse:  403.3497551120718\n",
      "mae:  3.9888812448710955\n",
      "r2score:  0.8550596127080312\n"
     ]
    }
   ],
   "source": [
    "prediction_unscaled=scaler_y.inverse_transform(predictions)\n",
    "\n",
    "print('mse: ',mean_squared_error(y_val, prediction_unscaled))\n",
    "print('mae: ',mean_absolute_error(y_val, prediction_unscaled))\n",
    "print('r2score: ',r2_score(y_val, prediction_unscaled))"
   ]
  },
  {
   "cell_type": "markdown",
   "metadata": {},
   "source": [
    "## 2.2. Simpler model : 1 hidden layer, and less neurones in the hidden layer "
   ]
  },
  {
   "cell_type": "code",
   "execution_count": 521,
   "metadata": {
    "scrolled": true
   },
   "outputs": [
    {
     "name": "stdout",
     "output_type": "stream",
     "text": [
      "Model: \"sequential_54\"\n",
      "_________________________________________________________________\n",
      "Layer (type)                 Output Shape              Param #   \n",
      "=================================================================\n",
      "dense_165 (Dense)            (None, 86)                7482      \n",
      "_________________________________________________________________\n",
      "dense_166 (Dense)            (None, 58)                5046      \n",
      "_________________________________________________________________\n",
      "dense_167 (Dense)            (None, 1)                 59        \n",
      "=================================================================\n",
      "Total params: 12,587\n",
      "Trainable params: 12,587\n",
      "Non-trainable params: 0\n",
      "_________________________________________________________________\n"
     ]
    }
   ],
   "source": [
    "# A. Setting up the model\n",
    "num_features=x.shape[1]\n",
    "hidden_layers=2/3*(num_features+1)\n",
    "\n",
    "simpler_model = Sequential()\n",
    "simpler_model.add(Dense(num_features, input_dim=num_features, kernel_initializer='normal', activation='relu'))\n",
    "simpler_model.add(Dense(hidden_layers, activation='relu'))\n",
    "simpler_model.add(Dense(1, activation='linear'))\n",
    "simpler_model.summary()"
   ]
  },
  {
   "cell_type": "code",
   "execution_count": 522,
   "metadata": {},
   "outputs": [],
   "source": [
    "# B. Fitting the model\n",
    "\n",
    "epoch=250\n",
    "batch=2500\n",
    "\n",
    "simpler_model.compile(loss='mse', optimizer='adam', metrics=['mse','mae']) # mean_squared_error (mse) and mean_absolute_error (mae) are our loss functions\n",
    "history=simpler_model.fit(xtrain_scale, ytrain_scale, epochs=epoch, batch_size=batch, verbose=0, validation_split=0.2)\n",
    "predictions = simpler_model.predict(xval_scale)"
   ]
  },
  {
   "cell_type": "code",
   "execution_count": 523,
   "metadata": {
    "scrolled": true
   },
   "outputs": [
    {
     "name": "stdout",
     "output_type": "stream",
     "text": [
      "dict_keys(['loss', 'mse', 'mae', 'val_loss', 'val_mse', 'val_mae'])\n"
     ]
    },
    {
     "data": {
      "image/png": "[encoded data removed]",
      "text/plain": [
       "<Figure size 432x288 with 1 Axes>"
      ]
     },
     "metadata": {
      "needs_background": "light"
     },
     "output_type": "display_data"
    }
   ],
   "source": [
    "# C.Evaluating the decrease of the model loss\n",
    "\n",
    "print(history.history.keys())\n",
    "# \"Loss\"\n",
    "plt.plot(history.history['loss'])\n",
    "plt.plot(history.history['val_loss'])\n",
    "plt.title('model loss')\n",
    "plt.ylabel('loss')\n",
    "plt.xlabel('epoch')\n",
    "plt.legend(['train', 'validation'], loc='upper left')\n",
    "plt.show()"
   ]
  },
  {
   "cell_type": "code",
   "execution_count": 524,
   "metadata": {},
   "outputs": [
    {
     "name": "stdout",
     "output_type": "stream",
     "text": [
      "mse:  398.42176576899215\n",
      "mae:  4.77668922531441\n",
      "r2score:  0.8568304447834298\n"
     ]
    }
   ],
   "source": [
    "prediction_unscaled=scaler_y.inverse_transform(predictions)\n",
    "\n",
    "print('mse: ',mean_squared_error(y_val, prediction_unscaled))\n",
    "print('mae: ',mean_absolute_error(y_val, prediction_unscaled))\n",
    "print('r2score: ',r2_score(y_val, prediction_unscaled))"
   ]
  },
  {
   "cell_type": "markdown",
   "metadata": {},
   "source": [
    "## How did we set-up the parameters ?\n",
    "\n",
    "We used as base parameters the best fit for the last model, and we changed them one by one until we found the best value for each, using a dichotomy method. If the curb was not looking well, we knew even before looking at the indicators that we were overfitting.\n",
    "   \n",
    "For epoch, we went from 100 to 200 and then 300, we realized that for 300 the value of the indicators (mse, mae and r2score) were decreasing, so we tested 250. Since 250 was even better than 200, we kept this value for epoch.\n",
    "\n",
    "Then, we did the same for the batch, starting at int(x.shape[0]/10)=4610. 5000 was less performant, so we went the other way, decreasing the batch size. We tested 3000, 2000 and 1000. 1000 had the best results for the indicators, but the graph shown a beggining of overfitting. So we went back to the last best value : 3000 and we ajusted it a bit. We finally land at batch=2500.\n",
    "\n",
    "To be sure that we have a nice couple (batch, epoch), we try other values of epoch with fixed batch, and we finally ended again at epoch=250."
   ]
  },
  {
   "cell_type": "code",
   "execution_count": 559,
   "metadata": {},
   "outputs": [
    {
     "data": {
      "text/html": [
       "<div>\n",
       "<style scoped>\n",
       "    .dataframe tbody tr th:only-of-type {\n",
       "        vertical-align: middle;\n",
       "    }\n",
       "\n",
       "    .dataframe tbody tr th {\n",
       "        vertical-align: top;\n",
       "    }\n",
       "\n",
       "    .dataframe thead th {\n",
       "        text-align: right;\n",
       "    }\n",
       "</style>\n",
       "<table border=\"1\" class=\"dataframe\">\n",
       "  <thead>\n",
       "    <tr style=\"text-align: right;\">\n",
       "      <th></th>\n",
       "      <th>prediction</th>\n",
       "      <th>y_val</th>\n",
       "    </tr>\n",
       "  </thead>\n",
       "  <tbody>\n",
       "    <tr>\n",
       "      <th>0</th>\n",
       "      <td>17.395487</td>\n",
       "      <td>21</td>\n",
       "    </tr>\n",
       "    <tr>\n",
       "      <th>1</th>\n",
       "      <td>0.698987</td>\n",
       "      <td>0</td>\n",
       "    </tr>\n",
       "    <tr>\n",
       "      <th>2</th>\n",
       "      <td>0.440625</td>\n",
       "      <td>0</td>\n",
       "    </tr>\n",
       "    <tr>\n",
       "      <th>3</th>\n",
       "      <td>36.822842</td>\n",
       "      <td>30</td>\n",
       "    </tr>\n",
       "    <tr>\n",
       "      <th>4</th>\n",
       "      <td>-0.535815</td>\n",
       "      <td>0</td>\n",
       "    </tr>\n",
       "    <tr>\n",
       "      <th>5</th>\n",
       "      <td>10.101364</td>\n",
       "      <td>22</td>\n",
       "    </tr>\n",
       "    <tr>\n",
       "      <th>6</th>\n",
       "      <td>2.995779</td>\n",
       "      <td>0</td>\n",
       "    </tr>\n",
       "    <tr>\n",
       "      <th>7</th>\n",
       "      <td>1.108929</td>\n",
       "      <td>0</td>\n",
       "    </tr>\n",
       "    <tr>\n",
       "      <th>8</th>\n",
       "      <td>0.923328</td>\n",
       "      <td>1</td>\n",
       "    </tr>\n",
       "    <tr>\n",
       "      <th>9</th>\n",
       "      <td>2.131805</td>\n",
       "      <td>1</td>\n",
       "    </tr>\n",
       "  </tbody>\n",
       "</table>\n",
       "</div>"
      ],
      "text/plain": [
       "   prediction  y_val\n",
       "0   17.395487     21\n",
       "1    0.698987      0\n",
       "2    0.440625      0\n",
       "3   36.822842     30\n",
       "4   -0.535815      0\n",
       "5   10.101364     22\n",
       "6    2.995779      0\n",
       "7    1.108929      0\n",
       "8    0.923328      1\n",
       "9    2.131805      1"
      ]
     },
     "execution_count": 559,
     "metadata": {},
     "output_type": "execute_result"
    }
   ],
   "source": [
    "# D. Analysis of the results\n",
    "\n",
    "#we create a new dataset with the predictions, and the real values\n",
    "comparison=pd.concat([pd.DataFrame(prediction_unscaled).rename(columns={0:'prediction'}),pd.DataFrame(y_val).rename(columns={0:'y_val'})],axis=1)\n",
    "\n",
    "comparison.head(10)"
   ]
  },
  {
   "cell_type": "raw",
   "metadata": {},
   "source": [
    "When we display the results, we realized that in many cases, the neural network predicts a negative number of insults, which is not possible. So we create a function that returns a zero instead of the negative values. This could possibly increase our scores"
   ]
  },
  {
   "cell_type": "code",
   "execution_count": 526,
   "metadata": {},
   "outputs": [
    {
     "name": "stdout",
     "output_type": "stream",
     "text": [
      "mse:  396.10038360955\n",
      "mae:  4.387907817772971\n",
      "r2score:  0.8576646141983802\n"
     ]
    }
   ],
   "source": [
    "def no_negatives(x):\n",
    "    if x<0:\n",
    "        return 0\n",
    "    return x\n",
    "\n",
    "comparison['prediction_no_negatives']=comparison['prediction'].apply(lambda x: no_negatives(x))\n",
    "\n",
    "print('mse: ',mean_squared_error(y_val, comparison['prediction_no_negatives']))\n",
    "print('mae: ',mean_absolute_error(y_val, comparison['prediction_no_negatives']))\n",
    "print('r2score: ',r2_score(y_val, comparison['prediction_no_negatives']))"
   ]
  },
  {
   "cell_type": "code",
   "execution_count": 528,
   "metadata": {},
   "outputs": [
    {
     "data": {
      "text/html": [
       "<div>\n",
       "<style scoped>\n",
       "    .dataframe tbody tr th:only-of-type {\n",
       "        vertical-align: middle;\n",
       "    }\n",
       "\n",
       "    .dataframe tbody tr th {\n",
       "        vertical-align: top;\n",
       "    }\n",
       "\n",
       "    .dataframe thead th {\n",
       "        text-align: right;\n",
       "    }\n",
       "</style>\n",
       "<table border=\"1\" class=\"dataframe\">\n",
       "  <thead>\n",
       "    <tr style=\"text-align: right;\">\n",
       "      <th></th>\n",
       "      <th>prediction</th>\n",
       "      <th>y_val</th>\n",
       "      <th>prediction_no_negatives</th>\n",
       "      <th>absolute_diff</th>\n",
       "      <th>absolute_diff_no_negatives</th>\n",
       "    </tr>\n",
       "  </thead>\n",
       "  <tbody>\n",
       "    <tr>\n",
       "      <th>count</th>\n",
       "      <td>11526.000000</td>\n",
       "      <td>11526.000000</td>\n",
       "      <td>11526.000000</td>\n",
       "      <td>11526.000000</td>\n",
       "      <td>11526.000000</td>\n",
       "    </tr>\n",
       "    <tr>\n",
       "      <th>mean</th>\n",
       "      <td>9.374942</td>\n",
       "      <td>9.471022</td>\n",
       "      <td>9.763720</td>\n",
       "      <td>4.776689</td>\n",
       "      <td>4.387908</td>\n",
       "    </tr>\n",
       "    <tr>\n",
       "      <th>std</th>\n",
       "      <td>52.163345</td>\n",
       "      <td>52.755170</td>\n",
       "      <td>52.076225</td>\n",
       "      <td>19.381372</td>\n",
       "      <td>19.413381</td>\n",
       "    </tr>\n",
       "    <tr>\n",
       "      <th>min</th>\n",
       "      <td>-49.563236</td>\n",
       "      <td>0.000000</td>\n",
       "      <td>0.000000</td>\n",
       "      <td>0.000125</td>\n",
       "      <td>0.000000</td>\n",
       "    </tr>\n",
       "    <tr>\n",
       "      <th>25%</th>\n",
       "      <td>-0.181816</td>\n",
       "      <td>0.000000</td>\n",
       "      <td>0.000000</td>\n",
       "      <td>0.647627</td>\n",
       "      <td>0.082181</td>\n",
       "    </tr>\n",
       "    <tr>\n",
       "      <th>50%</th>\n",
       "      <td>0.995070</td>\n",
       "      <td>0.000000</td>\n",
       "      <td>0.995070</td>\n",
       "      <td>1.565605</td>\n",
       "      <td>1.000000</td>\n",
       "    </tr>\n",
       "    <tr>\n",
       "      <th>75%</th>\n",
       "      <td>3.809610</td>\n",
       "      <td>3.000000</td>\n",
       "      <td>3.809610</td>\n",
       "      <td>3.299275</td>\n",
       "      <td>3.183858</td>\n",
       "    </tr>\n",
       "    <tr>\n",
       "      <th>max</th>\n",
       "      <td>2307.578857</td>\n",
       "      <td>2653.000000</td>\n",
       "      <td>2307.578857</td>\n",
       "      <td>533.138519</td>\n",
       "      <td>533.138519</td>\n",
       "    </tr>\n",
       "  </tbody>\n",
       "</table>\n",
       "</div>"
      ],
      "text/plain": [
       "         prediction         y_val  prediction_no_negatives  absolute_diff  \\\n",
       "count  11526.000000  11526.000000             11526.000000   11526.000000   \n",
       "mean       9.374942      9.471022                 9.763720       4.776689   \n",
       "std       52.163345     52.755170                52.076225      19.381372   \n",
       "min      -49.563236      0.000000                 0.000000       0.000125   \n",
       "25%       -0.181816      0.000000                 0.000000       0.647627   \n",
       "50%        0.995070      0.000000                 0.995070       1.565605   \n",
       "75%        3.809610      3.000000                 3.809610       3.299275   \n",
       "max     2307.578857   2653.000000              2307.578857     533.138519   \n",
       "\n",
       "       absolute_diff_no_negatives  \n",
       "count                11526.000000  \n",
       "mean                     4.387908  \n",
       "std                     19.413381  \n",
       "min                      0.000000  \n",
       "25%                      0.082181  \n",
       "50%                      1.000000  \n",
       "75%                      3.183858  \n",
       "max                    533.138519  "
      ]
     },
     "execution_count": 528,
     "metadata": {},
     "output_type": "execute_result"
    }
   ],
   "source": [
    "#we add two new indicators that can help us understand how well the algorithm performs:\n",
    "comparison['absolute_diff']=comparison.apply(lambda x: math.sqrt((x['prediction']-x['y_val'])**2),axis=1)\n",
    "comparison['absolute_diff_no_negatives']=comparison.apply(lambda x: math.sqrt((x['prediction_no_negatives']-x['y_val'])**2),axis=1)\n",
    "\n",
    "comparison.describe()"
   ]
  },
  {
   "cell_type": "markdown",
   "metadata": {},
   "source": [
    "This table allows us to see that with this improvement, we have almost 3/4 of the predictions that are only 3 units away from the real value."
   ]
  },
  {
   "cell_type": "code",
   "execution_count": null,
   "metadata": {},
   "outputs": [],
   "source": []
  },
  {
   "cell_type": "markdown",
   "metadata": {},
   "source": [
    "## 2.3. Two hidden layers\n",
    "\n",
    "Just for fun, we are going to test a neural network with two hidden layers."
   ]
  },
  {
   "cell_type": "code",
   "execution_count": 553,
   "metadata": {},
   "outputs": [
    {
     "name": "stdout",
     "output_type": "stream",
     "text": [
      "Model: \"sequential_61\"\n",
      "_________________________________________________________________\n",
      "Layer (type)                 Output Shape              Param #   \n",
      "=================================================================\n",
      "dense_192 (Dense)            (None, 86)                7482      \n",
      "_________________________________________________________________\n",
      "dense_193 (Dense)            (None, 58)                5046      \n",
      "_________________________________________________________________\n",
      "dense_194 (Dense)            (None, 58)                3422      \n",
      "_________________________________________________________________\n",
      "dense_195 (Dense)            (None, 1)                 59        \n",
      "=================================================================\n",
      "Total params: 16,009\n",
      "Trainable params: 16,009\n",
      "Non-trainable params: 0\n",
      "_________________________________________________________________\n"
     ]
    }
   ],
   "source": [
    "# A. Setting up the model\n",
    "num_features=x.shape[1]\n",
    "hidden_layers=2/3*(num_features+1)\n",
    "\n",
    "two_layers_model = Sequential()\n",
    "two_layers_model.add(Dense(num_features, input_dim=num_features, kernel_initializer='normal', activation='relu'))\n",
    "two_layers_model.add(Dense(hidden_layers, activation='relu'))\n",
    "two_layers_model.add(Dense(hidden_layers, activation='relu'))\n",
    "two_layers_model.add(Dense(1, activation='linear'))\n",
    "two_layers_model.summary()"
   ]
  },
  {
   "cell_type": "code",
   "execution_count": 554,
   "metadata": {},
   "outputs": [],
   "source": [
    "# B. Fitting the model\n",
    "\n",
    "epoch=180\n",
    "batch=2500\n",
    "\n",
    "two_layers_model.compile(loss='mse', optimizer='adam', metrics=['mse','mae']) # mean_squared_error (mse) and mean_absolute_error (mae) are our loss functions\n",
    "history=two_layers_model.fit(xtrain_scale, ytrain_scale, epochs=epoch, batch_size=batch, verbose=0, validation_split=0.2)\n",
    "predictions = two_layers_model.predict(xval_scale)"
   ]
  },
  {
   "cell_type": "code",
   "execution_count": 555,
   "metadata": {},
   "outputs": [
    {
     "name": "stdout",
     "output_type": "stream",
     "text": [
      "dict_keys(['loss', 'mse', 'mae', 'val_loss', 'val_mse', 'val_mae'])\n"
     ]
    },
    {
     "data": {
      "image/png": "[encoded data removed]",
      "text/plain": [
       "<Figure size 432x288 with 1 Axes>"
      ]
     },
     "metadata": {
      "needs_background": "light"
     },
     "output_type": "display_data"
    }
   ],
   "source": [
    "# C.Evaluating the decrease of the model loss\n",
    "\n",
    "print(history.history.keys())\n",
    "# \"Loss\"\n",
    "plt.plot(history.history['loss'])\n",
    "plt.plot(history.history['val_loss'])\n",
    "plt.title('model loss')\n",
    "plt.ylabel('loss')\n",
    "plt.xlabel('epoch')\n",
    "plt.legend(['train', 'validation'], loc='upper left')\n",
    "plt.show()"
   ]
  },
  {
   "cell_type": "code",
   "execution_count": 556,
   "metadata": {
    "scrolled": true
   },
   "outputs": [
    {
     "name": "stdout",
     "output_type": "stream",
     "text": [
      "mse:  382.29655333078347\n",
      "mae:  4.62668728646888\n",
      "r2score:  0.8626249060576405\n"
     ]
    }
   ],
   "source": [
    "prediction_unscaled=scaler_y.inverse_transform(predictions)\n",
    "\n",
    "print('mse: ',mean_squared_error(y_val, prediction_unscaled))\n",
    "print('mae: ',mean_absolute_error(y_val, prediction_unscaled))\n",
    "print('r2score: ',r2_score(y_val, prediction_unscaled))"
   ]
  },
  {
   "cell_type": "markdown",
   "metadata": {},
   "source": [
    "With two hidden layers, we slightly increase the performance of our Neural Network.\n",
    "\n",
    "As we did for the 1-hidden layer neural network, we can increase the performance by replacing the negative predictions by zeros."
   ]
  },
  {
   "cell_type": "code",
   "execution_count": 560,
   "metadata": {},
   "outputs": [
    {
     "name": "stdout",
     "output_type": "stream",
     "text": [
      "mse:  381.1312276346162\n",
      "mae:  4.430422886162698\n",
      "r2score:  0.8630436561760751\n"
     ]
    }
   ],
   "source": [
    "comparison=pd.concat([pd.DataFrame(prediction_unscaled).rename(columns={0:'prediction'}),pd.DataFrame(y_val).rename(columns={0:'y_val'})],axis=1)\n",
    "comparison['prediction_no_negatives']=comparison['prediction'].apply(lambda x: no_negatives(x))\n",
    "\n",
    "print('mse: ',mean_squared_error(y_val, comparison['prediction_no_negatives']))\n",
    "print('mae: ',mean_absolute_error(y_val, comparison['prediction_no_negatives']))\n",
    "print('r2score: ',r2_score(y_val, comparison['prediction_no_negatives']))"
   ]
  },
  {
   "cell_type": "raw",
   "metadata": {},
   "source": [
    "If we look at the r2score, we go from 0.8576646141983802 for the one hidden neural network to 0.8630436561760751 with two hidden network, a small but still existing improvement."
   ]
  },
  {
   "cell_type": "markdown",
   "metadata": {},
   "source": [
    "# Conclusion"
   ]
  },
  {
   "cell_type": "markdown",
   "metadata": {},
   "source": [
    "To conclude this section, we can say that the Neural Networks are a perfectly suited tool to predict the number of insults in Youtube comments. \n",
    "We can get very reasonable results using a classic one hidden layer network, or create a more complex one with more networks, which means it will be more expensive to train it, for slightly better results."
   ]
  },
  {
   "cell_type": "code",
   "execution_count": null,
   "metadata": {},
   "outputs": [],
   "source": []
  },
  {
   "cell_type": "markdown",
   "metadata": {},
   "source": [
    "# Bonus just for fun : what overfitting would look like here\n",
    "\n",
    "Bellow is an example of overfitting we found during our investigations"
   ]
  },
  {
   "cell_type": "code",
   "execution_count": 575,
   "metadata": {},
   "outputs": [
    {
     "name": "stdout",
     "output_type": "stream",
     "text": [
      "Model: \"sequential_65\"\n",
      "_________________________________________________________________\n",
      "Layer (type)                 Output Shape              Param #   \n",
      "=================================================================\n",
      "dense_206 (Dense)            (None, 86)                7482      \n",
      "_________________________________________________________________\n",
      "dense_207 (Dense)            (None, 58)                5046      \n",
      "_________________________________________________________________\n",
      "dense_208 (Dense)            (None, 1)                 59        \n",
      "=================================================================\n",
      "Total params: 12,587\n",
      "Trainable params: 12,587\n",
      "Non-trainable params: 0\n",
      "_________________________________________________________________\n"
     ]
    }
   ],
   "source": [
    "# A. Setting up the model\n",
    "num_features=x.shape[1]\n",
    "hidden_layers=2/3*(num_features+1)\n",
    "\n",
    "simpler_model = Sequential()\n",
    "simpler_model.add(Dense(num_features, input_dim=num_features, kernel_initializer='normal', activation='relu'))\n",
    "simpler_model.add(Dense(hidden_layers, activation='relu'))\n",
    "simpler_model.add(Dense(1, activation='linear'))\n",
    "simpler_model.summary()"
   ]
  },
  {
   "cell_type": "code",
   "execution_count": 576,
   "metadata": {},
   "outputs": [],
   "source": [
    "# B. Running the model\n",
    "epoch=300\n",
    "batch=100\n",
    "\n",
    "simpler_model.compile(loss='mse', optimizer='adam', metrics=['mse','mae']) # mean_squared_error (mse) and mean_absolute_error (mae) are our loss functions\n",
    "history=simpler_model.fit(xtrain_scale, ytrain_scale, epochs=epoch, batch_size=batch, verbose=0, validation_split=0.2)\n",
    "predictions = simpler_model.predict(xval_scale)"
   ]
  },
  {
   "cell_type": "code",
   "execution_count": 577,
   "metadata": {},
   "outputs": [
    {
     "name": "stdout",
     "output_type": "stream",
     "text": [
      "dict_keys(['loss', 'mse', 'mae', 'val_loss', 'val_mse', 'val_mae'])\n"
     ]
    },
    {
     "data": {
      "image/png": "[encoded data removed]",
      "text/plain": [
       "<Figure size 432x288 with 1 Axes>"
      ]
     },
     "metadata": {
      "needs_background": "light"
     },
     "output_type": "display_data"
    }
   ],
   "source": [
    "# C.Evaluating the decrease of the model loss, we may need more epochs\n",
    "\n",
    "print(history.history.keys())\n",
    "# \"Loss\"\n",
    "plt.plot(history.history['loss'])\n",
    "plt.plot(history.history['val_loss'])\n",
    "plt.title('model loss')\n",
    "plt.ylabel('loss')\n",
    "plt.xlabel('epoch')\n",
    "plt.legend(['train', 'validation'], loc='upper left')\n",
    "plt.show()"
   ]
  },
  {
   "cell_type": "code",
   "execution_count": 579,
   "metadata": {},
   "outputs": [
    {
     "name": "stdout",
     "output_type": "stream",
     "text": [
      "mse:  448.730279613069\n",
      "mae:  4.417877873299236\n",
      "r2score:  0.8387524978199619\n"
     ]
    }
   ],
   "source": [
    "prediction_unscaled=scaler_y.inverse_transform(predictions)\n",
    "\n",
    "print('mse: ',mean_squared_error(y_val, prediction_unscaled))\n",
    "print('mae: ',mean_absolute_error(y_val, prediction_unscaled))\n",
    "print('r2score: ',r2_score(y_val, prediction_unscaled))"
   ]
  },
  {
   "cell_type": "markdown",
   "metadata": {},
   "source": [
    "Even though the indicators are high for this neural network, the chart (on cell B.) highlights the problem of overfitting we are facing here : even when we increase the number of epochs, the neural network fails to decrease the validation loss."
   ]
  }
 ],
 "metadata": {
  "kernelspec": {
   "display_name": "Python 3",
   "language": "python",
   "name": "python3"
  },
  "language_info": {
   "codemirror_mode": {
    "name": "ipython",
    "version": 3
   },
   "file_extension": ".py",
   "mimetype": "text/x-python",
   "name": "python",
   "nbconvert_exporter": "python",
   "pygments_lexer": "ipython3",
   "version": "3.8.3"
  }
 },
 "nbformat": 4,
 "nbformat_minor": 4
}
