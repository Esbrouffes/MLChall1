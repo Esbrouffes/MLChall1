{
 "cells": [
  {
   "cell_type": "code",
   "execution_count": 388,
   "metadata": {},
   "outputs": [],
   "source": [
    "import math\n",
    "import matplotlib.pyplot as plt\n",
    "import numpy as np\n",
    "from numpy.random import seed\n",
    "seed(1)\n",
    "import pandas as pd\n",
    "import statsmodels.api as sm\n",
    "import statsmodels.formula.api as smf\n",
    "import tensorflow\n",
    "import sklearn\n",
    "tensorflow.random.set_seed(1)\n",
    "from tensorflow.python.keras.layers import Dense\n",
    "from tensorflow.keras.layers import Dropout\n",
    "from tensorflow.python.keras.models import Sequential\n",
    "from tensorflow.python.keras.wrappers.scikit_learn import KerasRegressor\n",
    "from sklearn.metrics import mean_absolute_error\n",
    "from sklearn.metrics import mean_squared_error, r2_score\n",
    "from sklearn.model_selection import train_test_split\n",
    "from sklearn.preprocessing import MinMaxScaler"
   ]
  },
  {
   "cell_type": "markdown",
   "metadata": {},
   "source": [
    "# 1. Data Preparation\n",
    "## 1.1. Get the data and get it ready to use\n",
    "Delete useless columns, change categories values..."
   ]
  },
  {
   "cell_type": "code",
   "execution_count": 394,
   "metadata": {},
   "outputs": [],
   "source": [
    "df=pd.read_csv(\"./challenge_youtube_toxic.csv\", sep=\";\",encoding = 'latin1')\n",
    "df=df.drop(['video_id','video_id_court','channel_id','Unnamed: 27','nbrMotInsulteMoyenne'],axis=1)\n",
    "\n",
    "'''\n",
    "The categories-fields are useful data for us to analyse, \n",
    "but we cannot leave them as they are to compute a neural network algorithm.\n",
    "We are then going to create one column for each value, and fill it with 0 or 1\n",
    "'''\n",
    "\n",
    "df['Core']=(df['categorie_new']=='Core')*1\n",
    "df['Niche']=(df['categorie_new']=='Niche')*1\n",
    "df['Partisan']=(df['categorie_new']=='Partisan')*1\n",
    "df['Pure Players']=(df['categ_inst']=='Pure Players')*1\n",
    "df['TV']=(df['categ_inst']=='TV')*1\n",
    "df['Presse_regionale']=(df['categ_inst']=='Presse_regionale')*1\n",
    "df['Presse nationale']=(df['categ_inst']=='Presse nationale')*1\n",
    "df['Presse magazine']=(df['categ_inst']=='Presse magazine')*1\n",
    "df['Alternatif']=(df['categ_inst']=='Alternatif')*1\n",
    "\n",
    "for channel in  df['channel_name'].unique() :\n",
    "    df[channel] = pd.DataFrame([(df['channel_name'] == channel)*1]).transpose()\n",
    "\n",
    "df=df.drop(['categ_inst','categorie_new','channel_name'],axis=1)\n",
    "\n",
    "def convert_into_float(string):\n",
    "    if type(string)==int:\n",
    "        return string\n",
    "    return float(string.replace(',','.'))\n",
    "\n",
    "df=df.applymap(convert_into_float)"
   ]
  },
  {
   "cell_type": "markdown",
   "metadata": {},
   "source": [
    "## 1.2. Separate the train and the validation datasets"
   ]
  },
  {
   "cell_type": "code",
   "execution_count": 395,
   "metadata": {},
   "outputs": [],
   "source": [
    "y=df['nbrMotInsulte'].to_numpy()\n",
    "x=df.drop(['nbrMotInsulte'],axis=1).to_numpy()\n",
    "\n",
    "X_train, X_val, y_train, y_val = train_test_split(x, y)"
   ]
  },
  {
   "cell_type": "markdown",
   "metadata": {},
   "source": [
    "## 1.3. Feature Scaling"
   ]
  },
  {
   "cell_type": "code",
   "execution_count": 397,
   "metadata": {},
   "outputs": [
    {
     "name": "stdout",
     "output_type": "stream",
     "text": [
      "MinMaxScaler()\n",
      "MinMaxScaler()\n",
      "MinMaxScaler()\n",
      "MinMaxScaler()\n"
     ]
    }
   ],
   "source": [
    "y_train=np.reshape(y_train, (-1,1))\n",
    "y_val=np.reshape(y_val, (-1,1))\n",
    "scaler_x = MinMaxScaler()\n",
    "scaler_y = MinMaxScaler()\n",
    "\n",
    "print(scaler_x.fit(X_train))\n",
    "xtrain_scale=scaler_x.transform(X_train)\n",
    "print(scaler_x.fit(X_val))\n",
    "xval_scale=scaler_x.transform(X_val)\n",
    "\n",
    "print(scaler_y.fit(y_train))\n",
    "ytrain_scale=scaler_y.transform(y_train)\n",
    "print(scaler_y.fit(y_val))\n",
    "yval_scale=scaler_y.transform(y_val)"
   ]
  },
  {
   "cell_type": "markdown",
   "metadata": {},
   "source": []
  },
  {
   "cell_type": "markdown",
   "metadata": {},
   "source": [
    "# 2. Neural network : models comparison\n",
    "\n",
    "In this section, we are going to try several different neural networks models, and change the parameters (batch, epoch) so that the model can perform best\n",
    "## 2.1. First model : 1 hidden layer with many neurones"
   ]
  },
  {
   "cell_type": "code",
   "execution_count": 425,
   "metadata": {
    "scrolled": true
   },
   "outputs": [
    {
     "name": "stdout",
     "output_type": "stream",
     "text": [
      "Model: \"sequential_33\"\n",
      "_________________________________________________________________\n",
      "Layer (type)                 Output Shape              Param #   \n",
      "=================================================================\n",
      "dense_102 (Dense)            (None, 86)                7482      \n",
      "_________________________________________________________________\n",
      "dense_103 (Dense)            (None, 529)               46023     \n",
      "_________________________________________________________________\n",
      "dense_104 (Dense)            (None, 1)                 530       \n",
      "=================================================================\n",
      "Total params: 54,035\n",
      "Trainable params: 54,035\n",
      "Non-trainable params: 0\n",
      "_________________________________________________________________\n"
     ]
    }
   ],
   "source": [
    "# A. Setting up the model\n",
    "\n",
    "num_features=x.shape[1]\n",
    "hidden_layers=x.shape[0]/(num_features+1)\n",
    "\n",
    "model = Sequential()\n",
    "model.add(Dense(num_features, input_dim=num_features, kernel_initializer='normal', activation='relu'))\n",
    "model.add(Dense(hidden_layers, activation='relu'))\n",
    "model.add(Dense(1, activation='linear'))\n",
    "model.summary()"
   ]
  },
  {
   "cell_type": "code",
   "execution_count": 426,
   "metadata": {
    "scrolled": true
   },
   "outputs": [],
   "source": [
    "# B. Fitting the model\n",
    "epoch = 300\n",
    "batch = 150\n",
    "model.compile(loss='mse', optimizer='adam', metrics=['mse','mae']) # mean_squared_error (mse) and mean_absolute_error (mae) are our loss functions\n",
    "history=model.fit(xtrain_scale, ytrain_scale, epochs=epoch, batch_size=batch, verbose=0, validation_split=0.2)\n",
    "predictions = model.predict(xval_scale)\n"
   ]
  },
  {
   "cell_type": "code",
   "execution_count": null,
   "metadata": {},
   "outputs": [],
   "source": []
  },
  {
   "cell_type": "code",
   "execution_count": 427,
   "metadata": {
    "scrolled": true
   },
   "outputs": [
    {
     "name": "stdout",
     "output_type": "stream",
     "text": [
      "dict_keys(['loss', 'mse', 'mae', 'val_loss', 'val_mse', 'val_mae'])\n"
     ]
    },
    {
     "data": {
      "image/png": "[encoded data removed]",
      "text/plain": [
       "<Figure size 432x288 with 1 Axes>"
      ]
     },
     "metadata": {
      "needs_background": "light"
     },
     "output_type": "display_data"
    }
   ],
   "source": [
    "# C.Evaluating the decrease of the model loss, we may need more epochs\n",
    "\n",
    "print(history.history.keys())\n",
    "# \"Loss\"\n",
    "plt.plot(history.history['loss'])\n",
    "plt.plot(history.history['val_loss'])\n",
    "plt.title('model loss')\n",
    "plt.ylabel('loss')\n",
    "plt.xlabel('epoch')\n",
    "plt.legend(['train', 'validation'], loc='upper left')\n",
    "plt.show()"
   ]
  },
  {
   "cell_type": "code",
   "execution_count": null,
   "metadata": {},
   "outputs": [],
   "source": [
    "When we read this graph, we realize that we are overfitting the dataset "
   ]
  },
  {
   "cell_type": "code",
   "execution_count": 435,
   "metadata": {},
   "outputs": [
    {
     "name": "stdout",
     "output_type": "stream",
     "text": [
      "mse:  403.3497551120718\n",
      "mae:  3.9888812448710955\n",
      "r2score:  0.8550596127080312\n"
     ]
    }
   ],
   "source": [
    "prediction_unscaled=scaler_y.inverse_transform(predictions)\n",
    "\n",
    "print('mse: ',mean_squared_error(y_val, prediction_unscaled))\n",
    "print('mae: ',mean_absolute_error(y_val, prediction_unscaled))\n",
    "print('r2score: ',r2_score(y_val, prediction_unscaled))"
   ]
  },
  {
   "cell_type": "markdown",
   "metadata": {},
   "source": [
    "## 2.2. Simpler model : 1 hidden layer, and less neurones in the hidden layer "
   ]
  },
  {
   "cell_type": "code",
   "execution_count": 521,
   "metadata": {
    "scrolled": true
   },
   "outputs": [
    {
     "name": "stdout",
     "output_type": "stream",
     "text": [
      "Model: \"sequential_54\"\n",
      "_________________________________________________________________\n",
      "Layer (type)                 Output Shape              Param #   \n",
      "=================================================================\n",
      "dense_165 (Dense)            (None, 86)                7482      \n",
      "_________________________________________________________________\n",
      "dense_166 (Dense)            (None, 58)                5046      \n",
      "_________________________________________________________________\n",
      "dense_167 (Dense)            (None, 1)                 59        \n",
      "=================================================================\n",
      "Total params: 12,587\n",
      "Trainable params: 12,587\n",
      "Non-trainable params: 0\n",
      "_________________________________________________________________\n"
     ]
    }
   ],
   "source": [
    "# A. Setting up the model\n",
    "num_features=x.shape[1]\n",
    "hidden_layers=2/3*(num_features+1)\n",
    "\n",
    "simpler_model = Sequential()\n",
    "simpler_model.add(Dense(num_features, input_dim=num_features, kernel_initializer='normal', activation='relu'))\n",
    "simpler_model.add(Dense(hidden_layers, activation='relu'))\n",
    "simpler_model.add(Dense(1, activation='linear'))\n",
    "simpler_model.summary()"
   ]
  },
  {
   "cell_type": "code",
   "execution_count": 522,
   "metadata": {},
   "outputs": [],
   "source": [
    "# B. Fitting the model\n",
    "\n",
    "epoch=250\n",
    "batch=2500\n",
    "\n",
    "simpler_model.compile(loss='mse', optimizer='adam', metrics=['mse','mae']) # mean_squared_error (mse) and mean_absolute_error (mae) are our loss functions\n",
    "history=simpler_model.fit(xtrain_scale, ytrain_scale, epochs=epoch, batch_size=batch, verbose=0, validation_split=0.2)\n",
    "predictions = simpler_model.predict(xval_scale)"
   ]
  },
  {
   "cell_type": "code",
   "execution_count": 523,
   "metadata": {
    "scrolled": true
   },
   "outputs": [
    {
     "name": "stdout",
     "output_type": "stream",
     "text": [
      "dict_keys(['loss', 'mse', 'mae', 'val_loss', 'val_mse', 'val_mae'])\n"
     ]
    },
    {
     "data": {
      "image/png": "[encoded data removed]",
      "text/plain": [
       "<Figure size 432x288 with 1 Axes>"
      ]
     },
     "metadata": {
      "needs_background": "light"
     },
     "output_type": "display_data"
    }
   ],
   "source": [
    "# C.Evaluating the decrease of the model loss\n",
    "\n",
    "print(history.history.keys())\n",
    "# \"Loss\"\n",
    "plt.plot(history.history['loss'])\n",
    "plt.plot(history.history['val_loss'])\n",
    "plt.title('model loss')\n",
    "plt.ylabel('loss')\n",
    "plt.xlabel('epoch')\n",
    "plt.legend(['train', 'validation'], loc='upper left')\n",
    "plt.show()"
   ]
  },
  {
   "cell_type": "code",
   "execution_count": 524,
   "metadata": {},
   "outputs": [
    {
     "name": "stdout",
     "output_type": "stream",
     "text": [
      "mse:  398.42176576899215\n",
      "mae:  4.77668922531441\n",
      "r2score:  0.8568304447834298\n"
     ]
    }
   ],
   "source": [
    "prediction_unscaled=scaler_y.inverse_transform(predictions)\n",
    "\n",
    "print('mse: ',mean_squared_error(y_val, prediction_unscaled))\n",
    "print('mae: ',mean_absolute_error(y_val, prediction_unscaled))\n",
    "print('r2score: ',r2_score(y_val, prediction_unscaled))"
   ]
  },
  {
   "cell_type": "markdown",
   "metadata": {},
   "source": [
    "## How did we set-up the parameters ?\n",
    "\n",
    "We used as base parameters the best fit for the last model, and we changed them one by one until we found the best value for each, using a dichotomy method. If the curb was not looking well, we knew even before looking at the indicators that we were overfitting.\n",
    "   \n",
    "For epoch, we went from 100 to 200 and then 300, we realized that for 300 the value of the indicators (mse, mae and r2score) were decreasing, so we tested 250. Since 250 was even better than 200, we kept this value for epoch.\n",
    "\n",
    "Then, we did the same for the batch, starting at int(x.shape[0]/10)=4610. 5000 was less performant, so we went the other way, decreasing the batch size. We tested 3000, 2000 and 1000. 1000 had the best results for the indicators, but the graph shown a beggining of overfitting. So we went back to the last best value : 3000 and we ajusted it a bit. We finally land at batch=2500.\n",
    "\n",
    "To be sure that we have a nice couple (batch, epoch), we try other values of epoch with fixed batch, and we finally ended again at epoch=250."
   ]
  },
  {
   "cell_type": "code",
   "execution_count": 559,
   "metadata": {},
   "outputs": [
    {
     "data": {
      "text/html": [
       "<div>\n",
       "<style scoped>\n",
       "    .dataframe tbody tr th:only-of-type {\n",
       "        vertical-align: middle;\n",
       "    }\n",
       "\n",
       "    .dataframe tbody tr th {\n",
       "        vertical-align: top;\n",
       "    }\n",
       "\n",
       "    .dataframe thead th {\n",
       "        text-align: right;\n",
       "    }\n",
       "</style>\n",
       "<table border=\"1\" class=\"dataframe\">\n",
       "  <thead>\n",
       "    <tr style=\"text-align: right;\">\n",
       "      <th></th>\n",
       "      <th>prediction</th>\n",
       "      <th>y_val</th>\n",
       "    </tr>\n",
       "  </thead>\n",
       "  <tbody>\n",
       "    <tr>\n",
       "      <th>0</th>\n",
       "      <td>17.395487</td>\n",
       "      <td>21</td>\n",
       "    </tr>\n",
       "    <tr>\n",
       "      <th>1</th>\n",
       "      <td>0.698987</td>\n",
       "      <td>0</td>\n",
       "    </tr>\n",
       "    <tr>\n",
       "      <th>2</th>\n",
       "      <td>0.440625</td>\n",
       "      <td>0</td>\n",
       "    </tr>\n",
       "    <tr>\n",
       "      <th>3</th>\n",
       "      <td>36.822842</td>\n",
       "      <td>30</td>\n",
       "    </tr>\n",
       "    <tr>\n",
       "      <th>4</th>\n",
       "      <td>-0.535815</td>\n",
       "      <td>0</td>\n",
       "    </tr>\n",
       "    <tr>\n",
       "      <th>5</th>\n",
       "      <td>10.101364</td>\n",
       "      <td>22</td>\n",
       "    </tr>\n",
       "    <tr>\n",
       "      <th>6</th>\n",
       "      <td>2.995779</td>\n",
       "      <td>0</td>\n",
       "    </tr>\n",
       "    <tr>\n",
       "      <th>7</th>\n",
       "      <td>1.108929</td>\n",
       "      <td>0</td>\n",
       "    </tr>\n",
       "    <tr>\n",
       "      <th>8</th>\n",
       "      <td>0.923328</td>\n",
       "      <td>1</td>\n",
       "    </tr>\n",
       "    <tr>\n",
       "      <th>9</th>\n",
       "      <td>2.131805</td>\n",
       "      <td>1</td>\n",
       "    </tr>\n",
       "  </tbody>\n",
       "</table>\n",
       "</div>"
      ],
      "text/plain": [
       "   prediction  y_val\n",
       "0   17.395487     21\n",
       "1    0.698987      0\n",
       "2    0.440625      0\n",
       "3   36.822842     30\n",
       "4   -0.535815      0\n",
       "5   10.101364     22\n",
       "6    2.995779      0\n",
       "7    1.108929      0\n",
       "8    0.923328      1\n",
       "9    2.131805      1"
      ]
     },
     "execution_count": 559,
     "metadata": {},
     "output_type": "execute_result"
    }
   ],
   "source": [
    "# D. Analysis of the results\n",
    "\n",
    "#we create a new dataset with the predictions, and the real values\n",
    "comparison=pd.concat([pd.DataFrame(prediction_unscaled).rename(columns={0:'prediction'}),pd.DataFrame(y_val).rename(columns={0:'y_val'})],axis=1)\n",
    "\n",
    "comparison.head(10)"
   ]
  },
  {
   "cell_type": "raw",
   "metadata": {},
   "source": [
    "When we display the results, we realized that in many cases, the neural network predicts a negative number of insults, which is not possible. So we create a function that returns a zero instead of the negative values. This could possibly increase our scores"
   ]
  },
  {
   "cell_type": "code",
   "execution_count": 526,
   "metadata": {},
   "outputs": [
    {
     "name": "stdout",
     "output_type": "stream",
     "text": [
      "mse:  396.10038360955\n",
      "mae:  4.387907817772971\n",
      "r2score:  0.8576646141983802\n"
     ]
    }
   ],
   "source": [
    "def no_negatives(x):\n",
    "    if x<0:\n",
    "        return 0\n",
    "    return x\n",
    "\n",
    "comparison['prediction_no_negatives']=comparison['prediction'].apply(lambda x: no_negatives(x))\n",
    "\n",
    "print('mse: ',mean_squared_error(y_val, comparison['prediction_no_negatives']))\n",
    "print('mae: ',mean_absolute_error(y_val, comparison['prediction_no_negatives']))\n",
    "print('r2score: ',r2_score(y_val, comparison['prediction_no_negatives']))"
   ]
  },
  {
   "cell_type": "code",
   "execution_count": 528,
   "metadata": {},
   "outputs": [
    {
     "data": {
      "text/html": [
       "<div>\n",
       "<style scoped>\n",
       "    .dataframe tbody tr th:only-of-type {\n",
       "        vertical-align: middle;\n",
       "    }\n",
       "\n",
       "    .dataframe tbody tr th {\n",
       "        vertical-align: top;\n",
       "    }\n",
       "\n",
       "    .dataframe thead th {\n",
       "        text-align: right;\n",
       "    }\n",
       "</style>\n",
       "<table border=\"1\" class=\"dataframe\">\n",
       "  <thead>\n",
       "    <tr style=\"text-align: right;\">\n",
       "      <th></th>\n",
       "      <th>prediction</th>\n",
       "      <th>y_val</th>\n",
       "      <th>prediction_no_negatives</th>\n",
       "      <th>absolute_diff</th>\n",
       "      <th>absolute_diff_no_negatives</th>\n",
       "    </tr>\n",
       "  </thead>\n",
       "  <tbody>\n",
       "    <tr>\n",
       "      <th>count</th>\n",
       "      <td>11526.000000</td>\n",
       "      <td>11526.000000</td>\n",
       "      <td>11526.000000</td>\n",
       "      <td>11526.000000</td>\n",
       "      <td>11526.000000</td>\n",
       "    </tr>\n",
       "    <tr>\n",
       "      <th>mean</th>\n",
       "      <td>9.374942</td>\n",
       "      <td>9.471022</td>\n",
       "      <td>9.763720</td>\n",
       "      <td>4.776689</td>\n",
       "      <td>4.387908</td>\n",
       "    </tr>\n",
       "    <tr>\n",
       "      <th>std</th>\n",
       "      <td>52.163345</td>\n",
       "      <td>52.755170</td>\n",
       "      <td>52.076225</td>\n",
       "      <td>19.381372</td>\n",
       "      <td>19.413381</td>\n",
       "    </tr>\n",
       "    <tr>\n",
       "      <th>min</th>\n",
       "      <td>-49.563236</td>\n",
       "      <td>0.000000</td>\n",
       "      <td>0.000000</td>\n",
       "      <td>0.000125</td>\n",
       "      <td>0.000000</td>\n",
       "    </tr>\n",
       "    <tr>\n",
       "      <th>25%</th>\n",
       "      <td>-0.181816</td>\n",
       "      <td>0.000000</td>\n",
       "      <td>0.000000</td>\n",
       "      <td>0.647627</td>\n",
       "      <td>0.082181</td>\n",
       "    </tr>\n",
       "    <tr>\n",
       "      <th>50%</th>\n",
       "      <td>0.995070</td>\n",
       "      <td>0.000000</td>\n",
       "      <td>0.995070</td>\n",
       "      <td>1.565605</td>\n",
       "      <td>1.000000</td>\n",
       "    </tr>\n",
       "    <tr>\n",
       "      <th>75%</th>\n",
       "      <td>3.809610</td>\n",
       "      <td>3.000000</td>\n",
       "      <td>3.809610</td>\n",
       "      <td>3.299275</td>\n",
       "      <td>3.183858</td>\n",
       "    </tr>\n",
       "    <tr>\n",
       "      <th>max</th>\n",
       "      <td>2307.578857</td>\n",
       "      <td>2653.000000</td>\n",
       "      <td>2307.578857</td>\n",
       "      <td>533.138519</td>\n",
       "      <td>533.138519</td>\n",
       "    </tr>\n",
       "  </tbody>\n",
       "</table>\n",
       "</div>"
      ],
      "text/plain": [
       "         prediction         y_val  prediction_no_negatives  absolute_diff  \\\n",
       "count  11526.000000  11526.000000             11526.000000   11526.000000   \n",
       "mean       9.374942      9.471022                 9.763720       4.776689   \n",
       "std       52.163345     52.755170                52.076225      19.381372   \n",
       "min      -49.563236      0.000000                 0.000000       0.000125   \n",
       "25%       -0.181816      0.000000                 0.000000       0.647627   \n",
       "50%        0.995070      0.000000                 0.995070       1.565605   \n",
       "75%        3.809610      3.000000                 3.809610       3.299275   \n",
       "max     2307.578857   2653.000000              2307.578857     533.138519   \n",
       "\n",
       "       absolute_diff_no_negatives  \n",
       "count                11526.000000  \n",
       "mean                     4.387908  \n",
       "std                     19.413381  \n",
       "min                      0.000000  \n",
       "25%                      0.082181  \n",
       "50%                      1.000000  \n",
       "75%                      3.183858  \n",
       "max                    533.138519  "
      ]
     },
     "execution_count": 528,
     "metadata": {},
     "output_type": "execute_result"
    }
   ],
   "source": [
    "#we add two new indicators that can help us understand how well the algorithm performs:\n",
    "comparison['absolute_diff']=comparison.apply(lambda x: math.sqrt((x['prediction']-x['y_val'])**2),axis=1)\n",
    "comparison['absolute_diff_no_negatives']=comparison.apply(lambda x: math.sqrt((x['prediction_no_negatives']-x['y_val'])**2),axis=1)\n",
    "\n",
    "comparison.describe()"
   ]
  },
  {
   "cell_type": "markdown",
   "metadata": {},
   "source": [
    "This table allows us to see that with this improvement, we have almost 3/4 of the predictions that are only 3 units away from the real value."
   ]
  },
  {
   "cell_type": "code",
   "execution_count": null,
   "metadata": {},
   "outputs": [],
   "source": []
  },
  {
   "cell_type": "markdown",
   "metadata": {},
   "source": [
    "## 2.3. Two hidden layers\n",
    "\n",
    "Just for fun, we are going to test a neural network with two hidden layers."
   ]
  },
  {
   "cell_type": "code",
   "execution_count": 553,
   "metadata": {},
   "outputs": [
    {
     "name": "stdout",
     "output_type": "stream",
     "text": [
      "Model: \"sequential_61\"\n",
      "_________________________________________________________________\n",
      "Layer (type)                 Output Shape              Param #   \n",
      "=================================================================\n",
      "dense_192 (Dense)            (None, 86)                7482      \n",
      "_________________________________________________________________\n",
      "dense_193 (Dense)            (None, 58)                5046      \n",
      "_________________________________________________________________\n",
      "dense_194 (Dense)            (None, 58)                3422      \n",
      "_________________________________________________________________\n",
      "dense_195 (Dense)            (None, 1)                 59        \n",
      "=================================================================\n",
      "Total params: 16,009\n",
      "Trainable params: 16,009\n",
      "Non-trainable params: 0\n",
      "_________________________________________________________________\n"
     ]
    }
   ],
   "source": [
    "# A. Setting up the model\n",
    "num_features=x.shape[1]\n",
    "hidden_layers=2/3*(num_features+1)\n",
    "\n",
    "two_layers_model = Sequential()\n",
    "two_layers_model.add(Dense(num_features, input_dim=num_features, kernel_initializer='normal', activation='relu'))\n",
    "two_layers_model.add(Dense(hidden_layers, activation='relu'))\n",
    "two_layers_model.add(Dense(hidden_layers, activation='relu'))\n",
    "two_layers_model.add(Dense(1, activation='linear'))\n",
    "two_layers_model.summary()"
   ]
  },
  {
   "cell_type": "code",
   "execution_count": 554,
   "metadata": {},
   "outputs": [],
   "source": [
    "# B. Fitting the model\n",
    "\n",
    "epoch=180\n",
    "batch=2500\n",
    "\n",
    "two_layers_model.compile(loss='mse', optimizer='adam', metrics=['mse','mae']) # mean_squared_error (mse) and mean_absolute_error (mae) are our loss functions\n",
    "history=two_layers_model.fit(xtrain_scale, ytrain_scale, epochs=epoch, batch_size=batch, verbose=0, validation_split=0.2)\n",
    "predictions = two_layers_model.predict(xval_scale)"
   ]
  },
  {
   "cell_type": "code",
   "execution_count": 555,
   "metadata": {},
   "outputs": [
    {
     "name": "stdout",
     "output_type": "stream",
     "text": [
      "dict_keys(['loss', 'mse', 'mae', 'val_loss', 'val_mse', 'val_mae'])\n"
     ]
    },
    {
     "data": {
      "image/png": "[encoded data removed]",
      "text/plain": [
       "<Figure size 432x288 with 1 Axes>"
      ]
     },
     "metadata": {
      "needs_background": "light"
     },
     "output_type": "display_data"
    }
   ],
   "source": [
    "# C.Evaluating the decrease of the model loss\n",
    "\n",
    "print(history.history.keys())\n",
    "# \"Loss\"\n",
    "plt.plot(history.history['loss'])\n",
    "plt.plot(history.history['val_loss'])\n",
    "plt.title('model loss')\n",
    "plt.ylabel('loss')\n",
    "plt.xlabel('epoch')\n",
    "plt.legend(['train', 'validation'], loc='upper left')\n",
    "plt.show()"
   ]
  },
  {
   "cell_type": "code",
   "execution_count": 556,
   "metadata": {
    "scrolled": true
   },
   "outputs": [
    {
     "name": "stdout",
     "output_type": "stream",
     "text": [
      "mse:  382.29655333078347\n",
      "mae:  4.62668728646888\n",
      "r2score:  0.8626249060576405\n"
     ]
    }
   ],
   "source": [
    "prediction_unscaled=scaler_y.inverse_transform(predictions)\n",
    "\n",
    "print('mse: ',mean_squared_error(y_val, prediction_unscaled))\n",
    "print('mae: ',mean_absolute_error(y_val, prediction_unscaled))\n",
    "print('r2score: ',r2_score(y_val, prediction_unscaled))"
   ]
  },
  {
   "cell_type": "markdown",
   "metadata": {},
   "source": [
    "With two hidden layers, we slightly increase the performance of our Neural Network"
   ]
  },
  {
   "cell_type": "code",
   "execution_count": 560,
   "metadata": {},
   "outputs": [
    {
     "name": "stdout",
     "output_type": "stream",
     "text": [
      "mse:  381.1312276346162\n",
      "mae:  4.430422886162698\n",
      "r2score:  0.8630436561760751\n"
     ]
    }
   ],
   "source": [
    "comparison=pd.concat([pd.DataFrame(prediction_unscaled).rename(columns={0:'prediction'}),pd.DataFrame(y_val).rename(columns={0:'y_val'})],axis=1)\n",
    "comparison['prediction_no_negatives']=comparison['prediction'].apply(lambda x: no_negatives(x))\n",
    "\n",
    "print('mse: ',mean_squared_error(y_val, comparison['prediction_no_negatives']))\n",
    "print('mae: ',mean_absolute_error(y_val, comparison['prediction_no_negatives']))\n",
    "print('r2score: ',r2_score(y_val, comparison['prediction_no_negatives']))"
   ]
  },
  {
   "cell_type": "raw",
   "metadata": {},
   "source": [
    "As we did for the 1-hidden layer neural network, we can increase the performance by replacing the negative predictions by zeros"
   ]
  },
  {
   "cell_type": "code",
   "execution_count": null,
   "metadata": {},
   "outputs": [],
   "source": []
  },
  {
   "cell_type": "code",
   "execution_count": null,
   "metadata": {},
   "outputs": [],
   "source": []
  },
  {
   "cell_type": "code",
   "execution_count": null,
   "metadata": {},
   "outputs": [],
   "source": []
  },
  {
   "cell_type": "code",
   "execution_count": null,
   "metadata": {},
   "outputs": [],
   "source": []
  },
  {
   "cell_type": "code",
   "execution_count": null,
   "metadata": {},
   "outputs": [],
   "source": []
  },
  {
   "cell_type": "markdown",
   "metadata": {},
   "source": [
    "# After this is only previous research "
   ]
  },
  {
   "cell_type": "markdown",
   "metadata": {},
   "source": [
    "# Results Analysis"
   ]
  },
  {
   "cell_type": "code",
   "execution_count": 181,
   "metadata": {
    "scrolled": true
   },
   "outputs": [
    {
     "name": "stdout",
     "output_type": "stream",
     "text": [
      "dict_keys(['loss', 'mse', 'mae', 'val_loss', 'val_mse', 'val_mae'])\n"
     ]
    },
    {
     "data": {
      "image/png": "[encoded data removed]",
      "text/plain": [
       "<Figure size 432x288 with 1 Axes>"
      ]
     },
     "metadata": {
      "needs_background": "light"
     },
     "output_type": "display_data"
    }
   ],
   "source": [
    "#6.Evaluating the decrease of the model loss, we may need more epochs\n",
    "\n",
    "print(history.history.keys())\n",
    "# \"Loss\"\n",
    "plt.plot(history.history['loss'])\n",
    "plt.plot(history.history['val_loss'])\n",
    "plt.title('model loss')\n",
    "plt.ylabel('loss')\n",
    "plt.xlabel('epoch')\n",
    "plt.legend(['train', 'validation'], loc='upper left')\n",
    "plt.show()"
   ]
  },
  {
   "cell_type": "raw",
   "metadata": {},
   "source": [
    "When we read this graoh, we see that more than 150 epochs leads to overfitting the dataset "
   ]
  },
  {
   "cell_type": "code",
   "execution_count": 182,
   "metadata": {},
   "outputs": [
    {
     "data": {
      "text/plain": [
       "579.0561184201813"
      ]
     },
     "execution_count": 182,
     "metadata": {},
     "output_type": "execute_result"
    }
   ],
   "source": [
    "prediction_unscaled=scaler_y.inverse_transform(predictions)\n",
    "sklearn.metrics.mean_squared_error(y_val, prediction_unscaled)"
   ]
  },
  {
   "cell_type": "code",
   "execution_count": 190,
   "metadata": {},
   "outputs": [
    {
     "data": {
      "text/html": [
       "<div>\n",
       "<style scoped>\n",
       "    .dataframe tbody tr th:only-of-type {\n",
       "        vertical-align: middle;\n",
       "    }\n",
       "\n",
       "    .dataframe tbody tr th {\n",
       "        vertical-align: top;\n",
       "    }\n",
       "\n",
       "    .dataframe thead th {\n",
       "        text-align: right;\n",
       "    }\n",
       "</style>\n",
       "<table border=\"1\" class=\"dataframe\">\n",
       "  <thead>\n",
       "    <tr style=\"text-align: right;\">\n",
       "      <th></th>\n",
       "      <th>prediction</th>\n",
       "      <th>y_val</th>\n",
       "      <th>absolute_diff</th>\n",
       "    </tr>\n",
       "  </thead>\n",
       "  <tbody>\n",
       "    <tr>\n",
       "      <th>0</th>\n",
       "      <td>69.960953</td>\n",
       "      <td>110</td>\n",
       "      <td>1603.125304</td>\n",
       "    </tr>\n",
       "    <tr>\n",
       "      <th>1</th>\n",
       "      <td>0.337949</td>\n",
       "      <td>0</td>\n",
       "      <td>0.114210</td>\n",
       "    </tr>\n",
       "    <tr>\n",
       "      <th>2</th>\n",
       "      <td>-0.453255</td>\n",
       "      <td>0</td>\n",
       "      <td>0.205440</td>\n",
       "    </tr>\n",
       "    <tr>\n",
       "      <th>3</th>\n",
       "      <td>16.759592</td>\n",
       "      <td>13</td>\n",
       "      <td>14.134532</td>\n",
       "    </tr>\n",
       "    <tr>\n",
       "      <th>4</th>\n",
       "      <td>0.351359</td>\n",
       "      <td>0</td>\n",
       "      <td>0.123453</td>\n",
       "    </tr>\n",
       "    <tr>\n",
       "      <th>5</th>\n",
       "      <td>0.048618</td>\n",
       "      <td>0</td>\n",
       "      <td>0.002364</td>\n",
       "    </tr>\n",
       "    <tr>\n",
       "      <th>6</th>\n",
       "      <td>0.273098</td>\n",
       "      <td>0</td>\n",
       "      <td>0.074583</td>\n",
       "    </tr>\n",
       "    <tr>\n",
       "      <th>7</th>\n",
       "      <td>-0.214559</td>\n",
       "      <td>3</td>\n",
       "      <td>10.333391</td>\n",
       "    </tr>\n",
       "    <tr>\n",
       "      <th>8</th>\n",
       "      <td>-0.148235</td>\n",
       "      <td>0</td>\n",
       "      <td>0.021974</td>\n",
       "    </tr>\n",
       "    <tr>\n",
       "      <th>9</th>\n",
       "      <td>-0.453255</td>\n",
       "      <td>2</td>\n",
       "      <td>6.018462</td>\n",
       "    </tr>\n",
       "    <tr>\n",
       "      <th>10</th>\n",
       "      <td>-0.453255</td>\n",
       "      <td>0</td>\n",
       "      <td>0.205440</td>\n",
       "    </tr>\n",
       "    <tr>\n",
       "      <th>11</th>\n",
       "      <td>5.343935</td>\n",
       "      <td>8</td>\n",
       "      <td>7.054681</td>\n",
       "    </tr>\n",
       "    <tr>\n",
       "      <th>12</th>\n",
       "      <td>-0.432681</td>\n",
       "      <td>0</td>\n",
       "      <td>0.187213</td>\n",
       "    </tr>\n",
       "    <tr>\n",
       "      <th>13</th>\n",
       "      <td>1.423891</td>\n",
       "      <td>2</td>\n",
       "      <td>0.331902</td>\n",
       "    </tr>\n",
       "    <tr>\n",
       "      <th>14</th>\n",
       "      <td>1.095865</td>\n",
       "      <td>0</td>\n",
       "      <td>1.200920</td>\n",
       "    </tr>\n",
       "    <tr>\n",
       "      <th>15</th>\n",
       "      <td>80.449158</td>\n",
       "      <td>99</td>\n",
       "      <td>344.133749</td>\n",
       "    </tr>\n",
       "    <tr>\n",
       "      <th>16</th>\n",
       "      <td>-0.453255</td>\n",
       "      <td>0</td>\n",
       "      <td>0.205440</td>\n",
       "    </tr>\n",
       "    <tr>\n",
       "      <th>17</th>\n",
       "      <td>0.520600</td>\n",
       "      <td>0</td>\n",
       "      <td>0.271024</td>\n",
       "    </tr>\n",
       "    <tr>\n",
       "      <th>18</th>\n",
       "      <td>-0.453255</td>\n",
       "      <td>3</td>\n",
       "      <td>11.924973</td>\n",
       "    </tr>\n",
       "    <tr>\n",
       "      <th>19</th>\n",
       "      <td>-0.304118</td>\n",
       "      <td>0</td>\n",
       "      <td>0.092488</td>\n",
       "    </tr>\n",
       "    <tr>\n",
       "      <th>20</th>\n",
       "      <td>-0.432873</td>\n",
       "      <td>0</td>\n",
       "      <td>0.187379</td>\n",
       "    </tr>\n",
       "    <tr>\n",
       "      <th>21</th>\n",
       "      <td>76.274071</td>\n",
       "      <td>117</td>\n",
       "      <td>1658.601314</td>\n",
       "    </tr>\n",
       "    <tr>\n",
       "      <th>22</th>\n",
       "      <td>11.066083</td>\n",
       "      <td>7</td>\n",
       "      <td>16.533031</td>\n",
       "    </tr>\n",
       "    <tr>\n",
       "      <th>23</th>\n",
       "      <td>2.968459</td>\n",
       "      <td>0</td>\n",
       "      <td>8.811747</td>\n",
       "    </tr>\n",
       "    <tr>\n",
       "      <th>24</th>\n",
       "      <td>0.504695</td>\n",
       "      <td>3</td>\n",
       "      <td>6.226548</td>\n",
       "    </tr>\n",
       "    <tr>\n",
       "      <th>25</th>\n",
       "      <td>1.411918</td>\n",
       "      <td>0</td>\n",
       "      <td>1.993511</td>\n",
       "    </tr>\n",
       "    <tr>\n",
       "      <th>26</th>\n",
       "      <td>0.822297</td>\n",
       "      <td>1</td>\n",
       "      <td>0.031578</td>\n",
       "    </tr>\n",
       "    <tr>\n",
       "      <th>27</th>\n",
       "      <td>-0.186866</td>\n",
       "      <td>0</td>\n",
       "      <td>0.034919</td>\n",
       "    </tr>\n",
       "    <tr>\n",
       "      <th>28</th>\n",
       "      <td>0.644327</td>\n",
       "      <td>1</td>\n",
       "      <td>0.126503</td>\n",
       "    </tr>\n",
       "    <tr>\n",
       "      <th>29</th>\n",
       "      <td>0.199434</td>\n",
       "      <td>0</td>\n",
       "      <td>0.039774</td>\n",
       "    </tr>\n",
       "    <tr>\n",
       "      <th>30</th>\n",
       "      <td>5.391737</td>\n",
       "      <td>11</td>\n",
       "      <td>31.452609</td>\n",
       "    </tr>\n",
       "    <tr>\n",
       "      <th>31</th>\n",
       "      <td>5.072279</td>\n",
       "      <td>3</td>\n",
       "      <td>4.294342</td>\n",
       "    </tr>\n",
       "    <tr>\n",
       "      <th>32</th>\n",
       "      <td>-0.453255</td>\n",
       "      <td>0</td>\n",
       "      <td>0.205440</td>\n",
       "    </tr>\n",
       "    <tr>\n",
       "      <th>33</th>\n",
       "      <td>-0.068413</td>\n",
       "      <td>2</td>\n",
       "      <td>4.278332</td>\n",
       "    </tr>\n",
       "    <tr>\n",
       "      <th>34</th>\n",
       "      <td>0.784572</td>\n",
       "      <td>0</td>\n",
       "      <td>0.615554</td>\n",
       "    </tr>\n",
       "    <tr>\n",
       "      <th>35</th>\n",
       "      <td>-0.333486</td>\n",
       "      <td>0</td>\n",
       "      <td>0.111213</td>\n",
       "    </tr>\n",
       "    <tr>\n",
       "      <th>36</th>\n",
       "      <td>3.814409</td>\n",
       "      <td>1</td>\n",
       "      <td>7.920901</td>\n",
       "    </tr>\n",
       "    <tr>\n",
       "      <th>37</th>\n",
       "      <td>66.754730</td>\n",
       "      <td>41</td>\n",
       "      <td>663.306129</td>\n",
       "    </tr>\n",
       "    <tr>\n",
       "      <th>38</th>\n",
       "      <td>0.024889</td>\n",
       "      <td>0</td>\n",
       "      <td>0.000619</td>\n",
       "    </tr>\n",
       "    <tr>\n",
       "      <th>39</th>\n",
       "      <td>-0.453255</td>\n",
       "      <td>0</td>\n",
       "      <td>0.205440</td>\n",
       "    </tr>\n",
       "    <tr>\n",
       "      <th>40</th>\n",
       "      <td>0.015408</td>\n",
       "      <td>0</td>\n",
       "      <td>0.000237</td>\n",
       "    </tr>\n",
       "    <tr>\n",
       "      <th>41</th>\n",
       "      <td>-0.453255</td>\n",
       "      <td>1</td>\n",
       "      <td>2.111951</td>\n",
       "    </tr>\n",
       "    <tr>\n",
       "      <th>42</th>\n",
       "      <td>-0.453255</td>\n",
       "      <td>0</td>\n",
       "      <td>0.205440</td>\n",
       "    </tr>\n",
       "    <tr>\n",
       "      <th>43</th>\n",
       "      <td>-0.453255</td>\n",
       "      <td>0</td>\n",
       "      <td>0.205440</td>\n",
       "    </tr>\n",
       "    <tr>\n",
       "      <th>44</th>\n",
       "      <td>-0.453255</td>\n",
       "      <td>0</td>\n",
       "      <td>0.205440</td>\n",
       "    </tr>\n",
       "    <tr>\n",
       "      <th>45</th>\n",
       "      <td>2.150360</td>\n",
       "      <td>1</td>\n",
       "      <td>1.323328</td>\n",
       "    </tr>\n",
       "    <tr>\n",
       "      <th>46</th>\n",
       "      <td>0.094756</td>\n",
       "      <td>1</td>\n",
       "      <td>0.819467</td>\n",
       "    </tr>\n",
       "    <tr>\n",
       "      <th>47</th>\n",
       "      <td>-0.453255</td>\n",
       "      <td>0</td>\n",
       "      <td>0.205440</td>\n",
       "    </tr>\n",
       "    <tr>\n",
       "      <th>48</th>\n",
       "      <td>20.734892</td>\n",
       "      <td>38</td>\n",
       "      <td>298.083958</td>\n",
       "    </tr>\n",
       "    <tr>\n",
       "      <th>49</th>\n",
       "      <td>2.951586</td>\n",
       "      <td>0</td>\n",
       "      <td>8.711861</td>\n",
       "    </tr>\n",
       "  </tbody>\n",
       "</table>\n",
       "</div>"
      ],
      "text/plain": [
       "    prediction  y_val  absolute_diff\n",
       "0    69.960953    110    1603.125304\n",
       "1     0.337949      0       0.114210\n",
       "2    -0.453255      0       0.205440\n",
       "3    16.759592     13      14.134532\n",
       "4     0.351359      0       0.123453\n",
       "5     0.048618      0       0.002364\n",
       "6     0.273098      0       0.074583\n",
       "7    -0.214559      3      10.333391\n",
       "8    -0.148235      0       0.021974\n",
       "9    -0.453255      2       6.018462\n",
       "10   -0.453255      0       0.205440\n",
       "11    5.343935      8       7.054681\n",
       "12   -0.432681      0       0.187213\n",
       "13    1.423891      2       0.331902\n",
       "14    1.095865      0       1.200920\n",
       "15   80.449158     99     344.133749\n",
       "16   -0.453255      0       0.205440\n",
       "17    0.520600      0       0.271024\n",
       "18   -0.453255      3      11.924973\n",
       "19   -0.304118      0       0.092488\n",
       "20   -0.432873      0       0.187379\n",
       "21   76.274071    117    1658.601314\n",
       "22   11.066083      7      16.533031\n",
       "23    2.968459      0       8.811747\n",
       "24    0.504695      3       6.226548\n",
       "25    1.411918      0       1.993511\n",
       "26    0.822297      1       0.031578\n",
       "27   -0.186866      0       0.034919\n",
       "28    0.644327      1       0.126503\n",
       "29    0.199434      0       0.039774\n",
       "30    5.391737     11      31.452609\n",
       "31    5.072279      3       4.294342\n",
       "32   -0.453255      0       0.205440\n",
       "33   -0.068413      2       4.278332\n",
       "34    0.784572      0       0.615554\n",
       "35   -0.333486      0       0.111213\n",
       "36    3.814409      1       7.920901\n",
       "37   66.754730     41     663.306129\n",
       "38    0.024889      0       0.000619\n",
       "39   -0.453255      0       0.205440\n",
       "40    0.015408      0       0.000237\n",
       "41   -0.453255      1       2.111951\n",
       "42   -0.453255      0       0.205440\n",
       "43   -0.453255      0       0.205440\n",
       "44   -0.453255      0       0.205440\n",
       "45    2.150360      1       1.323328\n",
       "46    0.094756      1       0.819467\n",
       "47   -0.453255      0       0.205440\n",
       "48   20.734892     38     298.083958\n",
       "49    2.951586      0       8.711861"
      ]
     },
     "execution_count": 190,
     "metadata": {},
     "output_type": "execute_result"
    }
   ],
   "source": [
    "#Let's have a look at the 50 first rows to see how well we performed\n",
    "\n",
    "comparaison=pd.concat([pd.DataFrame(prediction_unscaled).rename(columns={0:'prediction'}),pd.DataFrame(y_val).rename(columns={0:'y_val'})],axis=1)\n",
    "\n",
    "#We add a new indicator, the absolute difference\n",
    "comparaison['absolute_diff']=comparaison.apply(lambda x: (x['prediction']-x['y_val'])**2,axis=1)\n",
    "comparaison.head(50)"
   ]
  },
  {
   "cell_type": "code",
   "execution_count": 184,
   "metadata": {},
   "outputs": [
    {
     "data": {
      "text/html": [
       "<div>\n",
       "<style scoped>\n",
       "    .dataframe tbody tr th:only-of-type {\n",
       "        vertical-align: middle;\n",
       "    }\n",
       "\n",
       "    .dataframe tbody tr th {\n",
       "        vertical-align: top;\n",
       "    }\n",
       "\n",
       "    .dataframe thead th {\n",
       "        text-align: right;\n",
       "    }\n",
       "</style>\n",
       "<table border=\"1\" class=\"dataframe\">\n",
       "  <thead>\n",
       "    <tr style=\"text-align: right;\">\n",
       "      <th></th>\n",
       "      <th>prediction</th>\n",
       "      <th>y_val</th>\n",
       "      <th>absolute_diff</th>\n",
       "    </tr>\n",
       "  </thead>\n",
       "  <tbody>\n",
       "    <tr>\n",
       "      <th>count</th>\n",
       "      <td>11526.000000</td>\n",
       "      <td>11526.000000</td>\n",
       "      <td>1.152600e+04</td>\n",
       "    </tr>\n",
       "    <tr>\n",
       "      <th>mean</th>\n",
       "      <td>8.518891</td>\n",
       "      <td>8.973712</td>\n",
       "      <td>5.790561e+02</td>\n",
       "    </tr>\n",
       "    <tr>\n",
       "      <th>std</th>\n",
       "      <td>51.864639</td>\n",
       "      <td>49.614875</td>\n",
       "      <td>1.036217e+04</td>\n",
       "    </tr>\n",
       "    <tr>\n",
       "      <th>min</th>\n",
       "      <td>-13.170770</td>\n",
       "      <td>0.000000</td>\n",
       "      <td>8.241259e-08</td>\n",
       "    </tr>\n",
       "    <tr>\n",
       "      <th>25%</th>\n",
       "      <td>-0.453255</td>\n",
       "      <td>0.000000</td>\n",
       "      <td>2.054404e-01</td>\n",
       "    </tr>\n",
       "    <tr>\n",
       "      <th>50%</th>\n",
       "      <td>0.194038</td>\n",
       "      <td>0.000000</td>\n",
       "      <td>2.316902e-01</td>\n",
       "    </tr>\n",
       "    <tr>\n",
       "      <th>75%</th>\n",
       "      <td>2.431689</td>\n",
       "      <td>3.000000</td>\n",
       "      <td>4.584697e+00</td>\n",
       "    </tr>\n",
       "    <tr>\n",
       "      <th>max</th>\n",
       "      <td>2480.384766</td>\n",
       "      <td>2653.000000</td>\n",
       "      <td>5.737221e+05</td>\n",
       "    </tr>\n",
       "  </tbody>\n",
       "</table>\n",
       "</div>"
      ],
      "text/plain": [
       "         prediction         y_val  absolute_diff\n",
       "count  11526.000000  11526.000000   1.152600e+04\n",
       "mean       8.518891      8.973712   5.790561e+02\n",
       "std       51.864639     49.614875   1.036217e+04\n",
       "min      -13.170770      0.000000   8.241259e-08\n",
       "25%       -0.453255      0.000000   2.054404e-01\n",
       "50%        0.194038      0.000000   2.316902e-01\n",
       "75%        2.431689      3.000000   4.584697e+00\n",
       "max     2480.384766   2653.000000   5.737221e+05"
      ]
     },
     "execution_count": 184,
     "metadata": {},
     "output_type": "execute_result"
    }
   ],
   "source": [
    "comparaison.describe()"
   ]
  },
  {
   "cell_type": "code",
   "execution_count": 185,
   "metadata": {},
   "outputs": [
    {
     "data": {
      "text/plain": [
       "579.0561184201813"
      ]
     },
     "execution_count": 185,
     "metadata": {},
     "output_type": "execute_result"
    }
   ],
   "source": [
    "comparaison['absolute_diff'].sum()/y_val.size"
   ]
  },
  {
   "cell_type": "raw",
   "metadata": {},
   "source": [
    "Ce que l'on remarque : pour 75% des prédictions, l'écart à la valeur réelle est inférieure à 0.46\n",
    "On travaille avec des valeurs entières, dont la majeur partie valent 0 (voir la ligne 50% de y_val)\n",
    "==> Que se passe-t-il si on introduit une fonction qui arrondi à l'entier le plus proche ?"
   ]
  },
  {
   "cell_type": "code",
   "execution_count": 191,
   "metadata": {},
   "outputs": [],
   "source": [
    "comparaison['prediction_rounded']=comparaison['prediction'].apply(lambda x: round(x))\n",
    "comparaison['diff_rounded']=comparaison.apply(lambda x: (x['prediction_rounded']-x['y_val'])**2,axis=1)"
   ]
  },
  {
   "cell_type": "code",
   "execution_count": 187,
   "metadata": {},
   "outputs": [
    {
     "data": {
      "text/html": [
       "<div>\n",
       "<style scoped>\n",
       "    .dataframe tbody tr th:only-of-type {\n",
       "        vertical-align: middle;\n",
       "    }\n",
       "\n",
       "    .dataframe tbody tr th {\n",
       "        vertical-align: top;\n",
       "    }\n",
       "\n",
       "    .dataframe thead th {\n",
       "        text-align: right;\n",
       "    }\n",
       "</style>\n",
       "<table border=\"1\" class=\"dataframe\">\n",
       "  <thead>\n",
       "    <tr style=\"text-align: right;\">\n",
       "      <th></th>\n",
       "      <th>prediction</th>\n",
       "      <th>y_val</th>\n",
       "      <th>absolute_diff</th>\n",
       "      <th>prediction_rounded</th>\n",
       "      <th>diff_rounded</th>\n",
       "    </tr>\n",
       "  </thead>\n",
       "  <tbody>\n",
       "    <tr>\n",
       "      <th>count</th>\n",
       "      <td>11526.000000</td>\n",
       "      <td>11526.000000</td>\n",
       "      <td>1.152600e+04</td>\n",
       "      <td>11526.000000</td>\n",
       "      <td>11526.000000</td>\n",
       "    </tr>\n",
       "    <tr>\n",
       "      <th>mean</th>\n",
       "      <td>8.518891</td>\n",
       "      <td>8.973712</td>\n",
       "      <td>5.790561e+02</td>\n",
       "      <td>8.681069</td>\n",
       "      <td>578.909509</td>\n",
       "    </tr>\n",
       "    <tr>\n",
       "      <th>std</th>\n",
       "      <td>51.864639</td>\n",
       "      <td>49.614875</td>\n",
       "      <td>1.036217e+04</td>\n",
       "      <td>51.835997</td>\n",
       "      <td>10358.703288</td>\n",
       "    </tr>\n",
       "    <tr>\n",
       "      <th>min</th>\n",
       "      <td>-13.170770</td>\n",
       "      <td>0.000000</td>\n",
       "      <td>8.241259e-08</td>\n",
       "      <td>-13.000000</td>\n",
       "      <td>0.000000</td>\n",
       "    </tr>\n",
       "    <tr>\n",
       "      <th>25%</th>\n",
       "      <td>-0.453255</td>\n",
       "      <td>0.000000</td>\n",
       "      <td>2.054404e-01</td>\n",
       "      <td>0.000000</td>\n",
       "      <td>0.000000</td>\n",
       "    </tr>\n",
       "    <tr>\n",
       "      <th>50%</th>\n",
       "      <td>0.194038</td>\n",
       "      <td>0.000000</td>\n",
       "      <td>2.316902e-01</td>\n",
       "      <td>0.000000</td>\n",
       "      <td>0.000000</td>\n",
       "    </tr>\n",
       "    <tr>\n",
       "      <th>75%</th>\n",
       "      <td>2.431689</td>\n",
       "      <td>3.000000</td>\n",
       "      <td>4.584697e+00</td>\n",
       "      <td>2.000000</td>\n",
       "      <td>4.000000</td>\n",
       "    </tr>\n",
       "    <tr>\n",
       "      <th>max</th>\n",
       "      <td>2480.384766</td>\n",
       "      <td>2653.000000</td>\n",
       "      <td>5.737221e+05</td>\n",
       "      <td>2480.000000</td>\n",
       "      <td>573049.000000</td>\n",
       "    </tr>\n",
       "  </tbody>\n",
       "</table>\n",
       "</div>"
      ],
      "text/plain": [
       "         prediction         y_val  absolute_diff  prediction_rounded  \\\n",
       "count  11526.000000  11526.000000   1.152600e+04        11526.000000   \n",
       "mean       8.518891      8.973712   5.790561e+02            8.681069   \n",
       "std       51.864639     49.614875   1.036217e+04           51.835997   \n",
       "min      -13.170770      0.000000   8.241259e-08          -13.000000   \n",
       "25%       -0.453255      0.000000   2.054404e-01            0.000000   \n",
       "50%        0.194038      0.000000   2.316902e-01            0.000000   \n",
       "75%        2.431689      3.000000   4.584697e+00            2.000000   \n",
       "max     2480.384766   2653.000000   5.737221e+05         2480.000000   \n",
       "\n",
       "        diff_rounded  \n",
       "count   11526.000000  \n",
       "mean      578.909509  \n",
       "std     10358.703288  \n",
       "min         0.000000  \n",
       "25%         0.000000  \n",
       "50%         0.000000  \n",
       "75%         4.000000  \n",
       "max    573049.000000  "
      ]
     },
     "execution_count": 187,
     "metadata": {},
     "output_type": "execute_result"
    }
   ],
   "source": [
    "#Let's have a look at how well we improved the model with this improvement\n",
    "comparaison.describe()"
   ]
  },
  {
   "cell_type": "raw",
   "metadata": {},
   "source": [
    "We have to admit that it doesn't change much, even though we do minimize a bit the mean squared error (from 579.056 to 578.909)"
   ]
  },
  {
   "cell_type": "raw",
   "metadata": {},
   "source": [
    "But we can see that almost half of the predictions are bellow zero, while we try to predict a number of insults, we could round everything bellow zero to zero"
   ]
  },
  {
   "cell_type": "code",
   "execution_count": 194,
   "metadata": {},
   "outputs": [],
   "source": [
    "def no_negatives(x):\n",
    "    if x<0:\n",
    "        return 0\n",
    "    return x\n",
    "comparaison['prediction_no_negatives']=comparaison['prediction_rounded'].apply(lambda x: no_negatives(x))\n",
    "comparaison['diff_no_negatives']=comparaison.apply(lambda x: (x['prediction_no_negatives']-x['y_val'])**2,axis=1)"
   ]
  },
  {
   "cell_type": "code",
   "execution_count": 195,
   "metadata": {
    "scrolled": true
   },
   "outputs": [
    {
     "data": {
      "text/html": [
       "<div>\n",
       "<style scoped>\n",
       "    .dataframe tbody tr th:only-of-type {\n",
       "        vertical-align: middle;\n",
       "    }\n",
       "\n",
       "    .dataframe tbody tr th {\n",
       "        vertical-align: top;\n",
       "    }\n",
       "\n",
       "    .dataframe thead th {\n",
       "        text-align: right;\n",
       "    }\n",
       "</style>\n",
       "<table border=\"1\" class=\"dataframe\">\n",
       "  <thead>\n",
       "    <tr style=\"text-align: right;\">\n",
       "      <th></th>\n",
       "      <th>prediction</th>\n",
       "      <th>y_val</th>\n",
       "      <th>absolute_diff</th>\n",
       "      <th>prediction_rounded</th>\n",
       "      <th>diff_rounded</th>\n",
       "      <th>prediction_no_negatives</th>\n",
       "      <th>diff_no_negatives</th>\n",
       "    </tr>\n",
       "  </thead>\n",
       "  <tbody>\n",
       "    <tr>\n",
       "      <th>count</th>\n",
       "      <td>11526.000000</td>\n",
       "      <td>11526.000000</td>\n",
       "      <td>1.152600e+04</td>\n",
       "      <td>11526.000000</td>\n",
       "      <td>11526.000000</td>\n",
       "      <td>11526.000000</td>\n",
       "      <td>11526.000000</td>\n",
       "    </tr>\n",
       "    <tr>\n",
       "      <th>mean</th>\n",
       "      <td>8.518891</td>\n",
       "      <td>8.973712</td>\n",
       "      <td>5.790561e+02</td>\n",
       "      <td>8.681069</td>\n",
       "      <td>578.909509</td>\n",
       "      <td>8.684539</td>\n",
       "      <td>578.873937</td>\n",
       "    </tr>\n",
       "    <tr>\n",
       "      <th>std</th>\n",
       "      <td>51.864639</td>\n",
       "      <td>49.614875</td>\n",
       "      <td>1.036217e+04</td>\n",
       "      <td>51.835997</td>\n",
       "      <td>10358.703288</td>\n",
       "      <td>51.835114</td>\n",
       "      <td>10358.705042</td>\n",
       "    </tr>\n",
       "    <tr>\n",
       "      <th>min</th>\n",
       "      <td>-13.170770</td>\n",
       "      <td>0.000000</td>\n",
       "      <td>8.241259e-08</td>\n",
       "      <td>-13.000000</td>\n",
       "      <td>0.000000</td>\n",
       "      <td>0.000000</td>\n",
       "      <td>0.000000</td>\n",
       "    </tr>\n",
       "    <tr>\n",
       "      <th>25%</th>\n",
       "      <td>-0.453255</td>\n",
       "      <td>0.000000</td>\n",
       "      <td>2.054404e-01</td>\n",
       "      <td>0.000000</td>\n",
       "      <td>0.000000</td>\n",
       "      <td>0.000000</td>\n",
       "      <td>0.000000</td>\n",
       "    </tr>\n",
       "    <tr>\n",
       "      <th>50%</th>\n",
       "      <td>0.194038</td>\n",
       "      <td>0.000000</td>\n",
       "      <td>2.316902e-01</td>\n",
       "      <td>0.000000</td>\n",
       "      <td>0.000000</td>\n",
       "      <td>0.000000</td>\n",
       "      <td>0.000000</td>\n",
       "    </tr>\n",
       "    <tr>\n",
       "      <th>75%</th>\n",
       "      <td>2.431689</td>\n",
       "      <td>3.000000</td>\n",
       "      <td>4.584697e+00</td>\n",
       "      <td>2.000000</td>\n",
       "      <td>4.000000</td>\n",
       "      <td>2.000000</td>\n",
       "      <td>4.000000</td>\n",
       "    </tr>\n",
       "    <tr>\n",
       "      <th>max</th>\n",
       "      <td>2480.384766</td>\n",
       "      <td>2653.000000</td>\n",
       "      <td>5.737221e+05</td>\n",
       "      <td>2480.000000</td>\n",
       "      <td>573049.000000</td>\n",
       "      <td>2480.000000</td>\n",
       "      <td>573049.000000</td>\n",
       "    </tr>\n",
       "  </tbody>\n",
       "</table>\n",
       "</div>"
      ],
      "text/plain": [
       "         prediction         y_val  absolute_diff  prediction_rounded  \\\n",
       "count  11526.000000  11526.000000   1.152600e+04        11526.000000   \n",
       "mean       8.518891      8.973712   5.790561e+02            8.681069   \n",
       "std       51.864639     49.614875   1.036217e+04           51.835997   \n",
       "min      -13.170770      0.000000   8.241259e-08          -13.000000   \n",
       "25%       -0.453255      0.000000   2.054404e-01            0.000000   \n",
       "50%        0.194038      0.000000   2.316902e-01            0.000000   \n",
       "75%        2.431689      3.000000   4.584697e+00            2.000000   \n",
       "max     2480.384766   2653.000000   5.737221e+05         2480.000000   \n",
       "\n",
       "        diff_rounded  prediction_no_negatives  diff_no_negatives  \n",
       "count   11526.000000             11526.000000       11526.000000  \n",
       "mean      578.909509                 8.684539         578.873937  \n",
       "std     10358.703288                51.835114       10358.705042  \n",
       "min         0.000000                 0.000000           0.000000  \n",
       "25%         0.000000                 0.000000           0.000000  \n",
       "50%         0.000000                 0.000000           0.000000  \n",
       "75%         4.000000                 2.000000           4.000000  \n",
       "max    573049.000000              2480.000000      573049.000000  "
      ]
     },
     "execution_count": 195,
     "metadata": {},
     "output_type": "execute_result"
    }
   ],
   "source": [
    "#Let's have a look at how well we improved the model with this improvement\n",
    "comparaison.describe()"
   ]
  },
  {
   "cell_type": "raw",
   "metadata": {},
   "source": [
    "This actually decrease the mse by almost two points (from 135.7013 to 133.9622)\n",
    "More than 75% of the predictions are closer than 0.44 to the real value\n",
    "The standard deviation of the mse also went down by a point from 4118 to 4117"
   ]
  },
  {
   "cell_type": "markdown",
   "metadata": {},
   "source": [
    "# New Model with 2 hidden layers"
   ]
  },
  {
   "cell_type": "code",
   "execution_count": 197,
   "metadata": {},
   "outputs": [
    {
     "name": "stdout",
     "output_type": "stream",
     "text": [
      "Model: \"sequential_4\"\n",
      "_________________________________________________________________\n",
      "Layer (type)                 Output Shape              Param #   \n",
      "=================================================================\n",
      "dense_13 (Dense)             (None, 28)                812       \n",
      "_________________________________________________________________\n",
      "dense_14 (Dense)             (None, 1589)              46081     \n",
      "_________________________________________________________________\n",
      "dense_15 (Dense)             (None, 1589)              2526510   \n",
      "_________________________________________________________________\n",
      "dense_16 (Dense)             (None, 1)                 1590      \n",
      "=================================================================\n",
      "Total params: 2,574,993\n",
      "Trainable params: 2,574,993\n",
      "Non-trainable params: 0\n",
      "_________________________________________________________________\n"
     ]
    }
   ],
   "source": [
    "#4. Setting up the model\n",
    "num_features=x.shape[1]\n",
    "hidden_layers=x.shape[0]/(num_features+1)\n",
    "\n",
    "new_model = Sequential()\n",
    "new_model.add(Dense(num_features, input_dim=num_features, kernel_initializer='normal', activation='relu'))\n",
    "new_model.add(Dense(hidden_layers, activation='relu'))\n",
    "new_model.add(Dense(hidden_layers, activation='relu'))\n",
    "new_model.add(Dense(1, activation='linear'))\n",
    "new_model.summary()"
   ]
  },
  {
   "cell_type": "code",
   "execution_count": 205,
   "metadata": {},
   "outputs": [
    {
     "name": "stdout",
     "output_type": "stream",
     "text": [
      "Epoch 1/150\n",
      "185/185 [==============================] - 0s 2ms/step - loss: 1.7179e-06 - mse: 1.7179e-06 - mae: 5.1864e-04 - val_loss: 8.5063e-06 - val_mse: 8.5063e-06 - val_mae: 5.6022e-04\n",
      "Epoch 2/150\n",
      "185/185 [==============================] - 0s 1ms/step - loss: 1.5437e-06 - mse: 1.5437e-06 - mae: 4.9452e-04 - val_loss: 8.6524e-06 - val_mse: 8.6524e-06 - val_mae: 6.2150e-04\n",
      "Epoch 3/150\n",
      "185/185 [==============================] - 0s 2ms/step - loss: 1.6078e-06 - mse: 1.6078e-06 - mae: 5.0499e-04 - val_loss: 8.3734e-06 - val_mse: 8.3734e-06 - val_mae: 5.6362e-04\n",
      "Epoch 4/150\n",
      "185/185 [==============================] - 0s 2ms/step - loss: 1.4384e-06 - mse: 1.4384e-06 - mae: 4.7912e-04 - val_loss: 8.4773e-06 - val_mse: 8.4773e-06 - val_mae: 7.2173e-04\n",
      "Epoch 5/150\n",
      "185/185 [==============================] - 0s 2ms/step - loss: 1.4692e-06 - mse: 1.4692e-06 - mae: 4.9821e-04 - val_loss: 8.9328e-06 - val_mse: 8.9328e-06 - val_mae: 5.6596e-04\n",
      "Epoch 6/150\n",
      "185/185 [==============================] - 0s 2ms/step - loss: 1.4550e-06 - mse: 1.4550e-06 - mae: 4.8582e-04 - val_loss: 9.0679e-06 - val_mse: 9.0679e-06 - val_mae: 7.1696e-04\n",
      "Epoch 7/150\n",
      "185/185 [==============================] - 0s 2ms/step - loss: 1.5019e-06 - mse: 1.5019e-06 - mae: 4.9838e-04 - val_loss: 8.8437e-06 - val_mse: 8.8437e-06 - val_mae: 7.7528e-04\n",
      "Epoch 8/150\n",
      "185/185 [==============================] - 0s 2ms/step - loss: 1.6499e-06 - mse: 1.6499e-06 - mae: 5.3154e-04 - val_loss: 9.2737e-06 - val_mse: 9.2737e-06 - val_mae: 5.8753e-04\n",
      "Epoch 9/150\n",
      "185/185 [==============================] - 0s 2ms/step - loss: 1.7650e-06 - mse: 1.7650e-06 - mae: 5.1274e-04 - val_loss: 1.1412e-05 - val_mse: 1.1412e-05 - val_mae: 6.0719e-04\n",
      "Epoch 10/150\n",
      "185/185 [==============================] - 0s 1ms/step - loss: 1.6622e-06 - mse: 1.6622e-06 - mae: 5.2089e-04 - val_loss: 1.0579e-05 - val_mse: 1.0579e-05 - val_mae: 8.3158e-04\n",
      "Epoch 11/150\n",
      "185/185 [==============================] - 0s 2ms/step - loss: 1.5550e-06 - mse: 1.5550e-06 - mae: 5.0940e-04 - val_loss: 9.7474e-06 - val_mse: 9.7474e-06 - val_mae: 5.6835e-04\n",
      "Epoch 12/150\n",
      "185/185 [==============================] - 0s 2ms/step - loss: 1.4901e-06 - mse: 1.4901e-06 - mae: 4.8036e-04 - val_loss: 1.0341e-05 - val_mse: 1.0341e-05 - val_mae: 5.8599e-04\n",
      "Epoch 13/150\n",
      "185/185 [==============================] - 0s 2ms/step - loss: 1.6495e-06 - mse: 1.6495e-06 - mae: 5.1709e-04 - val_loss: 9.8254e-06 - val_mse: 9.8254e-06 - val_mae: 6.3604e-04\n",
      "Epoch 14/150\n",
      "185/185 [==============================] - 0s 2ms/step - loss: 2.0612e-06 - mse: 2.0612e-06 - mae: 5.3656e-04 - val_loss: 8.8212e-06 - val_mse: 8.8212e-06 - val_mae: 5.9045e-04\n",
      "Epoch 15/150\n",
      "185/185 [==============================] - 0s 2ms/step - loss: 1.7620e-06 - mse: 1.7620e-06 - mae: 5.2711e-04 - val_loss: 8.7515e-06 - val_mse: 8.7515e-06 - val_mae: 6.7250e-04\n",
      "Epoch 16/150\n",
      "185/185 [==============================] - 0s 2ms/step - loss: 1.4465e-06 - mse: 1.4465e-06 - mae: 4.8074e-04 - val_loss: 9.4787e-06 - val_mse: 9.4787e-06 - val_mae: 6.6548e-04\n",
      "Epoch 17/150\n",
      "185/185 [==============================] - 0s 1ms/step - loss: 1.4441e-06 - mse: 1.4441e-06 - mae: 4.8031e-04 - val_loss: 9.6077e-06 - val_mse: 9.6077e-06 - val_mae: 6.4715e-04\n",
      "Epoch 18/150\n",
      "185/185 [==============================] - 0s 2ms/step - loss: 1.4510e-06 - mse: 1.4510e-06 - mae: 5.0187e-04 - val_loss: 9.1917e-06 - val_mse: 9.1917e-06 - val_mae: 7.1273e-04\n",
      "Epoch 19/150\n",
      "185/185 [==============================] - 0s 1ms/step - loss: 1.4942e-06 - mse: 1.4942e-06 - mae: 4.9554e-04 - val_loss: 1.0387e-05 - val_mse: 1.0387e-05 - val_mae: 7.4464e-04\n",
      "Epoch 20/150\n",
      "185/185 [==============================] - 0s 2ms/step - loss: 1.5166e-06 - mse: 1.5166e-06 - mae: 4.8118e-04 - val_loss: 1.0898e-05 - val_mse: 1.0898e-05 - val_mae: 7.8552e-04\n",
      "Epoch 21/150\n",
      "185/185 [==============================] - 0s 2ms/step - loss: 1.5580e-06 - mse: 1.5580e-06 - mae: 4.9153e-04 - val_loss: 1.1388e-05 - val_mse: 1.1388e-05 - val_mae: 8.3165e-04\n",
      "Epoch 22/150\n",
      "185/185 [==============================] - 0s 2ms/step - loss: 1.6007e-06 - mse: 1.6007e-06 - mae: 5.0697e-04 - val_loss: 1.0311e-05 - val_mse: 1.0311e-05 - val_mae: 7.7249e-04\n",
      "Epoch 23/150\n",
      "185/185 [==============================] - 0s 2ms/step - loss: 1.4781e-06 - mse: 1.4781e-06 - mae: 5.0388e-04 - val_loss: 9.4871e-06 - val_mse: 9.4871e-06 - val_mae: 6.2012e-04\n",
      "Epoch 24/150\n",
      "185/185 [==============================] - 0s 2ms/step - loss: 1.5389e-06 - mse: 1.5389e-06 - mae: 4.9937e-04 - val_loss: 9.3108e-06 - val_mse: 9.3108e-06 - val_mae: 6.1779e-04\n",
      "Epoch 25/150\n",
      "185/185 [==============================] - 0s 2ms/step - loss: 1.5383e-06 - mse: 1.5383e-06 - mae: 4.8779e-04 - val_loss: 8.8117e-06 - val_mse: 8.8117e-06 - val_mae: 7.3026e-04\n",
      "Epoch 26/150\n",
      "185/185 [==============================] - 0s 2ms/step - loss: 1.6296e-06 - mse: 1.6296e-06 - mae: 5.1643e-04 - val_loss: 8.3591e-06 - val_mse: 8.3591e-06 - val_mae: 8.4987e-04\n",
      "Epoch 27/150\n",
      "185/185 [==============================] - 0s 2ms/step - loss: 1.6071e-06 - mse: 1.6071e-06 - mae: 4.9789e-04 - val_loss: 8.5299e-06 - val_mse: 8.5299e-06 - val_mae: 6.1779e-04\n",
      "Epoch 28/150\n",
      "185/185 [==============================] - 0s 2ms/step - loss: 1.4886e-06 - mse: 1.4886e-06 - mae: 4.8219e-04 - val_loss: 9.9356e-06 - val_mse: 9.9356e-06 - val_mae: 5.7580e-04\n",
      "Epoch 29/150\n",
      "185/185 [==============================] - 0s 2ms/step - loss: 1.5446e-06 - mse: 1.5446e-06 - mae: 5.1399e-04 - val_loss: 8.3408e-06 - val_mse: 8.3408e-06 - val_mae: 5.5896e-04\n",
      "Epoch 30/150\n",
      "185/185 [==============================] - 0s 2ms/step - loss: 1.5575e-06 - mse: 1.5575e-06 - mae: 4.8148e-04 - val_loss: 1.2582e-05 - val_mse: 1.2582e-05 - val_mae: 5.7983e-04\n",
      "Epoch 31/150\n",
      "185/185 [==============================] - 0s 1ms/step - loss: 1.5690e-06 - mse: 1.5690e-06 - mae: 4.8126e-04 - val_loss: 9.8406e-06 - val_mse: 9.8406e-06 - val_mae: 6.7924e-04\n",
      "Epoch 32/150\n",
      "185/185 [==============================] - 0s 1ms/step - loss: 1.7430e-06 - mse: 1.7430e-06 - mae: 5.1545e-04 - val_loss: 9.3493e-06 - val_mse: 9.3493e-06 - val_mae: 8.0955e-04\n",
      "Epoch 33/150\n",
      "185/185 [==============================] - 0s 1ms/step - loss: 1.5134e-06 - mse: 1.5134e-06 - mae: 4.8504e-04 - val_loss: 1.0488e-05 - val_mse: 1.0488e-05 - val_mae: 6.3268e-04\n",
      "Epoch 34/150\n",
      "185/185 [==============================] - 0s 2ms/step - loss: 1.4923e-06 - mse: 1.4923e-06 - mae: 5.1545e-04 - val_loss: 1.0301e-05 - val_mse: 1.0301e-05 - val_mae: 6.8630e-04\n",
      "Epoch 35/150\n",
      "185/185 [==============================] - 0s 1ms/step - loss: 1.5250e-06 - mse: 1.5250e-06 - mae: 5.0263e-04 - val_loss: 1.0579e-05 - val_mse: 1.0579e-05 - val_mae: 7.8756e-04\n",
      "Epoch 36/150\n",
      "185/185 [==============================] - 0s 1ms/step - loss: 1.6432e-06 - mse: 1.6432e-06 - mae: 5.1130e-04 - val_loss: 9.1997e-06 - val_mse: 9.1997e-06 - val_mae: 6.1345e-04\n",
      "Epoch 37/150\n",
      "185/185 [==============================] - 0s 1ms/step - loss: 1.5385e-06 - mse: 1.5385e-06 - mae: 4.8756e-04 - val_loss: 9.4558e-06 - val_mse: 9.4558e-06 - val_mae: 6.2301e-04\n",
      "Epoch 38/150\n",
      "185/185 [==============================] - 0s 1ms/step - loss: 1.5718e-06 - mse: 1.5718e-06 - mae: 4.8748e-04 - val_loss: 9.5897e-06 - val_mse: 9.5897e-06 - val_mae: 5.5656e-04\n",
      "Epoch 39/150\n",
      "185/185 [==============================] - 0s 1ms/step - loss: 1.6866e-06 - mse: 1.6866e-06 - mae: 5.1869e-04 - val_loss: 8.9698e-06 - val_mse: 8.9698e-06 - val_mae: 7.9767e-04\n",
      "Epoch 40/150\n",
      "185/185 [==============================] - 0s 1ms/step - loss: 1.5952e-06 - mse: 1.5952e-06 - mae: 4.9951e-04 - val_loss: 7.6046e-06 - val_mse: 7.6046e-06 - val_mae: 5.3273e-04\n",
      "Epoch 41/150\n",
      "185/185 [==============================] - 0s 1ms/step - loss: 1.5239e-06 - mse: 1.5239e-06 - mae: 4.8035e-04 - val_loss: 1.0609e-05 - val_mse: 1.0609e-05 - val_mae: 5.8965e-04\n",
      "Epoch 42/150\n",
      "185/185 [==============================] - 0s 1ms/step - loss: 1.4854e-06 - mse: 1.4854e-06 - mae: 4.9115e-04 - val_loss: 1.0879e-05 - val_mse: 1.0879e-05 - val_mae: 6.5687e-04\n",
      "Epoch 43/150\n",
      "185/185 [==============================] - 0s 1ms/step - loss: 1.4443e-06 - mse: 1.4443e-06 - mae: 4.7389e-04 - val_loss: 9.6575e-06 - val_mse: 9.6575e-06 - val_mae: 5.8567e-04\n",
      "Epoch 44/150\n"
     ]
    },
    {
     "name": "stdout",
     "output_type": "stream",
     "text": [
      "185/185 [==============================] - 0s 1ms/step - loss: 1.4264e-06 - mse: 1.4264e-06 - mae: 4.7730e-04 - val_loss: 1.1524e-05 - val_mse: 1.1524e-05 - val_mae: 6.6415e-04\n",
      "Epoch 45/150\n",
      "185/185 [==============================] - 0s 1ms/step - loss: 1.5099e-06 - mse: 1.5099e-06 - mae: 5.0408e-04 - val_loss: 8.8362e-06 - val_mse: 8.8362e-06 - val_mae: 7.9485e-04\n",
      "Epoch 46/150\n",
      "185/185 [==============================] - 0s 1ms/step - loss: 1.6165e-06 - mse: 1.6165e-06 - mae: 4.9785e-04 - val_loss: 1.0163e-05 - val_mse: 1.0163e-05 - val_mae: 5.8929e-04\n",
      "Epoch 47/150\n",
      "185/185 [==============================] - 0s 1ms/step - loss: 1.6768e-06 - mse: 1.6768e-06 - mae: 4.8795e-04 - val_loss: 1.0967e-05 - val_mse: 1.0967e-05 - val_mae: 8.7905e-04\n",
      "Epoch 48/150\n",
      "185/185 [==============================] - 0s 1ms/step - loss: 2.0488e-06 - mse: 2.0488e-06 - mae: 5.7373e-04 - val_loss: 9.7983e-06 - val_mse: 9.7983e-06 - val_mae: 6.0715e-04\n",
      "Epoch 49/150\n",
      "185/185 [==============================] - 0s 1ms/step - loss: 1.6115e-06 - mse: 1.6115e-06 - mae: 5.0564e-04 - val_loss: 8.5006e-06 - val_mse: 8.5006e-06 - val_mae: 5.3760e-04\n",
      "Epoch 50/150\n",
      "185/185 [==============================] - 0s 1ms/step - loss: 1.7210e-06 - mse: 1.7210e-06 - mae: 5.1468e-04 - val_loss: 9.4458e-06 - val_mse: 9.4458e-06 - val_mae: 6.5504e-04\n",
      "Epoch 51/150\n",
      "185/185 [==============================] - 0s 1ms/step - loss: 1.5392e-06 - mse: 1.5392e-06 - mae: 5.1059e-04 - val_loss: 8.5038e-06 - val_mse: 8.5038e-06 - val_mae: 6.1002e-04\n",
      "Epoch 52/150\n",
      "185/185 [==============================] - 0s 1ms/step - loss: 1.5302e-06 - mse: 1.5302e-06 - mae: 4.8243e-04 - val_loss: 9.0774e-06 - val_mse: 9.0774e-06 - val_mae: 8.5944e-04\n",
      "Epoch 53/150\n",
      "185/185 [==============================] - 0s 1ms/step - loss: 1.4770e-06 - mse: 1.4770e-06 - mae: 4.8904e-04 - val_loss: 8.8792e-06 - val_mse: 8.8792e-06 - val_mae: 7.4133e-04\n",
      "Epoch 54/150\n",
      "185/185 [==============================] - 0s 1ms/step - loss: 1.5438e-06 - mse: 1.5438e-06 - mae: 5.0069e-04 - val_loss: 8.5576e-06 - val_mse: 8.5576e-06 - val_mae: 8.7670e-04\n",
      "Epoch 55/150\n",
      "185/185 [==============================] - 0s 1ms/step - loss: 1.5846e-06 - mse: 1.5846e-06 - mae: 5.0082e-04 - val_loss: 8.6383e-06 - val_mse: 8.6383e-06 - val_mae: 5.9767e-04\n",
      "Epoch 56/150\n",
      "185/185 [==============================] - 0s 1ms/step - loss: 1.7055e-06 - mse: 1.7055e-06 - mae: 5.0459e-04 - val_loss: 8.8594e-06 - val_mse: 8.8594e-06 - val_mae: 6.8274e-04\n",
      "Epoch 57/150\n",
      "185/185 [==============================] - 0s 1ms/step - loss: 1.5789e-06 - mse: 1.5789e-06 - mae: 5.2253e-04 - val_loss: 8.9913e-06 - val_mse: 8.9913e-06 - val_mae: 5.7226e-04\n",
      "Epoch 58/150\n",
      "185/185 [==============================] - 0s 1ms/step - loss: 1.5765e-06 - mse: 1.5765e-06 - mae: 4.9494e-04 - val_loss: 8.5961e-06 - val_mse: 8.5961e-06 - val_mae: 6.8346e-04\n",
      "Epoch 59/150\n",
      "185/185 [==============================] - 0s 1ms/step - loss: 1.5851e-06 - mse: 1.5851e-06 - mae: 5.2975e-04 - val_loss: 1.0784e-05 - val_mse: 1.0784e-05 - val_mae: 7.3881e-04\n",
      "Epoch 60/150\n",
      "185/185 [==============================] - 0s 1ms/step - loss: 1.4898e-06 - mse: 1.4898e-06 - mae: 4.6356e-04 - val_loss: 9.1660e-06 - val_mse: 9.1660e-06 - val_mae: 6.6384e-04\n",
      "Epoch 61/150\n",
      "185/185 [==============================] - 0s 1ms/step - loss: 1.4997e-06 - mse: 1.4997e-06 - mae: 4.9814e-04 - val_loss: 8.9181e-06 - val_mse: 8.9181e-06 - val_mae: 6.8313e-04\n",
      "Epoch 62/150\n",
      "185/185 [==============================] - 0s 1ms/step - loss: 1.5312e-06 - mse: 1.5312e-06 - mae: 5.0545e-04 - val_loss: 9.7977e-06 - val_mse: 9.7977e-06 - val_mae: 8.3623e-04\n",
      "Epoch 63/150\n",
      "185/185 [==============================] - 0s 1ms/step - loss: 1.5176e-06 - mse: 1.5176e-06 - mae: 4.7921e-04 - val_loss: 9.2667e-06 - val_mse: 9.2667e-06 - val_mae: 7.8671e-04\n",
      "Epoch 64/150\n",
      "185/185 [==============================] - 0s 1ms/step - loss: 1.4901e-06 - mse: 1.4901e-06 - mae: 4.7924e-04 - val_loss: 8.4207e-06 - val_mse: 8.4207e-06 - val_mae: 6.0492e-04\n",
      "Epoch 65/150\n",
      "185/185 [==============================] - 0s 1ms/step - loss: 1.8543e-06 - mse: 1.8543e-06 - mae: 5.1989e-04 - val_loss: 8.6804e-06 - val_mse: 8.6804e-06 - val_mae: 7.4476e-04\n",
      "Epoch 66/150\n",
      "185/185 [==============================] - 0s 1ms/step - loss: 1.6446e-06 - mse: 1.6446e-06 - mae: 5.0044e-04 - val_loss: 7.4419e-06 - val_mse: 7.4419e-06 - val_mae: 5.5210e-04\n",
      "Epoch 67/150\n",
      "185/185 [==============================] - 0s 1ms/step - loss: 2.3303e-06 - mse: 2.3303e-06 - mae: 5.5094e-04 - val_loss: 1.1006e-05 - val_mse: 1.1006e-05 - val_mae: 5.9985e-04\n",
      "Epoch 68/150\n",
      "185/185 [==============================] - 0s 1ms/step - loss: 1.5560e-06 - mse: 1.5560e-06 - mae: 5.2180e-04 - val_loss: 9.0766e-06 - val_mse: 9.0766e-06 - val_mae: 6.3743e-04\n",
      "Epoch 69/150\n",
      "185/185 [==============================] - 0s 1ms/step - loss: 1.4732e-06 - mse: 1.4732e-06 - mae: 5.0209e-04 - val_loss: 9.5931e-06 - val_mse: 9.5931e-06 - val_mae: 5.6976e-04\n",
      "Epoch 70/150\n",
      "185/185 [==============================] - 0s 1ms/step - loss: 1.4798e-06 - mse: 1.4798e-06 - mae: 4.8302e-04 - val_loss: 9.9072e-06 - val_mse: 9.9072e-06 - val_mae: 7.9226e-04\n",
      "Epoch 71/150\n",
      "185/185 [==============================] - 0s 1ms/step - loss: 1.4323e-06 - mse: 1.4323e-06 - mae: 4.7290e-04 - val_loss: 1.0284e-05 - val_mse: 1.0284e-05 - val_mae: 6.1164e-04\n",
      "Epoch 72/150\n",
      "185/185 [==============================] - 0s 2ms/step - loss: 1.5275e-06 - mse: 1.5275e-06 - mae: 4.9093e-04 - val_loss: 9.0438e-06 - val_mse: 9.0438e-06 - val_mae: 5.7749e-04\n",
      "Epoch 73/150\n",
      "185/185 [==============================] - 0s 2ms/step - loss: 1.4801e-06 - mse: 1.4801e-06 - mae: 4.8840e-04 - val_loss: 8.3480e-06 - val_mse: 8.3480e-06 - val_mae: 5.5241e-04\n",
      "Epoch 74/150\n",
      "185/185 [==============================] - 0s 2ms/step - loss: 1.4653e-06 - mse: 1.4653e-06 - mae: 4.9729e-04 - val_loss: 9.6466e-06 - val_mse: 9.6466e-06 - val_mae: 6.8884e-04\n",
      "Epoch 75/150\n",
      "185/185 [==============================] - 0s 2ms/step - loss: 1.4812e-06 - mse: 1.4812e-06 - mae: 4.9327e-04 - val_loss: 8.3476e-06 - val_mse: 8.3476e-06 - val_mae: 5.4905e-04\n",
      "Epoch 76/150\n",
      "185/185 [==============================] - 0s 2ms/step - loss: 1.5764e-06 - mse: 1.5764e-06 - mae: 4.9366e-04 - val_loss: 9.9108e-06 - val_mse: 9.9108e-06 - val_mae: 5.7992e-04\n",
      "Epoch 77/150\n",
      "185/185 [==============================] - 0s 2ms/step - loss: 1.5363e-06 - mse: 1.5363e-06 - mae: 4.9187e-04 - val_loss: 1.0028e-05 - val_mse: 1.0028e-05 - val_mae: 7.2963e-04\n",
      "Epoch 78/150\n",
      "185/185 [==============================] - 0s 1ms/step - loss: 1.4739e-06 - mse: 1.4739e-06 - mae: 4.9949e-04 - val_loss: 9.0918e-06 - val_mse: 9.0918e-06 - val_mae: 5.5237e-04\n",
      "Epoch 79/150\n",
      "185/185 [==============================] - 0s 2ms/step - loss: 1.6345e-06 - mse: 1.6345e-06 - mae: 5.0470e-04 - val_loss: 9.1180e-06 - val_mse: 9.1180e-06 - val_mae: 5.9352e-04\n",
      "Epoch 80/150\n",
      "185/185 [==============================] - 0s 2ms/step - loss: 1.6463e-06 - mse: 1.6463e-06 - mae: 5.2096e-04 - val_loss: 1.0331e-05 - val_mse: 1.0331e-05 - val_mae: 7.6626e-04\n",
      "Epoch 81/150\n",
      "185/185 [==============================] - 0s 2ms/step - loss: 1.5950e-06 - mse: 1.5950e-06 - mae: 5.1397e-04 - val_loss: 1.2374e-05 - val_mse: 1.2374e-05 - val_mae: 6.7172e-04\n",
      "Epoch 82/150\n",
      "185/185 [==============================] - 0s 1ms/step - loss: 1.5086e-06 - mse: 1.5086e-06 - mae: 4.9281e-04 - val_loss: 1.1422e-05 - val_mse: 1.1422e-05 - val_mae: 6.2466e-04\n",
      "Epoch 83/150\n",
      "185/185 [==============================] - 0s 1ms/step - loss: 1.5644e-06 - mse: 1.5644e-06 - mae: 5.1854e-04 - val_loss: 8.5903e-06 - val_mse: 8.5903e-06 - val_mae: 5.8922e-04\n",
      "Epoch 84/150\n",
      "185/185 [==============================] - 0s 2ms/step - loss: 1.5071e-06 - mse: 1.5071e-06 - mae: 4.9370e-04 - val_loss: 1.1298e-05 - val_mse: 1.1298e-05 - val_mae: 6.2837e-04\n",
      "Epoch 85/150\n",
      "185/185 [==============================] - 0s 1ms/step - loss: 1.7781e-06 - mse: 1.7781e-06 - mae: 5.6417e-04 - val_loss: 1.1551e-05 - val_mse: 1.1551e-05 - val_mae: 6.1946e-04\n",
      "Epoch 86/150\n",
      "185/185 [==============================] - 0s 2ms/step - loss: 1.9001e-06 - mse: 1.9001e-06 - mae: 5.1732e-04 - val_loss: 1.3534e-05 - val_mse: 1.3534e-05 - val_mae: 5.7446e-04\n",
      "Epoch 87/150\n"
     ]
    },
    {
     "name": "stdout",
     "output_type": "stream",
     "text": [
      "185/185 [==============================] - 0s 2ms/step - loss: 1.6489e-06 - mse: 1.6489e-06 - mae: 5.0160e-04 - val_loss: 1.2488e-05 - val_mse: 1.2488e-05 - val_mae: 6.4450e-04\n",
      "Epoch 88/150\n",
      "185/185 [==============================] - 0s 1ms/step - loss: 1.5803e-06 - mse: 1.5803e-06 - mae: 4.9453e-04 - val_loss: 1.8026e-05 - val_mse: 1.8026e-05 - val_mae: 7.5018e-04\n",
      "Epoch 89/150\n",
      "185/185 [==============================] - 0s 2ms/step - loss: 1.6865e-06 - mse: 1.6865e-06 - mae: 5.1728e-04 - val_loss: 1.5907e-05 - val_mse: 1.5907e-05 - val_mae: 7.4585e-04\n",
      "Epoch 90/150\n",
      "185/185 [==============================] - 0s 1ms/step - loss: 1.6372e-06 - mse: 1.6372e-06 - mae: 5.0730e-04 - val_loss: 1.5920e-05 - val_mse: 1.5920e-05 - val_mae: 6.3258e-04\n",
      "Epoch 91/150\n",
      "185/185 [==============================] - 0s 1ms/step - loss: 1.5100e-06 - mse: 1.5100e-06 - mae: 4.9541e-04 - val_loss: 1.4062e-05 - val_mse: 1.4062e-05 - val_mae: 0.0011\n",
      "Epoch 92/150\n",
      "185/185 [==============================] - 0s 2ms/step - loss: 1.4900e-06 - mse: 1.4900e-06 - mae: 5.3112e-04 - val_loss: 1.2465e-05 - val_mse: 1.2465e-05 - val_mae: 6.9092e-04\n",
      "Epoch 93/150\n",
      "185/185 [==============================] - 0s 1ms/step - loss: 1.4931e-06 - mse: 1.4931e-06 - mae: 4.9376e-04 - val_loss: 1.4337e-05 - val_mse: 1.4337e-05 - val_mae: 6.1313e-04\n",
      "Epoch 94/150\n",
      "185/185 [==============================] - 0s 1ms/step - loss: 1.4711e-06 - mse: 1.4711e-06 - mae: 4.8966e-04 - val_loss: 1.2168e-05 - val_mse: 1.2168e-05 - val_mae: 7.9834e-04\n",
      "Epoch 95/150\n",
      "185/185 [==============================] - 0s 1ms/step - loss: 1.5690e-06 - mse: 1.5690e-06 - mae: 4.9159e-04 - val_loss: 1.1851e-05 - val_mse: 1.1851e-05 - val_mae: 5.7431e-04\n",
      "Epoch 96/150\n",
      "185/185 [==============================] - 0s 1ms/step - loss: 1.7466e-06 - mse: 1.7466e-06 - mae: 5.4497e-04 - val_loss: 1.2344e-05 - val_mse: 1.2344e-05 - val_mae: 5.8109e-04\n",
      "Epoch 97/150\n",
      "185/185 [==============================] - 0s 1ms/step - loss: 1.5985e-06 - mse: 1.5985e-06 - mae: 5.2483e-04 - val_loss: 1.8898e-05 - val_mse: 1.8898e-05 - val_mae: 6.9205e-04\n",
      "Epoch 98/150\n",
      "185/185 [==============================] - 0s 1ms/step - loss: 1.5890e-06 - mse: 1.5890e-06 - mae: 5.0016e-04 - val_loss: 1.0770e-05 - val_mse: 1.0770e-05 - val_mae: 6.2299e-04\n",
      "Epoch 99/150\n",
      "185/185 [==============================] - 0s 1ms/step - loss: 1.6061e-06 - mse: 1.6061e-06 - mae: 4.9832e-04 - val_loss: 1.5184e-05 - val_mse: 1.5184e-05 - val_mae: 6.1385e-04\n",
      "Epoch 100/150\n",
      "185/185 [==============================] - 0s 2ms/step - loss: 1.5786e-06 - mse: 1.5786e-06 - mae: 5.2177e-04 - val_loss: 1.2812e-05 - val_mse: 1.2812e-05 - val_mae: 8.1079e-04\n",
      "Epoch 101/150\n",
      "185/185 [==============================] - 0s 2ms/step - loss: 1.5799e-06 - mse: 1.5799e-06 - mae: 5.0286e-04 - val_loss: 1.6397e-05 - val_mse: 1.6397e-05 - val_mae: 7.1817e-04\n",
      "Epoch 102/150\n",
      "185/185 [==============================] - 0s 2ms/step - loss: 1.5055e-06 - mse: 1.5055e-06 - mae: 4.9772e-04 - val_loss: 1.5265e-05 - val_mse: 1.5265e-05 - val_mae: 7.4096e-04\n",
      "Epoch 103/150\n",
      "185/185 [==============================] - 0s 2ms/step - loss: 1.4663e-06 - mse: 1.4663e-06 - mae: 4.7744e-04 - val_loss: 1.1186e-05 - val_mse: 1.1186e-05 - val_mae: 5.8798e-04\n",
      "Epoch 104/150\n",
      "185/185 [==============================] - 1s 3ms/step - loss: 1.7469e-06 - mse: 1.7469e-06 - mae: 5.1900e-04 - val_loss: 1.0946e-05 - val_mse: 1.0946e-05 - val_mae: 5.8409e-04\n",
      "Epoch 105/150\n",
      "185/185 [==============================] - 0s 2ms/step - loss: 1.7953e-06 - mse: 1.7953e-06 - mae: 5.5859e-04 - val_loss: 1.1105e-05 - val_mse: 1.1105e-05 - val_mae: 6.4171e-04\n",
      "Epoch 106/150\n",
      "185/185 [==============================] - 0s 2ms/step - loss: 1.5037e-06 - mse: 1.5037e-06 - mae: 5.1663e-04 - val_loss: 1.2345e-05 - val_mse: 1.2345e-05 - val_mae: 5.7139e-04\n",
      "Epoch 107/150\n",
      "185/185 [==============================] - 0s 1ms/step - loss: 1.4351e-06 - mse: 1.4351e-06 - mae: 4.8496e-04 - val_loss: 1.0259e-05 - val_mse: 1.0259e-05 - val_mae: 5.8966e-04\n",
      "Epoch 108/150\n",
      "185/185 [==============================] - 0s 1ms/step - loss: 1.5147e-06 - mse: 1.5147e-06 - mae: 5.0724e-04 - val_loss: 1.3848e-05 - val_mse: 1.3848e-05 - val_mae: 6.2708e-04\n",
      "Epoch 109/150\n",
      "185/185 [==============================] - 0s 1ms/step - loss: 1.5237e-06 - mse: 1.5237e-06 - mae: 4.9471e-04 - val_loss: 1.1497e-05 - val_mse: 1.1497e-05 - val_mae: 5.8016e-04\n",
      "Epoch 110/150\n",
      "185/185 [==============================] - 0s 1ms/step - loss: 1.4284e-06 - mse: 1.4284e-06 - mae: 4.7619e-04 - val_loss: 1.1921e-05 - val_mse: 1.1921e-05 - val_mae: 6.1234e-04\n",
      "Epoch 111/150\n",
      "185/185 [==============================] - 0s 2ms/step - loss: 1.5757e-06 - mse: 1.5757e-06 - mae: 4.7681e-04 - val_loss: 1.1563e-05 - val_mse: 1.1563e-05 - val_mae: 5.7131e-04\n",
      "Epoch 112/150\n",
      "185/185 [==============================] - 0s 2ms/step - loss: 1.5352e-06 - mse: 1.5352e-06 - mae: 4.8105e-04 - val_loss: 1.1174e-05 - val_mse: 1.1174e-05 - val_mae: 6.0495e-04\n",
      "Epoch 113/150\n",
      "185/185 [==============================] - 0s 2ms/step - loss: 1.4812e-06 - mse: 1.4812e-06 - mae: 4.7860e-04 - val_loss: 1.2923e-05 - val_mse: 1.2923e-05 - val_mae: 6.2078e-04\n",
      "Epoch 114/150\n",
      "185/185 [==============================] - 0s 1ms/step - loss: 1.4979e-06 - mse: 1.4979e-06 - mae: 4.9203e-04 - val_loss: 1.2516e-05 - val_mse: 1.2516e-05 - val_mae: 5.7527e-04\n",
      "Epoch 115/150\n",
      "185/185 [==============================] - 0s 1ms/step - loss: 1.7892e-06 - mse: 1.7892e-06 - mae: 5.4178e-04 - val_loss: 1.4892e-05 - val_mse: 1.4892e-05 - val_mae: 8.3221e-04\n",
      "Epoch 116/150\n",
      "185/185 [==============================] - 0s 2ms/step - loss: 2.1551e-06 - mse: 2.1551e-06 - mae: 5.5418e-04 - val_loss: 8.3220e-06 - val_mse: 8.3220e-06 - val_mae: 6.4085e-04\n",
      "Epoch 117/150\n",
      "185/185 [==============================] - 0s 2ms/step - loss: 1.5223e-06 - mse: 1.5223e-06 - mae: 4.9248e-04 - val_loss: 1.3295e-05 - val_mse: 1.3295e-05 - val_mae: 7.5848e-04\n",
      "Epoch 118/150\n",
      "185/185 [==============================] - 0s 1ms/step - loss: 1.5451e-06 - mse: 1.5451e-06 - mae: 4.9406e-04 - val_loss: 9.0931e-06 - val_mse: 9.0931e-06 - val_mae: 6.5964e-04\n",
      "Epoch 119/150\n",
      "185/185 [==============================] - 0s 2ms/step - loss: 1.4790e-06 - mse: 1.4790e-06 - mae: 4.9174e-04 - val_loss: 1.0706e-05 - val_mse: 1.0706e-05 - val_mae: 5.9214e-04\n",
      "Epoch 120/150\n",
      "185/185 [==============================] - 0s 2ms/step - loss: 1.6148e-06 - mse: 1.6148e-06 - mae: 5.2473e-04 - val_loss: 9.3159e-06 - val_mse: 9.3159e-06 - val_mae: 5.7008e-04\n",
      "Epoch 121/150\n",
      "185/185 [==============================] - 0s 1ms/step - loss: 1.5355e-06 - mse: 1.5355e-06 - mae: 5.0139e-04 - val_loss: 9.5711e-06 - val_mse: 9.5711e-06 - val_mae: 6.3153e-04\n",
      "Epoch 122/150\n",
      "185/185 [==============================] - 0s 1ms/step - loss: 1.5005e-06 - mse: 1.5005e-06 - mae: 4.7337e-04 - val_loss: 1.0252e-05 - val_mse: 1.0252e-05 - val_mae: 5.8990e-04\n",
      "Epoch 123/150\n",
      "185/185 [==============================] - 0s 1ms/step - loss: 1.4669e-06 - mse: 1.4669e-06 - mae: 4.9410e-04 - val_loss: 1.1517e-05 - val_mse: 1.1517e-05 - val_mae: 6.5909e-04\n",
      "Epoch 124/150\n",
      "185/185 [==============================] - 0s 1ms/step - loss: 1.4383e-06 - mse: 1.4383e-06 - mae: 4.9004e-04 - val_loss: 1.0506e-05 - val_mse: 1.0506e-05 - val_mae: 6.4089e-04\n",
      "Epoch 125/150\n",
      "185/185 [==============================] - 0s 1ms/step - loss: 1.6157e-06 - mse: 1.6157e-06 - mae: 4.9555e-04 - val_loss: 1.0549e-05 - val_mse: 1.0549e-05 - val_mae: 6.0666e-04\n",
      "Epoch 126/150\n",
      "185/185 [==============================] - 0s 1ms/step - loss: 1.5702e-06 - mse: 1.5702e-06 - mae: 5.1186e-04 - val_loss: 7.8661e-06 - val_mse: 7.8661e-06 - val_mae: 5.7128e-04\n",
      "Epoch 127/150\n",
      "185/185 [==============================] - 0s 1ms/step - loss: 2.1117e-06 - mse: 2.1117e-06 - mae: 5.3499e-04 - val_loss: 1.0256e-05 - val_mse: 1.0256e-05 - val_mae: 5.7656e-04\n",
      "Epoch 128/150\n",
      "185/185 [==============================] - 0s 1ms/step - loss: 1.6190e-06 - mse: 1.6190e-06 - mae: 5.0086e-04 - val_loss: 1.0114e-05 - val_mse: 1.0114e-05 - val_mae: 6.2595e-04\n",
      "Epoch 129/150\n",
      "185/185 [==============================] - 0s 2ms/step - loss: 1.5601e-06 - mse: 1.5601e-06 - mae: 4.8890e-04 - val_loss: 8.0164e-06 - val_mse: 8.0164e-06 - val_mae: 5.9588e-04\n",
      "Epoch 130/150\n"
     ]
    },
    {
     "name": "stdout",
     "output_type": "stream",
     "text": [
      "185/185 [==============================] - 0s 1ms/step - loss: 1.7215e-06 - mse: 1.7215e-06 - mae: 5.1553e-04 - val_loss: 9.8326e-06 - val_mse: 9.8326e-06 - val_mae: 6.1941e-04\n",
      "Epoch 131/150\n",
      "185/185 [==============================] - 0s 2ms/step - loss: 1.4753e-06 - mse: 1.4753e-06 - mae: 4.6547e-04 - val_loss: 8.1117e-06 - val_mse: 8.1117e-06 - val_mae: 7.5008e-04\n",
      "Epoch 132/150\n",
      "185/185 [==============================] - 0s 2ms/step - loss: 1.4730e-06 - mse: 1.4730e-06 - mae: 4.9118e-04 - val_loss: 8.7948e-06 - val_mse: 8.7948e-06 - val_mae: 5.8028e-04\n",
      "Epoch 133/150\n",
      "185/185 [==============================] - 0s 1ms/step - loss: 1.4494e-06 - mse: 1.4494e-06 - mae: 4.8879e-04 - val_loss: 1.0767e-05 - val_mse: 1.0767e-05 - val_mae: 6.1297e-04\n",
      "Epoch 134/150\n",
      "185/185 [==============================] - 0s 1ms/step - loss: 1.5207e-06 - mse: 1.5207e-06 - mae: 5.3497e-04 - val_loss: 1.0106e-05 - val_mse: 1.0106e-05 - val_mae: 6.4428e-04\n",
      "Epoch 135/150\n",
      "185/185 [==============================] - 0s 2ms/step - loss: 1.5239e-06 - mse: 1.5239e-06 - mae: 4.8953e-04 - val_loss: 9.4216e-06 - val_mse: 9.4216e-06 - val_mae: 6.9269e-04\n",
      "Epoch 136/150\n",
      "185/185 [==============================] - 0s 2ms/step - loss: 1.5002e-06 - mse: 1.5002e-06 - mae: 5.1752e-04 - val_loss: 9.5351e-06 - val_mse: 9.5351e-06 - val_mae: 8.5387e-04\n",
      "Epoch 137/150\n",
      "185/185 [==============================] - 0s 2ms/step - loss: 1.5300e-06 - mse: 1.5300e-06 - mae: 4.7502e-04 - val_loss: 1.1733e-05 - val_mse: 1.1733e-05 - val_mae: 5.9637e-04\n",
      "Epoch 138/150\n",
      "185/185 [==============================] - 0s 2ms/step - loss: 1.5019e-06 - mse: 1.5019e-06 - mae: 4.9459e-04 - val_loss: 9.9255e-06 - val_mse: 9.9255e-06 - val_mae: 6.4224e-04\n",
      "Epoch 139/150\n",
      "185/185 [==============================] - 0s 1ms/step - loss: 1.5926e-06 - mse: 1.5926e-06 - mae: 5.0536e-04 - val_loss: 8.0713e-06 - val_mse: 8.0713e-06 - val_mae: 6.0828e-04\n",
      "Epoch 140/150\n",
      "185/185 [==============================] - 0s 1ms/step - loss: 1.4978e-06 - mse: 1.4978e-06 - mae: 4.8633e-04 - val_loss: 1.0014e-05 - val_mse: 1.0014e-05 - val_mae: 6.2110e-04\n",
      "Epoch 141/150\n",
      "185/185 [==============================] - 0s 2ms/step - loss: 1.4766e-06 - mse: 1.4766e-06 - mae: 4.9445e-04 - val_loss: 1.0362e-05 - val_mse: 1.0362e-05 - val_mae: 5.8839e-04\n",
      "Epoch 142/150\n",
      "185/185 [==============================] - 0s 1ms/step - loss: 1.5083e-06 - mse: 1.5083e-06 - mae: 4.8703e-04 - val_loss: 1.1381e-05 - val_mse: 1.1381e-05 - val_mae: 5.7073e-04\n",
      "Epoch 143/150\n",
      "185/185 [==============================] - 0s 2ms/step - loss: 1.6217e-06 - mse: 1.6217e-06 - mae: 5.0292e-04 - val_loss: 8.6493e-06 - val_mse: 8.6493e-06 - val_mae: 5.7639e-04\n",
      "Epoch 144/150\n",
      "185/185 [==============================] - 0s 2ms/step - loss: 1.5848e-06 - mse: 1.5848e-06 - mae: 5.0101e-04 - val_loss: 1.0063e-05 - val_mse: 1.0063e-05 - val_mae: 5.8256e-04\n",
      "Epoch 145/150\n",
      "185/185 [==============================] - 0s 1ms/step - loss: 1.5630e-06 - mse: 1.5630e-06 - mae: 4.9702e-04 - val_loss: 9.8564e-06 - val_mse: 9.8564e-06 - val_mae: 5.7025e-04\n",
      "Epoch 146/150\n",
      "185/185 [==============================] - 0s 1ms/step - loss: 1.7927e-06 - mse: 1.7927e-06 - mae: 5.2602e-04 - val_loss: 9.4483e-06 - val_mse: 9.4483e-06 - val_mae: 6.5936e-04\n",
      "Epoch 147/150\n",
      "185/185 [==============================] - 0s 2ms/step - loss: 1.8501e-06 - mse: 1.8501e-06 - mae: 5.4972e-04 - val_loss: 8.3829e-06 - val_mse: 8.3829e-06 - val_mae: 7.0800e-04\n",
      "Epoch 148/150\n",
      "185/185 [==============================] - 0s 1ms/step - loss: 1.5992e-06 - mse: 1.5992e-06 - mae: 5.0428e-04 - val_loss: 9.6673e-06 - val_mse: 9.6673e-06 - val_mae: 7.2128e-04\n",
      "Epoch 149/150\n",
      "185/185 [==============================] - 0s 1ms/step - loss: 1.4838e-06 - mse: 1.4838e-06 - mae: 4.9922e-04 - val_loss: 1.0321e-05 - val_mse: 1.0321e-05 - val_mae: 6.7876e-04\n",
      "Epoch 150/150\n",
      "185/185 [==============================] - 0s 1ms/step - loss: 1.6086e-06 - mse: 1.6086e-06 - mae: 4.9699e-04 - val_loss: 1.1003e-05 - val_mse: 1.1003e-05 - val_mae: 7.0531e-04\n"
     ]
    }
   ],
   "source": [
    "epoch=150\n",
    "batch=150\n",
    "\n",
    "new_model.compile(loss='mse', optimizer='adam', metrics=['mse','mae']) # mean_squared_error (mse) and mean_absolute_error (mae) are our loss functions\n",
    "history=model.fit(xtrain_scale, ytrain_scale, epochs=epoch, batch_size=batch, verbose=1, validation_split=0.2)\n",
    "predictions = model.predict(xval_scale)"
   ]
  },
  {
   "cell_type": "code",
   "execution_count": 214,
   "metadata": {},
   "outputs": [
    {
     "name": "stdout",
     "output_type": "stream",
     "text": [
      "dict_keys(['loss', 'mse', 'mae', 'val_loss', 'val_mse', 'val_mae'])\n"
     ]
    },
    {
     "data": {
      "image/png": "[encoded data removed]",
      "text/plain": [
       "<Figure size 432x288 with 1 Axes>"
      ]
     },
     "metadata": {
      "needs_background": "light"
     },
     "output_type": "display_data"
    }
   ],
   "source": [
    "#6.Evaluating the decrease of the model loss, we may need more epochs\n",
    "\n",
    "print(history.history.keys())\n",
    "# \"Loss\"\n",
    "plt.plot(history.history['loss'])\n",
    "plt.plot(history.history['val_loss'])\n",
    "plt.title('model loss')\n",
    "plt.ylabel('loss')\n",
    "plt.xlabel('epoch')\n",
    "plt.legend(['train', 'validation'], loc='upper left')\n",
    "plt.show()"
   ]
  },
  {
   "cell_type": "code",
   "execution_count": 202,
   "metadata": {},
   "outputs": [
    {
     "data": {
      "text/plain": [
       "740.9120461477172"
      ]
     },
     "execution_count": 202,
     "metadata": {},
     "output_type": "execute_result"
    }
   ],
   "source": [
    "prediction_unscaled=scaler_y.inverse_transform(predictions)\n",
    "sklearn.metrics.mean_squared_error(y_val, prediction_unscaled)"
   ]
  },
  {
   "cell_type": "raw",
   "metadata": {},
   "source": [
    "It is actually worst, and we have a big problem of overfitting, so we are going to simplify the neural network"
   ]
  },
  {
   "cell_type": "code",
   "execution_count": 203,
   "metadata": {},
   "outputs": [
    {
     "data": {
      "text/plain": [
       "4.730353311560731"
      ]
     },
     "execution_count": 203,
     "metadata": {},
     "output_type": "execute_result"
    }
   ],
   "source": [
    "mean_absolute_error(y_val, prediction_unscaled)"
   ]
  },
  {
   "cell_type": "code",
   "execution_count": 204,
   "metadata": {},
   "outputs": [
    {
     "data": {
      "text/plain": [
       "740.9120461477172"
      ]
     },
     "execution_count": 204,
     "metadata": {},
     "output_type": "execute_result"
    }
   ],
   "source": [
    "mean_squared_error(y_val, prediction_unscaled)"
   ]
  },
  {
   "cell_type": "markdown",
   "metadata": {},
   "source": [
    "# Simpler Model"
   ]
  },
  {
   "cell_type": "code",
   "execution_count": 350,
   "metadata": {
    "scrolled": false
   },
   "outputs": [
    {
     "name": "stdout",
     "output_type": "stream",
     "text": [
      "Model: \"sequential_23\"\n",
      "_________________________________________________________________\n",
      "Layer (type)                 Output Shape              Param #   \n",
      "=================================================================\n",
      "dense_72 (Dense)             (None, 28)                812       \n",
      "_________________________________________________________________\n",
      "dense_73 (Dense)             (None, 19)                551       \n",
      "_________________________________________________________________\n",
      "dense_74 (Dense)             (None, 1)                 20        \n",
      "=================================================================\n",
      "Total params: 1,383\n",
      "Trainable params: 1,383\n",
      "Non-trainable params: 0\n",
      "_________________________________________________________________\n"
     ]
    }
   ],
   "source": [
    "#4. Setting up the model\n",
    "num_features=x.shape[1]\n",
    "hidden_layers=2/3*(num_features+1)\n",
    "\n",
    "simpler_model = Sequential()\n",
    "simpler_model.add(Dense(num_features, input_dim=num_features, kernel_initializer='normal', activation='relu'))\n",
    "simpler_model.add(Dense(hidden_layers, activation='relu'))\n",
    "simpler_model.add(Dense(1, activation='linear'))\n",
    "simpler_model.summary()"
   ]
  },
  {
   "cell_type": "code",
   "execution_count": 351,
   "metadata": {},
   "outputs": [],
   "source": [
    "epoch=100\n",
    "batch=int(x.shape[0]/7)\n",
    "\n",
    "simpler_model.compile(loss='mse', optimizer='adam', metrics=['mse','mae']) # mean_squared_error (mse) and mean_absolute_error (mae) are our loss functions\n",
    "history=simpler_model.fit(xtrain_scale, ytrain_scale, epochs=epoch, batch_size=batch, verbose=0, validation_split=0.2)\n",
    "predictions = simpler_model.predict(xval_scale)\n",
    "We tested with batch=int(x.shape[0]/50), and it resulted in overfitting, so with a dichotomy method, we landed at batch=int(x.shape[0]/7), which is 6586"
   ]
  },
  {
   "cell_type": "markdown",
   "metadata": {},
   "source": [
    "We tested with batch=int(x.shape[0]/50), and it resulted in overfitting, so with a dichotomy method, we landed at batch=int(x.shape[0]/7), which is 6586"
   ]
  },
  {
   "cell_type": "code",
   "execution_count": 353,
   "metadata": {},
   "outputs": [
    {
     "name": "stdout",
     "output_type": "stream",
     "text": [
      "dict_keys(['loss', 'mse', 'mae', 'val_loss', 'val_mse', 'val_mae'])\n"
     ]
    },
    {
     "data": {
      "image/png": "[encoded data removed]",
      "text/plain": [
       "<Figure size 432x288 with 1 Axes>"
      ]
     },
     "metadata": {
      "needs_background": "light"
     },
     "output_type": "display_data"
    }
   ],
   "source": [
    "#6.Evaluating the decrease of the model loss, we may need more epochs\n",
    "\n",
    "print(history.history.keys())\n",
    "# \"Loss\"\n",
    "plt.plot(history.history['loss'])\n",
    "plt.plot(history.history['val_loss'])\n",
    "plt.title('model loss')\n",
    "plt.ylabel('loss')\n",
    "plt.xlabel('epoch')\n",
    "plt.legend(['train', 'validation'], loc='upper left')\n",
    "plt.show()"
   ]
  },
  {
   "cell_type": "code",
   "execution_count": 354,
   "metadata": {},
   "outputs": [
    {
     "data": {
      "text/plain": [
       "505.3003592731998"
      ]
     },
     "execution_count": 354,
     "metadata": {},
     "output_type": "execute_result"
    }
   ],
   "source": [
    "prediction_unscaled=scaler_y.inverse_transform(predictions)\n",
    "sklearn.metrics.mean_squared_error(y_val, prediction_unscaled)"
   ]
  },
  {
   "cell_type": "code",
   "execution_count": 355,
   "metadata": {},
   "outputs": [
    {
     "data": {
      "text/plain": [
       "6586"
      ]
     },
     "execution_count": 355,
     "metadata": {},
     "output_type": "execute_result"
    }
   ],
   "source": [
    "batch"
   ]
  },
  {
   "cell_type": "markdown",
   "metadata": {},
   "source": [
    "## Just for fun : Testing with a new batch value (much lower) ==> overfitting"
   ]
  },
  {
   "cell_type": "code",
   "execution_count": 243,
   "metadata": {},
   "outputs": [
    {
     "name": "stdout",
     "output_type": "stream",
     "text": [
      "Epoch 1/100\n",
      "56/56 [==============================] - 0s 3ms/step - loss: 1.3785e-05 - mse: 1.3785e-05 - mae: 0.0015 - val_loss: 1.7399e-05 - val_mse: 1.7399e-05 - val_mae: 0.0011\n",
      "Epoch 2/100\n",
      "56/56 [==============================] - 0s 1ms/step - loss: 1.0300e-05 - mse: 1.0300e-05 - mae: 0.0010 - val_loss: 1.7721e-05 - val_mse: 1.7721e-05 - val_mae: 0.0012\n",
      "Epoch 3/100\n",
      "56/56 [==============================] - 0s 1ms/step - loss: 1.0447e-05 - mse: 1.0447e-05 - mae: 0.0010 - val_loss: 1.8814e-05 - val_mse: 1.8814e-05 - val_mae: 0.0011\n",
      "Epoch 4/100\n",
      "56/56 [==============================] - 0s 1ms/step - loss: 9.4231e-06 - mse: 9.4231e-06 - mae: 9.2727e-04 - val_loss: 1.2165e-05 - val_mse: 1.2165e-05 - val_mae: 0.0013\n",
      "Epoch 5/100\n",
      "56/56 [==============================] - 0s 1ms/step - loss: 9.4648e-06 - mse: 9.4648e-06 - mae: 9.9298e-04 - val_loss: 9.9588e-06 - val_mse: 9.9588e-06 - val_mae: 9.1685e-04\n",
      "Epoch 6/100\n",
      "56/56 [==============================] - 0s 1ms/step - loss: 8.3571e-06 - mse: 8.3571e-06 - mae: 8.8619e-04 - val_loss: 7.8327e-06 - val_mse: 7.8327e-06 - val_mae: 7.0276e-04\n",
      "Epoch 7/100\n",
      "56/56 [==============================] - 0s 1ms/step - loss: 8.2223e-06 - mse: 8.2223e-06 - mae: 9.0252e-04 - val_loss: 7.8396e-06 - val_mse: 7.8396e-06 - val_mae: 0.0010\n",
      "Epoch 8/100\n",
      "56/56 [==============================] - 0s 1ms/step - loss: 8.4993e-06 - mse: 8.4993e-06 - mae: 0.0011 - val_loss: 7.6431e-06 - val_mse: 7.6431e-06 - val_mae: 0.0012\n",
      "Epoch 9/100\n",
      "56/56 [==============================] - 0s 1ms/step - loss: 7.7035e-06 - mse: 7.7035e-06 - mae: 9.3524e-04 - val_loss: 8.3726e-06 - val_mse: 8.3726e-06 - val_mae: 0.0014\n",
      "Epoch 10/100\n",
      "56/56 [==============================] - 0s 1ms/step - loss: 8.0514e-06 - mse: 8.0514e-06 - mae: 0.0011 - val_loss: 7.8240e-06 - val_mse: 7.8240e-06 - val_mae: 0.0016\n",
      "Epoch 11/100\n",
      "56/56 [==============================] - 0s 1ms/step - loss: 7.2037e-06 - mse: 7.2037e-06 - mae: 9.9099e-04 - val_loss: 6.6500e-06 - val_mse: 6.6500e-06 - val_mae: 0.0012\n",
      "Epoch 12/100\n",
      "56/56 [==============================] - 0s 1ms/step - loss: 7.4254e-06 - mse: 7.4254e-06 - mae: 0.0010 - val_loss: 6.5718e-06 - val_mse: 6.5718e-06 - val_mae: 9.3955e-04\n",
      "Epoch 13/100\n",
      "56/56 [==============================] - 0s 1ms/step - loss: 6.6323e-06 - mse: 6.6323e-06 - mae: 9.3370e-04 - val_loss: 6.6148e-06 - val_mse: 6.6148e-06 - val_mae: 0.0012\n",
      "Epoch 14/100\n",
      "56/56 [==============================] - 0s 1ms/step - loss: 6.5230e-06 - mse: 6.5230e-06 - mae: 9.4642e-04 - val_loss: 6.5309e-06 - val_mse: 6.5309e-06 - val_mae: 8.8942e-04\n",
      "Epoch 15/100\n",
      "56/56 [==============================] - 0s 1ms/step - loss: 6.4987e-06 - mse: 6.4987e-06 - mae: 9.4993e-04 - val_loss: 6.4219e-06 - val_mse: 6.4219e-06 - val_mae: 9.5666e-04\n",
      "Epoch 16/100\n",
      "56/56 [==============================] - 0s 1ms/step - loss: 6.5472e-06 - mse: 6.5472e-06 - mae: 9.9011e-04 - val_loss: 7.8171e-06 - val_mse: 7.8171e-06 - val_mae: 0.0014\n",
      "Epoch 17/100\n",
      "56/56 [==============================] - 0s 1ms/step - loss: 5.8167e-06 - mse: 5.8167e-06 - mae: 8.7134e-04 - val_loss: 6.9613e-06 - val_mse: 6.9613e-06 - val_mae: 9.0013e-04\n",
      "Epoch 18/100\n",
      "56/56 [==============================] - 0s 1ms/step - loss: 6.0600e-06 - mse: 6.0600e-06 - mae: 9.8874e-04 - val_loss: 8.1468e-06 - val_mse: 8.1468e-06 - val_mae: 0.0014\n",
      "Epoch 19/100\n",
      "56/56 [==============================] - 0s 1ms/step - loss: 6.0975e-06 - mse: 6.0975e-06 - mae: 9.6275e-04 - val_loss: 6.6727e-06 - val_mse: 6.6727e-06 - val_mae: 0.0012\n",
      "Epoch 20/100\n",
      "56/56 [==============================] - 0s 1ms/step - loss: 5.8839e-06 - mse: 5.8839e-06 - mae: 0.0010 - val_loss: 8.1434e-06 - val_mse: 8.1434e-06 - val_mae: 7.8889e-04\n",
      "Epoch 21/100\n",
      "56/56 [==============================] - 0s 1ms/step - loss: 5.6255e-06 - mse: 5.6255e-06 - mae: 9.8458e-04 - val_loss: 7.7431e-06 - val_mse: 7.7431e-06 - val_mae: 8.0697e-04\n",
      "Epoch 22/100\n",
      "56/56 [==============================] - 0s 1ms/step - loss: 5.4719e-06 - mse: 5.4719e-06 - mae: 8.5378e-04 - val_loss: 8.6453e-06 - val_mse: 8.6453e-06 - val_mae: 0.0011\n",
      "Epoch 23/100\n",
      "56/56 [==============================] - 0s 1ms/step - loss: 5.3201e-06 - mse: 5.3201e-06 - mae: 9.3337e-04 - val_loss: 6.8713e-06 - val_mse: 6.8713e-06 - val_mae: 8.1288e-04\n",
      "Epoch 24/100\n",
      "56/56 [==============================] - 0s 1ms/step - loss: 5.3891e-06 - mse: 5.3891e-06 - mae: 8.7120e-04 - val_loss: 1.0770e-05 - val_mse: 1.0770e-05 - val_mae: 0.0010\n",
      "Epoch 25/100\n",
      "56/56 [==============================] - 0s 1ms/step - loss: 5.8160e-06 - mse: 5.8160e-06 - mae: 0.0011 - val_loss: 1.1736e-05 - val_mse: 1.1736e-05 - val_mae: 9.7133e-04\n",
      "Epoch 26/100\n",
      "56/56 [==============================] - 0s 1ms/step - loss: 5.1845e-06 - mse: 5.1845e-06 - mae: 8.9572e-04 - val_loss: 1.2876e-05 - val_mse: 1.2876e-05 - val_mae: 9.0626e-04\n",
      "Epoch 27/100\n",
      "56/56 [==============================] - 0s 1ms/step - loss: 5.2157e-06 - mse: 5.2157e-06 - mae: 9.8437e-04 - val_loss: 1.2519e-05 - val_mse: 1.2519e-05 - val_mae: 7.6662e-04\n",
      "Epoch 28/100\n",
      "56/56 [==============================] - 0s 1ms/step - loss: 4.9845e-06 - mse: 4.9845e-06 - mae: 9.0078e-04 - val_loss: 1.3424e-05 - val_mse: 1.3424e-05 - val_mae: 0.0011\n",
      "Epoch 29/100\n",
      "56/56 [==============================] - 0s 1ms/step - loss: 5.1817e-06 - mse: 5.1817e-06 - mae: 0.0010 - val_loss: 1.2475e-05 - val_mse: 1.2475e-05 - val_mae: 8.5107e-04\n",
      "Epoch 30/100\n",
      "56/56 [==============================] - 0s 1ms/step - loss: 5.0090e-06 - mse: 5.0090e-06 - mae: 9.4297e-04 - val_loss: 1.2495e-05 - val_mse: 1.2495e-05 - val_mae: 0.0010\n",
      "Epoch 31/100\n",
      "56/56 [==============================] - 0s 1ms/step - loss: 4.7881e-06 - mse: 4.7881e-06 - mae: 8.7582e-04 - val_loss: 1.4795e-05 - val_mse: 1.4795e-05 - val_mae: 0.0011\n",
      "Epoch 32/100\n",
      "56/56 [==============================] - 0s 1ms/step - loss: 4.8235e-06 - mse: 4.8235e-06 - mae: 9.3050e-04 - val_loss: 1.1982e-05 - val_mse: 1.1982e-05 - val_mae: 8.3931e-04\n",
      "Epoch 33/100\n",
      "56/56 [==============================] - 0s 1ms/step - loss: 4.9185e-06 - mse: 4.9185e-06 - mae: 9.7061e-04 - val_loss: 1.4633e-05 - val_mse: 1.4633e-05 - val_mae: 0.0011\n",
      "Epoch 34/100\n",
      "56/56 [==============================] - 0s 1ms/step - loss: 4.3846e-06 - mse: 4.3846e-06 - mae: 8.3829e-04 - val_loss: 1.4641e-05 - val_mse: 1.4641e-05 - val_mae: 8.5767e-04\n",
      "Epoch 35/100\n",
      "56/56 [==============================] - 0s 1ms/step - loss: 4.5880e-06 - mse: 4.5880e-06 - mae: 8.9036e-04 - val_loss: 1.3789e-05 - val_mse: 1.3789e-05 - val_mae: 9.3302e-04\n",
      "Epoch 36/100\n",
      "56/56 [==============================] - 0s 1ms/step - loss: 4.6581e-06 - mse: 4.6581e-06 - mae: 9.0025e-04 - val_loss: 1.1277e-05 - val_mse: 1.1277e-05 - val_mae: 0.0012\n",
      "Epoch 37/100\n",
      "56/56 [==============================] - 0s 1ms/step - loss: 4.5391e-06 - mse: 4.5391e-06 - mae: 9.6206e-04 - val_loss: 1.3337e-05 - val_mse: 1.3337e-05 - val_mae: 8.9292e-04\n",
      "Epoch 38/100\n",
      "56/56 [==============================] - 0s 1ms/step - loss: 4.0995e-06 - mse: 4.0995e-06 - mae: 8.2911e-04 - val_loss: 1.6499e-05 - val_mse: 1.6499e-05 - val_mae: 9.8728e-04\n",
      "Epoch 39/100\n",
      "56/56 [==============================] - 0s 1ms/step - loss: 4.4027e-06 - mse: 4.4027e-06 - mae: 9.0426e-04 - val_loss: 2.2112e-05 - val_mse: 2.2112e-05 - val_mae: 8.9742e-04\n",
      "Epoch 40/100\n",
      "56/56 [==============================] - 0s 1ms/step - loss: 4.5317e-06 - mse: 4.5317e-06 - mae: 8.5976e-04 - val_loss: 1.5201e-05 - val_mse: 1.5201e-05 - val_mae: 8.2656e-04\n",
      "Epoch 41/100\n",
      "56/56 [==============================] - 0s 1ms/step - loss: 4.2563e-06 - mse: 4.2563e-06 - mae: 9.0623e-04 - val_loss: 1.7921e-05 - val_mse: 1.7921e-05 - val_mae: 9.3035e-04\n",
      "Epoch 42/100\n",
      "56/56 [==============================] - 0s 1ms/step - loss: 4.0010e-06 - mse: 4.0010e-06 - mae: 8.3028e-04 - val_loss: 1.5475e-05 - val_mse: 1.5475e-05 - val_mae: 9.8019e-04\n",
      "Epoch 43/100\n",
      "56/56 [==============================] - 0s 1ms/step - loss: 4.2940e-06 - mse: 4.2940e-06 - mae: 9.4238e-04 - val_loss: 1.8121e-05 - val_mse: 1.8121e-05 - val_mae: 0.0012\n",
      "Epoch 44/100\n",
      "56/56 [==============================] - 0s 1ms/step - loss: 4.1117e-06 - mse: 4.1117e-06 - mae: 9.0807e-04 - val_loss: 1.7551e-05 - val_mse: 1.7551e-05 - val_mae: 8.8524e-04\n",
      "Epoch 45/100\n"
     ]
    },
    {
     "name": "stdout",
     "output_type": "stream",
     "text": [
      "56/56 [==============================] - 0s 1ms/step - loss: 3.9736e-06 - mse: 3.9736e-06 - mae: 7.9807e-04 - val_loss: 1.8950e-05 - val_mse: 1.8950e-05 - val_mae: 0.0012\n",
      "Epoch 46/100\n",
      "56/56 [==============================] - 0s 1ms/step - loss: 4.8215e-06 - mse: 4.8215e-06 - mae: 0.0012 - val_loss: 2.0448e-05 - val_mse: 2.0448e-05 - val_mae: 8.8789e-04\n",
      "Epoch 47/100\n",
      "56/56 [==============================] - 0s 1ms/step - loss: 4.0413e-06 - mse: 4.0413e-06 - mae: 8.7179e-04 - val_loss: 2.1804e-05 - val_mse: 2.1804e-05 - val_mae: 0.0017\n",
      "Epoch 48/100\n",
      "56/56 [==============================] - 0s 1ms/step - loss: 5.0551e-06 - mse: 5.0551e-06 - mae: 0.0010 - val_loss: 1.5783e-05 - val_mse: 1.5783e-05 - val_mae: 8.1324e-04\n",
      "Epoch 49/100\n",
      "56/56 [==============================] - 0s 1ms/step - loss: 4.1154e-06 - mse: 4.1154e-06 - mae: 8.8641e-04 - val_loss: 1.3544e-05 - val_mse: 1.3544e-05 - val_mae: 0.0011\n",
      "Epoch 50/100\n",
      "56/56 [==============================] - 0s 1ms/step - loss: 3.7479e-06 - mse: 3.7479e-06 - mae: 7.9093e-04 - val_loss: 1.3515e-05 - val_mse: 1.3515e-05 - val_mae: 8.6661e-04\n",
      "Epoch 51/100\n",
      "56/56 [==============================] - 0s 1ms/step - loss: 4.0996e-06 - mse: 4.0996e-06 - mae: 9.1413e-04 - val_loss: 1.6993e-05 - val_mse: 1.6993e-05 - val_mae: 0.0010\n",
      "Epoch 52/100\n",
      "56/56 [==============================] - 0s 1ms/step - loss: 3.7823e-06 - mse: 3.7823e-06 - mae: 8.4753e-04 - val_loss: 2.0086e-05 - val_mse: 2.0086e-05 - val_mae: 0.0011\n",
      "Epoch 53/100\n",
      "56/56 [==============================] - 0s 1ms/step - loss: 3.6182e-06 - mse: 3.6182e-06 - mae: 7.9488e-04 - val_loss: 1.5802e-05 - val_mse: 1.5802e-05 - val_mae: 7.6102e-04\n",
      "Epoch 54/100\n",
      "56/56 [==============================] - 0s 1ms/step - loss: 3.8450e-06 - mse: 3.8450e-06 - mae: 8.5524e-04 - val_loss: 2.3813e-05 - val_mse: 2.3813e-05 - val_mae: 9.4196e-04\n",
      "Epoch 55/100\n",
      "56/56 [==============================] - 0s 1ms/step - loss: 3.9929e-06 - mse: 3.9929e-06 - mae: 8.9131e-04 - val_loss: 1.8731e-05 - val_mse: 1.8731e-05 - val_mae: 9.7468e-04\n",
      "Epoch 56/100\n",
      "56/56 [==============================] - 0s 1ms/step - loss: 3.5963e-06 - mse: 3.5963e-06 - mae: 8.3888e-04 - val_loss: 2.2090e-05 - val_mse: 2.2090e-05 - val_mae: 0.0010\n",
      "Epoch 57/100\n",
      "56/56 [==============================] - 0s 1ms/step - loss: 3.7719e-06 - mse: 3.7719e-06 - mae: 8.4552e-04 - val_loss: 1.7241e-05 - val_mse: 1.7241e-05 - val_mae: 9.4926e-04\n",
      "Epoch 58/100\n",
      "56/56 [==============================] - 0s 1ms/step - loss: 3.8165e-06 - mse: 3.8165e-06 - mae: 8.4233e-04 - val_loss: 1.4851e-05 - val_mse: 1.4851e-05 - val_mae: 9.5184e-04\n",
      "Epoch 59/100\n",
      "56/56 [==============================] - 0s 1ms/step - loss: 4.0277e-06 - mse: 4.0277e-06 - mae: 9.1031e-04 - val_loss: 1.9824e-05 - val_mse: 1.9824e-05 - val_mae: 7.9599e-04\n",
      "Epoch 60/100\n",
      "56/56 [==============================] - 0s 1ms/step - loss: 3.8246e-06 - mse: 3.8246e-06 - mae: 8.2421e-04 - val_loss: 1.9264e-05 - val_mse: 1.9264e-05 - val_mae: 8.8450e-04\n",
      "Epoch 61/100\n",
      "56/56 [==============================] - 0s 1ms/step - loss: 3.4282e-06 - mse: 3.4282e-06 - mae: 7.5611e-04 - val_loss: 1.6414e-05 - val_mse: 1.6414e-05 - val_mae: 9.6982e-04\n",
      "Epoch 62/100\n",
      "56/56 [==============================] - 0s 1ms/step - loss: 3.4655e-06 - mse: 3.4655e-06 - mae: 7.6751e-04 - val_loss: 1.8268e-05 - val_mse: 1.8268e-05 - val_mae: 9.1127e-04\n",
      "Epoch 63/100\n",
      "56/56 [==============================] - 0s 1ms/step - loss: 3.4713e-06 - mse: 3.4713e-06 - mae: 7.6929e-04 - val_loss: 2.1834e-05 - val_mse: 2.1834e-05 - val_mae: 0.0012\n",
      "Epoch 64/100\n",
      "56/56 [==============================] - 0s 1ms/step - loss: 3.5951e-06 - mse: 3.5951e-06 - mae: 8.5787e-04 - val_loss: 2.1260e-05 - val_mse: 2.1260e-05 - val_mae: 9.1334e-04\n",
      "Epoch 65/100\n",
      "56/56 [==============================] - 0s 1ms/step - loss: 3.4975e-06 - mse: 3.4975e-06 - mae: 7.9136e-04 - val_loss: 1.8171e-05 - val_mse: 1.8171e-05 - val_mae: 8.5146e-04\n",
      "Epoch 66/100\n",
      "56/56 [==============================] - 0s 1ms/step - loss: 3.4980e-06 - mse: 3.4980e-06 - mae: 8.2685e-04 - val_loss: 2.5438e-05 - val_mse: 2.5438e-05 - val_mae: 0.0012\n",
      "Epoch 67/100\n",
      "56/56 [==============================] - 0s 1ms/step - loss: 4.0000e-06 - mse: 4.0000e-06 - mae: 9.7621e-04 - val_loss: 1.9740e-05 - val_mse: 1.9740e-05 - val_mae: 0.0011\n",
      "Epoch 68/100\n",
      "56/56 [==============================] - 0s 1ms/step - loss: 3.4414e-06 - mse: 3.4414e-06 - mae: 8.0276e-04 - val_loss: 1.6337e-05 - val_mse: 1.6337e-05 - val_mae: 8.9765e-04\n",
      "Epoch 69/100\n",
      "56/56 [==============================] - 0s 1ms/step - loss: 3.5348e-06 - mse: 3.5348e-06 - mae: 8.2613e-04 - val_loss: 2.2887e-05 - val_mse: 2.2887e-05 - val_mae: 7.6853e-04\n",
      "Epoch 70/100\n",
      "56/56 [==============================] - 0s 1ms/step - loss: 3.4214e-06 - mse: 3.4214e-06 - mae: 7.5924e-04 - val_loss: 2.3066e-05 - val_mse: 2.3066e-05 - val_mae: 0.0014\n",
      "Epoch 71/100\n",
      "56/56 [==============================] - 0s 1ms/step - loss: 3.7450e-06 - mse: 3.7450e-06 - mae: 8.8099e-04 - val_loss: 2.1820e-05 - val_mse: 2.1820e-05 - val_mae: 0.0010\n",
      "Epoch 72/100\n",
      "56/56 [==============================] - 0s 1ms/step - loss: 3.6656e-06 - mse: 3.6656e-06 - mae: 8.9368e-04 - val_loss: 1.9357e-05 - val_mse: 1.9357e-05 - val_mae: 8.7441e-04\n",
      "Epoch 73/100\n",
      "56/56 [==============================] - 0s 1ms/step - loss: 3.5282e-06 - mse: 3.5282e-06 - mae: 8.1268e-04 - val_loss: 2.1567e-05 - val_mse: 2.1567e-05 - val_mae: 8.5151e-04\n",
      "Epoch 74/100\n",
      "56/56 [==============================] - 0s 1ms/step - loss: 3.3511e-06 - mse: 3.3511e-06 - mae: 7.8353e-04 - val_loss: 2.3188e-05 - val_mse: 2.3188e-05 - val_mae: 8.8888e-04\n",
      "Epoch 75/100\n",
      "56/56 [==============================] - 0s 1ms/step - loss: 3.3264e-06 - mse: 3.3264e-06 - mae: 7.8251e-04 - val_loss: 2.2468e-05 - val_mse: 2.2468e-05 - val_mae: 9.4165e-04\n",
      "Epoch 76/100\n",
      "56/56 [==============================] - 0s 2ms/step - loss: 3.6493e-06 - mse: 3.6493e-06 - mae: 9.4112e-04 - val_loss: 2.6196e-05 - val_mse: 2.6196e-05 - val_mae: 0.0011\n",
      "Epoch 77/100\n",
      "56/56 [==============================] - 0s 1ms/step - loss: 4.7143e-06 - mse: 4.7143e-06 - mae: 9.8827e-04 - val_loss: 2.8782e-05 - val_mse: 2.8782e-05 - val_mae: 0.0020\n",
      "Epoch 78/100\n",
      "56/56 [==============================] - 0s 1ms/step - loss: 4.1149e-06 - mse: 4.1149e-06 - mae: 9.6050e-04 - val_loss: 2.3283e-05 - val_mse: 2.3283e-05 - val_mae: 7.8575e-04\n",
      "Epoch 79/100\n",
      "56/56 [==============================] - 0s 1ms/step - loss: 3.3593e-06 - mse: 3.3593e-06 - mae: 7.5424e-04 - val_loss: 2.3672e-05 - val_mse: 2.3672e-05 - val_mae: 9.4362e-04\n",
      "Epoch 80/100\n",
      "56/56 [==============================] - 0s 1ms/step - loss: 3.4612e-06 - mse: 3.4612e-06 - mae: 8.3219e-04 - val_loss: 2.5549e-05 - val_mse: 2.5549e-05 - val_mae: 0.0013\n",
      "Epoch 81/100\n",
      "56/56 [==============================] - 0s 1ms/step - loss: 3.4707e-06 - mse: 3.4707e-06 - mae: 8.6600e-04 - val_loss: 2.6317e-05 - val_mse: 2.6317e-05 - val_mae: 7.2256e-04\n",
      "Epoch 82/100\n",
      "56/56 [==============================] - 0s 1ms/step - loss: 3.3174e-06 - mse: 3.3174e-06 - mae: 8.0818e-04 - val_loss: 2.0585e-05 - val_mse: 2.0585e-05 - val_mae: 7.0937e-04\n",
      "Epoch 83/100\n",
      "56/56 [==============================] - 0s 2ms/step - loss: 3.3468e-06 - mse: 3.3468e-06 - mae: 7.8197e-04 - val_loss: 2.6735e-05 - val_mse: 2.6735e-05 - val_mae: 7.9025e-04\n",
      "Epoch 84/100\n",
      "56/56 [==============================] - 0s 2ms/step - loss: 3.2957e-06 - mse: 3.2957e-06 - mae: 7.5847e-04 - val_loss: 2.3427e-05 - val_mse: 2.3427e-05 - val_mae: 9.6592e-04\n",
      "Epoch 85/100\n",
      "56/56 [==============================] - 0s 1ms/step - loss: 3.3314e-06 - mse: 3.3314e-06 - mae: 8.0943e-04 - val_loss: 2.3641e-05 - val_mse: 2.3641e-05 - val_mae: 8.9178e-04\n",
      "Epoch 86/100\n",
      "56/56 [==============================] - 0s 1ms/step - loss: 3.2826e-06 - mse: 3.2826e-06 - mae: 7.9366e-04 - val_loss: 2.7059e-05 - val_mse: 2.7059e-05 - val_mae: 0.0012\n",
      "Epoch 87/100\n",
      "56/56 [==============================] - 0s 2ms/step - loss: 3.1582e-06 - mse: 3.1582e-06 - mae: 7.8510e-04 - val_loss: 2.4726e-05 - val_mse: 2.4726e-05 - val_mae: 7.8954e-04\n",
      "Epoch 88/100\n",
      "56/56 [==============================] - 0s 2ms/step - loss: 3.4748e-06 - mse: 3.4748e-06 - mae: 8.2002e-04 - val_loss: 3.1545e-05 - val_mse: 3.1545e-05 - val_mae: 0.0010\n",
      "Epoch 89/100\n"
     ]
    },
    {
     "name": "stdout",
     "output_type": "stream",
     "text": [
      "56/56 [==============================] - 0s 2ms/step - loss: 3.4566e-06 - mse: 3.4566e-06 - mae: 7.4686e-04 - val_loss: 2.2306e-05 - val_mse: 2.2306e-05 - val_mae: 0.0013\n",
      "Epoch 90/100\n",
      "56/56 [==============================] - 0s 2ms/step - loss: 3.3276e-06 - mse: 3.3276e-06 - mae: 8.1345e-04 - val_loss: 2.3099e-05 - val_mse: 2.3099e-05 - val_mae: 8.9092e-04\n",
      "Epoch 91/100\n",
      "56/56 [==============================] - 0s 1ms/step - loss: 3.4108e-06 - mse: 3.4108e-06 - mae: 8.6882e-04 - val_loss: 2.1191e-05 - val_mse: 2.1191e-05 - val_mae: 0.0011\n",
      "Epoch 92/100\n",
      "56/56 [==============================] - 0s 1ms/step - loss: 3.1566e-06 - mse: 3.1566e-06 - mae: 7.7133e-04 - val_loss: 2.1644e-05 - val_mse: 2.1644e-05 - val_mae: 9.1310e-04\n",
      "Epoch 93/100\n",
      "56/56 [==============================] - 0s 1ms/step - loss: 3.1977e-06 - mse: 3.1977e-06 - mae: 7.9962e-04 - val_loss: 2.1234e-05 - val_mse: 2.1234e-05 - val_mae: 8.1702e-04\n",
      "Epoch 94/100\n",
      "56/56 [==============================] - 0s 2ms/step - loss: 3.4459e-06 - mse: 3.4459e-06 - mae: 8.4546e-04 - val_loss: 2.6174e-05 - val_mse: 2.6174e-05 - val_mae: 0.0011\n",
      "Epoch 95/100\n",
      "56/56 [==============================] - 0s 2ms/step - loss: 3.3239e-06 - mse: 3.3239e-06 - mae: 8.4434e-04 - val_loss: 2.1628e-05 - val_mse: 2.1628e-05 - val_mae: 0.0011\n",
      "Epoch 96/100\n",
      "56/56 [==============================] - 0s 2ms/step - loss: 3.3457e-06 - mse: 3.3457e-06 - mae: 8.3852e-04 - val_loss: 2.8420e-05 - val_mse: 2.8420e-05 - val_mae: 8.0548e-04\n",
      "Epoch 97/100\n",
      "56/56 [==============================] - 0s 2ms/step - loss: 3.1914e-06 - mse: 3.1914e-06 - mae: 7.7511e-04 - val_loss: 2.2847e-05 - val_mse: 2.2847e-05 - val_mae: 9.2998e-04\n",
      "Epoch 98/100\n",
      "56/56 [==============================] - 0s 2ms/step - loss: 3.2392e-06 - mse: 3.2392e-06 - mae: 7.5934e-04 - val_loss: 2.2284e-05 - val_mse: 2.2284e-05 - val_mae: 7.1312e-04\n",
      "Epoch 99/100\n",
      "56/56 [==============================] - 0s 2ms/step - loss: 3.2214e-06 - mse: 3.2214e-06 - mae: 7.8998e-04 - val_loss: 2.5434e-05 - val_mse: 2.5434e-05 - val_mae: 8.3913e-04\n",
      "Epoch 100/100\n",
      "56/56 [==============================] - 0s 1ms/step - loss: 3.1686e-06 - mse: 3.1686e-06 - mae: 8.0262e-04 - val_loss: 2.3365e-05 - val_mse: 2.3365e-05 - val_mae: 0.0010\n"
     ]
    }
   ],
   "source": [
    "epoch=100\n",
    "batch=500\n",
    "\n",
    "simpler_model.compile(loss='mse', optimizer='adam', metrics=['mse','mae']) # mean_squared_error (mse) and mean_absolute_error (mae) are our loss functions\n",
    "history=simpler_model.fit(xtrain_scale, ytrain_scale, epochs=epoch, batch_size=batch, verbose=0, validation_split=0.2)\n",
    "predictions = simpler_model.predict(xval_scale)"
   ]
  },
  {
   "cell_type": "code",
   "execution_count": 244,
   "metadata": {},
   "outputs": [
    {
     "name": "stdout",
     "output_type": "stream",
     "text": [
      "dict_keys(['loss', 'mse', 'mae', 'val_loss', 'val_mse', 'val_mae'])\n"
     ]
    },
    {
     "data": {
      "image/png": "[encoded data removed]",
      "text/plain": [
       "<Figure size 432x288 with 1 Axes>"
      ]
     },
     "metadata": {
      "needs_background": "light"
     },
     "output_type": "display_data"
    }
   ],
   "source": [
    "#6.Evaluating the decrease of the model loss, we may need more epochs\n",
    "\n",
    "print(history.history.keys())\n",
    "# \"Loss\"\n",
    "plt.plot(history.history['loss'])\n",
    "plt.plot(history.history['val_loss'])\n",
    "plt.title('model loss')\n",
    "plt.ylabel('loss')\n",
    "plt.xlabel('epoch')\n",
    "plt.legend(['train', 'validation'], loc='upper left')\n",
    "plt.show()"
   ]
  },
  {
   "cell_type": "code",
   "execution_count": 241,
   "metadata": {},
   "outputs": [
    {
     "data": {
      "text/plain": [
       "468.2364019079433"
      ]
     },
     "execution_count": 241,
     "metadata": {},
     "output_type": "execute_result"
    }
   ],
   "source": [
    "prediction_unscaled=scaler_y.inverse_transform(predictions)\n",
    "sklearn.metrics.mean_squared_error(y_val, prediction_unscaled)"
   ]
  },
  {
   "cell_type": "code",
   "execution_count": 242,
   "metadata": {},
   "outputs": [
    {
     "data": {
      "text/plain": [
       "4.835910759401304"
      ]
     },
     "execution_count": 242,
     "metadata": {},
     "output_type": "execute_result"
    }
   ],
   "source": [
    "mean_absolute_error(y_val, prediction_unscaled)"
   ]
  },
  {
   "cell_type": "markdown",
   "metadata": {},
   "source": [
    "# Je suis un encule"
   ]
  },
  {
   "cell_type": "code",
   "execution_count": 561,
   "metadata": {},
   "outputs": [
    {
     "name": "stdout",
     "output_type": "stream",
     "text": [
      "Model: \"sequential_62\"\n",
      "_________________________________________________________________\n",
      "Layer (type)                 Output Shape              Param #   \n",
      "=================================================================\n",
      "dense_196 (Dense)            (None, 86)                7482      \n",
      "_________________________________________________________________\n",
      "dense_197 (Dense)            (None, 58)                5046      \n",
      "_________________________________________________________________\n",
      "dense_198 (Dense)            (None, 58)                3422      \n",
      "_________________________________________________________________\n",
      "dense_199 (Dense)            (None, 1)                 59        \n",
      "=================================================================\n",
      "Total params: 16,009\n",
      "Trainable params: 16,009\n",
      "Non-trainable params: 0\n",
      "_________________________________________________________________\n"
     ]
    }
   ],
   "source": [
    "#4. Setting up the model\n",
    "num_features=x.shape[1]\n",
    "hidden_layers=2/3*(num_features+1)\n",
    "\n",
    "simpler_model_two_hidden_layers = Sequential()\n",
    "simpler_model_two_hidden_layers.add(Dense(num_features, input_dim=num_features, kernel_initializer='normal', activation='relu'))\n",
    "simpler_model_two_hidden_layers.add(Dense(hidden_layers, activation='relu'))\n",
    "simpler_model_two_hidden_layers.add(Dense(hidden_layers, activation='relu'))\n",
    "simpler_model_two_hidden_layers.add(Dense(1, activation='linear'))\n",
    "simpler_model_two_hidden_layers.summary()"
   ]
  },
  {
   "cell_type": "code",
   "execution_count": 562,
   "metadata": {},
   "outputs": [
    {
     "name": "stdout",
     "output_type": "stream",
     "text": [
      "Epoch 1/100\n",
      "1/1 [==============================] - 0s 166ms/step - loss: 0.0041 - mse: 0.0041 - mae: 0.0586 - val_loss: 0.0012 - val_mse: 0.0012 - val_mae: 0.0297\n",
      "Epoch 2/100\n",
      "1/1 [==============================] - 0s 25ms/step - loss: 0.0013 - mse: 0.0013 - mae: 0.0296 - val_loss: 4.7541e-04 - val_mse: 4.7541e-04 - val_mae: 0.0181\n",
      "Epoch 3/100\n",
      "1/1 [==============================] - 0s 22ms/step - loss: 5.3220e-04 - mse: 5.3220e-04 - mae: 0.0183 - val_loss: 6.6303e-04 - val_mse: 6.6303e-04 - val_mae: 0.0200\n",
      "Epoch 4/100\n",
      "1/1 [==============================] - 0s 24ms/step - loss: 7.2931e-04 - mse: 7.2931e-04 - mae: 0.0202 - val_loss: 8.2438e-04 - val_mse: 8.2438e-04 - val_mae: 0.0255\n",
      "Epoch 5/100\n",
      "1/1 [==============================] - 0s 25ms/step - loss: 8.9154e-04 - mse: 8.9154e-04 - mae: 0.0257 - val_loss: 7.0416e-04 - val_mse: 7.0416e-04 - val_mae: 0.0245\n",
      "Epoch 6/100\n",
      "1/1 [==============================] - 0s 25ms/step - loss: 7.6829e-04 - mse: 7.6829e-04 - mae: 0.0247 - val_loss: 4.3942e-04 - val_mse: 4.3942e-04 - val_mae: 0.0193\n",
      "Epoch 7/100\n",
      "1/1 [==============================] - 0s 26ms/step - loss: 4.9961e-04 - mse: 4.9961e-04 - mae: 0.0195 - val_loss: 1.9868e-04 - val_mse: 1.9868e-04 - val_mae: 0.0123\n",
      "Epoch 8/100\n",
      "1/1 [==============================] - 0s 26ms/step - loss: 2.5440e-04 - mse: 2.5440e-04 - mae: 0.0125 - val_loss: 8.0437e-05 - val_mse: 8.0437e-05 - val_mae: 0.0072\n",
      "Epoch 9/100\n",
      "1/1 [==============================] - 0s 26ms/step - loss: 1.3173e-04 - mse: 1.3173e-04 - mae: 0.0074 - val_loss: 8.2067e-05 - val_mse: 8.2067e-05 - val_mae: 0.0064\n",
      "Epoch 10/100\n",
      "1/1 [==============================] - 0s 26ms/step - loss: 1.2901e-04 - mse: 1.2901e-04 - mae: 0.0066 - val_loss: 1.4684e-04 - val_mse: 1.4684e-04 - val_mae: 0.0093\n",
      "Epoch 11/100\n",
      "1/1 [==============================] - 0s 27ms/step - loss: 1.8982e-04 - mse: 1.8982e-04 - mae: 0.0094 - val_loss: 2.1465e-04 - val_mse: 2.1465e-04 - val_mae: 0.0124\n",
      "Epoch 12/100\n",
      "1/1 [==============================] - 0s 27ms/step - loss: 2.5421e-04 - mse: 2.5421e-04 - mae: 0.0125 - val_loss: 2.4575e-04 - val_mse: 2.4575e-04 - val_mae: 0.0138\n",
      "Epoch 13/100\n",
      "1/1 [==============================] - 0s 24ms/step - loss: 2.8258e-04 - mse: 2.8258e-04 - mae: 0.0139 - val_loss: 2.2843e-04 - val_mse: 2.2843e-04 - val_mae: 0.0135\n",
      "Epoch 14/100\n",
      "1/1 [==============================] - 0s 27ms/step - loss: 2.6334e-04 - mse: 2.6334e-04 - mae: 0.0135 - val_loss: 1.7803e-04 - val_mse: 1.7803e-04 - val_mae: 0.0118\n",
      "Epoch 15/100\n",
      "1/1 [==============================] - 0s 25ms/step - loss: 2.1183e-04 - mse: 2.1183e-04 - mae: 0.0119 - val_loss: 1.1783e-04 - val_mse: 1.1783e-04 - val_mae: 0.0093\n",
      "Epoch 16/100\n",
      "1/1 [==============================] - 0s 24ms/step - loss: 1.5119e-04 - mse: 1.5119e-04 - mae: 0.0094 - val_loss: 6.7404e-05 - val_mse: 6.7404e-05 - val_mae: 0.0064\n",
      "Epoch 17/100\n",
      "1/1 [==============================] - 0s 25ms/step - loss: 1.0083e-04 - mse: 1.0083e-04 - mae: 0.0065 - val_loss: 3.8849e-05 - val_mse: 3.8849e-05 - val_mae: 0.0040\n",
      "Epoch 18/100\n",
      "1/1 [==============================] - 0s 30ms/step - loss: 7.2473e-05 - mse: 7.2473e-05 - mae: 0.0042 - val_loss: 3.3893e-05 - val_mse: 3.3893e-05 - val_mae: 0.0036\n",
      "Epoch 19/100\n",
      "1/1 [==============================] - 0s 27ms/step - loss: 6.7700e-05 - mse: 6.7700e-05 - mae: 0.0038 - val_loss: 4.4974e-05 - val_mse: 4.4974e-05 - val_mae: 0.0048\n",
      "Epoch 20/100\n",
      "1/1 [==============================] - 0s 32ms/step - loss: 7.8639e-05 - mse: 7.8639e-05 - mae: 0.0051 - val_loss: 6.1175e-05 - val_mse: 6.1175e-05 - val_mae: 0.0061\n",
      "Epoch 21/100\n",
      "1/1 [==============================] - 0s 39ms/step - loss: 9.4206e-05 - mse: 9.4206e-05 - mae: 0.0064 - val_loss: 7.2284e-05 - val_mse: 7.2284e-05 - val_mae: 0.0069\n",
      "Epoch 22/100\n",
      "1/1 [==============================] - 0s 33ms/step - loss: 1.0422e-04 - mse: 1.0422e-04 - mae: 0.0072 - val_loss: 7.3536e-05 - val_mse: 7.3536e-05 - val_mae: 0.0070\n",
      "Epoch 23/100\n",
      "1/1 [==============================] - 0s 37ms/step - loss: 1.0390e-04 - mse: 1.0390e-04 - mae: 0.0072 - val_loss: 6.5247e-05 - val_mse: 6.5247e-05 - val_mae: 0.0064\n",
      "Epoch 24/100\n",
      "1/1 [==============================] - 0s 35ms/step - loss: 9.3566e-05 - mse: 9.3566e-05 - mae: 0.0066 - val_loss: 5.1725e-05 - val_mse: 5.1725e-05 - val_mae: 0.0052\n",
      "Epoch 25/100\n",
      "1/1 [==============================] - 0s 33ms/step - loss: 7.7660e-05 - mse: 7.7660e-05 - mae: 0.0055 - val_loss: 3.7888e-05 - val_mse: 3.7888e-05 - val_mae: 0.0039\n",
      "Epoch 26/100\n",
      "1/1 [==============================] - 0s 33ms/step - loss: 6.1212e-05 - mse: 6.1212e-05 - mae: 0.0041 - val_loss: 2.8357e-05 - val_mse: 2.8357e-05 - val_mae: 0.0033\n",
      "Epoch 27/100\n",
      "1/1 [==============================] - 0s 29ms/step - loss: 4.8943e-05 - mse: 4.8943e-05 - mae: 0.0035 - val_loss: 2.5078e-05 - val_mse: 2.5078e-05 - val_mae: 0.0031\n",
      "Epoch 28/100\n",
      "1/1 [==============================] - 0s 29ms/step - loss: 4.2894e-05 - mse: 4.2894e-05 - mae: 0.0032 - val_loss: 2.6838e-05 - val_mse: 2.6838e-05 - val_mae: 0.0034\n",
      "Epoch 29/100\n",
      "1/1 [==============================] - 0s 36ms/step - loss: 4.2049e-05 - mse: 4.2049e-05 - mae: 0.0035 - val_loss: 3.0858e-05 - val_mse: 3.0858e-05 - val_mae: 0.0039\n",
      "Epoch 30/100\n",
      "1/1 [==============================] - 0s 34ms/step - loss: 4.3717e-05 - mse: 4.3717e-05 - mae: 0.0040 - val_loss: 3.4074e-05 - val_mse: 3.4074e-05 - val_mae: 0.0045\n",
      "Epoch 31/100\n",
      "1/1 [==============================] - 0s 28ms/step - loss: 4.4872e-05 - mse: 4.4872e-05 - mae: 0.0045 - val_loss: 3.4388e-05 - val_mse: 3.4388e-05 - val_mae: 0.0047\n",
      "Epoch 32/100\n",
      "1/1 [==============================] - 0s 25ms/step - loss: 4.3450e-05 - mse: 4.3450e-05 - mae: 0.0047 - val_loss: 3.1426e-05 - val_mse: 3.1426e-05 - val_mae: 0.0045\n",
      "Epoch 33/100\n",
      "1/1 [==============================] - 0s 30ms/step - loss: 3.9042e-05 - mse: 3.9042e-05 - mae: 0.0045 - val_loss: 2.6683e-05 - val_mse: 2.6683e-05 - val_mae: 0.0040\n",
      "Epoch 34/100\n",
      "1/1 [==============================] - 0s 30ms/step - loss: 3.3060e-05 - mse: 3.3060e-05 - mae: 0.0040 - val_loss: 2.1715e-05 - val_mse: 2.1715e-05 - val_mae: 0.0032\n",
      "Epoch 35/100\n",
      "1/1 [==============================] - 0s 33ms/step - loss: 2.6968e-05 - mse: 2.6968e-05 - mae: 0.0033 - val_loss: 1.8266e-05 - val_mse: 1.8266e-05 - val_mae: 0.0024\n",
      "Epoch 36/100\n",
      "1/1 [==============================] - 0s 37ms/step - loss: 2.2449e-05 - mse: 2.2449e-05 - mae: 0.0025 - val_loss: 1.7350e-05 - val_mse: 1.7350e-05 - val_mae: 0.0021\n",
      "Epoch 37/100\n",
      "1/1 [==============================] - 0s 30ms/step - loss: 2.0476e-05 - mse: 2.0476e-05 - mae: 0.0022 - val_loss: 1.8773e-05 - val_mse: 1.8773e-05 - val_mae: 0.0023\n",
      "Epoch 38/100\n",
      "1/1 [==============================] - 0s 27ms/step - loss: 2.0844e-05 - mse: 2.0844e-05 - mae: 0.0024 - val_loss: 2.1394e-05 - val_mse: 2.1394e-05 - val_mae: 0.0027\n",
      "Epoch 39/100\n",
      "1/1 [==============================] - 0s 27ms/step - loss: 2.2406e-05 - mse: 2.2406e-05 - mae: 0.0027 - val_loss: 2.3736e-05 - val_mse: 2.3736e-05 - val_mae: 0.0029\n",
      "Epoch 40/100\n",
      "1/1 [==============================] - 0s 26ms/step - loss: 2.3712e-05 - mse: 2.3712e-05 - mae: 0.0029 - val_loss: 2.4802e-05 - val_mse: 2.4802e-05 - val_mae: 0.0029\n",
      "Epoch 41/100\n",
      "1/1 [==============================] - 0s 23ms/step - loss: 2.3764e-05 - mse: 2.3764e-05 - mae: 0.0029 - val_loss: 2.4387e-05 - val_mse: 2.4387e-05 - val_mae: 0.0028\n",
      "Epoch 42/100\n",
      "1/1 [==============================] - 0s 25ms/step - loss: 2.2357e-05 - mse: 2.2357e-05 - mae: 0.0028 - val_loss: 2.3000e-05 - val_mse: 2.3000e-05 - val_mae: 0.0024\n",
      "Epoch 43/100\n",
      "1/1 [==============================] - 0s 22ms/step - loss: 2.0036e-05 - mse: 2.0036e-05 - mae: 0.0025 - val_loss: 2.1571e-05 - val_mse: 2.1571e-05 - val_mae: 0.0021\n",
      "Epoch 44/100\n",
      "1/1 [==============================] - 0s 25ms/step - loss: 1.7744e-05 - mse: 1.7744e-05 - mae: 0.0021 - val_loss: 2.0846e-05 - val_mse: 2.0846e-05 - val_mae: 0.0018\n",
      "Epoch 45/100\n",
      "1/1 [==============================] - 0s 22ms/step - loss: 1.6271e-05 - mse: 1.6271e-05 - mae: 0.0018 - val_loss: 2.0996e-05 - val_mse: 2.0996e-05 - val_mae: 0.0018\n",
      "Epoch 46/100\n",
      "1/1 [==============================] - 0s 24ms/step - loss: 1.5818e-05 - mse: 1.5818e-05 - mae: 0.0018 - val_loss: 2.1697e-05 - val_mse: 2.1697e-05 - val_mae: 0.0019\n"
     ]
    },
    {
     "name": "stdout",
     "output_type": "stream",
     "text": [
      "Epoch 47/100\n",
      "1/1 [==============================] - 0s 26ms/step - loss: 1.6072e-05 - mse: 1.6072e-05 - mae: 0.0019 - val_loss: 2.2415e-05 - val_mse: 2.2415e-05 - val_mae: 0.0020\n",
      "Epoch 48/100\n",
      "1/1 [==============================] - 0s 25ms/step - loss: 1.6485e-05 - mse: 1.6485e-05 - mae: 0.0020 - val_loss: 2.2742e-05 - val_mse: 2.2742e-05 - val_mae: 0.0021\n",
      "Epoch 49/100\n",
      "1/1 [==============================] - 0s 25ms/step - loss: 1.6695e-05 - mse: 1.6695e-05 - mae: 0.0021 - val_loss: 2.2111e-05 - val_mse: 2.2111e-05 - val_mae: 0.0020\n",
      "Epoch 50/100\n",
      "1/1 [==============================] - 0s 27ms/step - loss: 1.6158e-05 - mse: 1.6158e-05 - mae: 0.0020 - val_loss: 2.1021e-05 - val_mse: 2.1021e-05 - val_mae: 0.0018\n",
      "Epoch 51/100\n",
      "1/1 [==============================] - 0s 24ms/step - loss: 1.5296e-05 - mse: 1.5296e-05 - mae: 0.0018 - val_loss: 1.9830e-05 - val_mse: 1.9830e-05 - val_mae: 0.0016\n",
      "Epoch 52/100\n",
      "1/1 [==============================] - 0s 26ms/step - loss: 1.4401e-05 - mse: 1.4401e-05 - mae: 0.0017 - val_loss: 1.8778e-05 - val_mse: 1.8778e-05 - val_mae: 0.0015\n",
      "Epoch 53/100\n",
      "1/1 [==============================] - 0s 26ms/step - loss: 1.3663e-05 - mse: 1.3663e-05 - mae: 0.0015 - val_loss: 1.7985e-05 - val_mse: 1.7985e-05 - val_mae: 0.0014\n",
      "Epoch 54/100\n",
      "1/1 [==============================] - 0s 26ms/step - loss: 1.3174e-05 - mse: 1.3174e-05 - mae: 0.0014 - val_loss: 1.7458e-05 - val_mse: 1.7458e-05 - val_mae: 0.0013\n",
      "Epoch 55/100\n",
      "1/1 [==============================] - 0s 25ms/step - loss: 1.2911e-05 - mse: 1.2911e-05 - mae: 0.0013 - val_loss: 1.7044e-05 - val_mse: 1.7044e-05 - val_mae: 0.0012\n",
      "Epoch 56/100\n",
      "1/1 [==============================] - 0s 25ms/step - loss: 1.2716e-05 - mse: 1.2716e-05 - mae: 0.0012 - val_loss: 1.6598e-05 - val_mse: 1.6598e-05 - val_mae: 0.0011\n",
      "Epoch 57/100\n",
      "1/1 [==============================] - 0s 25ms/step - loss: 1.2430e-05 - mse: 1.2430e-05 - mae: 0.0012 - val_loss: 1.6063e-05 - val_mse: 1.6063e-05 - val_mae: 0.0011\n",
      "Epoch 58/100\n",
      "1/1 [==============================] - 0s 24ms/step - loss: 1.1997e-05 - mse: 1.1997e-05 - mae: 0.0011 - val_loss: 1.5502e-05 - val_mse: 1.5502e-05 - val_mae: 0.0010\n",
      "Epoch 59/100\n",
      "1/1 [==============================] - 0s 23ms/step - loss: 1.1485e-05 - mse: 1.1485e-05 - mae: 0.0010 - val_loss: 1.5051e-05 - val_mse: 1.5051e-05 - val_mae: 0.0010\n",
      "Epoch 60/100\n",
      "1/1 [==============================] - 0s 21ms/step - loss: 1.1039e-05 - mse: 1.1039e-05 - mae: 0.0010 - val_loss: 1.4812e-05 - val_mse: 1.4812e-05 - val_mae: 0.0011\n",
      "Epoch 61/100\n",
      "1/1 [==============================] - 0s 23ms/step - loss: 1.0785e-05 - mse: 1.0785e-05 - mae: 0.0011 - val_loss: 1.4793e-05 - val_mse: 1.4793e-05 - val_mae: 0.0012\n",
      "Epoch 62/100\n",
      "1/1 [==============================] - 0s 21ms/step - loss: 1.0751e-05 - mse: 1.0751e-05 - mae: 0.0012 - val_loss: 1.4793e-05 - val_mse: 1.4793e-05 - val_mae: 0.0013\n",
      "Epoch 63/100\n",
      "1/1 [==============================] - 0s 24ms/step - loss: 1.0758e-05 - mse: 1.0758e-05 - mae: 0.0013 - val_loss: 1.4685e-05 - val_mse: 1.4685e-05 - val_mae: 0.0014\n",
      "Epoch 64/100\n",
      "1/1 [==============================] - 0s 27ms/step - loss: 1.0700e-05 - mse: 1.0700e-05 - mae: 0.0014 - val_loss: 1.4422e-05 - val_mse: 1.4422e-05 - val_mae: 0.0013\n",
      "Epoch 65/100\n",
      "1/1 [==============================] - 0s 25ms/step - loss: 1.0531e-05 - mse: 1.0531e-05 - mae: 0.0013 - val_loss: 1.4071e-05 - val_mse: 1.4071e-05 - val_mae: 0.0012\n",
      "Epoch 66/100\n",
      "1/1 [==============================] - 0s 25ms/step - loss: 1.0305e-05 - mse: 1.0305e-05 - mae: 0.0012 - val_loss: 1.3740e-05 - val_mse: 1.3740e-05 - val_mae: 0.0011\n",
      "Epoch 67/100\n",
      "1/1 [==============================] - 0s 22ms/step - loss: 1.0104e-05 - mse: 1.0104e-05 - mae: 0.0011 - val_loss: 1.3482e-05 - val_mse: 1.3482e-05 - val_mae: 0.0010\n",
      "Epoch 68/100\n",
      "1/1 [==============================] - 0s 23ms/step - loss: 9.9650e-06 - mse: 9.9650e-06 - mae: 0.0010 - val_loss: 1.3314e-05 - val_mse: 1.3314e-05 - val_mae: 9.6020e-04\n",
      "Epoch 69/100\n",
      "1/1 [==============================] - 0s 22ms/step - loss: 9.8839e-06 - mse: 9.8839e-06 - mae: 9.7982e-04 - val_loss: 1.3171e-05 - val_mse: 1.3171e-05 - val_mae: 9.2564e-04\n",
      "Epoch 70/100\n",
      "1/1 [==============================] - 0s 21ms/step - loss: 9.7850e-06 - mse: 9.7850e-06 - mae: 9.4863e-04 - val_loss: 1.3031e-05 - val_mse: 1.3031e-05 - val_mae: 8.7546e-04\n",
      "Epoch 71/100\n",
      "1/1 [==============================] - 0s 22ms/step - loss: 9.6375e-06 - mse: 9.6375e-06 - mae: 9.0198e-04 - val_loss: 1.2938e-05 - val_mse: 1.2938e-05 - val_mae: 8.7593e-04\n",
      "Epoch 72/100\n",
      "1/1 [==============================] - 0s 21ms/step - loss: 9.4868e-06 - mse: 9.4868e-06 - mae: 9.0378e-04 - val_loss: 1.2923e-05 - val_mse: 1.2923e-05 - val_mae: 9.1503e-04\n",
      "Epoch 73/100\n",
      "1/1 [==============================] - 0s 23ms/step - loss: 9.3782e-06 - mse: 9.3782e-06 - mae: 9.4102e-04 - val_loss: 1.2953e-05 - val_mse: 1.2953e-05 - val_mae: 9.5032e-04\n",
      "Epoch 74/100\n",
      "1/1 [==============================] - 0s 25ms/step - loss: 9.2971e-06 - mse: 9.2971e-06 - mae: 9.7395e-04 - val_loss: 1.2972e-05 - val_mse: 1.2972e-05 - val_mae: 9.5982e-04\n",
      "Epoch 75/100\n",
      "1/1 [==============================] - 0s 24ms/step - loss: 9.2012e-06 - mse: 9.2012e-06 - mae: 9.8192e-04 - val_loss: 1.2966e-05 - val_mse: 1.2966e-05 - val_mae: 9.3944e-04\n",
      "Epoch 76/100\n",
      "1/1 [==============================] - 0s 24ms/step - loss: 9.0837e-06 - mse: 9.0837e-06 - mae: 9.6154e-04 - val_loss: 1.2969e-05 - val_mse: 1.2969e-05 - val_mae: 9.0148e-04\n",
      "Epoch 77/100\n",
      "1/1 [==============================] - 0s 21ms/step - loss: 8.9791e-06 - mse: 8.9791e-06 - mae: 9.2439e-04 - val_loss: 1.2998e-05 - val_mse: 1.2998e-05 - val_mae: 8.6893e-04\n",
      "Epoch 78/100\n",
      "1/1 [==============================] - 0s 20ms/step - loss: 8.9037e-06 - mse: 8.9037e-06 - mae: 8.9208e-04 - val_loss: 1.3042e-05 - val_mse: 1.3042e-05 - val_mae: 8.6308e-04\n",
      "Epoch 79/100\n",
      "1/1 [==============================] - 0s 24ms/step - loss: 8.8414e-06 - mse: 8.8414e-06 - mae: 8.8594e-04 - val_loss: 1.3076e-05 - val_mse: 1.3076e-05 - val_mae: 8.5139e-04\n",
      "Epoch 80/100\n",
      "1/1 [==============================] - 0s 24ms/step - loss: 8.7595e-06 - mse: 8.7595e-06 - mae: 8.7389e-04 - val_loss: 1.3102e-05 - val_mse: 1.3102e-05 - val_mae: 8.3242e-04\n",
      "Epoch 81/100\n",
      "1/1 [==============================] - 0s 24ms/step - loss: 8.6594e-06 - mse: 8.6594e-06 - mae: 8.5491e-04 - val_loss: 1.3139e-05 - val_mse: 1.3139e-05 - val_mae: 8.3525e-04\n",
      "Epoch 82/100\n",
      "1/1 [==============================] - 0s 23ms/step - loss: 8.5657e-06 - mse: 8.5657e-06 - mae: 8.5796e-04 - val_loss: 1.3203e-05 - val_mse: 1.3203e-05 - val_mae: 8.5997e-04\n",
      "Epoch 83/100\n",
      "1/1 [==============================] - 0s 22ms/step - loss: 8.4968e-06 - mse: 8.4968e-06 - mae: 8.8188e-04 - val_loss: 1.3279e-05 - val_mse: 1.3279e-05 - val_mae: 8.8462e-04\n",
      "Epoch 84/100\n",
      "1/1 [==============================] - 0s 24ms/step - loss: 8.4457e-06 - mse: 8.4457e-06 - mae: 9.0409e-04 - val_loss: 1.3338e-05 - val_mse: 1.3338e-05 - val_mae: 8.8906e-04\n",
      "Epoch 85/100\n",
      "1/1 [==============================] - 0s 24ms/step - loss: 8.3887e-06 - mse: 8.3887e-06 - mae: 9.0650e-04 - val_loss: 1.3366e-05 - val_mse: 1.3366e-05 - val_mae: 8.6782e-04\n",
      "Epoch 86/100\n",
      "1/1 [==============================] - 0s 23ms/step - loss: 8.3137e-06 - mse: 8.3137e-06 - mae: 8.8393e-04 - val_loss: 1.3378e-05 - val_mse: 1.3378e-05 - val_mae: 8.3138e-04\n",
      "Epoch 87/100\n",
      "1/1 [==============================] - 0s 21ms/step - loss: 8.2325e-06 - mse: 8.2325e-06 - mae: 8.4683e-04 - val_loss: 1.3390e-05 - val_mse: 1.3390e-05 - val_mae: 7.9635e-04\n",
      "Epoch 88/100\n",
      "1/1 [==============================] - 0s 24ms/step - loss: 8.1610e-06 - mse: 8.1610e-06 - mae: 8.1110e-04 - val_loss: 1.3414e-05 - val_mse: 1.3414e-05 - val_mae: 7.7673e-04\n",
      "Epoch 89/100\n",
      "1/1 [==============================] - 0s 22ms/step - loss: 8.1050e-06 - mse: 8.1050e-06 - mae: 7.8992e-04 - val_loss: 1.3442e-05 - val_mse: 1.3442e-05 - val_mae: 7.7437e-04\n",
      "Epoch 90/100\n",
      "1/1 [==============================] - 0s 21ms/step - loss: 8.0556e-06 - mse: 8.0556e-06 - mae: 7.8536e-04 - val_loss: 1.3468e-05 - val_mse: 1.3468e-05 - val_mae: 7.8606e-04\n",
      "Epoch 91/100\n",
      "1/1 [==============================] - 0s 22ms/step - loss: 8.0073e-06 - mse: 8.0073e-06 - mae: 7.9572e-04 - val_loss: 1.3484e-05 - val_mse: 1.3484e-05 - val_mae: 7.9931e-04\n"
     ]
    },
    {
     "name": "stdout",
     "output_type": "stream",
     "text": [
      "Epoch 92/100\n",
      "1/1 [==============================] - 0s 22ms/step - loss: 7.9576e-06 - mse: 7.9576e-06 - mae: 8.0790e-04 - val_loss: 1.3490e-05 - val_mse: 1.3490e-05 - val_mae: 8.0880e-04\n",
      "Epoch 93/100\n",
      "1/1 [==============================] - 0s 22ms/step - loss: 7.9065e-06 - mse: 7.9065e-06 - mae: 8.1666e-04 - val_loss: 1.3484e-05 - val_mse: 1.3484e-05 - val_mae: 8.1011e-04\n",
      "Epoch 94/100\n",
      "1/1 [==============================] - 0s 25ms/step - loss: 7.8540e-06 - mse: 7.8540e-06 - mae: 8.1747e-04 - val_loss: 1.3468e-05 - val_mse: 1.3468e-05 - val_mae: 8.0187e-04\n",
      "Epoch 95/100\n",
      "1/1 [==============================] - 0s 21ms/step - loss: 7.8009e-06 - mse: 7.8009e-06 - mae: 8.0948e-04 - val_loss: 1.3455e-05 - val_mse: 1.3455e-05 - val_mae: 7.9269e-04\n",
      "Epoch 96/100\n",
      "1/1 [==============================] - 0s 23ms/step - loss: 7.7560e-06 - mse: 7.7560e-06 - mae: 8.0043e-04 - val_loss: 1.3445e-05 - val_mse: 1.3445e-05 - val_mae: 7.8344e-04\n",
      "Epoch 97/100\n",
      "1/1 [==============================] - 0s 23ms/step - loss: 7.7145e-06 - mse: 7.7145e-06 - mae: 7.9105e-04 - val_loss: 1.3440e-05 - val_mse: 1.3440e-05 - val_mae: 7.7621e-04\n",
      "Epoch 98/100\n",
      "1/1 [==============================] - 0s 24ms/step - loss: 7.6740e-06 - mse: 7.6740e-06 - mae: 7.8289e-04 - val_loss: 1.3444e-05 - val_mse: 1.3444e-05 - val_mae: 7.7337e-04\n",
      "Epoch 99/100\n",
      "1/1 [==============================] - 0s 21ms/step - loss: 7.6347e-06 - mse: 7.6347e-06 - mae: 7.7875e-04 - val_loss: 1.3454e-05 - val_mse: 1.3454e-05 - val_mae: 7.7613e-04\n",
      "Epoch 100/100\n",
      "1/1 [==============================] - 0s 23ms/step - loss: 7.5951e-06 - mse: 7.5951e-06 - mae: 7.8015e-04 - val_loss: 1.3470e-05 - val_mse: 1.3470e-05 - val_mae: 7.8401e-04\n"
     ]
    }
   ],
   "source": [
    "epoch=100\n",
    "batch=x.shape[0]\n",
    "\n",
    "simpler_model_two_hidden_layers.compile(loss='mse', optimizer='adam', metrics=['mse','mae']) # mean_squared_error (mse) and mean_absolute_error (mae) are our loss functions\n",
    "history=simpler_model_two_hidden_layers.fit(xtrain_scale, ytrain_scale, epochs=epoch, batch_size=batch, verbose=0-, validation_split=0.2)\n",
    "predictions = simpler_model_two_hidden_layers.predict(xval_scale)"
   ]
  },
  {
   "cell_type": "code",
   "execution_count": 563,
   "metadata": {},
   "outputs": [
    {
     "name": "stdout",
     "output_type": "stream",
     "text": [
      "dict_keys(['loss', 'mse', 'mae', 'val_loss', 'val_mse', 'val_mae'])\n"
     ]
    },
    {
     "data": {
      "image/png": "[encoded data removed]",
      "text/plain": [
       "<Figure size 432x288 with 1 Axes>"
      ]
     },
     "metadata": {
      "needs_background": "light"
     },
     "output_type": "display_data"
    }
   ],
   "source": [
    "#6.Evaluating the decrease of the model loss, we may need more epochs\n",
    "\n",
    "print(history.history.keys())\n",
    "# \"Loss\"\n",
    "plt.plot(history.history['loss'])\n",
    "plt.plot(history.history['val_loss'])\n",
    "plt.title('model loss')\n",
    "plt.ylabel('loss')\n",
    "plt.xlabel('epoch')\n",
    "plt.legend(['train', 'validation'], loc='upper left')\n",
    "plt.show()"
   ]
  },
  {
   "cell_type": "code",
   "execution_count": 564,
   "metadata": {},
   "outputs": [
    {
     "data": {
      "text/plain": [
       "660.4806330885789"
      ]
     },
     "execution_count": 564,
     "metadata": {},
     "output_type": "execute_result"
    }
   ],
   "source": [
    "prediction_unscaled=scaler_y.inverse_transform(predictions)\n",
    "sklearn.metrics.mean_squared_error(y_val, prediction_unscaled)"
   ]
  },
  {
   "cell_type": "code",
   "execution_count": null,
   "metadata": {},
   "outputs": [],
   "source": []
  },
  {
   "cell_type": "code",
   "execution_count": null,
   "metadata": {},
   "outputs": [],
   "source": []
  },
  {
   "cell_type": "code",
   "execution_count": null,
   "metadata": {},
   "outputs": [],
   "source": []
  },
  {
   "cell_type": "code",
   "execution_count": null,
   "metadata": {},
   "outputs": [],
   "source": []
  },
  {
   "cell_type": "code",
   "execution_count": null,
   "metadata": {},
   "outputs": [],
   "source": []
  },
  {
   "cell_type": "code",
   "execution_count": null,
   "metadata": {},
   "outputs": [],
   "source": []
  },
  {
   "cell_type": "markdown",
   "metadata": {},
   "source": [
    "# En dessous de ça on s'en balec"
   ]
  },
  {
   "cell_type": "code",
   "execution_count": null,
   "metadata": {},
   "outputs": [],
   "source": []
  },
  {
   "cell_type": "code",
   "execution_count": null,
   "metadata": {},
   "outputs": [],
   "source": []
  },
  {
   "cell_type": "code",
   "execution_count": 99,
   "metadata": {
    "scrolled": true
   },
   "outputs": [
    {
     "name": "stdout",
     "output_type": "stream",
     "text": [
      "dict_keys(['loss', 'mse', 'mae', 'val_loss', 'val_mse', 'val_mae'])\n"
     ]
    },
    {
     "data": {
      "image/png": "[encoded data removed]",
      "text/plain": [
       "<Figure size 432x288 with 1 Axes>"
      ]
     },
     "metadata": {
      "needs_background": "light"
     },
     "output_type": "display_data"
    }
   ],
   "source": [
    "#6.Evaluating the decrease of the model loss, we may need more epochs\n",
    "\n",
    "print(history.history.keys())\n",
    "# \"Loss\"\n",
    "plt.plot(history.history['loss'])\n",
    "plt.plot(history.history['val_loss'])\n",
    "plt.title('model loss')\n",
    "plt.ylabel('loss')\n",
    "plt.xlabel('epoch')\n",
    "plt.legend(['train', 'validation'], loc='upper left')\n",
    "plt.show()"
   ]
  },
  {
   "cell_type": "code",
   "execution_count": 93,
   "metadata": {
    "scrolled": true
   },
   "outputs": [
    {
     "name": "stdout",
     "output_type": "stream",
     "text": [
      "dict_keys(['loss', 'mse', 'mae', 'val_loss', 'val_mse', 'val_mae'])\n"
     ]
    },
    {
     "data": {
      "image/png": "[encoded data removed]",
      "text/plain": [
       "<Figure size 432x288 with 1 Axes>"
      ]
     },
     "metadata": {
      "needs_background": "light"
     },
     "output_type": "display_data"
    }
   ],
   "source": [
    "#6.Evaluating the decrease of the model loss, we may need more epochs\n",
    "\n",
    "print(history.history.keys())\n",
    "# \"Loss\"\n",
    "plt.plot(history.history['loss'])\n",
    "plt.plot(history.history['val_loss'])\n",
    "plt.title('model loss')\n",
    "plt.ylabel('loss')\n",
    "plt.xlabel('epoch')\n",
    "plt.legend(['train', 'validation'], loc='upper left')\n",
    "plt.show()"
   ]
  },
  {
   "cell_type": "code",
   "execution_count": null,
   "metadata": {},
   "outputs": [],
   "source": []
  },
  {
   "cell_type": "code",
   "execution_count": 91,
   "metadata": {
    "scrolled": true
   },
   "outputs": [
    {
     "name": "stdout",
     "output_type": "stream",
     "text": [
      "dict_keys(['loss', 'mse', 'mae', 'val_loss', 'val_mse', 'val_mae'])\n"
     ]
    },
    {
     "data": {
      "image/png": "[encoded data removed]",
      "text/plain": [
       "<Figure size 432x288 with 1 Axes>"
      ]
     },
     "metadata": {
      "needs_background": "light"
     },
     "output_type": "display_data"
    }
   ],
   "source": [
    "#6.Evaluating the decrease of the model loss, we may need more epochs\n",
    "\n",
    "print(history.history.keys())\n",
    "# \"Loss\"\n",
    "plt.plot(history.history['loss'])\n",
    "plt.plot(history.history['val_loss'])\n",
    "plt.title('model loss')\n",
    "plt.ylabel('loss')\n",
    "plt.xlabel('epoch')\n",
    "plt.legend(['train', 'validation'], loc='upper left')\n",
    "plt.show()"
   ]
  },
  {
   "cell_type": "code",
   "execution_count": 39,
   "metadata": {
    "scrolled": true
   },
   "outputs": [
    {
     "name": "stdout",
     "output_type": "stream",
     "text": [
      "dict_keys(['loss', 'mse', 'mae', 'val_loss', 'val_mse', 'val_mae'])\n"
     ]
    },
    {
     "data": {
      "image/png": "[encoded data removed]",
      "text/plain": [
       "<Figure size 432x288 with 1 Axes>"
      ]
     },
     "metadata": {
      "needs_background": "light"
     },
     "output_type": "display_data"
    }
   ],
   "source": [
    "#6.Evaluating the decrease of the model loss, we may need more epochs\n",
    "\n",
    "print(history.history.keys())\n",
    "# \"Loss\"\n",
    "plt.plot(history.history['loss'])\n",
    "plt.plot(history.history['val_loss'])\n",
    "plt.title('model loss')\n",
    "plt.ylabel('loss')\n",
    "plt.xlabel('epoch')\n",
    "plt.legend(['train', 'validation'], loc='upper left')\n",
    "plt.show()"
   ]
  },
  {
   "cell_type": "code",
   "execution_count": 100,
   "metadata": {},
   "outputs": [
    {
     "data": {
      "text/plain": [
       "262.723082996859"
      ]
     },
     "execution_count": 100,
     "metadata": {},
     "output_type": "execute_result"
    }
   ],
   "source": [
    "prediction_unscaled=scaler_y.inverse_transform(predictions)\n",
    "sklearn.metrics.mean_squared_error(y_val, prediction_unscaled)"
   ]
  },
  {
   "cell_type": "code",
   "execution_count": 95,
   "metadata": {},
   "outputs": [
    {
     "data": {
      "text/html": [
       "<div>\n",
       "<style scoped>\n",
       "    .dataframe tbody tr th:only-of-type {\n",
       "        vertical-align: middle;\n",
       "    }\n",
       "\n",
       "    .dataframe tbody tr th {\n",
       "        vertical-align: top;\n",
       "    }\n",
       "\n",
       "    .dataframe thead th {\n",
       "        text-align: right;\n",
       "    }\n",
       "</style>\n",
       "<table border=\"1\" class=\"dataframe\">\n",
       "  <thead>\n",
       "    <tr style=\"text-align: right;\">\n",
       "      <th></th>\n",
       "      <th>prediction</th>\n",
       "      <th>y_val</th>\n",
       "      <th>absolute_diff</th>\n",
       "      <th>relative_diff</th>\n",
       "    </tr>\n",
       "  </thead>\n",
       "  <tbody>\n",
       "    <tr>\n",
       "      <th>0</th>\n",
       "      <td>141.599411</td>\n",
       "      <td>110</td>\n",
       "      <td>998.522776</td>\n",
       "      <td>0.049801</td>\n",
       "    </tr>\n",
       "    <tr>\n",
       "      <th>1</th>\n",
       "      <td>-0.141118</td>\n",
       "      <td>0</td>\n",
       "      <td>0.019914</td>\n",
       "      <td>1.000000</td>\n",
       "    </tr>\n",
       "    <tr>\n",
       "      <th>2</th>\n",
       "      <td>-0.141118</td>\n",
       "      <td>0</td>\n",
       "      <td>0.019914</td>\n",
       "      <td>1.000000</td>\n",
       "    </tr>\n",
       "    <tr>\n",
       "      <th>3</th>\n",
       "      <td>17.675032</td>\n",
       "      <td>13</td>\n",
       "      <td>21.855921</td>\n",
       "      <td>0.069960</td>\n",
       "    </tr>\n",
       "    <tr>\n",
       "      <th>4</th>\n",
       "      <td>-0.141118</td>\n",
       "      <td>0</td>\n",
       "      <td>0.019914</td>\n",
       "      <td>1.000000</td>\n",
       "    </tr>\n",
       "  </tbody>\n",
       "</table>\n",
       "</div>"
      ],
      "text/plain": [
       "   prediction  y_val  absolute_diff  relative_diff\n",
       "0  141.599411    110     998.522776       0.049801\n",
       "1   -0.141118      0       0.019914       1.000000\n",
       "2   -0.141118      0       0.019914       1.000000\n",
       "3   17.675032     13      21.855921       0.069960\n",
       "4   -0.141118      0       0.019914       1.000000"
      ]
     },
     "execution_count": 95,
     "metadata": {},
     "output_type": "execute_result"
    }
   ],
   "source": [
    "comparaison=pd.concat([pd.DataFrame(prediction_unscaled).rename(columns={0:'prediction'}),pd.DataFrame(y_val).rename(columns={0:'y_val'})],axis=1)\n",
    "\n",
    "comparaison['absolute_diff']=comparaison.apply(lambda x: (x['prediction']-x['y_val'])**2,axis=1)\n",
    "comparaison['relative_diff']=comparaison.apply(lambda x: x['absolute_diff']/(x['prediction']**2),axis=1)\n",
    "comparaison.head()"
   ]
  },
  {
   "cell_type": "code",
   "execution_count": 96,
   "metadata": {},
   "outputs": [
    {
     "data": {
      "text/html": [
       "<div>\n",
       "<style scoped>\n",
       "    .dataframe tbody tr th:only-of-type {\n",
       "        vertical-align: middle;\n",
       "    }\n",
       "\n",
       "    .dataframe tbody tr th {\n",
       "        vertical-align: top;\n",
       "    }\n",
       "\n",
       "    .dataframe thead th {\n",
       "        text-align: right;\n",
       "    }\n",
       "</style>\n",
       "<table border=\"1\" class=\"dataframe\">\n",
       "  <thead>\n",
       "    <tr style=\"text-align: right;\">\n",
       "      <th></th>\n",
       "      <th>prediction</th>\n",
       "      <th>y_val</th>\n",
       "      <th>absolute_diff</th>\n",
       "      <th>relative_diff</th>\n",
       "    </tr>\n",
       "  </thead>\n",
       "  <tbody>\n",
       "    <tr>\n",
       "      <th>count</th>\n",
       "      <td>11526.000000</td>\n",
       "      <td>11526.000000</td>\n",
       "      <td>1.152600e+04</td>\n",
       "      <td>1.152600e+04</td>\n",
       "    </tr>\n",
       "    <tr>\n",
       "      <th>mean</th>\n",
       "      <td>9.712377</td>\n",
       "      <td>8.973712</td>\n",
       "      <td>4.149077e+02</td>\n",
       "      <td>1.013425e+02</td>\n",
       "    </tr>\n",
       "    <tr>\n",
       "      <th>std</th>\n",
       "      <td>62.783829</td>\n",
       "      <td>49.614875</td>\n",
       "      <td>1.574335e+04</td>\n",
       "      <td>5.956349e+03</td>\n",
       "    </tr>\n",
       "    <tr>\n",
       "      <th>min</th>\n",
       "      <td>-25.213772</td>\n",
       "      <td>0.000000</td>\n",
       "      <td>2.260115e-07</td>\n",
       "      <td>3.433703e-09</td>\n",
       "    </tr>\n",
       "    <tr>\n",
       "      <th>25%</th>\n",
       "      <td>-0.141118</td>\n",
       "      <td>0.000000</td>\n",
       "      <td>1.991431e-02</td>\n",
       "      <td>6.468449e-02</td>\n",
       "    </tr>\n",
       "    <tr>\n",
       "      <th>50%</th>\n",
       "      <td>-0.141118</td>\n",
       "      <td>0.000000</td>\n",
       "      <td>1.991431e-02</td>\n",
       "      <td>1.000000e+00</td>\n",
       "    </tr>\n",
       "    <tr>\n",
       "      <th>75%</th>\n",
       "      <td>2.796188</td>\n",
       "      <td>3.000000</td>\n",
       "      <td>6.021014e-01</td>\n",
       "      <td>1.000000e+00</td>\n",
       "    </tr>\n",
       "    <tr>\n",
       "      <th>max</th>\n",
       "      <td>3379.122314</td>\n",
       "      <td>2653.000000</td>\n",
       "      <td>1.418173e+06</td>\n",
       "      <td>5.883183e+05</td>\n",
       "    </tr>\n",
       "  </tbody>\n",
       "</table>\n",
       "</div>"
      ],
      "text/plain": [
       "         prediction         y_val  absolute_diff  relative_diff\n",
       "count  11526.000000  11526.000000   1.152600e+04   1.152600e+04\n",
       "mean       9.712377      8.973712   4.149077e+02   1.013425e+02\n",
       "std       62.783829     49.614875   1.574335e+04   5.956349e+03\n",
       "min      -25.213772      0.000000   2.260115e-07   3.433703e-09\n",
       "25%       -0.141118      0.000000   1.991431e-02   6.468449e-02\n",
       "50%       -0.141118      0.000000   1.991431e-02   1.000000e+00\n",
       "75%        2.796188      3.000000   6.021014e-01   1.000000e+00\n",
       "max     3379.122314   2653.000000   1.418173e+06   5.883183e+05"
      ]
     },
     "execution_count": 96,
     "metadata": {},
     "output_type": "execute_result"
    }
   ],
   "source": [
    "comparaison.describe()"
   ]
  },
  {
   "cell_type": "code",
   "execution_count": 150,
   "metadata": {
    "scrolled": true
   },
   "outputs": [
    {
     "data": {
      "text/plain": [
       "135.70134429570572"
      ]
     },
     "execution_count": 150,
     "metadata": {},
     "output_type": "execute_result"
    }
   ],
   "source": [
    "comparaison['absolute_diff'].sum()/y_val.size"
   ]
  },
  {
   "cell_type": "code",
   "execution_count": 146,
   "metadata": {},
   "outputs": [
    {
     "data": {
      "text/plain": [
       "11526"
      ]
     },
     "execution_count": 146,
     "metadata": {},
     "output_type": "execute_result"
    }
   ],
   "source": []
  },
  {
   "cell_type": "code",
   "execution_count": null,
   "metadata": {},
   "outputs": [],
   "source": []
  },
  {
   "cell_type": "markdown",
   "metadata": {},
   "source": [
    "# Research"
   ]
  },
  {
   "cell_type": "code",
   "execution_count": 11,
   "metadata": {},
   "outputs": [
    {
     "data": {
      "text/plain": [
       "array([4, 5, 3, 2, 1, 0], dtype=int8)"
      ]
     },
     "execution_count": 11,
     "metadata": {},
     "output_type": "execute_result"
    }
   ],
   "source": [
    "#Could be a solution to solve the categorisation problem\n",
    "\n",
    "df=pd.read_csv(\"./challenge_youtube_toxic.csv\", sep=\";\",encoding = 'latin1')\n",
    "\n",
    "categ_inst=df.categ_inst.astype(\"category\").cat.codes\n",
    "categ_inst=pd.Series(categ_inst)\n",
    "categ_inst.unique()"
   ]
  },
  {
   "cell_type": "markdown",
   "metadata": {},
   "source": [
    "# Best Tuto ever pour Prediction Neural Network : https://towardsdatascience.com/regression-based-neural-networks-with-tensorflow-v2-0-predicting-average-daily-rates-e20fffa7ac9a"
   ]
  },
  {
   "cell_type": "code",
   "execution_count": 127,
   "metadata": {},
   "outputs": [
    {
     "name": "stdout",
     "output_type": "stream",
     "text": [
      "Epoch 1/50\n",
      "185/185 [==============================] - 0s 2ms/step - loss: 1.9528e-07 - mse: 1.9528e-07 - mae: 2.0972e-04 - val_loss: 7.7847e-06 - val_mse: 7.7847e-06 - val_mae: 3.0627e-04\n",
      "Epoch 2/50\n",
      "185/185 [==============================] - 0s 1ms/step - loss: 2.3775e-07 - mse: 2.3775e-07 - mae: 2.1955e-04 - val_loss: 7.5658e-06 - val_mse: 7.5658e-06 - val_mae: 2.0531e-04\n",
      "Epoch 3/50\n",
      "185/185 [==============================] - 0s 1ms/step - loss: 1.6042e-07 - mse: 1.6042e-07 - mae: 1.8620e-04 - val_loss: 8.4396e-06 - val_mse: 8.4396e-06 - val_mae: 2.5011e-04\n",
      "Epoch 4/50\n",
      "185/185 [==============================] - 0s 1ms/step - loss: 1.2152e-07 - mse: 1.2152e-07 - mae: 1.6218e-04 - val_loss: 5.8213e-06 - val_mse: 5.8213e-06 - val_mae: 2.1067e-04\n",
      "Epoch 5/50\n",
      "185/185 [==============================] - 0s 1ms/step - loss: 1.7923e-07 - mse: 1.7923e-07 - mae: 1.8849e-04 - val_loss: 7.8779e-06 - val_mse: 7.8779e-06 - val_mae: 3.1747e-04\n",
      "Epoch 6/50\n",
      "185/185 [==============================] - 0s 1ms/step - loss: 1.6764e-07 - mse: 1.6764e-07 - mae: 2.0539e-04 - val_loss: 8.0427e-06 - val_mse: 8.0427e-06 - val_mae: 2.3927e-04\n",
      "Epoch 7/50\n",
      "185/185 [==============================] - 0s 2ms/step - loss: 2.2362e-07 - mse: 2.2362e-07 - mae: 1.9159e-04 - val_loss: 1.3321e-05 - val_mse: 1.3321e-05 - val_mae: 3.6643e-04\n",
      "Epoch 8/50\n",
      "185/185 [==============================] - 0s 2ms/step - loss: 4.9207e-07 - mse: 4.9207e-07 - mae: 2.9200e-04 - val_loss: 7.4912e-06 - val_mse: 7.4912e-06 - val_mae: 2.3213e-04\n",
      "Epoch 9/50\n",
      "185/185 [==============================] - 0s 1ms/step - loss: 3.2578e-07 - mse: 3.2578e-07 - mae: 2.2011e-04 - val_loss: 7.0310e-06 - val_mse: 7.0310e-06 - val_mae: 2.3182e-04\n",
      "Epoch 10/50\n",
      "185/185 [==============================] - 0s 2ms/step - loss: 1.8639e-07 - mse: 1.8639e-07 - mae: 1.8266e-04 - val_loss: 8.6238e-06 - val_mse: 8.6238e-06 - val_mae: 3.4306e-04\n",
      "Epoch 11/50\n",
      "185/185 [==============================] - 0s 1ms/step - loss: 1.3159e-07 - mse: 1.3159e-07 - mae: 1.6586e-04 - val_loss: 6.7281e-06 - val_mse: 6.7281e-06 - val_mae: 1.9900e-04\n",
      "Epoch 12/50\n",
      "185/185 [==============================] - 0s 2ms/step - loss: 1.7479e-07 - mse: 1.7479e-07 - mae: 1.9660e-04 - val_loss: 4.8990e-06 - val_mse: 4.8990e-06 - val_mae: 2.4452e-04\n",
      "Epoch 13/50\n",
      "185/185 [==============================] - 0s 2ms/step - loss: 2.2070e-07 - mse: 2.2070e-07 - mae: 2.1470e-04 - val_loss: 8.4119e-06 - val_mse: 8.4119e-06 - val_mae: 3.2921e-04\n",
      "Epoch 14/50\n",
      "185/185 [==============================] - 0s 2ms/step - loss: 2.0832e-07 - mse: 2.0832e-07 - mae: 2.1584e-04 - val_loss: 9.3310e-06 - val_mse: 9.3310e-06 - val_mae: 3.6126e-04\n",
      "Epoch 15/50\n",
      "185/185 [==============================] - 0s 2ms/step - loss: 1.7873e-07 - mse: 1.7873e-07 - mae: 1.8809e-04 - val_loss: 7.9276e-06 - val_mse: 7.9276e-06 - val_mae: 2.5275e-04\n",
      "Epoch 16/50\n",
      "185/185 [==============================] - 0s 2ms/step - loss: 1.8706e-07 - mse: 1.8706e-07 - mae: 1.9868e-04 - val_loss: 8.9160e-06 - val_mse: 8.9160e-06 - val_mae: 2.8157e-04\n",
      "Epoch 17/50\n",
      "185/185 [==============================] - 0s 2ms/step - loss: 1.7604e-07 - mse: 1.7604e-07 - mae: 1.8172e-04 - val_loss: 8.4416e-06 - val_mse: 8.4416e-06 - val_mae: 2.8571e-04\n",
      "Epoch 18/50\n",
      "185/185 [==============================] - 0s 2ms/step - loss: 5.1452e-07 - mse: 5.1452e-07 - mae: 2.9117e-04 - val_loss: 1.4575e-05 - val_mse: 1.4575e-05 - val_mae: 2.0455e-04\n",
      "Epoch 19/50\n",
      "185/185 [==============================] - 0s 2ms/step - loss: 6.2431e-07 - mse: 6.2431e-07 - mae: 2.8497e-04 - val_loss: 1.2373e-05 - val_mse: 1.2373e-05 - val_mae: 3.4031e-04\n",
      "Epoch 20/50\n",
      "185/185 [==============================] - 0s 2ms/step - loss: 3.7276e-07 - mse: 3.7276e-07 - mae: 2.3124e-04 - val_loss: 1.1351e-05 - val_mse: 1.1351e-05 - val_mae: 3.5932e-04\n",
      "Epoch 21/50\n",
      "185/185 [==============================] - 0s 1ms/step - loss: 1.7923e-07 - mse: 1.7923e-07 - mae: 2.0479e-04 - val_loss: 1.1509e-05 - val_mse: 1.1509e-05 - val_mae: 2.0836e-04\n",
      "Epoch 22/50\n",
      "185/185 [==============================] - 0s 2ms/step - loss: 1.4662e-07 - mse: 1.4662e-07 - mae: 1.7614e-04 - val_loss: 7.8671e-06 - val_mse: 7.8671e-06 - val_mae: 2.1132e-04\n",
      "Epoch 23/50\n",
      "185/185 [==============================] - 0s 1ms/step - loss: 1.2297e-07 - mse: 1.2297e-07 - mae: 1.6460e-04 - val_loss: 1.0975e-05 - val_mse: 1.0975e-05 - val_mae: 2.0597e-04\n",
      "Epoch 24/50\n",
      "185/185 [==============================] - 0s 2ms/step - loss: 1.3280e-07 - mse: 1.3280e-07 - mae: 1.7455e-04 - val_loss: 1.1235e-05 - val_mse: 1.1235e-05 - val_mae: 1.9674e-04\n",
      "Epoch 25/50\n",
      "185/185 [==============================] - 0s 2ms/step - loss: 1.6789e-07 - mse: 1.6789e-07 - mae: 1.9990e-04 - val_loss: 1.1067e-05 - val_mse: 1.1067e-05 - val_mae: 2.2437e-04\n",
      "Epoch 26/50\n",
      "185/185 [==============================] - 0s 2ms/step - loss: 1.8347e-07 - mse: 1.8347e-07 - mae: 1.8594e-04 - val_loss: 8.2040e-06 - val_mse: 8.2040e-06 - val_mae: 5.0104e-04\n",
      "Epoch 27/50\n",
      "185/185 [==============================] - 0s 2ms/step - loss: 1.6185e-07 - mse: 1.6185e-07 - mae: 2.0701e-04 - val_loss: 9.2540e-06 - val_mse: 9.2540e-06 - val_mae: 2.4093e-04\n",
      "Epoch 28/50\n",
      "185/185 [==============================] - 0s 2ms/step - loss: 1.6863e-07 - mse: 1.6863e-07 - mae: 1.6985e-04 - val_loss: 1.0039e-05 - val_mse: 1.0039e-05 - val_mae: 2.4446e-04\n",
      "Epoch 29/50\n",
      "185/185 [==============================] - 0s 2ms/step - loss: 2.4462e-07 - mse: 2.4462e-07 - mae: 2.2944e-04 - val_loss: 9.0135e-06 - val_mse: 9.0135e-06 - val_mae: 2.6917e-04\n",
      "Epoch 30/50\n",
      "185/185 [==============================] - 0s 2ms/step - loss: 5.0066e-07 - mse: 5.0066e-07 - mae: 2.6870e-04 - val_loss: 6.6209e-06 - val_mse: 6.6209e-06 - val_mae: 3.3725e-04\n",
      "Epoch 31/50\n",
      "185/185 [==============================] - 0s 1ms/step - loss: 3.9338e-07 - mse: 3.9338e-07 - mae: 2.4768e-04 - val_loss: 1.0851e-05 - val_mse: 1.0851e-05 - val_mae: 4.0152e-04\n",
      "Epoch 32/50\n",
      "185/185 [==============================] - 0s 2ms/step - loss: 1.8984e-07 - mse: 1.8984e-07 - mae: 2.0636e-04 - val_loss: 8.5718e-06 - val_mse: 8.5718e-06 - val_mae: 2.0438e-04\n",
      "Epoch 33/50\n",
      "185/185 [==============================] - 0s 2ms/step - loss: 3.4108e-07 - mse: 3.4108e-07 - mae: 2.5622e-04 - val_loss: 8.1948e-06 - val_mse: 8.1948e-06 - val_mae: 2.1430e-04\n",
      "Epoch 34/50\n",
      "185/185 [==============================] - 0s 2ms/step - loss: 1.3922e-07 - mse: 1.3922e-07 - mae: 1.6466e-04 - val_loss: 8.9528e-06 - val_mse: 8.9528e-06 - val_mae: 1.9156e-04\n",
      "Epoch 35/50\n",
      "185/185 [==============================] - 0s 2ms/step - loss: 1.3631e-07 - mse: 1.3631e-07 - mae: 1.5590e-04 - val_loss: 8.9807e-06 - val_mse: 8.9807e-06 - val_mae: 2.0202e-04\n",
      "Epoch 36/50\n",
      "185/185 [==============================] - 0s 2ms/step - loss: 1.4807e-07 - mse: 1.4807e-07 - mae: 1.7441e-04 - val_loss: 1.0731e-05 - val_mse: 1.0731e-05 - val_mae: 2.3442e-04\n",
      "Epoch 37/50\n",
      "185/185 [==============================] - 0s 2ms/step - loss: 1.4164e-07 - mse: 1.4164e-07 - mae: 1.7268e-04 - val_loss: 8.8864e-06 - val_mse: 8.8864e-06 - val_mae: 2.4140e-04\n",
      "Epoch 38/50\n",
      "185/185 [==============================] - 0s 2ms/step - loss: 1.4722e-07 - mse: 1.4722e-07 - mae: 1.9228e-04 - val_loss: 1.0044e-05 - val_mse: 1.0044e-05 - val_mae: 3.2806e-04\n",
      "Epoch 39/50\n",
      "185/185 [==============================] - 0s 2ms/step - loss: 4.5082e-07 - mse: 4.5082e-07 - mae: 2.6246e-04 - val_loss: 4.4488e-06 - val_mse: 4.4488e-06 - val_mae: 2.7883e-04\n",
      "Epoch 40/50\n",
      "185/185 [==============================] - 0s 3ms/step - loss: 3.0842e-07 - mse: 3.0842e-07 - mae: 2.2880e-04 - val_loss: 6.7256e-06 - val_mse: 6.7256e-06 - val_mae: 3.9512e-04\n",
      "Epoch 41/50\n",
      "185/185 [==============================] - 0s 2ms/step - loss: 3.2567e-07 - mse: 3.2567e-07 - mae: 2.4773e-04 - val_loss: 1.1176e-05 - val_mse: 1.1176e-05 - val_mae: 2.7315e-04\n",
      "Epoch 42/50\n",
      "185/185 [==============================] - 0s 3ms/step - loss: 1.6985e-07 - mse: 1.6985e-07 - mae: 1.8377e-04 - val_loss: 9.1980e-06 - val_mse: 9.1980e-06 - val_mae: 2.6943e-04\n",
      "Epoch 43/50\n",
      "185/185 [==============================] - 0s 2ms/step - loss: 1.6181e-07 - mse: 1.6181e-07 - mae: 1.8606e-04 - val_loss: 1.0774e-05 - val_mse: 1.0774e-05 - val_mae: 2.9272e-04\n",
      "Epoch 44/50\n",
      "185/185 [==============================] - 0s 1ms/step - loss: 1.4424e-07 - mse: 1.4424e-07 - mae: 1.8677e-04 - val_loss: 1.0725e-05 - val_mse: 1.0725e-05 - val_mae: 2.3540e-04\n",
      "Epoch 45/50\n",
      "185/185 [==============================] - 0s 1ms/step - loss: 1.1042e-07 - mse: 1.1042e-07 - mae: 1.5588e-04 - val_loss: 1.0290e-05 - val_mse: 1.0290e-05 - val_mae: 1.9943e-04\n",
      "Epoch 46/50\n",
      "185/185 [==============================] - 0s 1ms/step - loss: 2.0144e-07 - mse: 2.0144e-07 - mae: 1.9528e-04 - val_loss: 9.0082e-06 - val_mse: 9.0082e-06 - val_mae: 2.4044e-04\n",
      "Epoch 47/50\n",
      "185/185 [==============================] - 0s 1ms/step - loss: 1.6889e-07 - mse: 1.6889e-07 - mae: 1.8214e-04 - val_loss: 1.1403e-05 - val_mse: 1.1403e-05 - val_mae: 2.5297e-04\n",
      "Epoch 48/50\n",
      "185/185 [==============================] - 0s 2ms/step - loss: 3.4153e-07 - mse: 3.4153e-07 - mae: 2.6007e-04 - val_loss: 9.3251e-06 - val_mse: 9.3251e-06 - val_mae: 3.3047e-04\n",
      "Epoch 49/50\n",
      "185/185 [==============================] - 0s 1ms/step - loss: 6.7983e-07 - mse: 6.7983e-07 - mae: 3.3160e-04 - val_loss: 1.2355e-05 - val_mse: 1.2355e-05 - val_mae: 2.6388e-04\n",
      "Epoch 50/50\n",
      "185/185 [==============================] - 0s 1ms/step - loss: 1.5760e-07 - mse: 1.5760e-07 - mae: 1.8285e-04 - val_loss: 1.4639e-05 - val_mse: 1.4639e-05 - val_mae: 2.3525e-04\n"
     ]
    }
   ],
   "source": [
    "#5. Using the model\n",
    "model.compile(loss='mse', optimizer='adam', metrics=['mse','mae']) # mean_squared_error (mse) and mean_absolute_error (mae) are our loss functions\n",
    "history=model.fit(xtrain_scale, ytrain_scale, epochs=50, batch_size=150, verbose=1, validation_split=0.2)\n",
    "predictions = model.predict(xval_scale)"
   ]
  }
 ],
 "metadata": {
  "kernelspec": {
   "display_name": "Python 3",
   "language": "python",
   "name": "python3"
  },
  "language_info": {
   "codemirror_mode": {
    "name": "ipython",
    "version": 3
   },
   "file_extension": ".py",
   "mimetype": "text/x-python",
   "name": "python",
   "nbconvert_exporter": "python",
   "pygments_lexer": "ipython3",
   "version": "3.8.3"
  }
 },
 "nbformat": 4,
 "nbformat_minor": 4
}
