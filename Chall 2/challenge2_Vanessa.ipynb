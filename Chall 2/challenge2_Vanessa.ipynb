{
 "cells": [
  {
   "cell_type": "markdown",
   "metadata": {},
   "source": [
    "# Challenge 2 : youtube_toxic"
   ]
  },
  {
   "cell_type": "markdown",
   "metadata": {},
   "source": [
    "In this challenge, we study a dataset which describe some youtube videos regarding to the quality of its comments. "
   ]
  },
  {
   "cell_type": "markdown",
   "metadata": {},
   "source": [
    "# Data understanding : descriptive statistics"
   ]
  },
  {
   "cell_type": "markdown",
   "metadata": {},
   "source": [
    "First of all, we download the dataset."
   ]
  },
  {
   "cell_type": "code",
   "execution_count": 16,
   "metadata": {},
   "outputs": [
    {
     "data": {
      "text/html": [
       "<div>\n",
       "<style scoped>\n",
       "    .dataframe tbody tr th:only-of-type {\n",
       "        vertical-align: middle;\n",
       "    }\n",
       "\n",
       "    .dataframe tbody tr th {\n",
       "        vertical-align: top;\n",
       "    }\n",
       "\n",
       "    .dataframe thead th {\n",
       "        text-align: right;\n",
       "    }\n",
       "</style>\n",
       "<table border=\"1\" class=\"dataframe\">\n",
       "  <thead>\n",
       "    <tr style=\"text-align: right;\">\n",
       "      <th></th>\n",
       "      <th>video_id_court</th>\n",
       "      <th>video_id</th>\n",
       "      <th>channel_id</th>\n",
       "      <th>nbrMot</th>\n",
       "      <th>nbrMotInsulte</th>\n",
       "      <th>nbrMotAllong</th>\n",
       "      <th>nbrMotMAJ</th>\n",
       "      <th>nbrExclMark</th>\n",
       "      <th>nbrQuestMark</th>\n",
       "      <th>nbrMotMoyenne</th>\n",
       "      <th>...</th>\n",
       "      <th>discussion_count</th>\n",
       "      <th>distinct_authors_count</th>\n",
       "      <th>authors_3channels_count</th>\n",
       "      <th>liked_authors_count</th>\n",
       "      <th>channel_name</th>\n",
       "      <th>subscriberCount</th>\n",
       "      <th>viewCount</th>\n",
       "      <th>categorie_new</th>\n",
       "      <th>categ_inst</th>\n",
       "      <th>Unnamed: 27</th>\n",
       "    </tr>\n",
       "  </thead>\n",
       "  <tbody>\n",
       "    <tr>\n",
       "      <th>0</th>\n",
       "      <td>Uvvsvw_wxOs</td>\n",
       "      <td>VVU5R0d6QWhodmhKTzFoTDEwLUJjZ05BLlV2dnN2d193eE9z</td>\n",
       "      <td>UC9GGzAhhvhJO1hL10-BcgNA</td>\n",
       "      <td>3813</td>\n",
       "      <td>18</td>\n",
       "      <td>4</td>\n",
       "      <td>145</td>\n",
       "      <td>79</td>\n",
       "      <td>60</td>\n",
       "      <td>30,2619</td>\n",
       "      <td>...</td>\n",
       "      <td>28</td>\n",
       "      <td>58</td>\n",
       "      <td>47</td>\n",
       "      <td>23</td>\n",
       "      <td>LeHuffPost</td>\n",
       "      <td>339922</td>\n",
       "      <td>225393312</td>\n",
       "      <td>Core</td>\n",
       "      <td>Pure Players</td>\n",
       "      <td>NaN</td>\n",
       "    </tr>\n",
       "    <tr>\n",
       "      <th>1</th>\n",
       "      <td>mCy1ZBdttwA</td>\n",
       "      <td>VVVYS0pyWWN6WTJfZkpFWmdGUEdZMEhRLm1DeTFaQmR0dHdB</td>\n",
       "      <td>UCXKJrYczY2_fJEZgFPGY0HQ</td>\n",
       "      <td>28</td>\n",
       "      <td>2</td>\n",
       "      <td>0</td>\n",
       "      <td>1</td>\n",
       "      <td>0</td>\n",
       "      <td>0</td>\n",
       "      <td>9,333333</td>\n",
       "      <td>...</td>\n",
       "      <td>0</td>\n",
       "      <td>3</td>\n",
       "      <td>1</td>\n",
       "      <td>0</td>\n",
       "      <td>CNEWS</td>\n",
       "      <td>189971</td>\n",
       "      <td>132125693</td>\n",
       "      <td>Core</td>\n",
       "      <td>TV</td>\n",
       "      <td>NaN</td>\n",
       "    </tr>\n",
       "    <tr>\n",
       "      <th>2</th>\n",
       "      <td>iU3MyHMK5nU</td>\n",
       "      <td>VVU5R0d6QWhodmhKTzFoTDEwLUJjZ05BLmlVM015SE1LNW5V</td>\n",
       "      <td>UC9GGzAhhvhJO1hL10-BcgNA</td>\n",
       "      <td>3804</td>\n",
       "      <td>68</td>\n",
       "      <td>9</td>\n",
       "      <td>56</td>\n",
       "      <td>75</td>\n",
       "      <td>54</td>\n",
       "      <td>27,56522</td>\n",
       "      <td>...</td>\n",
       "      <td>22</td>\n",
       "      <td>83</td>\n",
       "      <td>49</td>\n",
       "      <td>36</td>\n",
       "      <td>LeHuffPost</td>\n",
       "      <td>339922</td>\n",
       "      <td>225393312</td>\n",
       "      <td>Core</td>\n",
       "      <td>Pure Players</td>\n",
       "      <td>NaN</td>\n",
       "    </tr>\n",
       "    <tr>\n",
       "      <th>3</th>\n",
       "      <td>ZUim3AeURtk</td>\n",
       "      <td>VVViWjBDc3I5b3c2WGprZGQ1NDJPbWh3LlpVaW0zQWVVUnRr</td>\n",
       "      <td>UCbZ0Csr9ow6Xjkdd542Omhw</td>\n",
       "      <td>4</td>\n",
       "      <td>0</td>\n",
       "      <td>1</td>\n",
       "      <td>2</td>\n",
       "      <td>0</td>\n",
       "      <td>0</td>\n",
       "      <td>2</td>\n",
       "      <td>...</td>\n",
       "      <td>0</td>\n",
       "      <td>2</td>\n",
       "      <td>0</td>\n",
       "      <td>0</td>\n",
       "      <td>Telegramme</td>\n",
       "      <td>2862</td>\n",
       "      <td>2481100</td>\n",
       "      <td>Niche</td>\n",
       "      <td>Presse_regionale</td>\n",
       "      <td>NaN</td>\n",
       "    </tr>\n",
       "    <tr>\n",
       "      <th>4</th>\n",
       "      <td>n5Tg2vhLCAM</td>\n",
       "      <td>VVVoWldzNlBKWTBoTkQzODRkMl9ScmhRLm41VGcydmhMQ0FN</td>\n",
       "      <td>UChZWs6PJY0hND384d2_RrhQ</td>\n",
       "      <td>737</td>\n",
       "      <td>3</td>\n",
       "      <td>1</td>\n",
       "      <td>18</td>\n",
       "      <td>5</td>\n",
       "      <td>6</td>\n",
       "      <td>32,04347826</td>\n",
       "      <td>...</td>\n",
       "      <td>4</td>\n",
       "      <td>18</td>\n",
       "      <td>7</td>\n",
       "      <td>7</td>\n",
       "      <td>Les Echos</td>\n",
       "      <td>30010</td>\n",
       "      <td>6710737</td>\n",
       "      <td>Core</td>\n",
       "      <td>Presse nationale</td>\n",
       "      <td>NaN</td>\n",
       "    </tr>\n",
       "  </tbody>\n",
       "</table>\n",
       "<p>5 rows × 28 columns</p>\n",
       "</div>"
      ],
      "text/plain": [
       "  video_id_court                                          video_id  \\\n",
       "0    Uvvsvw_wxOs  VVU5R0d6QWhodmhKTzFoTDEwLUJjZ05BLlV2dnN2d193eE9z   \n",
       "1    mCy1ZBdttwA  VVVYS0pyWWN6WTJfZkpFWmdGUEdZMEhRLm1DeTFaQmR0dHdB   \n",
       "2    iU3MyHMK5nU  VVU5R0d6QWhodmhKTzFoTDEwLUJjZ05BLmlVM015SE1LNW5V   \n",
       "3    ZUim3AeURtk  VVViWjBDc3I5b3c2WGprZGQ1NDJPbWh3LlpVaW0zQWVVUnRr   \n",
       "4    n5Tg2vhLCAM  VVVoWldzNlBKWTBoTkQzODRkMl9ScmhRLm41VGcydmhMQ0FN   \n",
       "\n",
       "                 channel_id  nbrMot  nbrMotInsulte  nbrMotAllong  nbrMotMAJ  \\\n",
       "0  UC9GGzAhhvhJO1hL10-BcgNA    3813             18             4        145   \n",
       "1  UCXKJrYczY2_fJEZgFPGY0HQ      28              2             0          1   \n",
       "2  UC9GGzAhhvhJO1hL10-BcgNA    3804             68             9         56   \n",
       "3  UCbZ0Csr9ow6Xjkdd542Omhw       4              0             1          2   \n",
       "4  UChZWs6PJY0hND384d2_RrhQ     737              3             1         18   \n",
       "\n",
       "   nbrExclMark  nbrQuestMark nbrMotMoyenne  ... discussion_count  \\\n",
       "0           79            60       30,2619  ...               28   \n",
       "1            0             0      9,333333  ...                0   \n",
       "2           75            54      27,56522  ...               22   \n",
       "3            0             0             2  ...                0   \n",
       "4            5             6   32,04347826  ...                4   \n",
       "\n",
       "  distinct_authors_count authors_3channels_count liked_authors_count  \\\n",
       "0                     58                      47                  23   \n",
       "1                      3                       1                   0   \n",
       "2                     83                      49                  36   \n",
       "3                      2                       0                   0   \n",
       "4                     18                       7                   7   \n",
       "\n",
       "  channel_name  subscriberCount  viewCount  categorie_new        categ_inst  \\\n",
       "0   LeHuffPost           339922  225393312           Core      Pure Players   \n",
       "1        CNEWS           189971  132125693           Core                TV   \n",
       "2   LeHuffPost           339922  225393312           Core      Pure Players   \n",
       "3   Telegramme             2862    2481100          Niche  Presse_regionale   \n",
       "4    Les Echos            30010    6710737           Core  Presse nationale   \n",
       "\n",
       "   Unnamed: 27  \n",
       "0          NaN  \n",
       "1          NaN  \n",
       "2          NaN  \n",
       "3          NaN  \n",
       "4          NaN  \n",
       "\n",
       "[5 rows x 28 columns]"
      ]
     },
     "execution_count": 16,
     "metadata": {},
     "output_type": "execute_result"
    }
   ],
   "source": [
    "import pandas as pd\n",
    "youtube_toxic = pd.read_csv(\"challenge_youtube_toxic.csv\",sep=\";\",encoding = 'latin1')\n",
    "youtube_toxic.head()"
   ]
  },
  {
   "cell_type": "markdown",
   "metadata": {},
   "source": [
    "We can see that the data associated to columns \"...Moyenne\" are string and not number. Thus if we want to use then in our statistics, we need to transform them into float."
   ]
  },
  {
   "cell_type": "code",
   "execution_count": 37,
   "metadata": {},
   "outputs": [],
   "source": [
    "youtube_toxic = youtube_toxic.drop(youtube_toxic.columns[[-1]], axis='columns') \n",
    "\n",
    "def convert_into_float(string):\n",
    "    if type(string)==float:\n",
    "        return string\n",
    "    return float (string.replace(',','.'))\n",
    "youtube_toxic['nbrMotMoyenne'] = youtube_toxic['nbrMotMoyenne'].apply(convert_into_float)\n",
    "youtube_toxic['nbrMotInsulteMoyenne'] = youtube_toxic['nbrMotInsulteMoyenne'].apply(convert_into_float)\n",
    "youtube_toxic['nbrMotAllongMoyenne'] = youtube_toxic['nbrMotAllongMoyenne'].apply(convert_into_float)\n",
    "youtube_toxic['nbrMotMAJMoyenne'] = youtube_toxic['nbrMotMAJMoyenne'].apply(convert_into_float)\n",
    "youtube_toxic['nbrExclMarkMoyenne'] = youtube_toxic['nbrExclMarkMoyenne'].apply(convert_into_float)\n",
    "youtube_toxic['nbrQuestMarkMoyenne'] = youtube_toxic['nbrQuestMarkMoyenne'].apply(convert_into_float)"
   ]
  },
  {
   "cell_type": "markdown",
   "metadata": {},
   "source": [
    "Now, we compute some basic descriptive statistics with \"describe\" and a boxplot."
   ]
  },
  {
   "cell_type": "code",
   "execution_count": 54,
   "metadata": {},
   "outputs": [
    {
     "data": {
      "text/html": [
       "<div>\n",
       "<style scoped>\n",
       "    .dataframe tbody tr th:only-of-type {\n",
       "        vertical-align: middle;\n",
       "    }\n",
       "\n",
       "    .dataframe tbody tr th {\n",
       "        vertical-align: top;\n",
       "    }\n",
       "\n",
       "    .dataframe thead th {\n",
       "        text-align: right;\n",
       "    }\n",
       "</style>\n",
       "<table border=\"1\" class=\"dataframe\">\n",
       "  <thead>\n",
       "    <tr style=\"text-align: right;\">\n",
       "      <th></th>\n",
       "      <th>nbrMot</th>\n",
       "      <th>nbrMotInsulte</th>\n",
       "      <th>nbrMotAllong</th>\n",
       "      <th>nbrMotMAJ</th>\n",
       "      <th>nbrExclMark</th>\n",
       "      <th>nbrQuestMark</th>\n",
       "      <th>thread_count</th>\n",
       "      <th>comment_count</th>\n",
       "      <th>message_count</th>\n",
       "      <th>discussion_count</th>\n",
       "      <th>distinct_authors_count</th>\n",
       "      <th>authors_3channels_count</th>\n",
       "      <th>liked_authors_count</th>\n",
       "      <th>subscriberCount</th>\n",
       "      <th>viewCount</th>\n",
       "      <th>Unnamed: 27</th>\n",
       "    </tr>\n",
       "  </thead>\n",
       "  <tbody>\n",
       "    <tr>\n",
       "      <th>count</th>\n",
       "      <td>46102.000000</td>\n",
       "      <td>46102.000000</td>\n",
       "      <td>46102.000000</td>\n",
       "      <td>46102.000000</td>\n",
       "      <td>46102.000000</td>\n",
       "      <td>46102.000000</td>\n",
       "      <td>46102.000000</td>\n",
       "      <td>46102.000000</td>\n",
       "      <td>46102.000000</td>\n",
       "      <td>46102.000000</td>\n",
       "      <td>46102.000000</td>\n",
       "      <td>46102.000000</td>\n",
       "      <td>46102.000000</td>\n",
       "      <td>46102.000000</td>\n",
       "      <td>4.610200e+04</td>\n",
       "      <td>0.0</td>\n",
       "    </tr>\n",
       "    <tr>\n",
       "      <th>mean</th>\n",
       "      <td>1435.853564</td>\n",
       "      <td>9.418225</td>\n",
       "      <td>3.974665</td>\n",
       "      <td>21.922823</td>\n",
       "      <td>21.823066</td>\n",
       "      <td>13.591276</td>\n",
       "      <td>22.219145</td>\n",
       "      <td>25.700816</td>\n",
       "      <td>47.919960</td>\n",
       "      <td>5.040085</td>\n",
       "      <td>28.726021</td>\n",
       "      <td>14.502646</td>\n",
       "      <td>10.974036</td>\n",
       "      <td>172108.752744</td>\n",
       "      <td>9.255061e+07</td>\n",
       "      <td>NaN</td>\n",
       "    </tr>\n",
       "    <tr>\n",
       "      <th>std</th>\n",
       "      <td>7670.789422</td>\n",
       "      <td>61.616732</td>\n",
       "      <td>21.367879</td>\n",
       "      <td>130.038591</td>\n",
       "      <td>120.607203</td>\n",
       "      <td>68.803038</td>\n",
       "      <td>117.441322</td>\n",
       "      <td>130.742237</td>\n",
       "      <td>234.791106</td>\n",
       "      <td>19.578795</td>\n",
       "      <td>140.334032</td>\n",
       "      <td>56.251117</td>\n",
       "      <td>50.607716</td>\n",
       "      <td>119508.318824</td>\n",
       "      <td>6.778302e+07</td>\n",
       "      <td>NaN</td>\n",
       "    </tr>\n",
       "    <tr>\n",
       "      <th>min</th>\n",
       "      <td>0.000000</td>\n",
       "      <td>0.000000</td>\n",
       "      <td>0.000000</td>\n",
       "      <td>0.000000</td>\n",
       "      <td>0.000000</td>\n",
       "      <td>0.000000</td>\n",
       "      <td>1.000000</td>\n",
       "      <td>0.000000</td>\n",
       "      <td>1.000000</td>\n",
       "      <td>0.000000</td>\n",
       "      <td>1.000000</td>\n",
       "      <td>0.000000</td>\n",
       "      <td>0.000000</td>\n",
       "      <td>0.000000</td>\n",
       "      <td>3.109100e+04</td>\n",
       "      <td>NaN</td>\n",
       "    </tr>\n",
       "    <tr>\n",
       "      <th>25%</th>\n",
       "      <td>18.000000</td>\n",
       "      <td>0.000000</td>\n",
       "      <td>0.000000</td>\n",
       "      <td>0.000000</td>\n",
       "      <td>0.000000</td>\n",
       "      <td>0.000000</td>\n",
       "      <td>1.000000</td>\n",
       "      <td>0.000000</td>\n",
       "      <td>1.000000</td>\n",
       "      <td>0.000000</td>\n",
       "      <td>1.000000</td>\n",
       "      <td>1.000000</td>\n",
       "      <td>0.000000</td>\n",
       "      <td>87793.000000</td>\n",
       "      <td>4.635634e+07</td>\n",
       "      <td>NaN</td>\n",
       "    </tr>\n",
       "    <tr>\n",
       "      <th>50%</th>\n",
       "      <td>72.000000</td>\n",
       "      <td>0.000000</td>\n",
       "      <td>0.000000</td>\n",
       "      <td>0.000000</td>\n",
       "      <td>1.000000</td>\n",
       "      <td>1.000000</td>\n",
       "      <td>3.000000</td>\n",
       "      <td>0.000000</td>\n",
       "      <td>4.000000</td>\n",
       "      <td>0.000000</td>\n",
       "      <td>3.000000</td>\n",
       "      <td>2.000000</td>\n",
       "      <td>1.000000</td>\n",
       "      <td>180173.000000</td>\n",
       "      <td>6.388093e+07</td>\n",
       "      <td>NaN</td>\n",
       "    </tr>\n",
       "    <tr>\n",
       "      <th>75%</th>\n",
       "      <td>398.000000</td>\n",
       "      <td>3.000000</td>\n",
       "      <td>1.000000</td>\n",
       "      <td>6.000000</td>\n",
       "      <td>9.000000</td>\n",
       "      <td>4.000000</td>\n",
       "      <td>9.000000</td>\n",
       "      <td>5.000000</td>\n",
       "      <td>16.000000</td>\n",
       "      <td>2.000000</td>\n",
       "      <td>11.000000</td>\n",
       "      <td>7.000000</td>\n",
       "      <td>4.000000</td>\n",
       "      <td>217835.000000</td>\n",
       "      <td>1.321257e+08</td>\n",
       "      <td>NaN</td>\n",
       "    </tr>\n",
       "    <tr>\n",
       "      <th>max</th>\n",
       "      <td>662808.000000</td>\n",
       "      <td>7227.000000</td>\n",
       "      <td>1416.000000</td>\n",
       "      <td>14270.000000</td>\n",
       "      <td>11093.000000</td>\n",
       "      <td>5520.000000</td>\n",
       "      <td>8734.000000</td>\n",
       "      <td>11195.000000</td>\n",
       "      <td>19336.000000</td>\n",
       "      <td>1235.000000</td>\n",
       "      <td>9837.000000</td>\n",
       "      <td>3762.000000</td>\n",
       "      <td>3732.000000</td>\n",
       "      <td>568615.000000</td>\n",
       "      <td>2.414350e+08</td>\n",
       "      <td>NaN</td>\n",
       "    </tr>\n",
       "  </tbody>\n",
       "</table>\n",
       "</div>"
      ],
      "text/plain": [
       "              nbrMot  nbrMotInsulte  nbrMotAllong     nbrMotMAJ   nbrExclMark  \\\n",
       "count   46102.000000   46102.000000  46102.000000  46102.000000  46102.000000   \n",
       "mean     1435.853564       9.418225      3.974665     21.922823     21.823066   \n",
       "std      7670.789422      61.616732     21.367879    130.038591    120.607203   \n",
       "min         0.000000       0.000000      0.000000      0.000000      0.000000   \n",
       "25%        18.000000       0.000000      0.000000      0.000000      0.000000   \n",
       "50%        72.000000       0.000000      0.000000      0.000000      1.000000   \n",
       "75%       398.000000       3.000000      1.000000      6.000000      9.000000   \n",
       "max    662808.000000    7227.000000   1416.000000  14270.000000  11093.000000   \n",
       "\n",
       "       nbrQuestMark  thread_count  comment_count  message_count  \\\n",
       "count  46102.000000  46102.000000   46102.000000   46102.000000   \n",
       "mean      13.591276     22.219145      25.700816      47.919960   \n",
       "std       68.803038    117.441322     130.742237     234.791106   \n",
       "min        0.000000      1.000000       0.000000       1.000000   \n",
       "25%        0.000000      1.000000       0.000000       1.000000   \n",
       "50%        1.000000      3.000000       0.000000       4.000000   \n",
       "75%        4.000000      9.000000       5.000000      16.000000   \n",
       "max     5520.000000   8734.000000   11195.000000   19336.000000   \n",
       "\n",
       "       discussion_count  distinct_authors_count  authors_3channels_count  \\\n",
       "count      46102.000000            46102.000000             46102.000000   \n",
       "mean           5.040085               28.726021                14.502646   \n",
       "std           19.578795              140.334032                56.251117   \n",
       "min            0.000000                1.000000                 0.000000   \n",
       "25%            0.000000                1.000000                 1.000000   \n",
       "50%            0.000000                3.000000                 2.000000   \n",
       "75%            2.000000               11.000000                 7.000000   \n",
       "max         1235.000000             9837.000000              3762.000000   \n",
       "\n",
       "       liked_authors_count  subscriberCount     viewCount  Unnamed: 27  \n",
       "count         46102.000000     46102.000000  4.610200e+04          0.0  \n",
       "mean             10.974036    172108.752744  9.255061e+07          NaN  \n",
       "std              50.607716    119508.318824  6.778302e+07          NaN  \n",
       "min               0.000000         0.000000  3.109100e+04          NaN  \n",
       "25%               0.000000     87793.000000  4.635634e+07          NaN  \n",
       "50%               1.000000    180173.000000  6.388093e+07          NaN  \n",
       "75%               4.000000    217835.000000  1.321257e+08          NaN  \n",
       "max            3732.000000    568615.000000  2.414350e+08          NaN  "
      ]
     },
     "execution_count": 54,
     "metadata": {},
     "output_type": "execute_result"
    }
   ],
   "source": [
    "youtube_toxic.describe()"
   ]
  },
  {
   "cell_type": "code",
   "execution_count": 30,
   "metadata": {},
   "outputs": [
    {
     "data": {
      "image/png": "[encoded data removed]",
      "text/plain": [
       "<Figure size 432x288 with 1 Axes>"
      ]
     },
     "metadata": {
      "needs_background": "light"
     },
     "output_type": "display_data"
    }
   ],
   "source": [
    "import matplotlib.pyplot as plt\n",
    "import seaborn as sns\n",
    "\n",
    "plt.figure()\n",
    "plt.title('boxplot data')\n",
    "youtube_toxic_box=sns.boxplot(data=youtube_toxic)     \n",
    "plt.show()"
   ]
  },
  {
   "cell_type": "markdown",
   "metadata": {},
   "source": [
    "In the boxplot, we can see if there are some outliers due to the difference of scale between numbers. While the mean of the viewCount is 2,41e+08, nbrMotAllong's mean is about 4. So we delete the columns where the values are to high and we compute again the boxplot."
   ]
  },
  {
   "cell_type": "code",
   "execution_count": 38,
   "metadata": {},
   "outputs": [
    {
     "data": {
      "image/png": "[encoded data removed]",
      "text/plain": [
       "<Figure size 432x288 with 1 Axes>"
      ]
     },
     "metadata": {
      "needs_background": "light"
     },
     "output_type": "display_data"
    }
   ],
   "source": [
    "new_youtube_toxic = youtube_toxic.drop(youtube_toxic.columns[[3,-1,-4,-5]], axis='columns') \n",
    "plt.figure()\n",
    "plt.title('boxplot data')\n",
    "youtube_toxic_box=sns.boxplot(data=new_youtube_toxic)   \n",
    "plt.show()"
   ]
  },
  {
   "cell_type": "code",
   "execution_count": 57,
   "metadata": {},
   "outputs": [
    {
     "data": {
      "text/plain": [
       "<matplotlib.collections.PathCollection at 0x9cace80>"
      ]
     },
     "execution_count": 57,
     "metadata": {},
     "output_type": "execute_result"
    },
    {
     "data": {
      "image/png": "[encoded data removed]",
      "text/plain": [
       "<Figure size 432x288 with 1 Axes>"
      ]
     },
     "metadata": {
      "needs_background": "light"
     },
     "output_type": "display_data"
    }
   ],
   "source": [
    "plt.scatter(youtube_toxic['nbrMotAllong'],youtube_toxic['nbrMotMAJ'],c = youtube_toxic['nbrMotInsulte'])"
   ]
  },
  {
   "cell_type": "code",
   "execution_count": 39,
   "metadata": {},
   "outputs": [
    {
     "data": {
      "text/plain": [
       "<matplotlib.collections.PathCollection at 0xcfc70a0>"
      ]
     },
     "execution_count": 39,
     "metadata": {},
     "output_type": "execute_result"
    },
    {
     "data": {
      "image/png": "[encoded data removed]",
      "text/plain": [
       "<Figure size 432x288 with 1 Axes>"
      ]
     },
     "metadata": {
      "needs_background": "light"
     },
     "output_type": "display_data"
    }
   ],
   "source": [
    "new_youtube_toxic_2 = youtube_toxic[youtube_toxic.nbrMotAllong < 1400]\n",
    "\n",
    "plt.scatter(new_youtube_toxic_2['nbrMotAllong'],new_youtube_toxic_2['nbrMotMAJ'],c = new_youtube_toxic_2['nbrMotInsulte'])\n"
   ]
  },
  {
   "cell_type": "code",
   "execution_count": 47,
   "metadata": {},
   "outputs": [
    {
     "data": {
      "text/plain": [
       "<matplotlib.collections.PathCollection at 0x1283c988>"
      ]
     },
     "execution_count": 47,
     "metadata": {},
     "output_type": "execute_result"
    },
    {
     "data": {
      "image/png": "[encoded data removed]",
      "text/plain": [
       "<Figure size 432x288 with 1 Axes>"
      ]
     },
     "metadata": {
      "needs_background": "light"
     },
     "output_type": "display_data"
    }
   ],
   "source": [
    "plt.scatter(new_youtube_toxic_2['nbrExclMark'],new_youtube_toxic_2['nbrMotInsulte'])"
   ]
  },
  {
   "cell_type": "code",
   "execution_count": 46,
   "metadata": {},
   "outputs": [
    {
     "data": {
      "text/plain": [
       "<matplotlib.collections.PathCollection at 0x12800fb8>"
      ]
     },
     "execution_count": 46,
     "metadata": {},
     "output_type": "execute_result"
    },
    {
     "data": {
      "image/png": "[encoded data removed]",
      "text/plain": [
       "<Figure size 432x288 with 1 Axes>"
      ]
     },
     "metadata": {
      "needs_background": "light"
     },
     "output_type": "display_data"
    }
   ],
   "source": [
    "plt.scatter(new_youtube_toxic_2['nbrQuestMark'],new_youtube_toxic_2['nbrMotInsulte'])"
   ]
  },
  {
   "cell_type": "code",
   "execution_count": 45,
   "metadata": {},
   "outputs": [
    {
     "data": {
      "text/plain": [
       "<matplotlib.collections.PathCollection at 0x120b2568>"
      ]
     },
     "execution_count": 45,
     "metadata": {},
     "output_type": "execute_result"
    },
    {
     "data": {
      "image/png": "[encoded data removed]",
      "text/plain": [
       "<Figure size 432x288 with 1 Axes>"
      ]
     },
     "metadata": {
      "needs_background": "light"
     },
     "output_type": "display_data"
    }
   ],
   "source": [
    "plt.scatter(new_youtube_toxic_2['message_count'],new_youtube_toxic_2['nbrMotInsulte'])"
   ]
  },
  {
   "cell_type": "code",
   "execution_count": 44,
   "metadata": {},
   "outputs": [
    {
     "data": {
      "text/plain": [
       "<matplotlib.collections.PathCollection at 0x12077e20>"
      ]
     },
     "execution_count": 44,
     "metadata": {},
     "output_type": "execute_result"
    },
    {
     "data": {
      "image/png": "[encoded data removed]",
      "text/plain": [
       "<Figure size 432x288 with 1 Axes>"
      ]
     },
     "metadata": {
      "needs_background": "light"
     },
     "output_type": "display_data"
    }
   ],
   "source": [
    "plt.scatter(new_youtube_toxic_2['viewCount'],new_youtube_toxic_2['nbrMotInsulteMoyenne'])"
   ]
  },
  {
   "cell_type": "code",
   "execution_count": 61,
   "metadata": {},
   "outputs": [
    {
     "data": {
      "text/plain": [
       "<matplotlib.collections.PathCollection at 0x201129d0>"
      ]
     },
     "execution_count": 61,
     "metadata": {},
     "output_type": "execute_result"
    },
    {
     "data": {
      "image/png": "[encoded data removed]",
      "text/plain": [
       "<Figure size 432x288 with 1 Axes>"
      ]
     },
     "metadata": {
      "needs_background": "light"
     },
     "output_type": "display_data"
    }
   ],
   "source": [
    "plt.scatter(youtube_toxic['categorie_new'],youtube_toxic['nbrMotInsulteMoyenne'],c = youtube_toxic['nbrMotInsulte'])"
   ]
  },
  {
   "cell_type": "code",
   "execution_count": 62,
   "metadata": {},
   "outputs": [
    {
     "data": {
      "text/plain": [
       "<matplotlib.collections.PathCollection at 0x1c138430>"
      ]
     },
     "execution_count": 62,
     "metadata": {},
     "output_type": "execute_result"
    },
    {
     "data": {
      "image/png": "[encoded data removed]",
      "text/plain": [
       "<Figure size 432x288 with 1 Axes>"
      ]
     },
     "metadata": {
      "needs_background": "light"
     },
     "output_type": "display_data"
    }
   ],
   "source": [
    "plt.scatter(youtube_toxic['categ_inst'],youtube_toxic['nbrMotInsulteMoyenne'],c = youtube_toxic['nbrMotInsulte'])\n"
   ]
  },
  {
   "cell_type": "code",
   "execution_count": 74,
   "metadata": {},
   "outputs": [
    {
     "name": "stdout",
     "output_type": "stream",
     "text": [
      "Empty DataFrame\n",
      "Columns: [video_id_court, video_id, channel_id, nbrMot, nbrMotInsulte, nbrMotAllong, nbrMotMAJ, nbrExclMark, nbrQuestMark, nbrMotMoyenne, nbrMotInsulteMoyenne, nbrMotAllongMoyenne, nbrMotMAJMoyenne, nbrExclMarkMoyenne, nbrQuestMarkMoyenne, thread_count, comment_count, message_count, discussion_count, distinct_authors_count, authors_3channels_count, liked_authors_count, channel_name, subscriberCount, viewCount, categorie_new, categ_inst, Unnamed: 27]\n",
      "Index: []\n",
      "\n",
      "[0 rows x 28 columns]\n"
     ]
    },
    {
     "data": {
      "text/plain": [
       "<matplotlib.collections.PathCollection at 0x418adbc8>"
      ]
     },
     "execution_count": 74,
     "metadata": {},
     "output_type": "execute_result"
    },
    {
     "data": {
      "image/png": "[encoded data removed]",
      "text/plain": [
       "<Figure size 432x288 with 1 Axes>"
      ]
     },
     "metadata": {
      "needs_background": "light"
     },
     "output_type": "display_data"
    }
   ],
   "source": [
    "print(new_youtube_toxic_2[new_youtube_toxic_2.nbrMotInsulte > 7000])\n",
    "\n",
    "\n",
    "plt.scatter(new_youtube_toxic_2['nbrMotInsulte'],new_youtube_toxic_2['nbrMot'])"
   ]
  },
  {
   "cell_type": "code",
   "execution_count": null,
   "metadata": {},
   "outputs": [],
   "source": []
  },
  {
   "cell_type": "code",
   "execution_count": 82,
   "metadata": {},
   "outputs": [
    {
     "data": {
      "text/html": [
       "<div>\n",
       "<style scoped>\n",
       "    .dataframe tbody tr th:only-of-type {\n",
       "        vertical-align: middle;\n",
       "    }\n",
       "\n",
       "    .dataframe tbody tr th {\n",
       "        vertical-align: top;\n",
       "    }\n",
       "\n",
       "    .dataframe thead th {\n",
       "        text-align: right;\n",
       "    }\n",
       "</style>\n",
       "<table border=\"1\" class=\"dataframe\">\n",
       "  <thead>\n",
       "    <tr style=\"text-align: right;\">\n",
       "      <th>categorie_new</th>\n",
       "      <th>Core</th>\n",
       "      <th>Niche</th>\n",
       "      <th>Partisan</th>\n",
       "    </tr>\n",
       "    <tr>\n",
       "      <th>categ_inst</th>\n",
       "      <th></th>\n",
       "      <th></th>\n",
       "      <th></th>\n",
       "    </tr>\n",
       "  </thead>\n",
       "  <tbody>\n",
       "    <tr>\n",
       "      <th>Alternatif</th>\n",
       "      <td>1.257576</td>\n",
       "      <td>NaN</td>\n",
       "      <td>3.984496</td>\n",
       "    </tr>\n",
       "    <tr>\n",
       "      <th>Presse magazine</th>\n",
       "      <td>6.041054</td>\n",
       "      <td>1.017647</td>\n",
       "      <td>0.612903</td>\n",
       "    </tr>\n",
       "    <tr>\n",
       "      <th>Presse nationale</th>\n",
       "      <td>7.081160</td>\n",
       "      <td>5.686097</td>\n",
       "      <td>6.310811</td>\n",
       "    </tr>\n",
       "    <tr>\n",
       "      <th>Presse_regionale</th>\n",
       "      <td>15.352581</td>\n",
       "      <td>2.677605</td>\n",
       "      <td>NaN</td>\n",
       "    </tr>\n",
       "    <tr>\n",
       "      <th>Pure Players</th>\n",
       "      <td>20.485775</td>\n",
       "      <td>3.585586</td>\n",
       "      <td>8.292763</td>\n",
       "    </tr>\n",
       "    <tr>\n",
       "      <th>TV</th>\n",
       "      <td>6.717325</td>\n",
       "      <td>NaN</td>\n",
       "      <td>NaN</td>\n",
       "    </tr>\n",
       "  </tbody>\n",
       "</table>\n",
       "</div>"
      ],
      "text/plain": [
       "categorie_new          Core     Niche  Partisan\n",
       "categ_inst                                     \n",
       "Alternatif         1.257576       NaN  3.984496\n",
       "Presse magazine    6.041054  1.017647  0.612903\n",
       "Presse nationale   7.081160  5.686097  6.310811\n",
       "Presse_regionale  15.352581  2.677605       NaN\n",
       "Pure Players      20.485775  3.585586  8.292763\n",
       "TV                 6.717325       NaN       NaN"
      ]
     },
     "execution_count": 82,
     "metadata": {},
     "output_type": "execute_result"
    }
   ],
   "source": [
    "youtube_toxic.pivot_table('nbrMotInsulte', index='categ_inst', columns='categorie_new', aggfunc=\"mean\")"
   ]
  },
  {
   "cell_type": "code",
   "execution_count": 80,
   "metadata": {},
   "outputs": [
    {
     "data": {
      "text/html": [
       "<div>\n",
       "<style scoped>\n",
       "    .dataframe tbody tr th:only-of-type {\n",
       "        vertical-align: middle;\n",
       "    }\n",
       "\n",
       "    .dataframe tbody tr th {\n",
       "        vertical-align: top;\n",
       "    }\n",
       "\n",
       "    .dataframe thead th {\n",
       "        text-align: right;\n",
       "    }\n",
       "</style>\n",
       "<table border=\"1\" class=\"dataframe\">\n",
       "  <thead>\n",
       "    <tr style=\"text-align: right;\">\n",
       "      <th>categorie_new</th>\n",
       "      <th>Core</th>\n",
       "      <th>Niche</th>\n",
       "      <th>Partisan</th>\n",
       "    </tr>\n",
       "    <tr>\n",
       "      <th>categ_inst</th>\n",
       "      <th></th>\n",
       "      <th></th>\n",
       "      <th></th>\n",
       "    </tr>\n",
       "  </thead>\n",
       "  <tbody>\n",
       "    <tr>\n",
       "      <th>Alternatif</th>\n",
       "      <td>366.969697</td>\n",
       "      <td>NaN</td>\n",
       "      <td>661.362791</td>\n",
       "    </tr>\n",
       "    <tr>\n",
       "      <th>Presse magazine</th>\n",
       "      <td>994.888694</td>\n",
       "      <td>130.476471</td>\n",
       "      <td>205.903226</td>\n",
       "    </tr>\n",
       "    <tr>\n",
       "      <th>Presse nationale</th>\n",
       "      <td>1784.932258</td>\n",
       "      <td>472.771164</td>\n",
       "      <td>518.108108</td>\n",
       "    </tr>\n",
       "    <tr>\n",
       "      <th>Presse_regionale</th>\n",
       "      <td>1823.237679</td>\n",
       "      <td>225.688543</td>\n",
       "      <td>NaN</td>\n",
       "    </tr>\n",
       "    <tr>\n",
       "      <th>Pure Players</th>\n",
       "      <td>3203.502193</td>\n",
       "      <td>342.846847</td>\n",
       "      <td>1761.407895</td>\n",
       "    </tr>\n",
       "    <tr>\n",
       "      <th>TV</th>\n",
       "      <td>743.506040</td>\n",
       "      <td>NaN</td>\n",
       "      <td>NaN</td>\n",
       "    </tr>\n",
       "  </tbody>\n",
       "</table>\n",
       "</div>"
      ],
      "text/plain": [
       "categorie_new            Core       Niche     Partisan\n",
       "categ_inst                                            \n",
       "Alternatif         366.969697         NaN   661.362791\n",
       "Presse magazine    994.888694  130.476471   205.903226\n",
       "Presse nationale  1784.932258  472.771164   518.108108\n",
       "Presse_regionale  1823.237679  225.688543          NaN\n",
       "Pure Players      3203.502193  342.846847  1761.407895\n",
       "TV                 743.506040         NaN          NaN"
      ]
     },
     "execution_count": 80,
     "metadata": {},
     "output_type": "execute_result"
    }
   ],
   "source": [
    "youtube_toxic.pivot_table('nbrMot', index='categ_inst', columns='categorie_new', aggfunc=\"mean\")"
   ]
  },
  {
   "cell_type": "code",
   "execution_count": 89,
   "metadata": {},
   "outputs": [
    {
     "data": {
      "text/html": [
       "<div>\n",
       "<style scoped>\n",
       "    .dataframe tbody tr th:only-of-type {\n",
       "        vertical-align: middle;\n",
       "    }\n",
       "\n",
       "    .dataframe tbody tr th {\n",
       "        vertical-align: top;\n",
       "    }\n",
       "\n",
       "    .dataframe thead th {\n",
       "        text-align: right;\n",
       "    }\n",
       "</style>\n",
       "<table border=\"1\" class=\"dataframe\">\n",
       "  <thead>\n",
       "    <tr style=\"text-align: right;\">\n",
       "      <th>categorie_new</th>\n",
       "      <th>Core</th>\n",
       "      <th>Niche</th>\n",
       "      <th>Partisan</th>\n",
       "    </tr>\n",
       "    <tr>\n",
       "      <th>categ_inst</th>\n",
       "      <th></th>\n",
       "      <th></th>\n",
       "      <th></th>\n",
       "    </tr>\n",
       "  </thead>\n",
       "  <tbody>\n",
       "    <tr>\n",
       "      <th>Alternatif</th>\n",
       "      <td>0.404101</td>\n",
       "      <td>NaN</td>\n",
       "      <td>0.756399</td>\n",
       "    </tr>\n",
       "    <tr>\n",
       "      <th>Presse magazine</th>\n",
       "      <td>0.796282</td>\n",
       "      <td>0.416775</td>\n",
       "      <td>0.107457</td>\n",
       "    </tr>\n",
       "    <tr>\n",
       "      <th>Presse nationale</th>\n",
       "      <td>0.729098</td>\n",
       "      <td>1.292594</td>\n",
       "      <td>0.676564</td>\n",
       "    </tr>\n",
       "    <tr>\n",
       "      <th>Presse_regionale</th>\n",
       "      <td>1.194658</td>\n",
       "      <td>1.279912</td>\n",
       "      <td>NaN</td>\n",
       "    </tr>\n",
       "    <tr>\n",
       "      <th>Pure Players</th>\n",
       "      <td>0.892867</td>\n",
       "      <td>1.512562</td>\n",
       "      <td>0.805033</td>\n",
       "    </tr>\n",
       "    <tr>\n",
       "      <th>TV</th>\n",
       "      <td>1.390731</td>\n",
       "      <td>NaN</td>\n",
       "      <td>NaN</td>\n",
       "    </tr>\n",
       "  </tbody>\n",
       "</table>\n",
       "</div>"
      ],
      "text/plain": [
       "categorie_new         Core     Niche  Partisan\n",
       "categ_inst                                    \n",
       "Alternatif        0.404101       NaN  0.756399\n",
       "Presse magazine   0.796282  0.416775  0.107457\n",
       "Presse nationale  0.729098  1.292594  0.676564\n",
       "Presse_regionale  1.194658  1.279912       NaN\n",
       "Pure Players      0.892867  1.512562  0.805033\n",
       "TV                1.390731       NaN       NaN"
      ]
     },
     "execution_count": 89,
     "metadata": {},
     "output_type": "execute_result"
    }
   ],
   "source": [
    "youtube_toxic['insulte'] = (youtube_toxic['nbrMotInsulte']*100)/youtube_toxic['nbrMot']\n",
    "youtube_toxic.pivot_table('insulte', index='categ_inst', columns='categorie_new', aggfunc=\"mean\")"
   ]
  },
  {
   "cell_type": "code",
   "execution_count": 17,
   "metadata": {},
   "outputs": [],
   "source": [
    "def convert_into_float(string):\n",
    "    if type(string)==float:\n",
    "        return string\n",
    "    return float (string.replace(',','.'))\n",
    "youtube_toxic['nbrMotMoyenne'] = youtube_toxic['nbrMotMoyenne'].apply(convert_into_float)\n",
    "youtube_toxic['nbrMotInsulteMoyenne'] = youtube_toxic['nbrMotInsulteMoyenne'].apply(convert_into_float)\n",
    "youtube_toxic['nbrMotAllongMoyenne'] = youtube_toxic['nbrMotAllongMoyenne'].apply(convert_into_float)\n",
    "youtube_toxic['nbrMotMAJMoyenne'] = youtube_toxic['nbrMotMAJMoyenne'].apply(convert_into_float)\n",
    "youtube_toxic['nbrExclMarkMoyenne'] = youtube_toxic['nbrExclMarkMoyenne'].apply(convert_into_float)\n",
    "youtube_toxic['nbrQuestMarkMoyenne'] = youtube_toxic['nbrQuestMarkMoyenne'].apply(convert_into_float)"
   ]
  },
  {
   "cell_type": "code",
   "execution_count": 8,
   "metadata": {},
   "outputs": [
    {
     "data": {
      "text/html": [
       "<div>\n",
       "<style scoped>\n",
       "    .dataframe tbody tr th:only-of-type {\n",
       "        vertical-align: middle;\n",
       "    }\n",
       "\n",
       "    .dataframe tbody tr th {\n",
       "        vertical-align: top;\n",
       "    }\n",
       "\n",
       "    .dataframe thead th {\n",
       "        text-align: right;\n",
       "    }\n",
       "</style>\n",
       "<table border=\"1\" class=\"dataframe\">\n",
       "  <thead>\n",
       "    <tr style=\"text-align: right;\">\n",
       "      <th></th>\n",
       "      <th>video_id_court</th>\n",
       "      <th>video_id</th>\n",
       "      <th>channel_id</th>\n",
       "      <th>nbrMot</th>\n",
       "      <th>nbrMotInsulte</th>\n",
       "      <th>nbrMotAllong</th>\n",
       "      <th>nbrMotMAJ</th>\n",
       "      <th>nbrExclMark</th>\n",
       "      <th>nbrQuestMark</th>\n",
       "      <th>nbrMotMoyenne</th>\n",
       "      <th>...</th>\n",
       "      <th>discussion_count</th>\n",
       "      <th>distinct_authors_count</th>\n",
       "      <th>authors_3channels_count</th>\n",
       "      <th>liked_authors_count</th>\n",
       "      <th>channel_name</th>\n",
       "      <th>subscriberCount</th>\n",
       "      <th>viewCount</th>\n",
       "      <th>categorie_new</th>\n",
       "      <th>categ_inst</th>\n",
       "      <th>Unnamed: 27</th>\n",
       "    </tr>\n",
       "  </thead>\n",
       "  <tbody>\n",
       "    <tr>\n",
       "      <th>0</th>\n",
       "      <td>Uvvsvw_wxOs</td>\n",
       "      <td>VVU5R0d6QWhodmhKTzFoTDEwLUJjZ05BLlV2dnN2d193eE9z</td>\n",
       "      <td>UC9GGzAhhvhJO1hL10-BcgNA</td>\n",
       "      <td>3813</td>\n",
       "      <td>18</td>\n",
       "      <td>4</td>\n",
       "      <td>145</td>\n",
       "      <td>79</td>\n",
       "      <td>60</td>\n",
       "      <td>30.261900</td>\n",
       "      <td>...</td>\n",
       "      <td>28</td>\n",
       "      <td>58</td>\n",
       "      <td>47</td>\n",
       "      <td>23</td>\n",
       "      <td>LeHuffPost</td>\n",
       "      <td>339922</td>\n",
       "      <td>225393312</td>\n",
       "      <td>Core</td>\n",
       "      <td>Pure Players</td>\n",
       "      <td>NaN</td>\n",
       "    </tr>\n",
       "    <tr>\n",
       "      <th>1</th>\n",
       "      <td>mCy1ZBdttwA</td>\n",
       "      <td>VVVYS0pyWWN6WTJfZkpFWmdGUEdZMEhRLm1DeTFaQmR0dHdB</td>\n",
       "      <td>UCXKJrYczY2_fJEZgFPGY0HQ</td>\n",
       "      <td>28</td>\n",
       "      <td>2</td>\n",
       "      <td>0</td>\n",
       "      <td>1</td>\n",
       "      <td>0</td>\n",
       "      <td>0</td>\n",
       "      <td>9.333333</td>\n",
       "      <td>...</td>\n",
       "      <td>0</td>\n",
       "      <td>3</td>\n",
       "      <td>1</td>\n",
       "      <td>0</td>\n",
       "      <td>CNEWS</td>\n",
       "      <td>189971</td>\n",
       "      <td>132125693</td>\n",
       "      <td>Core</td>\n",
       "      <td>TV</td>\n",
       "      <td>NaN</td>\n",
       "    </tr>\n",
       "    <tr>\n",
       "      <th>2</th>\n",
       "      <td>iU3MyHMK5nU</td>\n",
       "      <td>VVU5R0d6QWhodmhKTzFoTDEwLUJjZ05BLmlVM015SE1LNW5V</td>\n",
       "      <td>UC9GGzAhhvhJO1hL10-BcgNA</td>\n",
       "      <td>3804</td>\n",
       "      <td>68</td>\n",
       "      <td>9</td>\n",
       "      <td>56</td>\n",
       "      <td>75</td>\n",
       "      <td>54</td>\n",
       "      <td>27.565220</td>\n",
       "      <td>...</td>\n",
       "      <td>22</td>\n",
       "      <td>83</td>\n",
       "      <td>49</td>\n",
       "      <td>36</td>\n",
       "      <td>LeHuffPost</td>\n",
       "      <td>339922</td>\n",
       "      <td>225393312</td>\n",
       "      <td>Core</td>\n",
       "      <td>Pure Players</td>\n",
       "      <td>NaN</td>\n",
       "    </tr>\n",
       "    <tr>\n",
       "      <th>3</th>\n",
       "      <td>ZUim3AeURtk</td>\n",
       "      <td>VVViWjBDc3I5b3c2WGprZGQ1NDJPbWh3LlpVaW0zQWVVUnRr</td>\n",
       "      <td>UCbZ0Csr9ow6Xjkdd542Omhw</td>\n",
       "      <td>4</td>\n",
       "      <td>0</td>\n",
       "      <td>1</td>\n",
       "      <td>2</td>\n",
       "      <td>0</td>\n",
       "      <td>0</td>\n",
       "      <td>2.000000</td>\n",
       "      <td>...</td>\n",
       "      <td>0</td>\n",
       "      <td>2</td>\n",
       "      <td>0</td>\n",
       "      <td>0</td>\n",
       "      <td>Telegramme</td>\n",
       "      <td>2862</td>\n",
       "      <td>2481100</td>\n",
       "      <td>Niche</td>\n",
       "      <td>Presse_regionale</td>\n",
       "      <td>NaN</td>\n",
       "    </tr>\n",
       "    <tr>\n",
       "      <th>4</th>\n",
       "      <td>n5Tg2vhLCAM</td>\n",
       "      <td>VVVoWldzNlBKWTBoTkQzODRkMl9ScmhRLm41VGcydmhMQ0FN</td>\n",
       "      <td>UChZWs6PJY0hND384d2_RrhQ</td>\n",
       "      <td>737</td>\n",
       "      <td>3</td>\n",
       "      <td>1</td>\n",
       "      <td>18</td>\n",
       "      <td>5</td>\n",
       "      <td>6</td>\n",
       "      <td>32.043478</td>\n",
       "      <td>...</td>\n",
       "      <td>4</td>\n",
       "      <td>18</td>\n",
       "      <td>7</td>\n",
       "      <td>7</td>\n",
       "      <td>Les Echos</td>\n",
       "      <td>30010</td>\n",
       "      <td>6710737</td>\n",
       "      <td>Core</td>\n",
       "      <td>Presse nationale</td>\n",
       "      <td>NaN</td>\n",
       "    </tr>\n",
       "  </tbody>\n",
       "</table>\n",
       "<p>5 rows × 28 columns</p>\n",
       "</div>"
      ],
      "text/plain": [
       "  video_id_court                                          video_id  \\\n",
       "0    Uvvsvw_wxOs  VVU5R0d6QWhodmhKTzFoTDEwLUJjZ05BLlV2dnN2d193eE9z   \n",
       "1    mCy1ZBdttwA  VVVYS0pyWWN6WTJfZkpFWmdGUEdZMEhRLm1DeTFaQmR0dHdB   \n",
       "2    iU3MyHMK5nU  VVU5R0d6QWhodmhKTzFoTDEwLUJjZ05BLmlVM015SE1LNW5V   \n",
       "3    ZUim3AeURtk  VVViWjBDc3I5b3c2WGprZGQ1NDJPbWh3LlpVaW0zQWVVUnRr   \n",
       "4    n5Tg2vhLCAM  VVVoWldzNlBKWTBoTkQzODRkMl9ScmhRLm41VGcydmhMQ0FN   \n",
       "\n",
       "                 channel_id  nbrMot  nbrMotInsulte  nbrMotAllong  nbrMotMAJ  \\\n",
       "0  UC9GGzAhhvhJO1hL10-BcgNA    3813             18             4        145   \n",
       "1  UCXKJrYczY2_fJEZgFPGY0HQ      28              2             0          1   \n",
       "2  UC9GGzAhhvhJO1hL10-BcgNA    3804             68             9         56   \n",
       "3  UCbZ0Csr9ow6Xjkdd542Omhw       4              0             1          2   \n",
       "4  UChZWs6PJY0hND384d2_RrhQ     737              3             1         18   \n",
       "\n",
       "   nbrExclMark  nbrQuestMark  nbrMotMoyenne  ...  discussion_count  \\\n",
       "0           79            60      30.261900  ...                28   \n",
       "1            0             0       9.333333  ...                 0   \n",
       "2           75            54      27.565220  ...                22   \n",
       "3            0             0       2.000000  ...                 0   \n",
       "4            5             6      32.043478  ...                 4   \n",
       "\n",
       "   distinct_authors_count  authors_3channels_count  liked_authors_count  \\\n",
       "0                      58                       47                   23   \n",
       "1                       3                        1                    0   \n",
       "2                      83                       49                   36   \n",
       "3                       2                        0                    0   \n",
       "4                      18                        7                    7   \n",
       "\n",
       "   channel_name  subscriberCount  viewCount  categorie_new        categ_inst  \\\n",
       "0    LeHuffPost           339922  225393312           Core      Pure Players   \n",
       "1         CNEWS           189971  132125693           Core                TV   \n",
       "2    LeHuffPost           339922  225393312           Core      Pure Players   \n",
       "3    Telegramme             2862    2481100          Niche  Presse_regionale   \n",
       "4     Les Echos            30010    6710737           Core  Presse nationale   \n",
       "\n",
       "   Unnamed: 27  \n",
       "0          NaN  \n",
       "1          NaN  \n",
       "2          NaN  \n",
       "3          NaN  \n",
       "4          NaN  \n",
       "\n",
       "[5 rows x 28 columns]"
      ]
     },
     "execution_count": 8,
     "metadata": {},
     "output_type": "execute_result"
    }
   ],
   "source": [
    "youtube_toxic.head()"
   ]
  },
  {
   "cell_type": "code",
   "execution_count": null,
   "metadata": {},
   "outputs": [],
   "source": []
  },
  {
   "cell_type": "code",
   "execution_count": 12,
   "metadata": {},
   "outputs": [
    {
     "name": "stdout",
     "output_type": "stream",
     "text": [
      "linear 0.7486926302293369\n",
      "poly -79.14279193047399\n",
      "rbf 0.13329076080209612\n",
      "sigmoid -36.49427539221928\n"
     ]
    }
   ],
   "source": [
    "import numpy as np\n",
    "import pandas as pd\n",
    "from sklearn import preprocessing, svm\n",
    "from sklearn.model_selection import train_test_split\n",
    "\n",
    "y = youtube_toxic['nbrMotInsulte']\n",
    "X = youtube_toxic[['nbrMot','nbrMotAllong']]\n",
    "\n",
    "X = preprocessing.scale(X)\n",
    "\n",
    "X_train, X_test, y_train, y_test = train_test_split(X, y, test_size=0.2)\n",
    "\n",
    "for k in ['linear','poly','rbf','sigmoid']:\n",
    "    clf = svm.SVR(kernel=k)\n",
    "    clf.fit(X_train, y_train)\n",
    "    confidence = clf.score(X_test, y_test)\n",
    "    print(k,confidence)"
   ]
  },
  {
   "cell_type": "markdown",
   "metadata": {},
   "source": [
    "# Support Vector Machine"
   ]
  },
  {
   "cell_type": "markdown",
   "metadata": {},
   "source": [
    "## Data preparation"
   ]
  },
  {
   "cell_type": "markdown",
   "metadata": {},
   "source": [
    "   To compute the SVR, we need float or int as input and ouput. Therefore, we have to transform our string data into number. For the data associated to columns \"...Moyenne\", we just change the ‘,’ by a point and then we change the string into float.For the other, we create new variables which take the values 0 or 1. For example for a video the variable “Core” is equal to 1 if the channel correspond to the core category otherwise it is equal to 0."
   ]
  },
  {
   "cell_type": "markdown",
   "metadata": {},
   "source": [
    "Then we drop the variables that are not taken into account to predict the number of insults as the ‘video_id_count’ or the ‘video_id’. What’s more, the ‘channel_id’ and the ‘channel_name’ can be seen in the number of subscribers that is different for each channel. "
   ]
  },
  {
   "cell_type": "code",
   "execution_count": 26,
   "metadata": {},
   "outputs": [
    {
     "data": {
      "text/html": [
       "<div>\n",
       "<style scoped>\n",
       "    .dataframe tbody tr th:only-of-type {\n",
       "        vertical-align: middle;\n",
       "    }\n",
       "\n",
       "    .dataframe tbody tr th {\n",
       "        vertical-align: top;\n",
       "    }\n",
       "\n",
       "    .dataframe thead th {\n",
       "        text-align: right;\n",
       "    }\n",
       "</style>\n",
       "<table border=\"1\" class=\"dataframe\">\n",
       "  <thead>\n",
       "    <tr style=\"text-align: right;\">\n",
       "      <th></th>\n",
       "      <th>nbrMot</th>\n",
       "      <th>nbrMotInsulte</th>\n",
       "      <th>nbrMotAllong</th>\n",
       "      <th>nbrMotMAJ</th>\n",
       "      <th>nbrExclMark</th>\n",
       "      <th>nbrQuestMark</th>\n",
       "      <th>nbrMotMoyenne</th>\n",
       "      <th>nbrMotInsulteMoyenne</th>\n",
       "      <th>nbrMotAllongMoyenne</th>\n",
       "      <th>nbrMotMAJMoyenne</th>\n",
       "      <th>...</th>\n",
       "      <th>viewCount</th>\n",
       "      <th>Core</th>\n",
       "      <th>Niche</th>\n",
       "      <th>Partisan</th>\n",
       "      <th>Pure Players</th>\n",
       "      <th>Presse_regionale</th>\n",
       "      <th>TV</th>\n",
       "      <th>Presse nationale</th>\n",
       "      <th>Presse magazine</th>\n",
       "      <th>Alternatif</th>\n",
       "    </tr>\n",
       "  </thead>\n",
       "  <tbody>\n",
       "    <tr>\n",
       "      <th>0</th>\n",
       "      <td>3813</td>\n",
       "      <td>18</td>\n",
       "      <td>4</td>\n",
       "      <td>145</td>\n",
       "      <td>79</td>\n",
       "      <td>60</td>\n",
       "      <td>30.261900</td>\n",
       "      <td>0.142857</td>\n",
       "      <td>0.031746</td>\n",
       "      <td>1.150794</td>\n",
       "      <td>...</td>\n",
       "      <td>225393312</td>\n",
       "      <td>1</td>\n",
       "      <td>0</td>\n",
       "      <td>0</td>\n",
       "      <td>0</td>\n",
       "      <td>0</td>\n",
       "      <td>0</td>\n",
       "      <td>0</td>\n",
       "      <td>0</td>\n",
       "      <td>0</td>\n",
       "    </tr>\n",
       "    <tr>\n",
       "      <th>1</th>\n",
       "      <td>28</td>\n",
       "      <td>2</td>\n",
       "      <td>0</td>\n",
       "      <td>1</td>\n",
       "      <td>0</td>\n",
       "      <td>0</td>\n",
       "      <td>9.333333</td>\n",
       "      <td>0.666667</td>\n",
       "      <td>0.000000</td>\n",
       "      <td>0.333333</td>\n",
       "      <td>...</td>\n",
       "      <td>132125693</td>\n",
       "      <td>1</td>\n",
       "      <td>0</td>\n",
       "      <td>0</td>\n",
       "      <td>0</td>\n",
       "      <td>0</td>\n",
       "      <td>1</td>\n",
       "      <td>0</td>\n",
       "      <td>0</td>\n",
       "      <td>0</td>\n",
       "    </tr>\n",
       "    <tr>\n",
       "      <th>2</th>\n",
       "      <td>3804</td>\n",
       "      <td>68</td>\n",
       "      <td>9</td>\n",
       "      <td>56</td>\n",
       "      <td>75</td>\n",
       "      <td>54</td>\n",
       "      <td>27.565220</td>\n",
       "      <td>0.492754</td>\n",
       "      <td>0.065217</td>\n",
       "      <td>0.405797</td>\n",
       "      <td>...</td>\n",
       "      <td>225393312</td>\n",
       "      <td>1</td>\n",
       "      <td>0</td>\n",
       "      <td>0</td>\n",
       "      <td>0</td>\n",
       "      <td>0</td>\n",
       "      <td>0</td>\n",
       "      <td>0</td>\n",
       "      <td>0</td>\n",
       "      <td>0</td>\n",
       "    </tr>\n",
       "    <tr>\n",
       "      <th>3</th>\n",
       "      <td>4</td>\n",
       "      <td>0</td>\n",
       "      <td>1</td>\n",
       "      <td>2</td>\n",
       "      <td>0</td>\n",
       "      <td>0</td>\n",
       "      <td>2.000000</td>\n",
       "      <td>0.000000</td>\n",
       "      <td>0.500000</td>\n",
       "      <td>1.000000</td>\n",
       "      <td>...</td>\n",
       "      <td>2481100</td>\n",
       "      <td>0</td>\n",
       "      <td>1</td>\n",
       "      <td>0</td>\n",
       "      <td>0</td>\n",
       "      <td>1</td>\n",
       "      <td>0</td>\n",
       "      <td>0</td>\n",
       "      <td>0</td>\n",
       "      <td>0</td>\n",
       "    </tr>\n",
       "    <tr>\n",
       "      <th>4</th>\n",
       "      <td>737</td>\n",
       "      <td>3</td>\n",
       "      <td>1</td>\n",
       "      <td>18</td>\n",
       "      <td>5</td>\n",
       "      <td>6</td>\n",
       "      <td>32.043478</td>\n",
       "      <td>0.130435</td>\n",
       "      <td>0.043478</td>\n",
       "      <td>0.782609</td>\n",
       "      <td>...</td>\n",
       "      <td>6710737</td>\n",
       "      <td>1</td>\n",
       "      <td>0</td>\n",
       "      <td>0</td>\n",
       "      <td>0</td>\n",
       "      <td>0</td>\n",
       "      <td>0</td>\n",
       "      <td>1</td>\n",
       "      <td>0</td>\n",
       "      <td>0</td>\n",
       "    </tr>\n",
       "  </tbody>\n",
       "</table>\n",
       "<p>5 rows × 30 columns</p>\n",
       "</div>"
      ],
      "text/plain": [
       "   nbrMot  nbrMotInsulte  nbrMotAllong  nbrMotMAJ  nbrExclMark  nbrQuestMark  \\\n",
       "0    3813             18             4        145           79            60   \n",
       "1      28              2             0          1            0             0   \n",
       "2    3804             68             9         56           75            54   \n",
       "3       4              0             1          2            0             0   \n",
       "4     737              3             1         18            5             6   \n",
       "\n",
       "   nbrMotMoyenne  nbrMotInsulteMoyenne  nbrMotAllongMoyenne  nbrMotMAJMoyenne  \\\n",
       "0      30.261900              0.142857             0.031746          1.150794   \n",
       "1       9.333333              0.666667             0.000000          0.333333   \n",
       "2      27.565220              0.492754             0.065217          0.405797   \n",
       "3       2.000000              0.000000             0.500000          1.000000   \n",
       "4      32.043478              0.130435             0.043478          0.782609   \n",
       "\n",
       "   ...  viewCount  Core  Niche  Partisan  Pure Players  Presse_regionale  TV  \\\n",
       "0  ...  225393312     1      0         0             0                 0   0   \n",
       "1  ...  132125693     1      0         0             0                 0   1   \n",
       "2  ...  225393312     1      0         0             0                 0   0   \n",
       "3  ...    2481100     0      1         0             0                 1   0   \n",
       "4  ...    6710737     1      0         0             0                 0   0   \n",
       "\n",
       "   Presse nationale  Presse magazine  Alternatif  \n",
       "0                 0                0           0  \n",
       "1                 0                0           0  \n",
       "2                 0                0           0  \n",
       "3                 0                0           0  \n",
       "4                 1                0           0  \n",
       "\n",
       "[5 rows x 30 columns]"
      ]
     },
     "execution_count": 26,
     "metadata": {},
     "output_type": "execute_result"
    }
   ],
   "source": [
    "import pandas as pd\n",
    "youtube_toxic = pd.read_csv(\"challenge_youtube_toxic.csv\",sep=\";\",encoding = 'latin1')\n",
    "youtube_toxic.head()\n",
    "\n",
    "youtube_toxic = youtube_toxic.drop(youtube_toxic.columns[[-1]], axis='columns') \n",
    "\n",
    "def convert_into_float(string):\n",
    "    if type(string)==float:\n",
    "        return string\n",
    "    return float (string.replace(',','.'))\n",
    "youtube_toxic['nbrMotMoyenne'] = youtube_toxic['nbrMotMoyenne'].apply(convert_into_float)\n",
    "youtube_toxic['nbrMotInsulteMoyenne'] = youtube_toxic['nbrMotInsulteMoyenne'].apply(convert_into_float)\n",
    "youtube_toxic['nbrMotAllongMoyenne'] = youtube_toxic['nbrMotAllongMoyenne'].apply(convert_into_float)\n",
    "youtube_toxic['nbrMotMAJMoyenne'] = youtube_toxic['nbrMotMAJMoyenne'].apply(convert_into_float)\n",
    "youtube_toxic['nbrExclMarkMoyenne'] = youtube_toxic['nbrExclMarkMoyenne'].apply(convert_into_float)\n",
    "youtube_toxic['nbrQuestMarkMoyenne'] = youtube_toxic['nbrQuestMarkMoyenne'].apply(convert_into_float)\n",
    "\n",
    "youtube_toxic['Core'] = (youtube_toxic['categorie_new'] == 'Core')*1\n",
    "youtube_toxic['Niche'] = (youtube_toxic['categorie_new'] == 'Niche')*1\n",
    "youtube_toxic['Partisan'] = (youtube_toxic['categorie_new'] == 'Partisan')*1\n",
    "youtube_toxic['Pure Players'] = (youtube_toxic['categ_inst'] == 'Pure Payers')*1\n",
    "youtube_toxic['Presse_regionale'] = (youtube_toxic['categ_inst'] == 'Presse_regionale')*1\n",
    "youtube_toxic['TV'] = (youtube_toxic['categ_inst'] == 'TV')*1\n",
    "youtube_toxic['Presse nationale'] = (youtube_toxic['categ_inst'] == 'Presse nationale')*1\n",
    "youtube_toxic['Presse magazine'] = (youtube_toxic['categ_inst'] == 'Presse magazine')*1\n",
    "youtube_toxic['Alternatif'] = (youtube_toxic['categ_inst'] == 'Alternatif')*1\n",
    "\n",
    "youtube_toxic = youtube_toxic.drop (['categ_inst','categorie_new','video_id_court','video_id','channel_id','channel_name'], axis = 1)\n",
    "\n",
    "youtube_toxic.head()"
   ]
  },
  {
   "cell_type": "markdown",
   "metadata": {},
   "source": [
    "## Code"
   ]
  },
  {
   "cell_type": "markdown",
   "metadata": {},
   "source": [
    "Then we compute the SVM on our data. First, we split the data into training and test. Then we compute SVM with the different kernel to estimate which is the most efficient. We train our model with the training data and we show the score of each model. "
   ]
  },
  {
   "cell_type": "code",
   "execution_count": 27,
   "metadata": {},
   "outputs": [
    {
     "name": "stdout",
     "output_type": "stream",
     "text": [
      "linear 0.7107183385578599\n",
      "poly 0.5472762284490624\n",
      "rbf 0.1218061354515323\n",
      "sigmoid -37.93307914259078\n"
     ]
    }
   ],
   "source": [
    "from sklearn import preprocessing, svm\n",
    "from sklearn.model_selection import train_test_split\n",
    "\n",
    "y = youtube_toxic['nbrMotInsulte']\n",
    "X = youtube_toxic.drop(['nbrMotInsulte'], axis = 1)\n",
    "\n",
    "X = preprocessing.scale(X)\n",
    "\n",
    "\n",
    "X_train, X_test, y_train, y_test = train_test_split(X, y, test_size=0.2)\n",
    "\n",
    "for k in ['linear','poly','rbf','sigmoid']:\n",
    "    clf = svm.SVR(kernel=k)\n",
    "    clf.fit(X_train, y_train)\n",
    "    confidence = clf.score(X_test, y_test)\n",
    "    print(k,confidence)"
   ]
  },
  {
   "cell_type": "markdown",
   "metadata": {},
   "source": [
    "We can see that the best model is the linear one. However with a score of 71% of success, the SVR is not our best model. We can find more efficient methods. "
   ]
  },
  {
   "cell_type": "code",
   "execution_count": null,
   "metadata": {},
   "outputs": [],
   "source": [
    "### Arbres de régression et random forest \n",
    "\n"
   ]
  }
 ],
 "metadata": {
  "kernelspec": {
   "display_name": "Python 3",
   "language": "python",
   "name": "python3"
  },
  "language_info": {
   "codemirror_mode": {
    "name": "ipython",
    "version": 3
   },
   "file_extension": ".py",
   "mimetype": "text/x-python",
   "name": "python",
   "nbconvert_exporter": "python",
   "pygments_lexer": "ipython3",
   "version": "3.8.3"
  }
 },
 "nbformat": 4,
 "nbformat_minor": 4
}
