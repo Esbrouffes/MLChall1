{
 "cells": [
  {
   "cell_type": "code",
   "execution_count": 1,
   "metadata": {},
   "outputs": [],
   "source": [
    "# Libraries: Standard ones\n",
    "import pandas as pd\n",
    "import numpy as np\n",
    "import matplotlib.pyplot as plt\n",
    "\n",
    "# Library for boxplots\n",
    "import seaborn as sns\n",
    "\n",
    "# K-means function\n",
    "from sklearn.cluster import KMeans\n",
    "\n",
    "# Functions for silhouette\n",
    "from sklearn.metrics import silhouette_samples, silhouette_score\n",
    "\n",
    "# Function to standardize the data \n",
    "from sklearn.preprocessing import scale\n",
    "\n",
    "# Functions for hierarchical clustering\n",
    "from scipy.cluster.hierarchy import dendrogram, linkage\n",
    "from scipy.cluster.hierarchy import cophenet\n",
    "from scipy.spatial.distance import pdist"
   ]
  },
  {
   "cell_type": "code",
   "execution_count": 2,
   "metadata": {},
   "outputs": [],
   "source": [
    "#Data Presentation"
   ]
  },
  {
   "cell_type": "code",
   "execution_count": 33,
   "metadata": {},
   "outputs": [],
   "source": [
    "# Load the data: temp\n",
    "temp = pd.read_csv(\"temperat.csv\",sep=\";\")\n",
    "temp=temp.rename(columns={'Unnamed: 0': 'Ville'})"
   ]
  },
  {
   "cell_type": "code",
   "execution_count": 34,
   "metadata": {},
   "outputs": [
    {
     "data": {
      "image/png": "[encoded data removed]",
      "text/plain": [
       "<Figure size 432x288 with 1 Axes>"
      ]
     },
     "metadata": {
      "needs_background": "light"
     },
     "output_type": "display_data"
    }
   ],
   "source": [
    "# Boxplot for temp\n",
    "plt.figure()\n",
    "plt.title('boxplot temp features')\n",
    "temp_box=sns.boxplot(data=temp,fliersize=10)   # fliersize is the size used to indicate the outliers\n",
    "plt.show()"
   ]
  },
  {
   "cell_type": "code",
   "execution_count": 5,
   "metadata": {},
   "outputs": [],
   "source": [
    "     #With this representation, we do not visually extract some clusters. We however remark that,  shows a lot of outliers."
   ]
  },
  {
   "cell_type": "code",
   "execution_count": 6,
   "metadata": {},
   "outputs": [
    {
     "data": {
      "text/html": [
       "<div>\n",
       "<style scoped>\n",
       "    .dataframe tbody tr th:only-of-type {\n",
       "        vertical-align: middle;\n",
       "    }\n",
       "\n",
       "    .dataframe tbody tr th {\n",
       "        vertical-align: top;\n",
       "    }\n",
       "\n",
       "    .dataframe thead th {\n",
       "        text-align: right;\n",
       "    }\n",
       "</style>\n",
       "<table border=\"1\" class=\"dataframe\">\n",
       "  <thead>\n",
       "    <tr style=\"text-align: right;\">\n",
       "      <th></th>\n",
       "      <th>Janvier</th>\n",
       "      <th>Fevrier</th>\n",
       "      <th>Mars</th>\n",
       "      <th>Avril</th>\n",
       "      <th>Mai</th>\n",
       "      <th>Juin</th>\n",
       "      <th>Juillet</th>\n",
       "      <th>Aout</th>\n",
       "      <th>Septembre</th>\n",
       "      <th>Octobre</th>\n",
       "      <th>Novembre</th>\n",
       "      <th>Decembre</th>\n",
       "      <th>Moyenne</th>\n",
       "      <th>Amplitude</th>\n",
       "      <th>Latitude</th>\n",
       "      <th>Longitude</th>\n",
       "    </tr>\n",
       "  </thead>\n",
       "  <tbody>\n",
       "    <tr>\n",
       "      <th>count</th>\n",
       "      <td>35.000000</td>\n",
       "      <td>35.000000</td>\n",
       "      <td>35.000000</td>\n",
       "      <td>35.000000</td>\n",
       "      <td>35.000000</td>\n",
       "      <td>35.000000</td>\n",
       "      <td>35.000000</td>\n",
       "      <td>35.000000</td>\n",
       "      <td>35.000000</td>\n",
       "      <td>35.000000</td>\n",
       "      <td>35.000000</td>\n",
       "      <td>35.000000</td>\n",
       "      <td>35.000000</td>\n",
       "      <td>35.000000</td>\n",
       "      <td>35.000000</td>\n",
       "      <td>35.000000</td>\n",
       "    </tr>\n",
       "    <tr>\n",
       "      <th>mean</th>\n",
       "      <td>1.345714</td>\n",
       "      <td>2.217143</td>\n",
       "      <td>5.228571</td>\n",
       "      <td>9.282857</td>\n",
       "      <td>13.911429</td>\n",
       "      <td>17.414286</td>\n",
       "      <td>19.622857</td>\n",
       "      <td>18.980000</td>\n",
       "      <td>15.631429</td>\n",
       "      <td>11.002857</td>\n",
       "      <td>6.065714</td>\n",
       "      <td>2.880000</td>\n",
       "      <td>10.265714</td>\n",
       "      <td>18.317143</td>\n",
       "      <td>49.057622</td>\n",
       "      <td>10.545606</td>\n",
       "    </tr>\n",
       "    <tr>\n",
       "      <th>std</th>\n",
       "      <td>5.502157</td>\n",
       "      <td>5.498956</td>\n",
       "      <td>4.863040</td>\n",
       "      <td>3.806456</td>\n",
       "      <td>3.273582</td>\n",
       "      <td>3.320271</td>\n",
       "      <td>3.574673</td>\n",
       "      <td>3.727939</td>\n",
       "      <td>4.109728</td>\n",
       "      <td>4.323226</td>\n",
       "      <td>4.566820</td>\n",
       "      <td>4.967411</td>\n",
       "      <td>3.963061</td>\n",
       "      <td>4.505649</td>\n",
       "      <td>7.088465</td>\n",
       "      <td>12.412274</td>\n",
       "    </tr>\n",
       "    <tr>\n",
       "      <th>min</th>\n",
       "      <td>-9.300000</td>\n",
       "      <td>-7.900000</td>\n",
       "      <td>-3.700000</td>\n",
       "      <td>2.900000</td>\n",
       "      <td>6.500000</td>\n",
       "      <td>9.300000</td>\n",
       "      <td>11.100000</td>\n",
       "      <td>10.600000</td>\n",
       "      <td>7.900000</td>\n",
       "      <td>4.500000</td>\n",
       "      <td>-1.100000</td>\n",
       "      <td>-6.000000</td>\n",
       "      <td>4.500000</td>\n",
       "      <td>10.200000</td>\n",
       "      <td>37.400000</td>\n",
       "      <td>-21.600000</td>\n",
       "    </tr>\n",
       "    <tr>\n",
       "      <th>25%</th>\n",
       "      <td>-1.550000</td>\n",
       "      <td>-0.150000</td>\n",
       "      <td>1.600000</td>\n",
       "      <td>7.250000</td>\n",
       "      <td>12.150000</td>\n",
       "      <td>15.400000</td>\n",
       "      <td>17.300000</td>\n",
       "      <td>16.650000</td>\n",
       "      <td>13.000000</td>\n",
       "      <td>8.650000</td>\n",
       "      <td>3.200000</td>\n",
       "      <td>0.250000</td>\n",
       "      <td>7.750000</td>\n",
       "      <td>14.900000</td>\n",
       "      <td>43.900000</td>\n",
       "      <td>3.200000</td>\n",
       "    </tr>\n",
       "    <tr>\n",
       "      <th>50%</th>\n",
       "      <td>0.200000</td>\n",
       "      <td>1.900000</td>\n",
       "      <td>5.400000</td>\n",
       "      <td>8.900000</td>\n",
       "      <td>13.800000</td>\n",
       "      <td>16.900000</td>\n",
       "      <td>18.900000</td>\n",
       "      <td>18.300000</td>\n",
       "      <td>14.800000</td>\n",
       "      <td>10.200000</td>\n",
       "      <td>5.100000</td>\n",
       "      <td>1.700000</td>\n",
       "      <td>9.700000</td>\n",
       "      <td>18.500000</td>\n",
       "      <td>50.000000</td>\n",
       "      <td>9.400000</td>\n",
       "    </tr>\n",
       "    <tr>\n",
       "      <th>75%</th>\n",
       "      <td>4.900000</td>\n",
       "      <td>5.800000</td>\n",
       "      <td>8.500000</td>\n",
       "      <td>12.050000</td>\n",
       "      <td>16.350000</td>\n",
       "      <td>19.800000</td>\n",
       "      <td>21.750000</td>\n",
       "      <td>21.600000</td>\n",
       "      <td>18.250000</td>\n",
       "      <td>13.300000</td>\n",
       "      <td>7.900000</td>\n",
       "      <td>5.400000</td>\n",
       "      <td>12.650000</td>\n",
       "      <td>21.450000</td>\n",
       "      <td>53.350000</td>\n",
       "      <td>18.650000</td>\n",
       "    </tr>\n",
       "    <tr>\n",
       "      <th>max</th>\n",
       "      <td>10.700000</td>\n",
       "      <td>11.800000</td>\n",
       "      <td>14.100000</td>\n",
       "      <td>16.900000</td>\n",
       "      <td>20.900000</td>\n",
       "      <td>24.500000</td>\n",
       "      <td>27.400000</td>\n",
       "      <td>27.200000</td>\n",
       "      <td>24.300000</td>\n",
       "      <td>19.400000</td>\n",
       "      <td>14.900000</td>\n",
       "      <td>12.000000</td>\n",
       "      <td>18.200000</td>\n",
       "      <td>27.600000</td>\n",
       "      <td>64.100000</td>\n",
       "      <td>37.600000</td>\n",
       "    </tr>\n",
       "  </tbody>\n",
       "</table>\n",
       "</div>"
      ],
      "text/plain": [
       "         Janvier    Fevrier       Mars      Avril        Mai       Juin  \\\n",
       "count  35.000000  35.000000  35.000000  35.000000  35.000000  35.000000   \n",
       "mean    1.345714   2.217143   5.228571   9.282857  13.911429  17.414286   \n",
       "std     5.502157   5.498956   4.863040   3.806456   3.273582   3.320271   \n",
       "min    -9.300000  -7.900000  -3.700000   2.900000   6.500000   9.300000   \n",
       "25%    -1.550000  -0.150000   1.600000   7.250000  12.150000  15.400000   \n",
       "50%     0.200000   1.900000   5.400000   8.900000  13.800000  16.900000   \n",
       "75%     4.900000   5.800000   8.500000  12.050000  16.350000  19.800000   \n",
       "max    10.700000  11.800000  14.100000  16.900000  20.900000  24.500000   \n",
       "\n",
       "         Juillet       Aout  Septembre    Octobre   Novembre   Decembre  \\\n",
       "count  35.000000  35.000000  35.000000  35.000000  35.000000  35.000000   \n",
       "mean   19.622857  18.980000  15.631429  11.002857   6.065714   2.880000   \n",
       "std     3.574673   3.727939   4.109728   4.323226   4.566820   4.967411   \n",
       "min    11.100000  10.600000   7.900000   4.500000  -1.100000  -6.000000   \n",
       "25%    17.300000  16.650000  13.000000   8.650000   3.200000   0.250000   \n",
       "50%    18.900000  18.300000  14.800000  10.200000   5.100000   1.700000   \n",
       "75%    21.750000  21.600000  18.250000  13.300000   7.900000   5.400000   \n",
       "max    27.400000  27.200000  24.300000  19.400000  14.900000  12.000000   \n",
       "\n",
       "         Moyenne  Amplitude   Latitude  Longitude  \n",
       "count  35.000000  35.000000  35.000000  35.000000  \n",
       "mean   10.265714  18.317143  49.057622  10.545606  \n",
       "std     3.963061   4.505649   7.088465  12.412274  \n",
       "min     4.500000  10.200000  37.400000 -21.600000  \n",
       "25%     7.750000  14.900000  43.900000   3.200000  \n",
       "50%     9.700000  18.500000  50.000000   9.400000  \n",
       "75%    12.650000  21.450000  53.350000  18.650000  \n",
       "max    18.200000  27.600000  64.100000  37.600000  "
      ]
     },
     "execution_count": 6,
     "metadata": {},
     "output_type": "execute_result"
    }
   ],
   "source": [
    "temp.describe()"
   ]
  },
  {
   "cell_type": "code",
   "execution_count": 7,
   "metadata": {},
   "outputs": [],
   "source": [
    "#We're gonna try to find clusters with lat/long and average temperature"
   ]
  },
  {
   "cell_type": "code",
   "execution_count": 8,
   "metadata": {},
   "outputs": [
    {
     "data": {
      "text/plain": [
       "<matplotlib.collections.PathCollection at 0x7fd9cb6799d0>"
      ]
     },
     "execution_count": 8,
     "metadata": {},
     "output_type": "execute_result"
    },
    {
     "data": {
      "image/png": "[encoded data removed]",
      "text/plain": [
       "<Figure size 432x288 with 1 Axes>"
      ]
     },
     "metadata": {
      "needs_background": "light"
     },
     "output_type": "display_data"
    }
   ],
   "source": [
    "# Representation of the temperature dataset\n",
    "plt.title('2D representation of temperature dataset')\n",
    "plt.scatter(temp['Longitude'],temp['Latitude'], c=temp['Decembre'])"
   ]
  },
  {
   "cell_type": "code",
   "execution_count": 10,
   "metadata": {},
   "outputs": [],
   "source": [
    "#We can say that the temperature in December is highly correlated with latitude and longitude"
   ]
  },
  {
   "cell_type": "code",
   "execution_count": 31,
   "metadata": {
    "scrolled": true
   },
   "outputs": [],
   "source": [
    "#Here we \n",
    "\n",
    "import folium\n",
    "from folium.plugins import FastMarkerCluster\n",
    "from folium.vector_layers import CircleMarker\n",
    "import branca.colormap as cm\n",
    "\n",
    "#We select the file we're going to use and the filed we display\n",
    "file=temp\n",
    "champ_etudie='Moyenne'\n",
    "\n",
    "linear=cm.linear.RdYlBu_06.scale(0, 1)\n",
    "\n",
    "\n",
    "m = folium.Map(tiles='cartodbpositron', zoom_start=3 ,location=[48.499998 ,23.3833318])\n",
    "\n",
    "for index,row in file.iterrows():\n",
    "#     keyon_cluster = folium.Marker(location=[row['Latitude'],row['Longitude']],popup=row['Ville']).add_to(m)\n",
    "    folium.CircleMarker(location=[row['Latitude'],row['Longitude']], \n",
    "                        radius=5,\n",
    "                        popup=str(row['Ville'])+': '+str(row[champ_etudie]), \n",
    "                        line_color=None,\n",
    "                        fill_color=linear(1-(row[champ_etudie]-file[champ_etudie].min())/(file[champ_etudie].max()-file[champ_etudie].min())),\n",
    "                        fill_opacity=1,\n",
    "                        color=linear(1-(row[champ_etudie]-file[champ_etudie].min())/(file[champ_etudie].max()-file[champ_etudie].min()))).add_to(m)"
   ]
  },
  {
   "cell_type": "code",
   "execution_count": 32,
   "metadata": {},
   "outputs": [
    {
     "data": {
      "text/html": [
       "<div style=\"width:100%;\"><div style=\"position:relative;width:100%;height:0;padding-bottom:60%;\"><span style=\"color:#565656\">Make this Notebook Trusted to load map: File -> Trust Notebook</span><iframe src=\"about:blank\" style=\"position:absolute;width:100%;height:100%;left:0;top:0;border:none !important;\" data-html=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 onload=\"this.contentDocument.open();this.contentDocument.write(atob(this.getAttribute('data-html')));this.contentDocument.close();\" allowfullscreen webkitallowfullscreen mozallowfullscreen></iframe></div></div>"
      ],
      "text/plain": [
       "<folium.folium.Map at 0x7fd9ccd20d90>"
      ]
     },
     "execution_count": 32,
     "metadata": {},
     "output_type": "execute_result"
    }
   ],
   "source": [
    "m"
   ]
  },
  {
   "cell_type": "code",
   "execution_count": 13,
   "metadata": {},
   "outputs": [
    {
     "name": "stdout",
     "output_type": "stream",
     "text": [
      "For n = 2 Silhouette_score: 0.5187111529098996\n",
      "For n = 3 Silhouette_score: 0.4831014618030819\n",
      "For n = 4 Silhouette_score: 0.45419340361377014\n",
      "For n = 5 Silhouette_score: 0.4718324275058679\n",
      "For n = 6 Silhouette_score: 0.4532401102390238\n",
      "For n = 7 Silhouette_score: 0.4171033484283916\n",
      "For n = 8 Silhouette_score: 0.3854276106613529\n",
      "For n = 9 Silhouette_score: 0.4116741158173215\n",
      "For n = 10 Silhouette_score: 0.35710311317619187\n"
     ]
    }
   ],
   "source": [
    "# We apply K-means algorithm and calculate Silhouette index for a given number of clusters\n",
    "# (Remark: it is a little difficult to visualize, since it is dimension 5)\n",
    "\n",
    "temp_we_drop=temp[['Ville','Region','Latitude','Longitude']]\n",
    "\n",
    "new_temp = temp.drop(['Ville','Region','Latitude','Longitude'], axis=1)\n",
    "\n",
    "range_n_clusters = [2, 3, 4, 5, 6,7,8,9,10]\n",
    "for n in range_n_clusters:\n",
    "    kmeans_temp = KMeans(n_clusters=n, n_init=10).fit(new_temp) # Clustering with the given number of clusters\n",
    "    cluster_labels = kmeans_temp.labels_ # Extract the labels\n",
    "    silhouette_avg = silhouette_score(new_temp, cluster_labels) # Corresponding silhouette score\n",
    "   \n",
    "    # Display the results\n",
    "    print(\"For n =\", n, \"Silhouette_score:\", silhouette_avg)"
   ]
  },
  {
   "cell_type": "code",
   "execution_count": 14,
   "metadata": {},
   "outputs": [],
   "source": [
    "#We think K=5 would be the best\n",
    "\n",
    "kmeans = KMeans(n_clusters=5,n_init=10,init='random').fit(new_temp)\n",
    "\n",
    "new_temp_with_labels=pd.concat([temp,pd.DataFrame(data=kmeans.labels_,columns=['label'])], axis=1, sort=False)"
   ]
  },
  {
   "cell_type": "code",
   "execution_count": 15,
   "metadata": {},
   "outputs": [
    {
     "data": {
      "text/html": [
       "<div style=\"width:100%;\"><div style=\"position:relative;width:100%;height:0;padding-bottom:60%;\"><span style=\"color:#565656\">Make this Notebook Trusted to load map: File -> Trust Notebook</span><iframe src=\"about:blank\" style=\"position:absolute;width:100%;height:100%;left:0;top:0;border:none !important;\" data-html=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 onload=\"this.contentDocument.open();this.contentDocument.write(atob(this.getAttribute('data-html')));this.contentDocument.close();\" allowfullscreen webkitallowfullscreen mozallowfullscreen></iframe></div></div>"
      ],
      "text/plain": [
       "<folium.folium.Map at 0x7fd9cc2e4940>"
      ]
     },
     "execution_count": 15,
     "metadata": {},
     "output_type": "execute_result"
    }
   ],
   "source": [
    "#We are going to diplay the results of kmeans for k=5\n",
    "\n",
    "\n",
    "import folium\n",
    "from folium.plugins import FastMarkerCluster\n",
    "from folium.vector_layers import CircleMarker\n",
    "import branca.colormap as cm\n",
    "\n",
    "#We select the file we're going to use\n",
    "file=new_temp_with_labels\n",
    "champ_etudie='label'\n",
    "\n",
    "linear=cm.linear.RdYlBu_06.scale(0, 1)\n",
    "\n",
    "\n",
    "m = folium.Map(tiles='cartodbpositron', zoom_start=3 ,location=[48.499998 ,23.3833318])\n",
    "\n",
    "for index,row in file.iterrows():\n",
    "#     keyon_cluster = folium.Marker(location=[row['Latitude'],row['Longitude']],popup=row['Ville']).add_to(m)\n",
    "    folium.CircleMarker(location=[row['Latitude'],row['Longitude']], \n",
    "                        radius=5,\n",
    "                        popup=str(row['Ville'])+': '+str(row[champ_etudie]), \n",
    "                        line_color=None,\n",
    "                        fill_color=linear(1-(row[champ_etudie]-file[champ_etudie].min())/(file[champ_etudie].max()-file[champ_etudie].min())),\n",
    "                        fill_opacity=1,\n",
    "                        color=linear(1-(row[champ_etudie]-file[champ_etudie].min())/(file[champ_etudie].max()-file[champ_etudie].min()))).add_to(m)\n",
    "    \n",
    "m"
   ]
  },
  {
   "cell_type": "code",
   "execution_count": 16,
   "metadata": {},
   "outputs": [
    {
     "name": "stdout",
     "output_type": "stream",
     "text": [
      "For n = 2 Silhouette_score: 0.4922901228111209\n"
     ]
    }
   ],
   "source": [
    "temp_amplitude=temp[['Ville','Amplitude']]\n",
    "\n",
    "temp_ampl_no_city=temp['Amplitude'].reset_index()\n",
    "\n",
    "range_n_clusters = [2, 3, 4, 5, 6,7,8,9,10]\n",
    "for n in range_n_clusters:\n",
    "    kmeans_ampl = KMeans(n_clusters=n, n_init=10).fit(temp_ampl_no_city) # Clustering with the given number of clusters\n",
    "    cluster_labels = kmeans_ampl.labels_ # Extract the labels\n",
    "    silhouette_avg = silhouette_score(temp_ampl_no_city, cluster_labels) # Corresponding silhouette score\n",
    "   \n",
    "    # Display the results\n",
    "    print(\"For n =\", n, \"Silhouette_score:\", silhouette_avg)\n",
    "    break"
   ]
  },
  {
   "cell_type": "code",
   "execution_count": 17,
   "metadata": {},
   "outputs": [],
   "source": [
    "y=temp_amplitude.sort_values(by='Amplitude')"
   ]
  },
  {
   "cell_type": "code",
   "execution_count": 18,
   "metadata": {},
   "outputs": [
    {
     "data": {
      "text/plain": [
       "<matplotlib.collections.PathCollection at 0x7fd9ccb803a0>"
      ]
     },
     "execution_count": 18,
     "metadata": {},
     "output_type": "execute_result"
    },
    {
     "data": {
      "image/png": "[encoded data removed]",
      "text/plain": [
       "<Figure size 432x288 with 1 Axes>"
      ]
     },
     "metadata": {
      "needs_background": "light"
     },
     "output_type": "display_data"
    }
   ],
   "source": [
    "plt.title('2D representation of temperature dataset')\n",
    "plt.scatter(y['Amplitude'],y['Ville'])\n",
    "\n",
    "#ca sert a rien"
   ]
  },
  {
   "cell_type": "code",
   "execution_count": 19,
   "metadata": {},
   "outputs": [],
   "source": [
    "#Now we're going to separate each one of the groups we found and see if we can find the seasons"
   ]
  },
  {
   "cell_type": "code",
   "execution_count": 20,
   "metadata": {},
   "outputs": [],
   "source": [
    "group1=new_temp_with_labels[new_temp_with_labels['label']==0]\n",
    "group2=new_temp_with_labels[new_temp_with_labels['label']==1]\n",
    "group3=new_temp_with_labels[new_temp_with_labels['label']==2]\n",
    "group4=new_temp_with_labels[new_temp_with_labels['label']==3]\n",
    "group5=new_temp_with_labels[new_temp_with_labels['label']==4]"
   ]
  },
  {
   "cell_type": "code",
   "execution_count": 21,
   "metadata": {},
   "outputs": [
    {
     "data": {
      "text/html": [
       "<div>\n",
       "<style scoped>\n",
       "    .dataframe tbody tr th:only-of-type {\n",
       "        vertical-align: middle;\n",
       "    }\n",
       "\n",
       "    .dataframe tbody tr th {\n",
       "        vertical-align: top;\n",
       "    }\n",
       "\n",
       "    .dataframe thead th {\n",
       "        text-align: right;\n",
       "    }\n",
       "</style>\n",
       "<table border=\"1\" class=\"dataframe\">\n",
       "  <thead>\n",
       "    <tr style=\"text-align: right;\">\n",
       "      <th></th>\n",
       "      <th>Ville</th>\n",
       "      <th>Janvier</th>\n",
       "      <th>Fevrier</th>\n",
       "      <th>Mars</th>\n",
       "      <th>Avril</th>\n",
       "      <th>Mai</th>\n",
       "      <th>Juin</th>\n",
       "      <th>Juillet</th>\n",
       "      <th>Aout</th>\n",
       "      <th>Septembre</th>\n",
       "      <th>Octobre</th>\n",
       "      <th>Novembre</th>\n",
       "      <th>Decembre</th>\n",
       "      <th>Moyenne</th>\n",
       "      <th>Amplitude</th>\n",
       "      <th>Latitude</th>\n",
       "      <th>Longitude</th>\n",
       "      <th>Region</th>\n",
       "      <th>label</th>\n",
       "    </tr>\n",
       "  </thead>\n",
       "  <tbody>\n",
       "    <tr>\n",
       "      <th>7</th>\n",
       "      <td>Helsinki</td>\n",
       "      <td>-5.8</td>\n",
       "      <td>-6.2</td>\n",
       "      <td>-2.7</td>\n",
       "      <td>3.1</td>\n",
       "      <td>10.2</td>\n",
       "      <td>14.0</td>\n",
       "      <td>17.2</td>\n",
       "      <td>14.9</td>\n",
       "      <td>9.7</td>\n",
       "      <td>5.2</td>\n",
       "      <td>0.1</td>\n",
       "      <td>-2.3</td>\n",
       "      <td>4.8</td>\n",
       "      <td>23.4</td>\n",
       "      <td>60.1</td>\n",
       "      <td>25.0</td>\n",
       "      <td>Nord</td>\n",
       "      <td>1</td>\n",
       "    </tr>\n",
       "    <tr>\n",
       "      <th>8</th>\n",
       "      <td>Kiev</td>\n",
       "      <td>-5.9</td>\n",
       "      <td>-5.0</td>\n",
       "      <td>-0.3</td>\n",
       "      <td>7.4</td>\n",
       "      <td>14.3</td>\n",
       "      <td>17.8</td>\n",
       "      <td>19.4</td>\n",
       "      <td>18.5</td>\n",
       "      <td>13.7</td>\n",
       "      <td>7.5</td>\n",
       "      <td>1.2</td>\n",
       "      <td>-3.6</td>\n",
       "      <td>7.1</td>\n",
       "      <td>25.3</td>\n",
       "      <td>50.3</td>\n",
       "      <td>30.3</td>\n",
       "      <td>Est</td>\n",
       "      <td>1</td>\n",
       "    </tr>\n",
       "    <tr>\n",
       "      <th>13</th>\n",
       "      <td>Minsk</td>\n",
       "      <td>-6.9</td>\n",
       "      <td>-6.2</td>\n",
       "      <td>-1.9</td>\n",
       "      <td>5.4</td>\n",
       "      <td>12.4</td>\n",
       "      <td>15.9</td>\n",
       "      <td>17.4</td>\n",
       "      <td>16.3</td>\n",
       "      <td>11.6</td>\n",
       "      <td>5.8</td>\n",
       "      <td>0.1</td>\n",
       "      <td>-4.2</td>\n",
       "      <td>5.5</td>\n",
       "      <td>24.3</td>\n",
       "      <td>53.5</td>\n",
       "      <td>27.3</td>\n",
       "      <td>Est</td>\n",
       "      <td>1</td>\n",
       "    </tr>\n",
       "    <tr>\n",
       "      <th>14</th>\n",
       "      <td>Moscou</td>\n",
       "      <td>-9.3</td>\n",
       "      <td>-7.6</td>\n",
       "      <td>-2.0</td>\n",
       "      <td>6.0</td>\n",
       "      <td>13.0</td>\n",
       "      <td>16.6</td>\n",
       "      <td>18.3</td>\n",
       "      <td>16.7</td>\n",
       "      <td>11.2</td>\n",
       "      <td>5.1</td>\n",
       "      <td>-1.1</td>\n",
       "      <td>-6.0</td>\n",
       "      <td>5.1</td>\n",
       "      <td>27.6</td>\n",
       "      <td>55.8</td>\n",
       "      <td>37.6</td>\n",
       "      <td>Est</td>\n",
       "      <td>1</td>\n",
       "    </tr>\n",
       "    <tr>\n",
       "      <th>15</th>\n",
       "      <td>Oslo</td>\n",
       "      <td>-4.3</td>\n",
       "      <td>-3.8</td>\n",
       "      <td>-0.6</td>\n",
       "      <td>4.4</td>\n",
       "      <td>10.3</td>\n",
       "      <td>14.9</td>\n",
       "      <td>16.9</td>\n",
       "      <td>15.4</td>\n",
       "      <td>11.1</td>\n",
       "      <td>5.7</td>\n",
       "      <td>0.5</td>\n",
       "      <td>-2.9</td>\n",
       "      <td>5.6</td>\n",
       "      <td>21.2</td>\n",
       "      <td>59.5</td>\n",
       "      <td>10.5</td>\n",
       "      <td>Nord</td>\n",
       "      <td>1</td>\n",
       "    </tr>\n",
       "    <tr>\n",
       "      <th>22</th>\n",
       "      <td>Stockholm</td>\n",
       "      <td>-3.5</td>\n",
       "      <td>-3.5</td>\n",
       "      <td>-1.3</td>\n",
       "      <td>3.5</td>\n",
       "      <td>9.2</td>\n",
       "      <td>14.6</td>\n",
       "      <td>17.2</td>\n",
       "      <td>16.0</td>\n",
       "      <td>11.7</td>\n",
       "      <td>6.5</td>\n",
       "      <td>1.7</td>\n",
       "      <td>-1.6</td>\n",
       "      <td>5.8</td>\n",
       "      <td>20.7</td>\n",
       "      <td>59.2</td>\n",
       "      <td>18.0</td>\n",
       "      <td>Nord</td>\n",
       "      <td>1</td>\n",
       "    </tr>\n",
       "    <tr>\n",
       "      <th>33</th>\n",
       "      <td>StPetersbourg</td>\n",
       "      <td>-8.2</td>\n",
       "      <td>-7.9</td>\n",
       "      <td>-3.7</td>\n",
       "      <td>3.2</td>\n",
       "      <td>10.0</td>\n",
       "      <td>15.4</td>\n",
       "      <td>18.4</td>\n",
       "      <td>16.9</td>\n",
       "      <td>11.5</td>\n",
       "      <td>5.2</td>\n",
       "      <td>-0.4</td>\n",
       "      <td>-5.3</td>\n",
       "      <td>4.5</td>\n",
       "      <td>26.6</td>\n",
       "      <td>59.6</td>\n",
       "      <td>30.2</td>\n",
       "      <td>Est</td>\n",
       "      <td>1</td>\n",
       "    </tr>\n",
       "  </tbody>\n",
       "</table>\n",
       "</div>"
      ],
      "text/plain": [
       "            Ville  Janvier  Fevrier  Mars  Avril   Mai  Juin  Juillet  Aout  \\\n",
       "7        Helsinki     -5.8     -6.2  -2.7    3.1  10.2  14.0     17.2  14.9   \n",
       "8            Kiev     -5.9     -5.0  -0.3    7.4  14.3  17.8     19.4  18.5   \n",
       "13          Minsk     -6.9     -6.2  -1.9    5.4  12.4  15.9     17.4  16.3   \n",
       "14         Moscou     -9.3     -7.6  -2.0    6.0  13.0  16.6     18.3  16.7   \n",
       "15           Oslo     -4.3     -3.8  -0.6    4.4  10.3  14.9     16.9  15.4   \n",
       "22      Stockholm     -3.5     -3.5  -1.3    3.5   9.2  14.6     17.2  16.0   \n",
       "33  StPetersbourg     -8.2     -7.9  -3.7    3.2  10.0  15.4     18.4  16.9   \n",
       "\n",
       "    Septembre  Octobre  Novembre  Decembre  Moyenne  Amplitude  Latitude  \\\n",
       "7         9.7      5.2       0.1      -2.3      4.8       23.4      60.1   \n",
       "8        13.7      7.5       1.2      -3.6      7.1       25.3      50.3   \n",
       "13       11.6      5.8       0.1      -4.2      5.5       24.3      53.5   \n",
       "14       11.2      5.1      -1.1      -6.0      5.1       27.6      55.8   \n",
       "15       11.1      5.7       0.5      -2.9      5.6       21.2      59.5   \n",
       "22       11.7      6.5       1.7      -1.6      5.8       20.7      59.2   \n",
       "33       11.5      5.2      -0.4      -5.3      4.5       26.6      59.6   \n",
       "\n",
       "    Longitude Region  label  \n",
       "7        25.0   Nord      1  \n",
       "8        30.3    Est      1  \n",
       "13       27.3    Est      1  \n",
       "14       37.6    Est      1  \n",
       "15       10.5   Nord      1  \n",
       "22       18.0   Nord      1  \n",
       "33       30.2    Est      1  "
      ]
     },
     "execution_count": 21,
     "metadata": {},
     "output_type": "execute_result"
    }
   ],
   "source": [
    "group2"
   ]
  },
  {
   "cell_type": "code",
   "execution_count": 22,
   "metadata": {},
   "outputs": [
    {
     "name": "stdout",
     "output_type": "stream",
     "text": [
      "For n = 2 Silhouette_score: 0.6312816483213249\n",
      "For n = 3 Silhouette_score: 0.5642978482397876\n",
      "For n = 4 Silhouette_score: 0.5700750800603206\n",
      "For n = 5 Silhouette_score: 0.6296121391075762\n",
      "For n = 6 Silhouette_score: 0.5654505561778319\n",
      "For n = 7 Silhouette_score: 0.518233648239109\n",
      "For n = 8 Silhouette_score: 0.4212985312930903\n",
      "For n = 9 Silhouette_score: 0.30968838027545786\n",
      "For n = 10 Silhouette_score: 0.19310307634712306\n"
     ]
    }
   ],
   "source": [
    "#now we do k-means but to get the seasons\n",
    "\n",
    "group2_month=group2.drop(['Ville','Moyenne','Amplitude','Latitude','Longitude','Region','label'],axis=1)\n",
    "\n",
    "#We first need to transpose our dataset\n",
    "group2_month_rev=group2_month.T\n",
    "group2_month_rev_clean=group2_month_rev.reset_index().drop(['index'],axis=1)\n",
    "\n",
    "#and now we perform k-means on the reverted dataframe\n",
    "\n",
    "range_n_clusters = [2, 3, 4, 5, 6,7,8,9,10]\n",
    "for n in range_n_clusters:\n",
    "    kmeans_seasons = KMeans(n_clusters=n, n_init=10).fit(group2_month_rev_clean) # Clustering with the given number of clusters\n",
    "    cluster_labels = kmeans_seasons.labels_ # Extract the labels\n",
    "    silhouette_avg = silhouette_score(group2_month_rev_clean, cluster_labels) # Corresponding silhouette score\n",
    "   \n",
    "    # Display the results\n",
    "    print(\"For n =\", n, \"Silhouette_score:\", silhouette_avg)"
   ]
  },
  {
   "cell_type": "code",
   "execution_count": 23,
   "metadata": {},
   "outputs": [
    {
     "data": {
      "text/plain": [
       "array([2, 2, 0, 1, 4, 3, 3, 3, 4, 1, 0, 2], dtype=int32)"
      ]
     },
     "execution_count": 23,
     "metadata": {},
     "output_type": "execute_result"
    }
   ],
   "source": [
    "#We choose k=2 or k=5\n",
    "\n",
    "#k=5\n",
    "kmeans_seasons = KMeans(n_clusters=5,n_init=10,init='random').fit(group2_month_rev_clean)\n",
    "kmeans_seasons.labels_"
   ]
  },
  {
   "cell_type": "code",
   "execution_count": 24,
   "metadata": {},
   "outputs": [
    {
     "data": {
      "text/plain": [
       "array([0, 0, 0, 0, 1, 1, 1, 1, 1, 0, 0, 0], dtype=int32)"
      ]
     },
     "execution_count": 24,
     "metadata": {},
     "output_type": "execute_result"
    }
   ],
   "source": [
    "#We choose k=2 or k=5\n",
    "\n",
    "#k=2\n",
    "kmeans_seasons = KMeans(n_clusters=2,n_init=10,init='random').fit(group2_month_rev_clean)\n",
    "kmeans_seasons.labels_"
   ]
  },
  {
   "cell_type": "code",
   "execution_count": 25,
   "metadata": {},
   "outputs": [
    {
     "data": {
      "text/html": [
       "<div>\n",
       "<style scoped>\n",
       "    .dataframe tbody tr th:only-of-type {\n",
       "        vertical-align: middle;\n",
       "    }\n",
       "\n",
       "    .dataframe tbody tr th {\n",
       "        vertical-align: top;\n",
       "    }\n",
       "\n",
       "    .dataframe thead th {\n",
       "        text-align: right;\n",
       "    }\n",
       "</style>\n",
       "<table border=\"1\" class=\"dataframe\">\n",
       "  <thead>\n",
       "    <tr style=\"text-align: right;\">\n",
       "      <th></th>\n",
       "      <th>Ville</th>\n",
       "      <th>Janvier</th>\n",
       "      <th>Fevrier</th>\n",
       "      <th>Mars</th>\n",
       "      <th>Avril</th>\n",
       "      <th>Mai</th>\n",
       "      <th>Juin</th>\n",
       "      <th>Juillet</th>\n",
       "      <th>Aout</th>\n",
       "      <th>Septembre</th>\n",
       "      <th>Octobre</th>\n",
       "      <th>Novembre</th>\n",
       "      <th>Decembre</th>\n",
       "      <th>Moyenne</th>\n",
       "      <th>Amplitude</th>\n",
       "      <th>Latitude</th>\n",
       "      <th>Longitude</th>\n",
       "      <th>Region</th>\n",
       "      <th>label</th>\n",
       "    </tr>\n",
       "  </thead>\n",
       "  <tbody>\n",
       "    <tr>\n",
       "      <th>12</th>\n",
       "      <td>Madrid</td>\n",
       "      <td>5.0</td>\n",
       "      <td>6.6</td>\n",
       "      <td>9.4</td>\n",
       "      <td>12.2</td>\n",
       "      <td>16.0</td>\n",
       "      <td>20.8</td>\n",
       "      <td>24.7</td>\n",
       "      <td>24.3</td>\n",
       "      <td>19.8</td>\n",
       "      <td>13.9</td>\n",
       "      <td>8.7</td>\n",
       "      <td>5.4</td>\n",
       "      <td>13.9</td>\n",
       "      <td>19.7</td>\n",
       "      <td>40.416775</td>\n",
       "      <td>-3.70379</td>\n",
       "      <td>Sud</td>\n",
       "      <td>4</td>\n",
       "    </tr>\n",
       "    <tr>\n",
       "      <th>25</th>\n",
       "      <td>Bordeaux</td>\n",
       "      <td>5.6</td>\n",
       "      <td>6.7</td>\n",
       "      <td>9.0</td>\n",
       "      <td>11.9</td>\n",
       "      <td>15.0</td>\n",
       "      <td>18.3</td>\n",
       "      <td>20.4</td>\n",
       "      <td>20.0</td>\n",
       "      <td>17.6</td>\n",
       "      <td>13.5</td>\n",
       "      <td>8.5</td>\n",
       "      <td>6.1</td>\n",
       "      <td>12.7</td>\n",
       "      <td>14.8</td>\n",
       "      <td>44.500000</td>\n",
       "      <td>0.30000</td>\n",
       "      <td>Ouest</td>\n",
       "      <td>4</td>\n",
       "    </tr>\n",
       "    <tr>\n",
       "      <th>30</th>\n",
       "      <td>Milan</td>\n",
       "      <td>1.1</td>\n",
       "      <td>3.6</td>\n",
       "      <td>8.0</td>\n",
       "      <td>12.6</td>\n",
       "      <td>17.3</td>\n",
       "      <td>21.3</td>\n",
       "      <td>23.8</td>\n",
       "      <td>22.8</td>\n",
       "      <td>18.9</td>\n",
       "      <td>13.1</td>\n",
       "      <td>6.9</td>\n",
       "      <td>2.6</td>\n",
       "      <td>12.6</td>\n",
       "      <td>22.7</td>\n",
       "      <td>45.300000</td>\n",
       "      <td>9.20000</td>\n",
       "      <td>Sud</td>\n",
       "      <td>4</td>\n",
       "    </tr>\n",
       "  </tbody>\n",
       "</table>\n",
       "</div>"
      ],
      "text/plain": [
       "       Ville  Janvier  Fevrier  Mars  Avril   Mai  Juin  Juillet  Aout  \\\n",
       "12    Madrid      5.0      6.6   9.4   12.2  16.0  20.8     24.7  24.3   \n",
       "25  Bordeaux      5.6      6.7   9.0   11.9  15.0  18.3     20.4  20.0   \n",
       "30     Milan      1.1      3.6   8.0   12.6  17.3  21.3     23.8  22.8   \n",
       "\n",
       "    Septembre  Octobre  Novembre  Decembre  Moyenne  Amplitude   Latitude  \\\n",
       "12       19.8     13.9       8.7       5.4     13.9       19.7  40.416775   \n",
       "25       17.6     13.5       8.5       6.1     12.7       14.8  44.500000   \n",
       "30       18.9     13.1       6.9       2.6     12.6       22.7  45.300000   \n",
       "\n",
       "    Longitude Region  label  \n",
       "12   -3.70379    Sud      4  \n",
       "25    0.30000  Ouest      4  \n",
       "30    9.20000    Sud      4  "
      ]
     },
     "execution_count": 25,
     "metadata": {},
     "output_type": "execute_result"
    }
   ],
   "source": [
    "group5"
   ]
  },
  {
   "cell_type": "code",
   "execution_count": 26,
   "metadata": {},
   "outputs": [
    {
     "name": "stdout",
     "output_type": "stream",
     "text": [
      "For n = 2 Silhouette_score: 0.6084425484367902\n",
      "For n = 3 Silhouette_score: 0.5959164725307108\n",
      "For n = 4 Silhouette_score: 0.6019301291867677\n",
      "For n = 5 Silhouette_score: 0.547528855742573\n",
      "For n = 6 Silhouette_score: 0.5975790333594223\n",
      "For n = 7 Silhouette_score: 0.4642416467920592\n",
      "For n = 8 Silhouette_score: 0.3836324456202392\n",
      "For n = 9 Silhouette_score: 0.2866158204842164\n",
      "For n = 10 Silhouette_score: 0.24410884825691367\n"
     ]
    }
   ],
   "source": [
    "#now we do k-means but to get the seasons\n",
    "\n",
    "group5_month=group5.drop(['Ville','Moyenne','Amplitude','Latitude','Longitude','Region','label'],axis=1)\n",
    "\n",
    "#We first need to transpose our dataset\n",
    "group5_month_rev=group5_month.T\n",
    "group5_month_rev=group5_month_rev.reset_index().drop(['index'],axis=1)\n",
    "\n",
    "#and now we perform k-means on the reverted dataframe\n",
    "\n",
    "range_n_clusters = [2, 3, 4, 5, 6,7,8,9,10]\n",
    "for n in range_n_clusters:\n",
    "    kmeans_seasons = KMeans(n_clusters=n, n_init=10).fit(group5_month_rev) # Clustering with the given number of clusters\n",
    "    cluster_labels = kmeans_seasons.labels_ # Extract the labels\n",
    "    silhouette_avg = silhouette_score(group5_month_rev, cluster_labels) # Corresponding silhouette score\n",
    "   \n",
    "    # Display the results\n",
    "    print(\"For n =\", n, \"Silhouette_score:\", silhouette_avg)"
   ]
  },
  {
   "cell_type": "code",
   "execution_count": 27,
   "metadata": {},
   "outputs": [
    {
     "name": "stdout",
     "output_type": "stream",
     "text": [
      "For n = 2 Silhouette_score: 0.6529019772492473\n",
      "For n = 3 Silhouette_score: 0.5726508545714291\n",
      "For n = 4 Silhouette_score: 0.47733775703396963\n",
      "For n = 5 Silhouette_score: 0.59527736682751\n",
      "For n = 6 Silhouette_score: 0.5631175190654822\n",
      "For n = 7 Silhouette_score: 0.48931786164899\n",
      "For n = 8 Silhouette_score: 0.4313131339594796\n",
      "For n = 9 Silhouette_score: 0.3294156310425222\n",
      "For n = 10 Silhouette_score: 0.24076550642776406\n"
     ]
    }
   ],
   "source": [
    "#now we do k-means but to get the seasons\n",
    "\n",
    "group4_month=group4.drop(['Ville','Moyenne','Amplitude','Latitude','Longitude','Region','label'],axis=1)\n",
    "\n",
    "#We first need to transpose our dataset\n",
    "group4_month_rev=group4_month.T\n",
    "group4_month_rev=group4_month_rev.reset_index().drop(['index'],axis=1)\n",
    "\n",
    "#and now we perform k-means on the reverted dataframe\n",
    "\n",
    "range_n_clusters = [2, 3, 4, 5, 6,7,8,9,10]\n",
    "for n in range_n_clusters:\n",
    "    kmeans_seasons = KMeans(n_clusters=n, n_init=10).fit(group4_month_rev) # Clustering with the given number of clusters\n",
    "    cluster_labels = kmeans_seasons.labels_ # Extract the labels\n",
    "    silhouette_avg = silhouette_score(group4_month_rev, cluster_labels) # Corresponding silhouette score\n",
    "    # Display the results\n",
    "    print(\"For n =\", n, \"Silhouette_score:\", silhouette_avg)"
   ]
  },
  {
   "cell_type": "code",
   "execution_count": 28,
   "metadata": {},
   "outputs": [
    {
     "data": {
      "text/plain": [
       "array([5, 5, 0, 4, 6, 8, 2, 2, 1, 3, 9, 7], dtype=int32)"
      ]
     },
     "execution_count": 28,
     "metadata": {},
     "output_type": "execute_result"
    }
   ],
   "source": [
    "cluster_labels"
   ]
  },
  {
   "cell_type": "code",
   "execution_count": 29,
   "metadata": {},
   "outputs": [
    {
     "name": "stdout",
     "output_type": "stream",
     "text": [
      "[[ 3.         23.          0.2452606   2.        ]\n",
      " [27.         28.          0.27224942  2.        ]\n",
      " [24.         29.          0.463755    2.        ]\n",
      " [ 2.         34.          0.53541036  2.        ]\n",
      " [ 0.         35.          0.55847518  3.        ]\n",
      " [17.         20.          0.58957667  2.        ]\n",
      " [21.         40.          0.66971459  3.        ]\n",
      " [15.         22.          0.69016385  2.        ]\n",
      " [11.         39.          0.84563585  4.        ]\n",
      " [ 6.         26.          0.90718783  2.        ]\n",
      " [ 1.         32.          1.00369206  2.        ]\n",
      " [19.         37.          1.00543641  3.        ]\n",
      " [36.         41.          1.06637089  5.        ]\n",
      " [13.         14.          1.11880115  2.        ]\n",
      " [ 7.         42.          1.30518468  3.        ]\n",
      " [ 8.          9.          1.37428625  2.        ]\n",
      " [33.         48.          1.40725927  3.        ]\n",
      " [16.         43.          1.41071655  5.        ]\n",
      " [38.         47.          1.47244622  7.        ]\n",
      " [ 4.         30.          1.50139376  2.        ]\n",
      " [31.         45.          2.08443265  3.        ]\n",
      " [10.         46.          2.24312076  4.        ]\n",
      " [12.         25.          2.28097174  2.        ]\n",
      " [ 5.         53.          2.45761687  8.        ]\n",
      " [49.         51.          3.007028    6.        ]\n",
      " [54.         57.          3.24697298  4.        ]\n",
      " [44.         52.          3.46650871  7.        ]\n",
      " [50.         58.          3.57101012 10.        ]\n",
      " [55.         56.          3.68407992  7.        ]\n",
      " [18.         59.          6.2908765   7.        ]\n",
      " [61.         62.          7.20315999 17.        ]\n",
      " [60.         65.          8.34854679 21.        ]\n",
      " [64.         66.         13.4476449  28.        ]\n",
      " [63.         67.         23.22296212 35.        ]]\n"
     ]
    }
   ],
   "source": [
    "#Now we are going to perform hierarchical clustering\n",
    "\n",
    "# We standardize the columns of interest\n",
    "new_temp_scaled=pd.DataFrame(scale(new_temp),columns=new_temp.columns,index=new_temp.index)  # scale(food) returns a numpy array, so use pd.Dataframe to reconstruct your dataframe\n",
    "\n",
    "\n",
    "# We apply hierarchical clustering with dissimilarity measure \"ward\"\n",
    "Z = linkage(new_temp_scaled, 'ward') # 'average' is the method used to compute the distance. Metric is \"euclidian\" by default\n",
    "print(Z)"
   ]
  },
  {
   "cell_type": "code",
   "execution_count": 30,
   "metadata": {},
   "outputs": [
    {
     "data": {
      "image/png": "[encoded data removed]",
      "text/plain": [
       "<Figure size 504x504 with 1 Axes>"
      ]
     },
     "metadata": {
      "needs_background": "light"
     },
     "output_type": "display_data"
    }
   ],
   "source": [
    "# We represent the corresponding Dendrogram\n",
    "plt.figure(figsize=(7, 7))\n",
    "plt.title('Hierarchical Clustering Dendrogram')\n",
    "plt.xlabel('sample index')\n",
    "plt.ylabel('distance')\n",
    "dendrogram(\n",
    "    Z = linkage(new_temp_scaled, 'ward')\n",
    ")\n",
    "plt.show()"
   ]
  }
 ],
 "metadata": {
  "kernelspec": {
   "display_name": "Python 3",
   "language": "python",
   "name": "python3"
  },
  "language_info": {
   "codemirror_mode": {
    "name": "ipython",
    "version": 3
   },
   "file_extension": ".py",
   "mimetype": "text/x-python",
   "name": "python",
   "nbconvert_exporter": "python",
   "pygments_lexer": "ipython3",
   "version": "3.8.3"
  }
 },
 "nbformat": 4,
 "nbformat_minor": 4
}
