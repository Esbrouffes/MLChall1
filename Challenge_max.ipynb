{
 "cells": [
  {
   "cell_type": "code",
   "execution_count": 5,
   "metadata": {},
   "outputs": [],
   "source": [
    "# Libraries: Standard ones\n",
    "import pandas as pd\n",
    "import numpy as np\n",
    "import matplotlib.pyplot as plt\n",
    "\n",
    "# Library for boxplots\n",
    "import seaborn as sns\n",
    "\n",
    "# K-means function\n",
    "from sklearn.cluster import KMeans\n",
    "\n",
    "# Functions for silhouette\n",
    "from sklearn.metrics import silhouette_samples, silhouette_score\n",
    "\n",
    "# Function to standardize the data \n",
    "from sklearn.preprocessing import scale\n",
    "\n",
    "# Functions for hierarchical clustering\n",
    "from scipy.cluster.hierarchy import dendrogram, linkage\n",
    "from scipy.cluster.hierarchy import cophenet\n",
    "from scipy.spatial.distance import pdist"
   ]
  },
  {
   "cell_type": "code",
   "execution_count": 6,
   "metadata": {},
   "outputs": [],
   "source": [
    "#Data Presentation"
   ]
  },
  {
   "cell_type": "code",
   "execution_count": 7,
   "metadata": {},
   "outputs": [
    {
     "name": "stdout",
     "output_type": "stream",
     "text": [
      "            Ville  Janvier  Fevrier  Mars  Avril   Mai  Juin  Juillet  Aout  \\\n",
      "0       Amsterdam      2.9      2.5   5.7    8.2  12.5  14.8     17.1  17.1   \n",
      "1         Athenes      9.1      9.7  11.7   15.4  20.1  24.5     27.4  27.2   \n",
      "2          Berlin     -0.2      0.1   4.4    8.2  13.8  16.0     18.3  18.0   \n",
      "3       Bruxelles      3.3      3.3   6.7    8.9  12.8  15.6     17.8  17.8   \n",
      "4        Budapest     -1.1      0.8   5.5   11.6  17.0  20.2     22.0  21.3   \n",
      "5      Copenhague     -0.4     -0.4   1.3    5.8  11.1  15.4     17.1  16.6   \n",
      "6          Dublin      4.8      5.0   5.9    7.8  10.4  13.3     15.0  14.6   \n",
      "7        Helsinki     -5.8     -6.2  -2.7    3.1  10.2  14.0     17.2  14.9   \n",
      "8            Kiev     -5.9     -5.0  -0.3    7.4  14.3  17.8     19.4  18.5   \n",
      "9        Cracovie     -3.7     -2.0   1.9    7.9  13.2  16.9     18.4  17.6   \n",
      "10       Lisbonne     10.5     11.3  12.8   14.5  16.7  19.4     21.5  21.9   \n",
      "11        Londres      3.4      4.2   5.5    8.3  11.9  15.1     16.9  16.5   \n",
      "12         Madrid      5.0      6.6   9.4   12.2  16.0  20.8     24.7  24.3   \n",
      "13          Minsk     -6.9     -6.2  -1.9    5.4  12.4  15.9     17.4  16.3   \n",
      "14         Moscou     -9.3     -7.6  -2.0    6.0  13.0  16.6     18.3  16.7   \n",
      "15           Oslo     -4.3     -3.8  -0.6    4.4  10.3  14.9     16.9  15.4   \n",
      "16          Paris      3.7      3.7   7.3    9.7  13.7  16.5     19.0  18.7   \n",
      "17         Prague     -1.3      0.2   3.6    8.8  14.3  17.6     19.3  18.7   \n",
      "18      Reykjavik     -0.3      0.1   0.8    2.9   6.5   9.3     11.1  10.6   \n",
      "19           Rome      7.1      8.2  10.5   13.7  17.8  21.7     24.4  24.1   \n",
      "20       Sarajevo     -1.4      0.8   4.9    9.3  13.8  17.0     18.9  18.7   \n",
      "21          Sofia     -1.7      0.2   4.3    9.7  14.3  17.7     20.0  19.5   \n",
      "22      Stockholm     -3.5     -3.5  -1.3    3.5   9.2  14.6     17.2  16.0   \n",
      "23         Anvers      3.1      2.9   6.2    8.9  12.9  15.5     17.9  17.6   \n",
      "24      Barcelone      9.1     10.3  11.8   14.1  17.4  21.2     24.2  24.1   \n",
      "25       Bordeaux      5.6      6.7   9.0   11.9  15.0  18.3     20.4  20.0   \n",
      "26      Edimbourg      2.9      3.6   4.7    7.1   9.9  13.0     14.7  14.3   \n",
      "27      Francfort      0.2      1.8   5.4    9.7  14.3  17.5     19.0  18.3   \n",
      "28         Geneve      0.1      1.9   5.1    9.4  13.8  17.3     19.4  18.5   \n",
      "29          Genes      8.7      8.7  11.4   13.8  17.5  21.0     24.5  24.6   \n",
      "30          Milan      1.1      3.6   8.0   12.6  17.3  21.3     23.8  22.8   \n",
      "31        Palerme     10.5     11.5  13.3   16.9  20.9  23.8     24.5  22.3   \n",
      "32        Seville     10.7     11.8  14.1   16.1  19.7  23.4     26.7  26.7   \n",
      "33  StPetersbourg     -8.2     -7.9  -3.7    3.2  10.0  15.4     18.4  16.9   \n",
      "34         Zurich     -0.7      0.7   4.3    8.5  12.9  16.2     18.0  17.2   \n",
      "\n",
      "    Septembre  Octobre  Novembre  Decembre  Moyenne  Amplitude  Latitude  \\\n",
      "0        14.5     11.4       7.0       4.4      9.9       14.6      52.2   \n",
      "1        23.8     19.2      14.6      11.0     17.8       18.3      37.6   \n",
      "2        14.4     10.0       4.2       1.2      9.1       18.5      52.3   \n",
      "3        15.0     11.1       6.7       4.4     10.3       14.4      50.5   \n",
      "4        16.9     11.3       5.1       0.7     10.9       23.1      47.3   \n",
      "5        13.3      8.8       4.1       1.3      7.8       17.5      55.4   \n",
      "6        12.7      9.7       6.7       5.4      9.3       10.2      53.2   \n",
      "7         9.7      5.2       0.1      -2.3      4.8       23.4      60.1   \n",
      "8        13.7      7.5       1.2      -3.6      7.1       25.3      50.3   \n",
      "9        13.7      8.6       2.6      -1.7      7.7       22.1      50.0   \n",
      "10       20.4     17.4      13.7      11.1     15.9       11.4      38.4   \n",
      "11       14.0     10.2       6.3       4.4      9.7       13.5      51.4   \n",
      "12       19.8     13.9       8.7       5.4     13.9       19.7      37.7   \n",
      "13       11.6      5.8       0.1      -4.2      5.5       24.3      53.5   \n",
      "14       11.2      5.1      -1.1      -6.0      5.1       27.6      55.8   \n",
      "15       11.1      5.7       0.5      -2.9      5.6       21.2      59.5   \n",
      "16       16.1     12.5       7.3       5.2     11.2       15.3      48.5   \n",
      "17       14.9      9.4       3.8       0.3      9.2       20.6      50.0   \n",
      "18        7.9      4.5       1.7       0.2      4.6       11.4      64.1   \n",
      "19       20.9     16.5      11.7       8.3     15.4       17.3      41.5   \n",
      "20       15.2     10.5       5.1       0.8      9.4       20.3      43.5   \n",
      "21       15.8     10.7       5.0       0.6      9.6       21.7      42.4   \n",
      "22       11.7      6.5       1.7      -1.6      5.8       20.7      59.2   \n",
      "23       14.7     11.5       6.8       4.7     10.3       15.0      51.1   \n",
      "24       21.7     17.5      13.1      10.0     16.2       15.1      41.2   \n",
      "25       17.6     13.5       8.5       6.1     12.7       14.8      44.5   \n",
      "26       12.1      8.7       5.3       3.7      8.3       11.8      55.0   \n",
      "27       14.8      9.8       4.9       1.7      9.8       18.8      50.1   \n",
      "28       15.0      9.8       4.9       1.4      9.7       19.3      46.1   \n",
      "29       21.8     17.8      12.2      10.0     16.1       15.9      44.3   \n",
      "30       18.9     13.1       6.9       2.6     12.6       22.7      45.3   \n",
      "31       22.3     18.4      14.9      12.0     16.6       14.0      38.1   \n",
      "32       24.3     19.4      14.5      11.2     18.2       16.0      37.4   \n",
      "33       11.5      5.2      -0.4      -5.3      4.5       26.6      59.6   \n",
      "34       14.1      8.9       3.9       0.3      8.7       18.7      47.2   \n",
      "\n",
      "    Longitude Region  \n",
      "0        4.50  Ouest  \n",
      "1       23.50    Sud  \n",
      "2       13.20  Ouest  \n",
      "3        4.20  Ouest  \n",
      "4       19.00    Est  \n",
      "5       12.30   Nord  \n",
      "6        6.10   Nord  \n",
      "7       25.00   Nord  \n",
      "8       30.30    Est  \n",
      "9       19.60    Est  \n",
      "10      -9.10    Sud  \n",
      "11       0.00   Nord  \n",
      "12      -2.14    Sud  \n",
      "13      27.30    Est  \n",
      "14      37.60    Est  \n",
      "15      10.50   Nord  \n",
      "16       2.20  Ouest  \n",
      "17      14.20    Est  \n",
      "18     -21.60   Nord  \n",
      "19      12.30    Sud  \n",
      "20      18.30    Sud  \n",
      "21      23.20    Est  \n",
      "22      18.00   Nord  \n",
      "23       4.20  Ouest  \n",
      "24       2.20    Sud  \n",
      "25       0.30  Ouest  \n",
      "26      -3.20   Nord  \n",
      "27       8.40  Ouest  \n",
      "28       6.10  Ouest  \n",
      "29       9.40    Sud  \n",
      "30       9.20    Sud  \n",
      "31      13.10    Sud  \n",
      "32      -6.00    Sud  \n",
      "33      30.20    Est  \n",
      "34       8.30  Ouest  \n"
     ]
    }
   ],
   "source": [
    "# Load the data: temp\n",
    "temp = pd.read_csv(\"temperat.csv\",sep=\";\")\n",
    "temp=temp.rename(columns={'Unnamed: 0': 'Ville'})\n",
    "print(temp)"
   ]
  },
  {
   "cell_type": "code",
   "execution_count": 8,
   "metadata": {},
   "outputs": [
    {
     "data": {
      "image/png": "[encoded data removed]",
      "text/plain": [
       "<Figure size 432x288 with 1 Axes>"
      ]
     },
     "metadata": {
      "needs_background": "light"
     },
     "output_type": "display_data"
    }
   ],
   "source": [
    "# Boxplot for food\n",
    "plt.figure()\n",
    "plt.title('boxplot food s features')\n",
    "temp_box=sns.boxplot(data=temp,fliersize=10)   # fliersize is the size used to indicate the outliers\n",
    "plt.show()"
   ]
  },
  {
   "cell_type": "code",
   "execution_count": 9,
   "metadata": {},
   "outputs": [],
   "source": [
    "     #With this representation, we do not visually extract some clusters. We however remark that,  shows a lot of outliers."
   ]
  },
  {
   "cell_type": "code",
   "execution_count": 10,
   "metadata": {},
   "outputs": [
    {
     "data": {
      "text/html": [
       "<div>\n",
       "<style scoped>\n",
       "    .dataframe tbody tr th:only-of-type {\n",
       "        vertical-align: middle;\n",
       "    }\n",
       "\n",
       "    .dataframe tbody tr th {\n",
       "        vertical-align: top;\n",
       "    }\n",
       "\n",
       "    .dataframe thead th {\n",
       "        text-align: right;\n",
       "    }\n",
       "</style>\n",
       "<table border=\"1\" class=\"dataframe\">\n",
       "  <thead>\n",
       "    <tr style=\"text-align: right;\">\n",
       "      <th></th>\n",
       "      <th>Janvier</th>\n",
       "      <th>Fevrier</th>\n",
       "      <th>Mars</th>\n",
       "      <th>Avril</th>\n",
       "      <th>Mai</th>\n",
       "      <th>Juin</th>\n",
       "      <th>Juillet</th>\n",
       "      <th>Aout</th>\n",
       "      <th>Septembre</th>\n",
       "      <th>Octobre</th>\n",
       "      <th>Novembre</th>\n",
       "      <th>Decembre</th>\n",
       "      <th>Moyenne</th>\n",
       "      <th>Amplitude</th>\n",
       "      <th>Latitude</th>\n",
       "      <th>Longitude</th>\n",
       "    </tr>\n",
       "  </thead>\n",
       "  <tbody>\n",
       "    <tr>\n",
       "      <th>count</th>\n",
       "      <td>35.000000</td>\n",
       "      <td>35.000000</td>\n",
       "      <td>35.000000</td>\n",
       "      <td>35.000000</td>\n",
       "      <td>35.000000</td>\n",
       "      <td>35.000000</td>\n",
       "      <td>35.000000</td>\n",
       "      <td>35.000000</td>\n",
       "      <td>35.000000</td>\n",
       "      <td>35.000000</td>\n",
       "      <td>35.000000</td>\n",
       "      <td>35.000000</td>\n",
       "      <td>35.000000</td>\n",
       "      <td>35.000000</td>\n",
       "      <td>35.000000</td>\n",
       "      <td>35.000000</td>\n",
       "    </tr>\n",
       "    <tr>\n",
       "      <th>mean</th>\n",
       "      <td>1.345714</td>\n",
       "      <td>2.217143</td>\n",
       "      <td>5.228571</td>\n",
       "      <td>9.282857</td>\n",
       "      <td>13.911429</td>\n",
       "      <td>17.414286</td>\n",
       "      <td>19.622857</td>\n",
       "      <td>18.980000</td>\n",
       "      <td>15.631429</td>\n",
       "      <td>11.002857</td>\n",
       "      <td>6.065714</td>\n",
       "      <td>2.880000</td>\n",
       "      <td>10.265714</td>\n",
       "      <td>18.317143</td>\n",
       "      <td>48.980000</td>\n",
       "      <td>10.590286</td>\n",
       "    </tr>\n",
       "    <tr>\n",
       "      <th>std</th>\n",
       "      <td>5.502157</td>\n",
       "      <td>5.498956</td>\n",
       "      <td>4.863040</td>\n",
       "      <td>3.806456</td>\n",
       "      <td>3.273582</td>\n",
       "      <td>3.320271</td>\n",
       "      <td>3.574673</td>\n",
       "      <td>3.727939</td>\n",
       "      <td>4.109728</td>\n",
       "      <td>4.323226</td>\n",
       "      <td>4.566820</td>\n",
       "      <td>4.967411</td>\n",
       "      <td>3.963061</td>\n",
       "      <td>4.505649</td>\n",
       "      <td>7.199869</td>\n",
       "      <td>12.362187</td>\n",
       "    </tr>\n",
       "    <tr>\n",
       "      <th>min</th>\n",
       "      <td>-9.300000</td>\n",
       "      <td>-7.900000</td>\n",
       "      <td>-3.700000</td>\n",
       "      <td>2.900000</td>\n",
       "      <td>6.500000</td>\n",
       "      <td>9.300000</td>\n",
       "      <td>11.100000</td>\n",
       "      <td>10.600000</td>\n",
       "      <td>7.900000</td>\n",
       "      <td>4.500000</td>\n",
       "      <td>-1.100000</td>\n",
       "      <td>-6.000000</td>\n",
       "      <td>4.500000</td>\n",
       "      <td>10.200000</td>\n",
       "      <td>37.400000</td>\n",
       "      <td>-21.600000</td>\n",
       "    </tr>\n",
       "    <tr>\n",
       "      <th>25%</th>\n",
       "      <td>-1.550000</td>\n",
       "      <td>-0.150000</td>\n",
       "      <td>1.600000</td>\n",
       "      <td>7.250000</td>\n",
       "      <td>12.150000</td>\n",
       "      <td>15.400000</td>\n",
       "      <td>17.300000</td>\n",
       "      <td>16.650000</td>\n",
       "      <td>13.000000</td>\n",
       "      <td>8.650000</td>\n",
       "      <td>3.200000</td>\n",
       "      <td>0.250000</td>\n",
       "      <td>7.750000</td>\n",
       "      <td>14.900000</td>\n",
       "      <td>43.900000</td>\n",
       "      <td>3.200000</td>\n",
       "    </tr>\n",
       "    <tr>\n",
       "      <th>50%</th>\n",
       "      <td>0.200000</td>\n",
       "      <td>1.900000</td>\n",
       "      <td>5.400000</td>\n",
       "      <td>8.900000</td>\n",
       "      <td>13.800000</td>\n",
       "      <td>16.900000</td>\n",
       "      <td>18.900000</td>\n",
       "      <td>18.300000</td>\n",
       "      <td>14.800000</td>\n",
       "      <td>10.200000</td>\n",
       "      <td>5.100000</td>\n",
       "      <td>1.700000</td>\n",
       "      <td>9.700000</td>\n",
       "      <td>18.500000</td>\n",
       "      <td>50.000000</td>\n",
       "      <td>9.400000</td>\n",
       "    </tr>\n",
       "    <tr>\n",
       "      <th>75%</th>\n",
       "      <td>4.900000</td>\n",
       "      <td>5.800000</td>\n",
       "      <td>8.500000</td>\n",
       "      <td>12.050000</td>\n",
       "      <td>16.350000</td>\n",
       "      <td>19.800000</td>\n",
       "      <td>21.750000</td>\n",
       "      <td>21.600000</td>\n",
       "      <td>18.250000</td>\n",
       "      <td>13.300000</td>\n",
       "      <td>7.900000</td>\n",
       "      <td>5.400000</td>\n",
       "      <td>12.650000</td>\n",
       "      <td>21.450000</td>\n",
       "      <td>53.350000</td>\n",
       "      <td>18.650000</td>\n",
       "    </tr>\n",
       "    <tr>\n",
       "      <th>max</th>\n",
       "      <td>10.700000</td>\n",
       "      <td>11.800000</td>\n",
       "      <td>14.100000</td>\n",
       "      <td>16.900000</td>\n",
       "      <td>20.900000</td>\n",
       "      <td>24.500000</td>\n",
       "      <td>27.400000</td>\n",
       "      <td>27.200000</td>\n",
       "      <td>24.300000</td>\n",
       "      <td>19.400000</td>\n",
       "      <td>14.900000</td>\n",
       "      <td>12.000000</td>\n",
       "      <td>18.200000</td>\n",
       "      <td>27.600000</td>\n",
       "      <td>64.100000</td>\n",
       "      <td>37.600000</td>\n",
       "    </tr>\n",
       "  </tbody>\n",
       "</table>\n",
       "</div>"
      ],
      "text/plain": [
       "         Janvier    Fevrier       Mars      Avril        Mai       Juin  \\\n",
       "count  35.000000  35.000000  35.000000  35.000000  35.000000  35.000000   \n",
       "mean    1.345714   2.217143   5.228571   9.282857  13.911429  17.414286   \n",
       "std     5.502157   5.498956   4.863040   3.806456   3.273582   3.320271   \n",
       "min    -9.300000  -7.900000  -3.700000   2.900000   6.500000   9.300000   \n",
       "25%    -1.550000  -0.150000   1.600000   7.250000  12.150000  15.400000   \n",
       "50%     0.200000   1.900000   5.400000   8.900000  13.800000  16.900000   \n",
       "75%     4.900000   5.800000   8.500000  12.050000  16.350000  19.800000   \n",
       "max    10.700000  11.800000  14.100000  16.900000  20.900000  24.500000   \n",
       "\n",
       "         Juillet       Aout  Septembre    Octobre   Novembre   Decembre  \\\n",
       "count  35.000000  35.000000  35.000000  35.000000  35.000000  35.000000   \n",
       "mean   19.622857  18.980000  15.631429  11.002857   6.065714   2.880000   \n",
       "std     3.574673   3.727939   4.109728   4.323226   4.566820   4.967411   \n",
       "min    11.100000  10.600000   7.900000   4.500000  -1.100000  -6.000000   \n",
       "25%    17.300000  16.650000  13.000000   8.650000   3.200000   0.250000   \n",
       "50%    18.900000  18.300000  14.800000  10.200000   5.100000   1.700000   \n",
       "75%    21.750000  21.600000  18.250000  13.300000   7.900000   5.400000   \n",
       "max    27.400000  27.200000  24.300000  19.400000  14.900000  12.000000   \n",
       "\n",
       "         Moyenne  Amplitude   Latitude  Longitude  \n",
       "count  35.000000  35.000000  35.000000  35.000000  \n",
       "mean   10.265714  18.317143  48.980000  10.590286  \n",
       "std     3.963061   4.505649   7.199869  12.362187  \n",
       "min     4.500000  10.200000  37.400000 -21.600000  \n",
       "25%     7.750000  14.900000  43.900000   3.200000  \n",
       "50%     9.700000  18.500000  50.000000   9.400000  \n",
       "75%    12.650000  21.450000  53.350000  18.650000  \n",
       "max    18.200000  27.600000  64.100000  37.600000  "
      ]
     },
     "execution_count": 10,
     "metadata": {},
     "output_type": "execute_result"
    }
   ],
   "source": [
    "temp.describe()"
   ]
  },
  {
   "cell_type": "code",
   "execution_count": 11,
   "metadata": {},
   "outputs": [],
   "source": [
    "#We're gonna try to find clusters with lat/long and average temperature"
   ]
  },
  {
   "cell_type": "code",
   "execution_count": 12,
   "metadata": {},
   "outputs": [
    {
     "data": {
      "text/plain": [
       "<matplotlib.collections.PathCollection at 0x2ade483bfd0>"
      ]
     },
     "execution_count": 12,
     "metadata": {},
     "output_type": "execute_result"
    },
    {
     "data": {
      "image/png": "[encoded data removed]",
      "text/plain": [
       "<Figure size 432x288 with 1 Axes>"
      ]
     },
     "metadata": {
      "needs_background": "light"
     },
     "output_type": "display_data"
    }
   ],
   "source": [
    "# Representation of the temperature dataset\n",
    "plt.title('2D representation of temperature dataset')\n",
    "plt.scatter(temp['Longitude'],temp['Latitude'], c=temp['Decembre'])"
   ]
  },
  {
   "cell_type": "code",
   "execution_count": 13,
   "metadata": {},
   "outputs": [
    {
     "ename": "NameError",
     "evalue": "name 'temp_sorted' is not defined",
     "output_type": "error",
     "traceback": [
      "\u001b[1;31m---------------------------------------------------------------------------\u001b[0m",
      "\u001b[1;31mNameError\u001b[0m                                 Traceback (most recent call last)",
      "\u001b[1;32m<ipython-input-13-b6d7f9429942>\u001b[0m in \u001b[0;36m<module>\u001b[1;34m\u001b[0m\n\u001b[0;32m      1\u001b[0m \u001b[1;31m# Representation of the temperature dataset\u001b[0m\u001b[1;33m\u001b[0m\u001b[1;33m\u001b[0m\u001b[1;33m\u001b[0m\u001b[0m\n\u001b[0;32m      2\u001b[0m \u001b[0mplt\u001b[0m\u001b[1;33m.\u001b[0m\u001b[0mtitle\u001b[0m\u001b[1;33m(\u001b[0m\u001b[1;34m'2D representation of temperature dataset'\u001b[0m\u001b[1;33m)\u001b[0m\u001b[1;33m\u001b[0m\u001b[1;33m\u001b[0m\u001b[0m\n\u001b[1;32m----> 3\u001b[1;33m \u001b[0mplt\u001b[0m\u001b[1;33m.\u001b[0m\u001b[0mscatter\u001b[0m\u001b[1;33m(\u001b[0m\u001b[0mtemp_sorted\u001b[0m\u001b[1;33m[\u001b[0m\u001b[1;34m'Ville'\u001b[0m\u001b[1;33m]\u001b[0m\u001b[1;33m,\u001b[0m\u001b[0mtemp_sorted\u001b[0m\u001b[1;33m[\u001b[0m\u001b[1;34m'Moyenne'\u001b[0m\u001b[1;33m]\u001b[0m\u001b[1;33m)\u001b[0m\u001b[1;33m\u001b[0m\u001b[1;33m\u001b[0m\u001b[0m\n\u001b[0m",
      "\u001b[1;31mNameError\u001b[0m: name 'temp_sorted' is not defined"
     ]
    },
    {
     "data": {
      "image/png": "[encoded data removed]",
      "text/plain": [
       "<Figure size 432x288 with 1 Axes>"
      ]
     },
     "metadata": {
      "needs_background": "light"
     },
     "output_type": "display_data"
    }
   ],
   "source": [
    "# Representation of the temperature dataset\n",
    "plt.title('2D representation of temperature dataset')\n",
    "plt.scatter(temp_sorted['Ville'],temp_sorted['Moyenne'])"
   ]
  },
  {
   "cell_type": "code",
   "execution_count": null,
   "metadata": {},
   "outputs": [],
   "source": [
    "#We can say that latitude and longitude are highly correlated "
   ]
  },
  {
   "cell_type": "code",
   "execution_count": 16,
   "metadata": {
    "scrolled": true
   },
   "outputs": [],
   "source": [
    "#This is the code to display a map, with whichever attribute we want\n",
    "\n",
    "import folium\n",
    "from folium.plugins import FastMarkerCluster\n",
    "from folium.vector_layers import CircleMarker\n",
    "import branca.colormap as cm\n",
    "\n",
    "#We select the file we're going to use\n",
    "file=temp\n",
    "champ_etudie='Moyenne'\n",
    "\n",
    "linear=cm.linear.RdYlBu_06.scale(0, 1)\n",
    "\n",
    "\n",
    "m = folium.Map(tiles='cartodbpositron', zoom_start=3 ,location=[48.499998 ,23.3833318])\n",
    "\n",
    "for index,row in file.iterrows():\n",
    "#     keyon_cluster = folium.Marker(location=[row['Latitude'],row['Longitude']],popup=row['Ville']).add_to(m)\n",
    "    folium.CircleMarker(location=[row['Latitude'],row['Longitude']], \n",
    "                        radius=5,\n",
    "                        popup=str(row['Ville'])+': '+str(row[champ_etudie]), \n",
    "                        line_color=None,\n",
    "                        fill_color=linear(1-(row[champ_etudie]-file[champ_etudie].min())/(file[champ_etudie].max()-file[champ_etudie].min())),\n",
    "                        fill_opacity=1,\n",
    "                        color=linear(1-(row[champ_etudie]-file[champ_etudie].min())/(file[champ_etudie].max()-file[champ_etudie].min()))).add_to(m)"
   ]
  },
  {
   "cell_type": "code",
   "execution_count": null,
   "metadata": {},
   "outputs": [],
   "source": []
  },
  {
   "cell_type": "code",
   "execution_count": 15,
   "metadata": {},
   "outputs": [
    {
     "name": "stdout",
     "output_type": "stream",
     "text": [
      "For n = 2 Silhouette_score: 0.5187111529098996\n",
      "For n = 3 Silhouette_score: 0.4831014618030819\n",
      "For n = 4 Silhouette_score: 0.45419340361377014\n",
      "For n = 5 Silhouette_score: 0.4718324275058679\n",
      "For n = 6 Silhouette_score: 0.4532401102390238\n",
      "For n = 7 Silhouette_score: 0.4346568444558061\n",
      "For n = 8 Silhouette_score: 0.3830106762302013\n",
      "For n = 9 Silhouette_score: 0.3705158807176477\n",
      "For n = 10 Silhouette_score: 0.36267583499179656\n"
     ]
    }
   ],
   "source": [
    "# We apply K-means algorithm and calculate Silhouette index for a given number of clusters\n",
    "# (Remark: it is a little difficult to visualize, since it is dimension 5)\n",
    "\n",
    "temp_we_drop=temp[['Ville','Region','Latitude','Longitude']]\n",
    "\n",
    "new_temp = temp.drop(['Ville','Region','Latitude','Longitude'], axis=1)\n",
    "\n",
    "range_n_clusters = [2, 3, 4, 5, 6,7,8,9,10]\n",
    "for n in range_n_clusters:\n",
    "    kmeans_temp = KMeans(n_clusters=n, n_init=10).fit(new_temp) # Clustering with the given number of clusters\n",
    "    cluster_labels = kmeans_temp.labels_ # Extract the labels\n",
    "    silhouette_avg = silhouette_score(new_temp, cluster_labels) # Corresponding silhouette score\n",
    "   \n",
    "    # Display the results\n",
    "    print(\"For n =\", n, \"Silhouette_score:\", silhouette_avg)"
   ]
  },
  {
   "cell_type": "code",
   "execution_count": null,
   "metadata": {},
   "outputs": [],
   "source": [
    "#We think K=5 would be the best\n",
    "\n",
    "kmeans = KMeans(n_clusters=5,n_init=10,init='random').fit(new_temp)\n",
    "\n",
    "new_temp_with_labels=pd.concat([temp,pd.DataFrame(data=kmeans.labels_,columns=['label'])], axis=1, sort=False)"
   ]
  },
  {
   "cell_type": "code",
   "execution_count": null,
   "metadata": {},
   "outputs": [],
   "source": [
    "#We are going to diplay the results of kmeans for k=5\n",
    "\n",
    "\n",
    "import folium\n",
    "from folium.plugins import FastMarkerCluster\n",
    "from folium.vector_layers import CircleMarker\n",
    "import branca.colormap as cm\n",
    "\n",
    "#We select the file we're going to use\n",
    "file=new_temp_with_labels\n",
    "champ_etudie='label'\n",
    "\n",
    "linear=cm.linear.RdYlBu_06.scale(0, 1)\n",
    "\n",
    "\n",
    "m = folium.Map(tiles='cartodbpositron', zoom_start=3 ,location=[48.499998 ,23.3833318])\n",
    "\n",
    "for index,row in file.iterrows():\n",
    "#     keyon_cluster = folium.Marker(location=[row['Latitude'],row['Longitude']],popup=row['Ville']).add_to(m)\n",
    "    folium.CircleMarker(location=[row['Latitude'],row['Longitude']], \n",
    "                        radius=5,\n",
    "                        popup=str(row['Ville'])+': '+str(row[champ_etudie]), \n",
    "                        line_color=None,\n",
    "                        fill_color=linear(1-(row[champ_etudie]-file[champ_etudie].min())/(file[champ_etudie].max()-file[champ_etudie].min())),\n",
    "                        fill_opacity=1,\n",
    "                        color=linear(1-(row[champ_etudie]-file[champ_etudie].min())/(file[champ_etudie].max()-file[champ_etudie].min()))).add_to(m)\n",
    "    \n",
    "m"
   ]
  },
  {
   "cell_type": "code",
   "execution_count": null,
   "metadata": {},
   "outputs": [],
   "source": []
  },
  {
   "cell_type": "code",
   "execution_count": null,
   "metadata": {},
   "outputs": [],
   "source": [
    "#Now we are going to perform hierarchical clustering\n",
    "\n",
    "# We standardize the columns of interest\n",
    "new_temp_scaled=pd.DataFrame(scale(new_temp),columns=new_temp.columns,index=new_temp.index)  # scale(food) returns a numpy array, so use pd.Dataframe to reconstruct your dataframe\n",
    "\n",
    "\n",
    "# We apply hierarchical clustering with dissimilarity measure \"ward\"\n",
    "Z = linkage(new_temp_scaled, 'ward') # 'average' is the method used to compute the distance. Metric is \"euclidian\" by default\n",
    "print(Z)"
   ]
  },
  {
   "cell_type": "code",
   "execution_count": null,
   "metadata": {},
   "outputs": [],
   "source": [
    "# We represent the corresponding Dendrogram\n",
    "plt.figure(figsize=(7, 7))\n",
    "plt.title('Hierarchical Clustering Dendrogram')\n",
    "plt.xlabel('sample index')\n",
    "plt.ylabel('distance')\n",
    "dendrogram(\n",
    "    Z = linkage(new_temp_scaled, 'ward')\n",
    ")\n",
    "plt.show()"
   ]
  }
 ],
 "metadata": {
  "kernelspec": {
   "display_name": "Python 3",
   "language": "python",
   "name": "python3"
  },
  "language_info": {
   "codemirror_mode": {
    "name": "ipython",
    "version": 3
   },
   "file_extension": ".py",
   "mimetype": "text/x-python",
   "name": "python",
   "nbconvert_exporter": "python",
   "pygments_lexer": "ipython3",
   "version": "3.8.3"
  }
 },
 "nbformat": 4,
 "nbformat_minor": 4
}
